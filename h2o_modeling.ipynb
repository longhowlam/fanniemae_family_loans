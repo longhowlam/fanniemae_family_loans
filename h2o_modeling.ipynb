{
 "cells": [
  {
   "cell_type": "markdown",
   "metadata": {},
   "source": [
    "# H2o modeling of Fannie Mae\n",
    "\n",
    "![](fannie.png)\n",
    "\n",
    "This notebook contains code to analyse mortgage data, in particular the so-called Single-Family Fixed Rate mortgaes. See the following link how to download data and [more details](https://www.fanniemae.com/portal/funding-the-market/data/loan-performance-data.html).\n",
    "\n",
    "Per quarter there is a Acquisition data set and a Performance data set. See the [details here](https://www.fanniemae.com/resources/file/fundmarket/pdf/webinar-101.pdf)\n",
    "\n",
    "When you download the data from the web site, it is a zip file per quarter that contains an aquisition.txt and a performance.txt file. That is not so handy fro importing the data, I want to zip all the performance.txt files in one zip file and all the acquistion.txt files in another zip file.\n",
    "\n",
    "You can do that with the following commands, so having downloaded the 20**.zip files in a directory:\n",
    "\n",
    "`unzip '*.zip'`\n",
    "\n",
    "`zip acquisition.zip Acq*.txt`\n",
    "\n",
    "`zip performances.zip Perf*.txt`\n",
    "\n",
    "The unzipped txt files are not needed anymore, I am making use of h2o, which can import zipped text files directly.\n",
    "\n",
    "`rm *.txt`\n",
    "\n",
    "When you download all the quarters from the fanniemae website, there might be too much data for your laptop too handle. You may need to spin up a \"super computer\" on a cloud platform, say GCP, my favourite :-)"
   ]
  },
  {
   "cell_type": "code",
   "execution_count": 2,
   "metadata": {},
   "outputs": [],
   "source": [
    "#### Set up h2o\n",
    "import h2o\n",
    "h2o.init(max_mem_size=\"8G\")h2o.init(max_mem_size=\"8G\")"
   ]
  },
  {
   "cell_type": "markdown",
   "metadata": {},
   "source": [
    "### import acquisition data\n",
    "each row in the acquistion file is a mortage"
   ]
  },
  {
   "cell_type": "code",
   "execution_count": 4,
   "metadata": {},
   "outputs": [
    {
     "output_type": "stream",
     "name": "stdout",
     "text": "Parse progress: |█████████████████████████████████████████████████████████| 100%\nCPU times: user 198 ms, sys: 45.2 ms, total: 244 ms\nWall time: 9.41 s\n"
    },
    {
     "output_type": "execute_result",
     "data": {
      "text/plain": "(1703625, 25)"
     },
     "metadata": {},
     "execution_count": 4
    }
   ],
   "source": [
    "%%time\n",
    "acquisitions_Variables = [\n",
    "    \"LOAN_ID\", \"ORIG_CHN\", \"Seller_Name\", \"ORIG_RT\", \"ORIG_AMT\", \"ORIG_TRM\", \"ORIG_DTE\",\n",
    "    \"FRST_DTE\", \"OLTV\", \"OCLTV\", \"NUM_BO\", \"Debt_to_Income\", \"Borrower_Credit_Score\", \"FTHB_FLG\", \"PURPOSE\", \"PROPERTY_TYPE\",\n",
    "    \"NUM_UNIT\", \"OCC_STAT\", \"STATE\", \"ZIP_3\", \"MI_PCT\", \"Product_Type\", \"CSCORE_C\", \"MI_TYPE\", \"RELOC\"\n",
    "]\n",
    "\n",
    "acquisition = h2o.import_file(\n",
    "    \"data/acquisition.zip\",\n",
    "    sep = \"|\",\n",
    "    header = -1 ,\n",
    "    col_names = acquisitions_Variables\n",
    ")\n",
    "\n",
    "acquisition.shape"
   ]
  },
  {
   "cell_type": "code",
   "execution_count": 22,
   "metadata": {},
   "outputs": [
    {
     "output_type": "display_data",
     "data": {
      "text/html": "<table>\n<thead>\n<tr><th style=\"text-align: right;\">    LOAN_ID</th><th>ORIG_CHN  </th><th>Seller_Name          </th><th style=\"text-align: right;\">  ORIG_RT</th><th style=\"text-align: right;\">  ORIG_AMT</th><th style=\"text-align: right;\">  ORIG_TRM</th><th>ORIG_DTE  </th><th>FRST_DTE  </th><th style=\"text-align: right;\">  OLTV</th><th style=\"text-align: right;\">  OCLTV</th><th style=\"text-align: right;\">  NUM_BO</th><th style=\"text-align: right;\">  Debt_to_Income</th><th style=\"text-align: right;\">  Borrower_Credit_Score</th><th>FTHB_FLG  </th><th>PURPOSE  </th><th>PROPERTY_TYPE  </th><th style=\"text-align: right;\">  NUM_UNIT</th><th>OCC_STAT  </th><th>STATE  </th><th style=\"text-align: right;\">  ZIP_3</th><th style=\"text-align: right;\">  MI_PCT</th><th>Product_Type  </th><th style=\"text-align: right;\">  CSCORE_C</th><th style=\"text-align: right;\">  MI_TYPE</th><th>RELOC  </th></tr>\n</thead>\n<tbody>\n<tr><td style=\"text-align: right;\">1.00001e+11</td><td>C         </td><td>CITIMORTGAGE, INC.   </td><td style=\"text-align: right;\">    4.125</td><td style=\"text-align: right;\">    124000</td><td style=\"text-align: right;\">       360</td><td>12/2010   </td><td>02/2011   </td><td style=\"text-align: right;\">    79</td><td style=\"text-align: right;\">     79</td><td style=\"text-align: right;\">       1</td><td style=\"text-align: right;\">              28</td><td style=\"text-align: right;\">                    792</td><td>N         </td><td>R        </td><td>SF             </td><td style=\"text-align: right;\">         1</td><td>P         </td><td>TX     </td><td style=\"text-align: right;\">    750</td><td style=\"text-align: right;\">     nan</td><td>FRM           </td><td style=\"text-align: right;\">       nan</td><td style=\"text-align: right;\">      nan</td><td>N      </td></tr>\n<tr><td style=\"text-align: right;\">1.00002e+11</td><td>R         </td><td>OTHER                </td><td style=\"text-align: right;\">    4.625</td><td style=\"text-align: right;\">    115000</td><td style=\"text-align: right;\">       240</td><td>01/2011   </td><td>03/2011   </td><td style=\"text-align: right;\">    68</td><td style=\"text-align: right;\">     68</td><td style=\"text-align: right;\">       1</td><td style=\"text-align: right;\">              34</td><td style=\"text-align: right;\">                    705</td><td>N         </td><td>C        </td><td>SF             </td><td style=\"text-align: right;\">         1</td><td>P         </td><td>IL     </td><td style=\"text-align: right;\">    613</td><td style=\"text-align: right;\">     nan</td><td>FRM           </td><td style=\"text-align: right;\">       nan</td><td style=\"text-align: right;\">      nan</td><td>N      </td></tr>\n<tr><td style=\"text-align: right;\">1.00006e+11</td><td>C         </td><td>BANK OF AMERICA, N.A.</td><td style=\"text-align: right;\">    4.375</td><td style=\"text-align: right;\">    175000</td><td style=\"text-align: right;\">       360</td><td>01/2011   </td><td>03/2011   </td><td style=\"text-align: right;\">    52</td><td style=\"text-align: right;\">     52</td><td style=\"text-align: right;\">       2</td><td style=\"text-align: right;\">              29</td><td style=\"text-align: right;\">                    776</td><td>N         </td><td>C        </td><td>PU             </td><td style=\"text-align: right;\">         1</td><td>S         </td><td>AZ     </td><td style=\"text-align: right;\">    859</td><td style=\"text-align: right;\">     nan</td><td>FRM           </td><td style=\"text-align: right;\">       791</td><td style=\"text-align: right;\">      nan</td><td>N      </td></tr>\n<tr><td style=\"text-align: right;\">1.00011e+11</td><td>C         </td><td>BANK OF AMERICA, N.A.</td><td style=\"text-align: right;\">    4.375</td><td style=\"text-align: right;\">    365000</td><td style=\"text-align: right;\">       360</td><td>12/2010   </td><td>02/2011   </td><td style=\"text-align: right;\">    59</td><td style=\"text-align: right;\">     59</td><td style=\"text-align: right;\">       3</td><td style=\"text-align: right;\">              40</td><td style=\"text-align: right;\">                    797</td><td>N         </td><td>C        </td><td>PU             </td><td style=\"text-align: right;\">         1</td><td>P         </td><td>IL     </td><td style=\"text-align: right;\">    600</td><td style=\"text-align: right;\">     nan</td><td>FRM           </td><td style=\"text-align: right;\">       812</td><td style=\"text-align: right;\">      nan</td><td>N      </td></tr>\n<tr><td style=\"text-align: right;\">1.00011e+11</td><td>R         </td><td>CITIMORTGAGE, INC.   </td><td style=\"text-align: right;\">    3.875</td><td style=\"text-align: right;\">     69000</td><td style=\"text-align: right;\">       120</td><td>02/2011   </td><td>04/2011   </td><td style=\"text-align: right;\">    28</td><td style=\"text-align: right;\">     28</td><td style=\"text-align: right;\">       1</td><td style=\"text-align: right;\">              32</td><td style=\"text-align: right;\">                    785</td><td>N         </td><td>C        </td><td>SF             </td><td style=\"text-align: right;\">         1</td><td>P         </td><td>SC     </td><td style=\"text-align: right;\">    292</td><td style=\"text-align: right;\">     nan</td><td>FRM           </td><td style=\"text-align: right;\">       nan</td><td style=\"text-align: right;\">      nan</td><td>N      </td></tr>\n</tbody>\n</table>"
     },
     "metadata": {}
    },
    {
     "output_type": "execute_result",
     "data": {
      "text/plain": ""
     },
     "metadata": {},
     "execution_count": 22
    }
   ],
   "source": [
    "#### first five records\n",
    "acquisition.head(5)"
   ]
  },
  {
   "cell_type": "markdown",
   "metadata": {},
   "source": [
    "### import performance data"
   ]
  },
  {
   "cell_type": "code",
   "execution_count": 6,
   "metadata": {},
   "outputs": [
    {
     "output_type": "stream",
     "name": "stdout",
     "text": "Parse progress: |█████████████████████████████████████████████████████████| 100%\nCPU times: user 1.42 s, sys: 306 ms, total: 1.72 s\nWall time: 2min 13s\n"
    },
    {
     "output_type": "execute_result",
     "data": {
      "text/plain": "(98933936, 4)"
     },
     "metadata": {},
     "execution_count": 6
    }
   ],
   "source": [
    "%%time\n",
    "\n",
    "#### Import performance data\n",
    "## we do not use all the 31 variables only four variables and the rest is skipped\n",
    "## only the month delinquency status and the foreclosure date (if any) per mortgage\n",
    "performance_Variables = [\n",
    "    \"LOAN_ID\", \"Monthly_Rpt_Prd\", \"Delq_Status\", \"Foreclosure_date\"\n",
    "]\n",
    "\n",
    "performance = h2o.import_file(\n",
    "    \"data/performances.zip\",\n",
    "    sep = \"|\",\n",
    "    header = 0 ,\n",
    "    col_names = performance_Variables,\n",
    "    skipped_columns=[2,3,4,5,6,7,8,9,11,12,13,14,16,17,18,19,20,21,22,23,24,25,26,27,28,29,30]\n",
    ")\n",
    "\n",
    "performance.shape"
   ]
  },
  {
   "cell_type": "code",
   "execution_count": 13,
   "metadata": {},
   "outputs": [
    {
     "output_type": "display_data",
     "data": {
      "text/html": "<table>\n<thead>\n<tr><th style=\"text-align: right;\">    LOAN_ID</th><th>Monthly_Rpt_Prd    </th><th style=\"text-align: right;\">  Delq_Status</th><th>Foreclosure_date  </th></tr>\n</thead>\n<tbody>\n<tr><td style=\"text-align: right;\">1.00001e+11</td><td>2011-01-01 00:00:00</td><td style=\"text-align: right;\">            0</td><td>                  </td></tr>\n<tr><td style=\"text-align: right;\">1.00001e+11</td><td>2011-02-01 00:00:00</td><td style=\"text-align: right;\">            0</td><td>                  </td></tr>\n<tr><td style=\"text-align: right;\">1.00001e+11</td><td>2011-03-01 00:00:00</td><td style=\"text-align: right;\">            0</td><td>                  </td></tr>\n<tr><td style=\"text-align: right;\">1.00001e+11</td><td>2011-04-01 00:00:00</td><td style=\"text-align: right;\">            0</td><td>                  </td></tr>\n<tr><td style=\"text-align: right;\">1.00001e+11</td><td>2011-05-01 00:00:00</td><td style=\"text-align: right;\">            0</td><td>                  </td></tr>\n<tr><td style=\"text-align: right;\">1.00001e+11</td><td>2011-06-01 00:00:00</td><td style=\"text-align: right;\">            0</td><td>                  </td></tr>\n<tr><td style=\"text-align: right;\">1.00001e+11</td><td>2011-07-01 00:00:00</td><td style=\"text-align: right;\">            0</td><td>                  </td></tr>\n<tr><td style=\"text-align: right;\">1.00001e+11</td><td>2011-08-01 00:00:00</td><td style=\"text-align: right;\">            0</td><td>                  </td></tr>\n<tr><td style=\"text-align: right;\">1.00001e+11</td><td>2011-09-01 00:00:00</td><td style=\"text-align: right;\">            0</td><td>                  </td></tr>\n<tr><td style=\"text-align: right;\">1.00001e+11</td><td>2011-10-01 00:00:00</td><td style=\"text-align: right;\">            0</td><td>                  </td></tr>\n</tbody>\n</table>"
     },
     "metadata": {}
    },
    {
     "output_type": "execute_result",
     "data": {
      "text/plain": ""
     },
     "metadata": {},
     "execution_count": 13
    }
   ],
   "source": [
    "performance"
   ]
  },
  {
   "cell_type": "code",
   "execution_count": 14,
   "metadata": {},
   "outputs": [],
   "source": [
    "tfcl = performance[\"Foreclosure_date\"].isna()\n",
    "foreclosures = performance[~tfcl,:]"
   ]
  },
  {
   "cell_type": "code",
   "execution_count": 17,
   "metadata": {},
   "outputs": [
    {
     "output_type": "display_data",
     "data": {
      "text/html": "<table>\n<thead>\n<tr><th style=\"text-align: right;\">    LOAN_ID</th><th>Monthly_Rpt_Prd    </th><th style=\"text-align: right;\">  Delq_Status</th><th>Foreclosure_date   </th></tr>\n</thead>\n<tbody>\n<tr><td style=\"text-align: right;\">1.02788e+11</td><td>2018-02-01 00:00:00</td><td style=\"text-align: right;\">          nan</td><td>2018-02-01 00:00:00</td></tr>\n<tr><td style=\"text-align: right;\">1.02978e+11</td><td>2013-03-01 00:00:00</td><td style=\"text-align: right;\">          nan</td><td>2013-03-01 00:00:00</td></tr>\n<tr><td style=\"text-align: right;\">1.03101e+11</td><td>2015-11-01 00:00:00</td><td style=\"text-align: right;\">          nan</td><td>2015-11-01 00:00:00</td></tr>\n<tr><td style=\"text-align: right;\">1.03911e+11</td><td>2017-05-01 00:00:00</td><td style=\"text-align: right;\">          nan</td><td>2017-05-01 00:00:00</td></tr>\n<tr><td style=\"text-align: right;\">1.04479e+11</td><td>2016-04-01 00:00:00</td><td style=\"text-align: right;\">          nan</td><td>2016-04-01 00:00:00</td></tr>\n<tr><td style=\"text-align: right;\">1.08013e+11</td><td>2019-09-01 00:00:00</td><td style=\"text-align: right;\">          nan</td><td>2019-09-01 00:00:00</td></tr>\n<tr><td style=\"text-align: right;\">1.12116e+11</td><td>2014-05-01 00:00:00</td><td style=\"text-align: right;\">          nan</td><td>2014-05-01 00:00:00</td></tr>\n<tr><td style=\"text-align: right;\">1.12687e+11</td><td>2016-04-01 00:00:00</td><td style=\"text-align: right;\">          nan</td><td>2016-04-01 00:00:00</td></tr>\n<tr><td style=\"text-align: right;\">1.14103e+11</td><td>2014-06-01 00:00:00</td><td style=\"text-align: right;\">          nan</td><td>2014-06-01 00:00:00</td></tr>\n<tr><td style=\"text-align: right;\">1.14719e+11</td><td>2014-06-01 00:00:00</td><td style=\"text-align: right;\">          nan</td><td>2014-05-01 00:00:00</td></tr>\n</tbody>\n</table>"
     },
     "metadata": {}
    },
    {
     "output_type": "execute_result",
     "data": {
      "text/plain": ""
     },
     "metadata": {},
     "execution_count": 17
    }
   ],
   "source": [
    "foreclosures"
   ]
  },
  {
   "cell_type": "code",
   "execution_count": 20,
   "metadata": {},
   "outputs": [
    {
     "output_type": "display_data",
     "data": {
      "text/html": "<table>\n<thead>\n<tr><th style=\"text-align: right;\">    LOAN_ID</th><th>Monthly_Rpt_Prd    </th><th style=\"text-align: right;\">  Delq_Status</th><th>Foreclosure_date   </th></tr>\n</thead>\n<tbody>\n<tr><td style=\"text-align: right;\">1.02788e+11</td><td>2011-02-01 00:00:00</td><td style=\"text-align: right;\">            0</td><td>                   </td></tr>\n<tr><td style=\"text-align: right;\">1.02788e+11</td><td>2011-03-01 00:00:00</td><td style=\"text-align: right;\">            0</td><td>                   </td></tr>\n<tr><td style=\"text-align: right;\">1.02788e+11</td><td>2011-04-01 00:00:00</td><td style=\"text-align: right;\">            0</td><td>                   </td></tr>\n<tr><td style=\"text-align: right;\">1.02788e+11</td><td>2011-05-01 00:00:00</td><td style=\"text-align: right;\">            0</td><td>                   </td></tr>\n<tr><td style=\"text-align: right;\">1.02788e+11</td><td>2011-06-01 00:00:00</td><td style=\"text-align: right;\">            0</td><td>                   </td></tr>\n<tr><td style=\"text-align: right;\">1.02788e+11</td><td>2011-07-01 00:00:00</td><td style=\"text-align: right;\">            0</td><td>                   </td></tr>\n<tr><td style=\"text-align: right;\">1.02788e+11</td><td>2011-08-01 00:00:00</td><td style=\"text-align: right;\">            0</td><td>                   </td></tr>\n<tr><td style=\"text-align: right;\">1.02788e+11</td><td>2011-09-01 00:00:00</td><td style=\"text-align: right;\">            1</td><td>                   </td></tr>\n<tr><td style=\"text-align: right;\">1.02788e+11</td><td>2011-10-01 00:00:00</td><td style=\"text-align: right;\">            0</td><td>                   </td></tr>\n<tr><td style=\"text-align: right;\">1.02788e+11</td><td>2011-11-01 00:00:00</td><td style=\"text-align: right;\">            0</td><td>                   </td></tr>\n<tr><td style=\"text-align: right;\">1.02788e+11</td><td>2011-12-01 00:00:00</td><td style=\"text-align: right;\">            0</td><td>                   </td></tr>\n<tr><td style=\"text-align: right;\">1.02788e+11</td><td>2012-01-01 00:00:00</td><td style=\"text-align: right;\">            0</td><td>                   </td></tr>\n<tr><td style=\"text-align: right;\">1.02788e+11</td><td>2012-02-01 00:00:00</td><td style=\"text-align: right;\">            0</td><td>                   </td></tr>\n<tr><td style=\"text-align: right;\">1.02788e+11</td><td>2012-03-01 00:00:00</td><td style=\"text-align: right;\">            0</td><td>                   </td></tr>\n<tr><td style=\"text-align: right;\">1.02788e+11</td><td>2012-04-01 00:00:00</td><td style=\"text-align: right;\">            0</td><td>                   </td></tr>\n<tr><td style=\"text-align: right;\">1.02788e+11</td><td>2012-05-01 00:00:00</td><td style=\"text-align: right;\">            0</td><td>                   </td></tr>\n<tr><td style=\"text-align: right;\">1.02788e+11</td><td>2012-06-01 00:00:00</td><td style=\"text-align: right;\">            0</td><td>                   </td></tr>\n<tr><td style=\"text-align: right;\">1.02788e+11</td><td>2012-07-01 00:00:00</td><td style=\"text-align: right;\">            0</td><td>                   </td></tr>\n<tr><td style=\"text-align: right;\">1.02788e+11</td><td>2012-08-01 00:00:00</td><td style=\"text-align: right;\">            0</td><td>                   </td></tr>\n<tr><td style=\"text-align: right;\">1.02788e+11</td><td>2012-09-01 00:00:00</td><td style=\"text-align: right;\">            0</td><td>                   </td></tr>\n<tr><td style=\"text-align: right;\">1.02788e+11</td><td>2012-10-01 00:00:00</td><td style=\"text-align: right;\">            0</td><td>                   </td></tr>\n<tr><td style=\"text-align: right;\">1.02788e+11</td><td>2012-11-01 00:00:00</td><td style=\"text-align: right;\">            0</td><td>                   </td></tr>\n<tr><td style=\"text-align: right;\">1.02788e+11</td><td>2012-12-01 00:00:00</td><td style=\"text-align: right;\">            0</td><td>                   </td></tr>\n<tr><td style=\"text-align: right;\">1.02788e+11</td><td>2013-01-01 00:00:00</td><td style=\"text-align: right;\">            0</td><td>                   </td></tr>\n<tr><td style=\"text-align: right;\">1.02788e+11</td><td>2013-02-01 00:00:00</td><td style=\"text-align: right;\">            0</td><td>                   </td></tr>\n<tr><td style=\"text-align: right;\">1.02788e+11</td><td>2013-03-01 00:00:00</td><td style=\"text-align: right;\">            0</td><td>                   </td></tr>\n<tr><td style=\"text-align: right;\">1.02788e+11</td><td>2013-04-01 00:00:00</td><td style=\"text-align: right;\">            0</td><td>                   </td></tr>\n<tr><td style=\"text-align: right;\">1.02788e+11</td><td>2013-05-01 00:00:00</td><td style=\"text-align: right;\">            0</td><td>                   </td></tr>\n<tr><td style=\"text-align: right;\">1.02788e+11</td><td>2013-06-01 00:00:00</td><td style=\"text-align: right;\">            0</td><td>                   </td></tr>\n<tr><td style=\"text-align: right;\">1.02788e+11</td><td>2013-07-01 00:00:00</td><td style=\"text-align: right;\">            0</td><td>                   </td></tr>\n<tr><td style=\"text-align: right;\">1.02788e+11</td><td>2013-08-01 00:00:00</td><td style=\"text-align: right;\">            0</td><td>                   </td></tr>\n<tr><td style=\"text-align: right;\">1.02788e+11</td><td>2013-09-01 00:00:00</td><td style=\"text-align: right;\">            0</td><td>                   </td></tr>\n<tr><td style=\"text-align: right;\">1.02788e+11</td><td>2013-10-01 00:00:00</td><td style=\"text-align: right;\">            0</td><td>                   </td></tr>\n<tr><td style=\"text-align: right;\">1.02788e+11</td><td>2013-11-01 00:00:00</td><td style=\"text-align: right;\">            0</td><td>                   </td></tr>\n<tr><td style=\"text-align: right;\">1.02788e+11</td><td>2013-12-01 00:00:00</td><td style=\"text-align: right;\">            0</td><td>                   </td></tr>\n<tr><td style=\"text-align: right;\">1.02788e+11</td><td>2014-01-01 00:00:00</td><td style=\"text-align: right;\">            0</td><td>                   </td></tr>\n<tr><td style=\"text-align: right;\">1.02788e+11</td><td>2014-02-01 00:00:00</td><td style=\"text-align: right;\">            0</td><td>                   </td></tr>\n<tr><td style=\"text-align: right;\">1.02788e+11</td><td>2014-03-01 00:00:00</td><td style=\"text-align: right;\">            0</td><td>                   </td></tr>\n<tr><td style=\"text-align: right;\">1.02788e+11</td><td>2014-04-01 00:00:00</td><td style=\"text-align: right;\">            0</td><td>                   </td></tr>\n<tr><td style=\"text-align: right;\">1.02788e+11</td><td>2014-05-01 00:00:00</td><td style=\"text-align: right;\">            0</td><td>                   </td></tr>\n<tr><td style=\"text-align: right;\">1.02788e+11</td><td>2014-06-01 00:00:00</td><td style=\"text-align: right;\">            0</td><td>                   </td></tr>\n<tr><td style=\"text-align: right;\">1.02788e+11</td><td>2014-07-01 00:00:00</td><td style=\"text-align: right;\">            0</td><td>                   </td></tr>\n<tr><td style=\"text-align: right;\">1.02788e+11</td><td>2014-08-01 00:00:00</td><td style=\"text-align: right;\">            0</td><td>                   </td></tr>\n<tr><td style=\"text-align: right;\">1.02788e+11</td><td>2014-09-01 00:00:00</td><td style=\"text-align: right;\">            0</td><td>                   </td></tr>\n<tr><td style=\"text-align: right;\">1.02788e+11</td><td>2014-10-01 00:00:00</td><td style=\"text-align: right;\">            0</td><td>                   </td></tr>\n<tr><td style=\"text-align: right;\">1.02788e+11</td><td>2014-11-01 00:00:00</td><td style=\"text-align: right;\">            0</td><td>                   </td></tr>\n<tr><td style=\"text-align: right;\">1.02788e+11</td><td>2014-12-01 00:00:00</td><td style=\"text-align: right;\">            0</td><td>                   </td></tr>\n<tr><td style=\"text-align: right;\">1.02788e+11</td><td>2015-01-01 00:00:00</td><td style=\"text-align: right;\">            0</td><td>                   </td></tr>\n<tr><td style=\"text-align: right;\">1.02788e+11</td><td>2015-02-01 00:00:00</td><td style=\"text-align: right;\">            0</td><td>                   </td></tr>\n<tr><td style=\"text-align: right;\">1.02788e+11</td><td>2015-03-01 00:00:00</td><td style=\"text-align: right;\">            0</td><td>                   </td></tr>\n<tr><td style=\"text-align: right;\">1.02788e+11</td><td>2015-04-01 00:00:00</td><td style=\"text-align: right;\">            0</td><td>                   </td></tr>\n<tr><td style=\"text-align: right;\">1.02788e+11</td><td>2015-05-01 00:00:00</td><td style=\"text-align: right;\">            0</td><td>                   </td></tr>\n<tr><td style=\"text-align: right;\">1.02788e+11</td><td>2015-06-01 00:00:00</td><td style=\"text-align: right;\">            0</td><td>                   </td></tr>\n<tr><td style=\"text-align: right;\">1.02788e+11</td><td>2015-07-01 00:00:00</td><td style=\"text-align: right;\">            0</td><td>                   </td></tr>\n<tr><td style=\"text-align: right;\">1.02788e+11</td><td>2015-08-01 00:00:00</td><td style=\"text-align: right;\">            0</td><td>                   </td></tr>\n<tr><td style=\"text-align: right;\">1.02788e+11</td><td>2015-09-01 00:00:00</td><td style=\"text-align: right;\">            0</td><td>                   </td></tr>\n<tr><td style=\"text-align: right;\">1.02788e+11</td><td>2015-10-01 00:00:00</td><td style=\"text-align: right;\">            0</td><td>                   </td></tr>\n<tr><td style=\"text-align: right;\">1.02788e+11</td><td>2015-11-01 00:00:00</td><td style=\"text-align: right;\">            0</td><td>                   </td></tr>\n<tr><td style=\"text-align: right;\">1.02788e+11</td><td>2015-12-01 00:00:00</td><td style=\"text-align: right;\">            0</td><td>                   </td></tr>\n<tr><td style=\"text-align: right;\">1.02788e+11</td><td>2016-01-01 00:00:00</td><td style=\"text-align: right;\">            0</td><td>                   </td></tr>\n<tr><td style=\"text-align: right;\">1.02788e+11</td><td>2016-02-01 00:00:00</td><td style=\"text-align: right;\">            0</td><td>                   </td></tr>\n<tr><td style=\"text-align: right;\">1.02788e+11</td><td>2016-03-01 00:00:00</td><td style=\"text-align: right;\">            0</td><td>                   </td></tr>\n<tr><td style=\"text-align: right;\">1.02788e+11</td><td>2016-04-01 00:00:00</td><td style=\"text-align: right;\">            0</td><td>                   </td></tr>\n<tr><td style=\"text-align: right;\">1.02788e+11</td><td>2016-05-01 00:00:00</td><td style=\"text-align: right;\">            0</td><td>                   </td></tr>\n<tr><td style=\"text-align: right;\">1.02788e+11</td><td>2016-06-01 00:00:00</td><td style=\"text-align: right;\">            0</td><td>                   </td></tr>\n<tr><td style=\"text-align: right;\">1.02788e+11</td><td>2016-07-01 00:00:00</td><td style=\"text-align: right;\">            0</td><td>                   </td></tr>\n<tr><td style=\"text-align: right;\">1.02788e+11</td><td>2016-08-01 00:00:00</td><td style=\"text-align: right;\">            0</td><td>                   </td></tr>\n<tr><td style=\"text-align: right;\">1.02788e+11</td><td>2016-09-01 00:00:00</td><td style=\"text-align: right;\">            0</td><td>                   </td></tr>\n<tr><td style=\"text-align: right;\">1.02788e+11</td><td>2016-10-01 00:00:00</td><td style=\"text-align: right;\">            0</td><td>                   </td></tr>\n<tr><td style=\"text-align: right;\">1.02788e+11</td><td>2016-11-01 00:00:00</td><td style=\"text-align: right;\">            0</td><td>                   </td></tr>\n<tr><td style=\"text-align: right;\">1.02788e+11</td><td>2016-12-01 00:00:00</td><td style=\"text-align: right;\">            0</td><td>                   </td></tr>\n<tr><td style=\"text-align: right;\">1.02788e+11</td><td>2017-01-01 00:00:00</td><td style=\"text-align: right;\">            0</td><td>                   </td></tr>\n<tr><td style=\"text-align: right;\">1.02788e+11</td><td>2017-02-01 00:00:00</td><td style=\"text-align: right;\">            0</td><td>                   </td></tr>\n<tr><td style=\"text-align: right;\">1.02788e+11</td><td>2017-03-01 00:00:00</td><td style=\"text-align: right;\">            0</td><td>                   </td></tr>\n<tr><td style=\"text-align: right;\">1.02788e+11</td><td>2017-04-01 00:00:00</td><td style=\"text-align: right;\">            0</td><td>                   </td></tr>\n<tr><td style=\"text-align: right;\">1.02788e+11</td><td>2017-05-01 00:00:00</td><td style=\"text-align: right;\">            1</td><td>                   </td></tr>\n<tr><td style=\"text-align: right;\">1.02788e+11</td><td>2017-06-01 00:00:00</td><td style=\"text-align: right;\">            2</td><td>                   </td></tr>\n<tr><td style=\"text-align: right;\">1.02788e+11</td><td>2017-07-01 00:00:00</td><td style=\"text-align: right;\">            3</td><td>                   </td></tr>\n<tr><td style=\"text-align: right;\">1.02788e+11</td><td>2017-08-01 00:00:00</td><td style=\"text-align: right;\">            4</td><td>                   </td></tr>\n<tr><td style=\"text-align: right;\">1.02788e+11</td><td>2017-09-01 00:00:00</td><td style=\"text-align: right;\">            5</td><td>                   </td></tr>\n<tr><td style=\"text-align: right;\">1.02788e+11</td><td>2017-10-01 00:00:00</td><td style=\"text-align: right;\">            6</td><td>                   </td></tr>\n<tr><td style=\"text-align: right;\">1.02788e+11</td><td>2017-11-01 00:00:00</td><td style=\"text-align: right;\">            7</td><td>                   </td></tr>\n<tr><td style=\"text-align: right;\">1.02788e+11</td><td>2017-12-01 00:00:00</td><td style=\"text-align: right;\">            8</td><td>                   </td></tr>\n<tr><td style=\"text-align: right;\">1.02788e+11</td><td>2018-01-01 00:00:00</td><td style=\"text-align: right;\">            9</td><td>                   </td></tr>\n<tr><td style=\"text-align: right;\">1.02788e+11</td><td>2018-02-01 00:00:00</td><td style=\"text-align: right;\">          nan</td><td>2018-02-01 00:00:00</td></tr>\n</tbody>\n</table>"
     },
     "metadata": {}
    },
    {
     "output_type": "execute_result",
     "data": {
      "text/plain": ""
     },
     "metadata": {},
     "execution_count": 20
    }
   ],
   "source": [
    "tt = performance [performance[\"LOAN_ID\"] == 102788180928,:]\n",
    "tt.head(85)"
   ]
  },
  {
   "cell_type": "code",
   "execution_count": null,
   "metadata": {},
   "outputs": [],
   "source": [
    "test = acquisition.merge(\n",
    "    performance\n",
    ")"
   ]
  },
  {
   "cell_type": "code",
   "execution_count": 8,
   "metadata": {},
   "outputs": [
    {
     "output_type": "execute_result",
     "data": {
      "text/plain": "                key\n0   acquisition.hex\n1  performances.hex",
      "text/html": "<div>\n<style scoped>\n    .dataframe tbody tr th:only-of-type {\n        vertical-align: middle;\n    }\n\n    .dataframe tbody tr th {\n        vertical-align: top;\n    }\n\n    .dataframe thead th {\n        text-align: right;\n    }\n</style>\n<table border=\"1\" class=\"dataframe\">\n  <thead>\n    <tr style=\"text-align: right;\">\n      <th></th>\n      <th>key</th>\n    </tr>\n  </thead>\n  <tbody>\n    <tr>\n      <th>0</th>\n      <td>acquisition.hex</td>\n    </tr>\n    <tr>\n      <th>1</th>\n      <td>performances.hex</td>\n    </tr>\n  </tbody>\n</table>\n</div>"
     },
     "metadata": {},
     "execution_count": 8
    }
   ],
   "source": [
    "h2o."
   ]
  },
  {
   "cell_type": "code",
   "execution_count": 23,
   "metadata": {},
   "outputs": [
    {
     "output_type": "stream",
     "name": "stdout",
     "text": "H2O session _sid_b4b4 closed.\n"
    }
   ],
   "source": [
    "h2o.shutdown()"
   ]
  },
  {
   "cell_type": "code",
   "execution_count": null,
   "metadata": {},
   "outputs": [],
   "source": []
  }
 ],
 "metadata": {
  "language_info": {
   "codemirror_mode": {
    "name": "ipython",
    "version": 3
   },
   "file_extension": ".py",
   "mimetype": "text/x-python",
   "name": "python",
   "nbconvert_exporter": "python",
   "pygments_lexer": "ipython3",
   "version": "3.7.3-final"
  },
  "orig_nbformat": 2,
  "kernelspec": {
   "name": "python37364bitbaseconda237d47ed00c34faa8bb5ab0c5c219e3a",
   "display_name": "Python 3.7.3 64-bit ('base': conda)"
  }
 },
 "nbformat": 4,
 "nbformat_minor": 2
}