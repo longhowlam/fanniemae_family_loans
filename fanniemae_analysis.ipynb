{
 "cells": [
  {
   "cell_type": "markdown",
   "metadata": {},
   "source": [
    "# Fannie Mae analysis\n",
    "\n",
    "See for futher details: \n",
    "https://www.fanniemae.com/portal/funding-the-market/data/loan-performance-data.html\n",
    "\n",
    "Per quarter there is a Acquisition data set and a Performance data set. See for details\n",
    "https://www.fanniemae.com/resources/file/fundmarket/pdf/webinar-101.pdf"
   ]
  },
  {
   "cell_type": "code",
   "execution_count": 1,
   "metadata": {},
   "outputs": [],
   "source": [
    "import pandas as pd\n"
   ]
  },
  {
   "cell_type": "markdown",
   "metadata": {},
   "source": [
    "## import acquisition and performance data"
   ]
  },
  {
   "cell_type": "code",
   "execution_count": 6,
   "metadata": {},
   "outputs": [],
   "source": [
    "Acquisitions_Variables = [\n",
    "    \"LOAN_ID\", \"ORIG_CHN\", \"Seller.Name\", \"ORIG_RT\", \"ORIG_AMT\", \"ORIG_TRM\", \"ORIG_DTE\"\n",
    "    ,\"FRST_DTE\", \"OLTV\", \"OCLTV\", \"NUM_BO\", \"DTI\", \"CSCORE_B\", \"FTHB_FLG\", \"PURPOSE\", \"PROP_TYP\"\n",
    "    ,\"NUM_UNIT\", \"OCC_STAT\", \"STATE\", \"ZIP_3\", \"MI_PCT\", \"Product.Type\", \"CSCORE_C\", \"MI_TYPE\", \"RELOCATION_FLG\"\n",
    "]\n",
    "\n",
    "\n",
    "AQ2018Q1 = pd.read_csv(\n",
    "    \"data/Acquisition_2018Q1.txt\",\n",
    "    sep = \"|\",\n",
    "    header = None ,\n",
    "    names = Acquisitions_Variables\n",
    ")"
   ]
  },
  {
   "cell_type": "code",
   "execution_count": 7,
   "metadata": {},
   "outputs": [
    {
     "output_type": "execute_result",
     "data": {
      "text/plain": "(426207, 25)"
     },
     "metadata": {},
     "execution_count": 7
    }
   ],
   "source": [
    "AQ2018Q1.shape"
   ]
  },
  {
   "cell_type": "code",
   "execution_count": 9,
   "metadata": {},
   "outputs": [],
   "source": [
    "Performance_Variables = [\n",
    "    \"LOAN_ID\", \"Monthly.Rpt.Prd\", \"Servicer.Name\", \"LAST_RT\", \"LAST_UPB\", \"Loan.Age\", \"Months.To.Legal.Mat\",\n",
    "    \"Adj.Month.To.Mat\", \"Maturity.Date\", \"MSA\", \"Delq.Status\", \"MOD_FLAG\", \"Zero.Bal.Code\", \n",
    "    \"ZB_DTE\", \"LPI_DTE\", \"FCC_DTE\",\"DISP_DT\", \"FCC_COST\", \"PP_COST\", \"AR_COST\", \"IE_COST\", \"TAX_COST\", \"NS_PROCS\",\n",
    "    \"CE_PROCS\", \"RMW_PROCS\", \"O_PROCS\", \"NON_INT_UPB\", \"PRIN_FORG_UPB_FHFA\", \"REPCH_FLAG\", \"PRIN_FORG_UPB_OTH\", \"TRANSFER_FLG\"\n",
    "]\n",
    "\n",
    "PERF208Q1 = pd.read_csv(\n",
    "    \"data/Performance_2018Q1.txt\",\n",
    "    sep = \"|\",\n",
    "    header = None ,\n",
    "    names =Performance_Variables\n",
    ")\n"
   ]
  },
  {
   "cell_type": "code",
   "execution_count": 10,
   "metadata": {},
   "outputs": [
    {
     "output_type": "execute_result",
     "data": {
      "text/plain": "        LOAN_ID Monthly.Rpt.Prd       Servicer.Name  LAST_RT   LAST_UPB  \\\n0  100001040173      02/01/2018  QUICKEN LOANS INC.     4.25        NaN   \n1  100001040173      03/01/2018                 NaN     4.25        NaN   \n2  100001040173      04/01/2018                 NaN     4.25        NaN   \n3  100001040173      05/01/2018                 NaN     4.25        NaN   \n4  100001040173      06/01/2018                 NaN     4.25        NaN   \n5  100001040173      07/01/2018                 NaN     4.25        NaN   \n6  100001040173      08/01/2018                 NaN     4.25  449321.18   \n7  100001040173      09/01/2018                 NaN     4.25  448683.55   \n8  100001040173      10/01/2018                 NaN     4.25  448043.66   \n9  100001040173      11/01/2018                 NaN     4.25  447401.50   \n\n   Loan.Age  Months.To.Legal.Mat  Adj.Month.To.Mat Maturity.Date    MSA  ...  \\\n0         0                  360             360.0       02/2048  18140  ...   \n1         1                  359             359.0       02/2048  18140  ...   \n2         2                  358             358.0       02/2048  18140  ...   \n3         3                  357             357.0       02/2048  18140  ...   \n4         4                  356             356.0       02/2048  18140  ...   \n5         5                  355             355.0       02/2048  18140  ...   \n6         6                  354             354.0       02/2048  18140  ...   \n7         7                  353             353.0       02/2048  18140  ...   \n8         8                  352             352.0       02/2048  18140  ...   \n9         9                  351             351.0       02/2048  18140  ...   \n\n  TAX_COST NS_PROCS  CE_PROCS RMW_PROCS O_PROCS NON_INT_UPB  \\\n0      NaN      NaN       NaN       NaN     NaN         NaN   \n1      NaN      NaN       NaN       NaN     NaN         NaN   \n2      NaN      NaN       NaN       NaN     NaN         NaN   \n3      NaN      NaN       NaN       NaN     NaN         NaN   \n4      NaN      NaN       NaN       NaN     NaN         NaN   \n5      NaN      NaN       NaN       NaN     NaN         NaN   \n6      NaN      NaN       NaN       NaN     NaN         NaN   \n7      NaN      NaN       NaN       NaN     NaN         NaN   \n8      NaN      NaN       NaN       NaN     NaN         NaN   \n9      NaN      NaN       NaN       NaN     NaN         NaN   \n\n  PRIN_FORG_UPB_FHFA  REPCH_FLAG  PRIN_FORG_UPB_OTH  TRANSFER_FLG  \n0                NaN         NaN                NaN             N  \n1                NaN         NaN                NaN             N  \n2                NaN         NaN                NaN             N  \n3                NaN         NaN                NaN             N  \n4                NaN         NaN                NaN             N  \n5                NaN         NaN                NaN             N  \n6                NaN         NaN                NaN             N  \n7                NaN         NaN                NaN             N  \n8                NaN         NaN                NaN             N  \n9                NaN         NaN                NaN             N  \n\n[10 rows x 31 columns]",
      "text/html": "<div>\n<style scoped>\n    .dataframe tbody tr th:only-of-type {\n        vertical-align: middle;\n    }\n\n    .dataframe tbody tr th {\n        vertical-align: top;\n    }\n\n    .dataframe thead th {\n        text-align: right;\n    }\n</style>\n<table border=\"1\" class=\"dataframe\">\n  <thead>\n    <tr style=\"text-align: right;\">\n      <th></th>\n      <th>LOAN_ID</th>\n      <th>Monthly.Rpt.Prd</th>\n      <th>Servicer.Name</th>\n      <th>LAST_RT</th>\n      <th>LAST_UPB</th>\n      <th>Loan.Age</th>\n      <th>Months.To.Legal.Mat</th>\n      <th>Adj.Month.To.Mat</th>\n      <th>Maturity.Date</th>\n      <th>MSA</th>\n      <th>...</th>\n      <th>TAX_COST</th>\n      <th>NS_PROCS</th>\n      <th>CE_PROCS</th>\n      <th>RMW_PROCS</th>\n      <th>O_PROCS</th>\n      <th>NON_INT_UPB</th>\n      <th>PRIN_FORG_UPB_FHFA</th>\n      <th>REPCH_FLAG</th>\n      <th>PRIN_FORG_UPB_OTH</th>\n      <th>TRANSFER_FLG</th>\n    </tr>\n  </thead>\n  <tbody>\n    <tr>\n      <th>0</th>\n      <td>100001040173</td>\n      <td>02/01/2018</td>\n      <td>QUICKEN LOANS INC.</td>\n      <td>4.25</td>\n      <td>NaN</td>\n      <td>0</td>\n      <td>360</td>\n      <td>360.0</td>\n      <td>02/2048</td>\n      <td>18140</td>\n      <td>...</td>\n      <td>NaN</td>\n      <td>NaN</td>\n      <td>NaN</td>\n      <td>NaN</td>\n      <td>NaN</td>\n      <td>NaN</td>\n      <td>NaN</td>\n      <td>NaN</td>\n      <td>NaN</td>\n      <td>N</td>\n    </tr>\n    <tr>\n      <th>1</th>\n      <td>100001040173</td>\n      <td>03/01/2018</td>\n      <td>NaN</td>\n      <td>4.25</td>\n      <td>NaN</td>\n      <td>1</td>\n      <td>359</td>\n      <td>359.0</td>\n      <td>02/2048</td>\n      <td>18140</td>\n      <td>...</td>\n      <td>NaN</td>\n      <td>NaN</td>\n      <td>NaN</td>\n      <td>NaN</td>\n      <td>NaN</td>\n      <td>NaN</td>\n      <td>NaN</td>\n      <td>NaN</td>\n      <td>NaN</td>\n      <td>N</td>\n    </tr>\n    <tr>\n      <th>2</th>\n      <td>100001040173</td>\n      <td>04/01/2018</td>\n      <td>NaN</td>\n      <td>4.25</td>\n      <td>NaN</td>\n      <td>2</td>\n      <td>358</td>\n      <td>358.0</td>\n      <td>02/2048</td>\n      <td>18140</td>\n      <td>...</td>\n      <td>NaN</td>\n      <td>NaN</td>\n      <td>NaN</td>\n      <td>NaN</td>\n      <td>NaN</td>\n      <td>NaN</td>\n      <td>NaN</td>\n      <td>NaN</td>\n      <td>NaN</td>\n      <td>N</td>\n    </tr>\n    <tr>\n      <th>3</th>\n      <td>100001040173</td>\n      <td>05/01/2018</td>\n      <td>NaN</td>\n      <td>4.25</td>\n      <td>NaN</td>\n      <td>3</td>\n      <td>357</td>\n      <td>357.0</td>\n      <td>02/2048</td>\n      <td>18140</td>\n      <td>...</td>\n      <td>NaN</td>\n      <td>NaN</td>\n      <td>NaN</td>\n      <td>NaN</td>\n      <td>NaN</td>\n      <td>NaN</td>\n      <td>NaN</td>\n      <td>NaN</td>\n      <td>NaN</td>\n      <td>N</td>\n    </tr>\n    <tr>\n      <th>4</th>\n      <td>100001040173</td>\n      <td>06/01/2018</td>\n      <td>NaN</td>\n      <td>4.25</td>\n      <td>NaN</td>\n      <td>4</td>\n      <td>356</td>\n      <td>356.0</td>\n      <td>02/2048</td>\n      <td>18140</td>\n      <td>...</td>\n      <td>NaN</td>\n      <td>NaN</td>\n      <td>NaN</td>\n      <td>NaN</td>\n      <td>NaN</td>\n      <td>NaN</td>\n      <td>NaN</td>\n      <td>NaN</td>\n      <td>NaN</td>\n      <td>N</td>\n    </tr>\n    <tr>\n      <th>5</th>\n      <td>100001040173</td>\n      <td>07/01/2018</td>\n      <td>NaN</td>\n      <td>4.25</td>\n      <td>NaN</td>\n      <td>5</td>\n      <td>355</td>\n      <td>355.0</td>\n      <td>02/2048</td>\n      <td>18140</td>\n      <td>...</td>\n      <td>NaN</td>\n      <td>NaN</td>\n      <td>NaN</td>\n      <td>NaN</td>\n      <td>NaN</td>\n      <td>NaN</td>\n      <td>NaN</td>\n      <td>NaN</td>\n      <td>NaN</td>\n      <td>N</td>\n    </tr>\n    <tr>\n      <th>6</th>\n      <td>100001040173</td>\n      <td>08/01/2018</td>\n      <td>NaN</td>\n      <td>4.25</td>\n      <td>449321.18</td>\n      <td>6</td>\n      <td>354</td>\n      <td>354.0</td>\n      <td>02/2048</td>\n      <td>18140</td>\n      <td>...</td>\n      <td>NaN</td>\n      <td>NaN</td>\n      <td>NaN</td>\n      <td>NaN</td>\n      <td>NaN</td>\n      <td>NaN</td>\n      <td>NaN</td>\n      <td>NaN</td>\n      <td>NaN</td>\n      <td>N</td>\n    </tr>\n    <tr>\n      <th>7</th>\n      <td>100001040173</td>\n      <td>09/01/2018</td>\n      <td>NaN</td>\n      <td>4.25</td>\n      <td>448683.55</td>\n      <td>7</td>\n      <td>353</td>\n      <td>353.0</td>\n      <td>02/2048</td>\n      <td>18140</td>\n      <td>...</td>\n      <td>NaN</td>\n      <td>NaN</td>\n      <td>NaN</td>\n      <td>NaN</td>\n      <td>NaN</td>\n      <td>NaN</td>\n      <td>NaN</td>\n      <td>NaN</td>\n      <td>NaN</td>\n      <td>N</td>\n    </tr>\n    <tr>\n      <th>8</th>\n      <td>100001040173</td>\n      <td>10/01/2018</td>\n      <td>NaN</td>\n      <td>4.25</td>\n      <td>448043.66</td>\n      <td>8</td>\n      <td>352</td>\n      <td>352.0</td>\n      <td>02/2048</td>\n      <td>18140</td>\n      <td>...</td>\n      <td>NaN</td>\n      <td>NaN</td>\n      <td>NaN</td>\n      <td>NaN</td>\n      <td>NaN</td>\n      <td>NaN</td>\n      <td>NaN</td>\n      <td>NaN</td>\n      <td>NaN</td>\n      <td>N</td>\n    </tr>\n    <tr>\n      <th>9</th>\n      <td>100001040173</td>\n      <td>11/01/2018</td>\n      <td>NaN</td>\n      <td>4.25</td>\n      <td>447401.50</td>\n      <td>9</td>\n      <td>351</td>\n      <td>351.0</td>\n      <td>02/2048</td>\n      <td>18140</td>\n      <td>...</td>\n      <td>NaN</td>\n      <td>NaN</td>\n      <td>NaN</td>\n      <td>NaN</td>\n      <td>NaN</td>\n      <td>NaN</td>\n      <td>NaN</td>\n      <td>NaN</td>\n      <td>NaN</td>\n      <td>N</td>\n    </tr>\n  </tbody>\n</table>\n<p>10 rows × 31 columns</p>\n</div>"
     },
     "metadata": {},
     "execution_count": 10
    }
   ],
   "source": [
    "PERF208Q1.head(10)"
   ]
  },
  {
   "cell_type": "code",
   "execution_count": null,
   "metadata": {},
   "outputs": [],
   "source": []
  }
 ],
 "metadata": {
  "language_info": {
   "codemirror_mode": {
    "name": "ipython",
    "version": 3
   },
   "file_extension": ".py",
   "mimetype": "text/x-python",
   "name": "python",
   "nbconvert_exporter": "python",
   "pygments_lexer": "ipython3",
   "version": "3.7.3-final"
  },
  "orig_nbformat": 2,
  "kernelspec": {
   "name": "python37364bitbaseconda237d47ed00c34faa8bb5ab0c5c219e3a",
   "display_name": "Python 3.7.3 64-bit ('base': conda)"
  }
 },
 "nbformat": 4,
 "nbformat_minor": 2
}