{
 "cells": [
  {
   "cell_type": "markdown",
   "metadata": {},
   "source": [
    "# Fannie Mae analysis\n",
    "\n",
    "(just started)\n",
    "\n",
    "This notebook contains some python code to analyse mortgage data\n",
    "See the following link how to download data and [more details](https://www.fanniemae.com/portal/funding-the-market/data/loan-performance-data.html).\n",
    "\n",
    "Per quarter there is a Acquisition data set and a Performance data set. See the [details here](https://www.fanniemae.com/resources/file/fundmarket/pdf/webinar-101.pdf)\n"
   ]
  },
  {
   "cell_type": "code",
   "execution_count": 1,
   "metadata": {},
   "outputs": [],
   "source": [
    "#### using the datatable package from h2o....  super package!\n",
    "import pandas as pd\n",
    "import numpy as np\n",
    "import datatable as dt"
   ]
  },
  {
   "cell_type": "markdown",
   "metadata": {},
   "source": [
    "## Import acquisition and performance data\n",
    "\n",
    "The data available on mortgages is per quarter of starting mortgages (from 2000 until 2019). It is a zip containing two text files, for example if we look in the 2018Q1.zip file we have:\n",
    "\n",
    "* the file Acquisition_2018Q1.txt, it contains all mortgaes that started in Q1 2018, each row is one mortgage,\n",
    "* the file Performance_2018Q1.txt, it contains the performance of the mortgages in the acquisition file. Multiple rows in this file correspond to one mortgage, For every mortgage we have the monthly performance of the mortgage, form its start until Dec of 2019.\n",
    "\n",
    "To make things managable I have downloaded only the four zip files corresponding to 2018, unzipped them and concatenated the Acquisition text files to one larger text file and zipped it. I did the same with the performances.\n",
    "\n",
    "`cat A*.txt > acquisition.txt & zip acquisition.zip acquisition.txt`\n",
    "\n",
    "`cat Perf*.txt > performance.txt & zip performance.zip performance.txt`\n",
    "\n",
    "I am using the `fread` function from the datatable package, it can import zipped CSV files without extracting them."
   ]
  },
  {
   "cell_type": "code",
   "execution_count": 9,
   "metadata": {},
   "outputs": [
    {
     "output_type": "stream",
     "name": "stdout",
     "text": "CPU times: user 13.1 s, sys: 1.62 s, total: 14.7 s\nWall time: 6.06 s\n"
    },
    {
     "output_type": "execute_result",
     "data": {
      "text/plain": "(2245821, 25)"
     },
     "metadata": {},
     "execution_count": 9
    }
   ],
   "source": [
    "%%time\n",
    "\n",
    "#### import Acquisition data\n",
    "acquisitions_Variables = [\n",
    "    \"LOAN_ID\", \"ORIG_CHN\", \"Seller_Name\", \"ORIG_RT\", \"ORIG_AMT\", \"ORIG_TRM\", \"ORIG_DTE\",\n",
    "    \"FRST_DTE\", \"OLTV\", \"OCLTV\", \"NUM_BO\", \"Debt_to_Income\", \"Borrower_Credit_Score\", \"FTHB_FLG\", \"PURPOSE\", \"PROPERTY_TYPE\",\n",
    "    \"NUM_UNIT\", \"OCC_STAT\", \"STATE\", \"ZIP_3\", \"MI_PCT\", \"Product_Type\", \"CSCORE_C\", \"MI_TYPE\", \"RELOCATION_FLG\"\n",
    "]\n",
    "\n",
    "acquisition = dt.fread(\n",
    "    \"data/ac11q.zip\",\n",
    "    sep = \"|\",\n",
    "    header = None ,\n",
    "    columns = acquisitions_Variables,\\\n",
    ")\n",
    "\n",
    "acquisition = acquisition.to_pandas()\n",
    "acquisition.shape"
   ]
  },
  {
   "cell_type": "code",
   "execution_count": 10,
   "metadata": {},
   "outputs": [
    {
     "output_type": "execute_result",
     "data": {
      "text/plain": "              LOAN_ID ORIG_CHN             Seller_Name  ORIG_RT  ORIG_AMT  \\\n1383173  603990148365        R  MOVEMENT MORTGAGE, LLC    3.875    319000   \n2108868  585654665547        C          PENNYMAC CORP.    4.875    281000   \n2200005  861118791236        R                   OTHER    4.625    358000   \n776167   162652938536        R                   OTHER    3.875    135000   \n1741282  492145162475        R                   OTHER    4.875     99000   \n\n         ORIG_TRM ORIG_DTE FRST_DTE  OLTV  OCLTV  ...  PROPERTY_TYPE  \\\n1383173       360  07/2018  09/2018    71   71.0  ...             SF   \n2108868       360  12/2018  02/2019    76   76.0  ...             SF   \n2200005       360  02/2019  04/2019    58   58.0  ...             SF   \n776167        180  04/2018  06/2018    50   50.0  ...             SF   \n1741282       360  07/2018  09/2018    90   90.0  ...             SF   \n\n         NUM_UNIT  OCC_STAT STATE ZIP_3 MI_PCT  Product_Type CSCORE_C MI_TYPE  \\\n1383173         1         P    PA   174    NaN           FRM    776.0     NaN   \n2108868         1         P    FL   331    NaN           FRM    751.0     NaN   \n2200005         1         P    CO   800    NaN           FRM      NaN     NaN   \n776167          1         P    SC   297    NaN           FRM    807.0     NaN   \n1741282         1         P    TX   784   25.0           FRM      NaN     1.0   \n\n         RELOCATION_FLG  \n1383173               N  \n2108868               N  \n2200005               N  \n776167                N  \n1741282               N  \n\n[5 rows x 25 columns]",
      "text/html": "<div>\n<style scoped>\n    .dataframe tbody tr th:only-of-type {\n        vertical-align: middle;\n    }\n\n    .dataframe tbody tr th {\n        vertical-align: top;\n    }\n\n    .dataframe thead th {\n        text-align: right;\n    }\n</style>\n<table border=\"1\" class=\"dataframe\">\n  <thead>\n    <tr style=\"text-align: right;\">\n      <th></th>\n      <th>LOAN_ID</th>\n      <th>ORIG_CHN</th>\n      <th>Seller_Name</th>\n      <th>ORIG_RT</th>\n      <th>ORIG_AMT</th>\n      <th>ORIG_TRM</th>\n      <th>ORIG_DTE</th>\n      <th>FRST_DTE</th>\n      <th>OLTV</th>\n      <th>OCLTV</th>\n      <th>...</th>\n      <th>PROPERTY_TYPE</th>\n      <th>NUM_UNIT</th>\n      <th>OCC_STAT</th>\n      <th>STATE</th>\n      <th>ZIP_3</th>\n      <th>MI_PCT</th>\n      <th>Product_Type</th>\n      <th>CSCORE_C</th>\n      <th>MI_TYPE</th>\n      <th>RELOCATION_FLG</th>\n    </tr>\n  </thead>\n  <tbody>\n    <tr>\n      <th>1383173</th>\n      <td>603990148365</td>\n      <td>R</td>\n      <td>MOVEMENT MORTGAGE, LLC</td>\n      <td>3.875</td>\n      <td>319000</td>\n      <td>360</td>\n      <td>07/2018</td>\n      <td>09/2018</td>\n      <td>71</td>\n      <td>71.0</td>\n      <td>...</td>\n      <td>SF</td>\n      <td>1</td>\n      <td>P</td>\n      <td>PA</td>\n      <td>174</td>\n      <td>NaN</td>\n      <td>FRM</td>\n      <td>776.0</td>\n      <td>NaN</td>\n      <td>N</td>\n    </tr>\n    <tr>\n      <th>2108868</th>\n      <td>585654665547</td>\n      <td>C</td>\n      <td>PENNYMAC CORP.</td>\n      <td>4.875</td>\n      <td>281000</td>\n      <td>360</td>\n      <td>12/2018</td>\n      <td>02/2019</td>\n      <td>76</td>\n      <td>76.0</td>\n      <td>...</td>\n      <td>SF</td>\n      <td>1</td>\n      <td>P</td>\n      <td>FL</td>\n      <td>331</td>\n      <td>NaN</td>\n      <td>FRM</td>\n      <td>751.0</td>\n      <td>NaN</td>\n      <td>N</td>\n    </tr>\n    <tr>\n      <th>2200005</th>\n      <td>861118791236</td>\n      <td>R</td>\n      <td>OTHER</td>\n      <td>4.625</td>\n      <td>358000</td>\n      <td>360</td>\n      <td>02/2019</td>\n      <td>04/2019</td>\n      <td>58</td>\n      <td>58.0</td>\n      <td>...</td>\n      <td>SF</td>\n      <td>1</td>\n      <td>P</td>\n      <td>CO</td>\n      <td>800</td>\n      <td>NaN</td>\n      <td>FRM</td>\n      <td>NaN</td>\n      <td>NaN</td>\n      <td>N</td>\n    </tr>\n    <tr>\n      <th>776167</th>\n      <td>162652938536</td>\n      <td>R</td>\n      <td>OTHER</td>\n      <td>3.875</td>\n      <td>135000</td>\n      <td>180</td>\n      <td>04/2018</td>\n      <td>06/2018</td>\n      <td>50</td>\n      <td>50.0</td>\n      <td>...</td>\n      <td>SF</td>\n      <td>1</td>\n      <td>P</td>\n      <td>SC</td>\n      <td>297</td>\n      <td>NaN</td>\n      <td>FRM</td>\n      <td>807.0</td>\n      <td>NaN</td>\n      <td>N</td>\n    </tr>\n    <tr>\n      <th>1741282</th>\n      <td>492145162475</td>\n      <td>R</td>\n      <td>OTHER</td>\n      <td>4.875</td>\n      <td>99000</td>\n      <td>360</td>\n      <td>07/2018</td>\n      <td>09/2018</td>\n      <td>90</td>\n      <td>90.0</td>\n      <td>...</td>\n      <td>SF</td>\n      <td>1</td>\n      <td>P</td>\n      <td>TX</td>\n      <td>784</td>\n      <td>25.0</td>\n      <td>FRM</td>\n      <td>NaN</td>\n      <td>1.0</td>\n      <td>N</td>\n    </tr>\n  </tbody>\n</table>\n<p>5 rows × 25 columns</p>\n</div>"
     },
     "metadata": {},
     "execution_count": 10
    }
   ],
   "source": [
    "### five random five records\n",
    "acquisition.sample(5)"
   ]
  },
  {
   "cell_type": "code",
   "execution_count": 16,
   "metadata": {},
   "outputs": [
    {
     "output_type": "execute_result",
     "data": {
      "text/plain": "12/2009    114597\n12/2008         8\n03/2008        15\n07/2016         3\n10/2016         7\n01/2017        67\n04/2015         1\n07/2008         1\n07/2009       373\n08/2008         3\n01/2008         1\n05/2016         1\n02/2009        22\n03/2009        46\n04/2009        73\n05/2008         2\n06/2018    158182\n10/2006         1\n09/2016         3\n04/2018    127813\n11/2009     31475\n07/2013         1\n01/2010     98608\n11/2016        13\n10/2018    124095\n05/2018    147780\n06/2017       160\n12/2017    138164\n10/2009      5798\n02/2019     63583\n02/2017        69\n09/2018    121164\n04/2008         3\n08/2016         3\n10/2008         3\n12/2016        24\n12/2018    108224\n02/2018    113799\n08/2018    155093\n03/2010     13414\n07/2017       257\n04/2017        89\n08/2009       765\n02/2008        14\n09/2017      1793\n04/2016         2\n05/2009       161\n05/2015         2\n11/2017     39710\n11/2018    110688\n03/2018    122413\n01/2019     78998\n10/2017      6998\n03/2017        77\n03/2019     22256\n02/2010     55842\n11/2012         1\n06/2009       273\n01/2018    130652\n06/2016         1\n06/2015         1\n05/2017       118\n10/2014         1\n09/2009      1662\n01/2009        13\n08/2017       699\n09/2008         1\n07/2018    149642\nName: ORIG_DTE, dtype: int64"
     },
     "metadata": {},
     "execution_count": 16
    }
   ],
   "source": [
    "pd.set_option(\"max_rows\", None)\n",
    "acquisition.ORIG_DTE.value_counts(sort=False)"
   ]
  },
  {
   "cell_type": "code",
   "execution_count": 11,
   "metadata": {},
   "outputs": [
    {
     "output_type": "stream",
     "name": "stdout",
     "text": "CPU times: user 59.1 s, sys: 18.9 s, total: 1min 18s\nWall time: 31.6 s\n"
    },
    {
     "output_type": "execute_result",
     "data": {
      "text/plain": "(28552851, 31)"
     },
     "metadata": {},
     "execution_count": 11
    }
   ],
   "source": [
    "%%time\n",
    "\n",
    "#### Import performance data\n",
    "performance_Variables = [\n",
    "    \"LOAN_ID\", \"Monthly_Rpt_Prd\", \"Servicer_Name\", \"LAST_RT\", \"LAST_UPB\", \"Loan_Age\", \"Months_To_Legal_Mat\",\n",
    "    \"Adj_Month_To_Mat\", \"Maturity_Date\", \"MSA\", \"Delq_Status\", \"MOD_FLAG\", \"Zero_Bal_Code\", \"ZB_DTE\", \"LPI_DTE\",\n",
    "    \"Foreclosure_date\",\"DISP_DT\", \"FCC_COST\", \"PP_COST\", \"AR_COST\", \"IE_COST\", \"TAX_COST\", \"NS_PROCS\", \"CE_PROCS\", \"RMW_PROCS\",\n",
    "    \"O_PROCS\", \"NON_INT_UPB\", \"PRIN_FORG_UPB_FHFA\", \"REPCH_FLAG\", \"PRIN_FORG_UPB_OTH\", \"TRANSFER_FLG\"\n",
    "]\n",
    "\n",
    "performance = dt.fread(\n",
    "    \"data/performance.zip\",\n",
    "    sep = \"|\",\n",
    "    header = None ,\n",
    "    columns = performance_Variables\n",
    ")\n",
    "\n",
    "#performance = performance.to_pandas()\n",
    "performance.shape"
   ]
  },
  {
   "cell_type": "code",
   "execution_count": 4,
   "metadata": {},
   "outputs": [
    {
     "output_type": "stream",
     "name": "stdout",
     "text": "CPU times: user 54.6 s, sys: 38.2 s, total: 1min 32s\nWall time: 1min 20s\n"
    }
   ],
   "source": [
    "%%time\n",
    "performance = performance.to_pandas()"
   ]
  },
  {
   "cell_type": "code",
   "execution_count": 12,
   "metadata": {},
   "outputs": [
    {
     "output_type": "execute_result",
     "data": {
      "text/plain": "",
      "text/html": "<style type='text/css'>\n.datatable table.frame { margin-bottom: 0; }\n.datatable table.frame thead { border-bottom: none; }\n.datatable table.frame tr.coltypes td {  color: #FFFFFF;  line-height: 6px;  padding: 0 0.5em;}\n.datatable .bool { background: #DDDD99; }\n.datatable .obj  { background: #565656; }\n.datatable .int  { background: #5D9E5D; }\n.datatable .real { background: #4040CC; }\n.datatable .str  { background: #CC4040; }\n.datatable .row_index {  background: var(--jp-border-color3);  border-right: 1px solid var(--jp-border-color0);  color: var(--jp-ui-font-color3);  font-size: 9px;}\n.datatable .frame tr.coltypes .row_index {  background: var(--jp-border-color0);}\n.datatable th:nth-child(2) { padding-left: 12px; }\n.datatable .hellipsis {  color: var(--jp-cell-editor-border-color);}\n.datatable .vellipsis {  background: var(--jp-layout-color0);  color: var(--jp-cell-editor-border-color);}\n.datatable .na {  color: var(--jp-cell-editor-border-color);  font-size: 80%;}\n.datatable .footer { font-size: 9px; }\n.datatable .frame_dimensions {  background: var(--jp-border-color3);  border-top: 1px solid var(--jp-border-color0);  color: var(--jp-ui-font-color3);  display: inline-block;  opacity: 0.6;  padding: 1px 10px 1px 5px;}\n</style>\n<div class='datatable'>\n  <table class='frame'>\n  <thead>\n    <tr class='colnames'><td class='row_index'></td><th>LOAN_ID</th><th>Monthly_Rpt_Prd</th><th>Servicer_Name</th><th>LAST_RT</th><th>LAST_UPB</th><th>Loan_Age</th><th>Months_To_Legal_Mat</th><th>Adj_Month_To_Mat</th><th>Maturity_Date</th><th>MSA</th><th class='vellipsis'>&hellip;</th><th>NON_INT_UPB</th><th>PRIN_FORG_UPB_FHFA</th><th>REPCH_FLAG</th><th>PRIN_FORG_UPB_OTH</th><th>TRANSFER_FLG</th></tr>\n    <tr class='coltypes'><td class='row_index'></td><td class='int' title='int64'>&#x25AA;&#x25AA;&#x25AA;&#x25AA;&#x25AA;&#x25AA;&#x25AA;&#x25AA;</td><td class='str' title='str32'>&#x25AA;&#x25AA;&#x25AA;&#x25AA;</td><td class='str' title='str32'>&#x25AA;&#x25AA;&#x25AA;&#x25AA;</td><td class='real' title='float64'>&#x25AA;&#x25AA;&#x25AA;&#x25AA;&#x25AA;&#x25AA;&#x25AA;&#x25AA;</td><td class='real' title='float64'>&#x25AA;&#x25AA;&#x25AA;&#x25AA;&#x25AA;&#x25AA;&#x25AA;&#x25AA;</td><td class='int' title='int32'>&#x25AA;&#x25AA;&#x25AA;&#x25AA;</td><td class='int' title='int32'>&#x25AA;&#x25AA;&#x25AA;&#x25AA;</td><td class='int' title='int32'>&#x25AA;&#x25AA;&#x25AA;&#x25AA;</td><td class='str' title='str32'>&#x25AA;&#x25AA;&#x25AA;&#x25AA;</td><td class='int' title='int32'>&#x25AA;&#x25AA;&#x25AA;&#x25AA;</td><td></td><td class='real' title='float64'>&#x25AA;&#x25AA;&#x25AA;&#x25AA;&#x25AA;&#x25AA;&#x25AA;&#x25AA;</td><td class='bool' title='bool8'>&#x25AA;</td><td class='str' title='str32'>&#x25AA;&#x25AA;&#x25AA;&#x25AA;</td><td class='bool' title='bool8'>&#x25AA;</td><td class='str' title='str32'>&#x25AA;&#x25AA;&#x25AA;&#x25AA;</td></tr>\n  </thead>\n  <tbody>\n    <tr><td class='row_index'>0</td><td>100001040173</td><td>02/01/2018</td><td>QUICKEN LOANS INC.</td><td>4.25</td><td><span class=na>NA</span></td><td>0</td><td>360</td><td>360</td><td>02/2048</td><td>18140</td><td class=vellipsis>&hellip;</td><td><span class=na>NA</span></td><td><span class=na>NA</span></td><td></td><td><span class=na>NA</span></td><td>N</td></tr>\n    <tr><td class='row_index'>1</td><td>100001040173</td><td>03/01/2018</td><td></td><td>4.25</td><td><span class=na>NA</span></td><td>1</td><td>359</td><td>359</td><td>02/2048</td><td>18140</td><td class=vellipsis>&hellip;</td><td><span class=na>NA</span></td><td><span class=na>NA</span></td><td></td><td><span class=na>NA</span></td><td>N</td></tr>\n    <tr><td class='row_index'>2</td><td>100001040173</td><td>04/01/2018</td><td></td><td>4.25</td><td><span class=na>NA</span></td><td>2</td><td>358</td><td>358</td><td>02/2048</td><td>18140</td><td class=vellipsis>&hellip;</td><td><span class=na>NA</span></td><td><span class=na>NA</span></td><td></td><td><span class=na>NA</span></td><td>N</td></tr>\n    <tr><td class='row_index'>3</td><td>100001040173</td><td>05/01/2018</td><td></td><td>4.25</td><td><span class=na>NA</span></td><td>3</td><td>357</td><td>357</td><td>02/2048</td><td>18140</td><td class=vellipsis>&hellip;</td><td><span class=na>NA</span></td><td><span class=na>NA</span></td><td></td><td><span class=na>NA</span></td><td>N</td></tr>\n    <tr><td class='row_index'>4</td><td>100001040173</td><td>06/01/2018</td><td></td><td>4.25</td><td><span class=na>NA</span></td><td>4</td><td>356</td><td>356</td><td>02/2048</td><td>18140</td><td class=vellipsis>&hellip;</td><td><span class=na>NA</span></td><td><span class=na>NA</span></td><td></td><td><span class=na>NA</span></td><td>N</td></tr>\n  </tbody>\n  </table>\n  <div class='footer'>\n    <div class='frame_dimensions'>5 rows &times; 31 columns</div>\n  </div>\n</div>\n"
     },
     "metadata": {},
     "execution_count": 12
    }
   ],
   "source": [
    "#### first 5 records\n",
    "performance.head(5)"
   ]
  },
  {
   "cell_type": "markdown",
   "metadata": {},
   "source": [
    "## Start with a simple analysis\n",
    "\n",
    "This will be the easiest in terms of data prep. Look only at mortgages starting in one specific quarter. For the performance we look at foreclosure or not. So if there is a date in the Foreclosure_date column then the mortgage defaulted otherwise the mortgae did not defaulted. This is the worst that can happen to a mortgage. Latwer we will look at a different performance, days past due where the mortgage does not neccesarily goes default.\n"
   ]
  },
  {
   "cell_type": "code",
   "execution_count": 6,
   "metadata": {},
   "outputs": [
    {
     "output_type": "stream",
     "name": "stdout",
     "text": "CPU times: user 497 ms, sys: 323 ms, total: 820 ms\nWall time: 1.04 s\n"
    }
   ],
   "source": [
    "%%time\n",
    "foreclosures = (\n",
    "    performance\n",
    "    .query(\"Foreclosure_date != ''\")\n",
    "    .filter([\"LOAN_ID\", \"Foreclosure_date\"])\n",
    ")\n"
   ]
  },
  {
   "cell_type": "code",
   "execution_count": 7,
   "metadata": {},
   "outputs": [
    {
     "output_type": "stream",
     "name": "stdout",
     "text": "CPU times: user 574 ms, sys: 257 ms, total: 831 ms\nWall time: 914 ms\n"
    }
   ],
   "source": [
    "%%time\n",
    "mortgages = (\n",
    "    acquisition\n",
    "    .merge(\n",
    "        foreclosures,\n",
    "        how=\"left\",\n",
    "        left_on=\"LOAN_ID\",\n",
    "        right_on=\"LOAN_ID\"\n",
    "    )\n",
    "    .filter([ \n",
    "        \"LOAN_ID\",\"ORIG_DTE\",\"FRST_DTE\", \"Debt_to_Income\", \"Borrower_Credit_Score\", \"PURPOSE\",\n",
    "        \"Monthly_Rpt_Prd\", \"Loan_Age\", \"Seller_Name\", \"ORIG_RT\",\t\"ORIG_AMT\",\n",
    "        \"Zero_Bal_Code\", \"Delq_Status\", \"ZB_DTE\", \"LPI_DTE\", \"Foreclosure_date\"\n",
    "    ])\n",
    ")\n",
    "\n",
    "mortgages = (\n",
    "    mortgages\n",
    "    .assign(target = mortgages.Foreclosure_date.notna().astype(int))\n",
    ")"
   ]
  },
  {
   "cell_type": "code",
   "execution_count": 8,
   "metadata": {},
   "outputs": [
    {
     "output_type": "execute_result",
     "data": {
      "text/plain": "             LOAN_ID ORIG_DTE FRST_DTE  Debt_to_Income  Borrower_Credit_Score  \\\n0       100010079393  01/2010  03/2010            32.0                  773.0   \n1       100013622306  12/2009  02/2010            24.0                  770.0   \n2       100019943199  11/2009  01/2010            21.0                  806.0   \n3       100022098429  01/2010  03/2010            50.0                  682.0   \n4       100023088745  11/2009  01/2010            39.0                  804.0   \n...              ...      ...      ...             ...                    ...   \n323169  999990451380  12/2009  02/2010            35.0                  731.0   \n323170  999993511488  12/2009  02/2010            16.0                  778.0   \n323171  999993982336  12/2009  02/2010            35.0                  743.0   \n323172  999998369629  02/2010  04/2010            33.0                  683.0   \n323173  999999167522  01/2010  03/2010            26.0                  797.0   \n\n       PURPOSE                                Seller_Name  ORIG_RT  ORIG_AMT  \\\n0            P                     WELLS FARGO BANK, N.A.    4.875    284000   \n1            C  JPMORGAN CHASE BANK, NATIONAL ASSOCIATION    4.750     87000   \n2            P                                      OTHER    5.000    417000   \n3            P                                      OTHER    5.250    461000   \n4            P                     WELLS FARGO BANK, N.A.    5.250    100000   \n...        ...                                        ...      ...       ...   \n323169       P                     WELLS FARGO BANK, N.A.    4.875    520000   \n323170       R                     WELLS FARGO BANK, N.A.    5.125    320000   \n323171       R                      BANK OF AMERICA, N.A.    4.500    182000   \n323172       C                                      OTHER    5.375     82000   \n323173       R                                      OTHER    5.250    417000   \n\n       Foreclosure_date  target  \n0                   NaN       0  \n1                   NaN       0  \n2                   NaN       0  \n3                   NaN       0  \n4                   NaN       0  \n...                 ...     ...  \n323169              NaN       0  \n323170              NaN       0  \n323171              NaN       0  \n323172              NaN       0  \n323173              NaN       0  \n\n[323174 rows x 11 columns]",
      "text/html": "<div>\n<style scoped>\n    .dataframe tbody tr th:only-of-type {\n        vertical-align: middle;\n    }\n\n    .dataframe tbody tr th {\n        vertical-align: top;\n    }\n\n    .dataframe thead th {\n        text-align: right;\n    }\n</style>\n<table border=\"1\" class=\"dataframe\">\n  <thead>\n    <tr style=\"text-align: right;\">\n      <th></th>\n      <th>LOAN_ID</th>\n      <th>ORIG_DTE</th>\n      <th>FRST_DTE</th>\n      <th>Debt_to_Income</th>\n      <th>Borrower_Credit_Score</th>\n      <th>PURPOSE</th>\n      <th>Seller_Name</th>\n      <th>ORIG_RT</th>\n      <th>ORIG_AMT</th>\n      <th>Foreclosure_date</th>\n      <th>target</th>\n    </tr>\n  </thead>\n  <tbody>\n    <tr>\n      <th>0</th>\n      <td>100010079393</td>\n      <td>01/2010</td>\n      <td>03/2010</td>\n      <td>32.0</td>\n      <td>773.0</td>\n      <td>P</td>\n      <td>WELLS FARGO BANK, N.A.</td>\n      <td>4.875</td>\n      <td>284000</td>\n      <td>NaN</td>\n      <td>0</td>\n    </tr>\n    <tr>\n      <th>1</th>\n      <td>100013622306</td>\n      <td>12/2009</td>\n      <td>02/2010</td>\n      <td>24.0</td>\n      <td>770.0</td>\n      <td>C</td>\n      <td>JPMORGAN CHASE BANK, NATIONAL ASSOCIATION</td>\n      <td>4.750</td>\n      <td>87000</td>\n      <td>NaN</td>\n      <td>0</td>\n    </tr>\n    <tr>\n      <th>2</th>\n      <td>100019943199</td>\n      <td>11/2009</td>\n      <td>01/2010</td>\n      <td>21.0</td>\n      <td>806.0</td>\n      <td>P</td>\n      <td>OTHER</td>\n      <td>5.000</td>\n      <td>417000</td>\n      <td>NaN</td>\n      <td>0</td>\n    </tr>\n    <tr>\n      <th>3</th>\n      <td>100022098429</td>\n      <td>01/2010</td>\n      <td>03/2010</td>\n      <td>50.0</td>\n      <td>682.0</td>\n      <td>P</td>\n      <td>OTHER</td>\n      <td>5.250</td>\n      <td>461000</td>\n      <td>NaN</td>\n      <td>0</td>\n    </tr>\n    <tr>\n      <th>4</th>\n      <td>100023088745</td>\n      <td>11/2009</td>\n      <td>01/2010</td>\n      <td>39.0</td>\n      <td>804.0</td>\n      <td>P</td>\n      <td>WELLS FARGO BANK, N.A.</td>\n      <td>5.250</td>\n      <td>100000</td>\n      <td>NaN</td>\n      <td>0</td>\n    </tr>\n    <tr>\n      <th>...</th>\n      <td>...</td>\n      <td>...</td>\n      <td>...</td>\n      <td>...</td>\n      <td>...</td>\n      <td>...</td>\n      <td>...</td>\n      <td>...</td>\n      <td>...</td>\n      <td>...</td>\n      <td>...</td>\n    </tr>\n    <tr>\n      <th>323169</th>\n      <td>999990451380</td>\n      <td>12/2009</td>\n      <td>02/2010</td>\n      <td>35.0</td>\n      <td>731.0</td>\n      <td>P</td>\n      <td>WELLS FARGO BANK, N.A.</td>\n      <td>4.875</td>\n      <td>520000</td>\n      <td>NaN</td>\n      <td>0</td>\n    </tr>\n    <tr>\n      <th>323170</th>\n      <td>999993511488</td>\n      <td>12/2009</td>\n      <td>02/2010</td>\n      <td>16.0</td>\n      <td>778.0</td>\n      <td>R</td>\n      <td>WELLS FARGO BANK, N.A.</td>\n      <td>5.125</td>\n      <td>320000</td>\n      <td>NaN</td>\n      <td>0</td>\n    </tr>\n    <tr>\n      <th>323171</th>\n      <td>999993982336</td>\n      <td>12/2009</td>\n      <td>02/2010</td>\n      <td>35.0</td>\n      <td>743.0</td>\n      <td>R</td>\n      <td>BANK OF AMERICA, N.A.</td>\n      <td>4.500</td>\n      <td>182000</td>\n      <td>NaN</td>\n      <td>0</td>\n    </tr>\n    <tr>\n      <th>323172</th>\n      <td>999998369629</td>\n      <td>02/2010</td>\n      <td>04/2010</td>\n      <td>33.0</td>\n      <td>683.0</td>\n      <td>C</td>\n      <td>OTHER</td>\n      <td>5.375</td>\n      <td>82000</td>\n      <td>NaN</td>\n      <td>0</td>\n    </tr>\n    <tr>\n      <th>323173</th>\n      <td>999999167522</td>\n      <td>01/2010</td>\n      <td>03/2010</td>\n      <td>26.0</td>\n      <td>797.0</td>\n      <td>R</td>\n      <td>OTHER</td>\n      <td>5.250</td>\n      <td>417000</td>\n      <td>NaN</td>\n      <td>0</td>\n    </tr>\n  </tbody>\n</table>\n<p>323174 rows × 11 columns</p>\n</div>"
     },
     "metadata": {},
     "execution_count": 8
    }
   ],
   "source": [
    "mortgages"
   ]
  },
  {
   "cell_type": "code",
   "execution_count": 9,
   "metadata": {},
   "outputs": [
    {
     "output_type": "execute_result",
     "data": {
      "text/plain": "count    323174.000000\nmean          0.005180\nstd           0.071785\nmin           0.000000\n25%           0.000000\n50%           0.000000\n75%           0.000000\nmax           1.000000\nName: target, dtype: float64"
     },
     "metadata": {},
     "execution_count": 9
    }
   ],
   "source": [
    "mortgages.target.describe()"
   ]
  },
  {
   "cell_type": "markdown",
   "metadata": {},
   "source": [
    "So we see a default rate ofaround 0.518%.\n",
    "\n",
    "We can also look at a different target. First time that a mortgage goes into 90 days or more past due. We can use the column `Delq_Status`, it is the Loan Delinquency status and has the following meaning:\n",
    "\n",
    "* 0 - \"Current or less than 30 days past due\"\n",
    "* 1 - \"30 - 59 days past due\"\n",
    "* 2 - \"60 - 89 days past due\"\n",
    "* 3 - \"90 - 119 days past due\"\n",
    "* 4 - \"120 - 149 days past due\"\n",
    "* 5 - \"150 - 179 days past due\"\n",
    "* 6 - \"180 Day Delinquency\"\n",
    "* 7 - \"210 Day Delinquency\"\n",
    "* 8 - \"240 Day Delinquency\"\n",
    "* 9 - \"270 Day Delinquency\" / \"270+ Day Delinquency\""
   ]
  },
  {
   "cell_type": "code",
   "execution_count": 16,
   "metadata": {},
   "outputs": [],
   "source": [
    "### select the status 3\n",
    "tmp = (\n",
    "    performance\n",
    "    .query(\"Delq_Status == '3'\")\n",
    "    .filter([\"LOAN_ID\", \"Monthly_Rpt_Prd\", \"Delq_Status\"])\n",
    ")\n",
    "\n",
    "### select the first time when status 3 happened\n",
    "tmp = (\n",
    "    tmp\n",
    "    .assign(date = pd.to_datetime(tmp.Monthly_Rpt_Prd))\n",
    "    .sort_values(by = [\"LOAN_ID\", \"Monthly_Rpt_Prd\"])  \n",
    ")\n",
    "\n",
    "perf_90 = tmp.drop_duplicates(subset=[\"LOAN_ID\"])"
   ]
  },
  {
   "cell_type": "code",
   "execution_count": 17,
   "metadata": {},
   "outputs": [
    {
     "output_type": "execute_result",
     "data": {
      "text/plain": "(6334, 4)"
     },
     "metadata": {},
     "execution_count": 17
    }
   ],
   "source": [
    "perf_90.shape"
   ]
  },
  {
   "cell_type": "code",
   "execution_count": 21,
   "metadata": {},
   "outputs": [],
   "source": [
    "mortgages2 = (\n",
    "    mortgages\n",
    "    .merge(\n",
    "        perf_90,\n",
    "        how=\"left\",\n",
    "        left_on=\"LOAN_ID\",\n",
    "        right_on=\"LOAN_ID\"\n",
    "    )\n",
    ")\n",
    "\n",
    "mortgages2 = (\n",
    "    mortgages2\n",
    "    .assign(target_90 = mortgages2.date.notna().astype(int))\n",
    ")"
   ]
  },
  {
   "cell_type": "code",
   "execution_count": 22,
   "metadata": {},
   "outputs": [
    {
     "output_type": "execute_result",
     "data": {
      "text/plain": "             LOAN_ID ORIG_DTE FRST_DTE  Debt_to_Income  Borrower_Credit_Score  \\\n0       100010079393  01/2010  03/2010            32.0                  773.0   \n1       100013622306  12/2009  02/2010            24.0                  770.0   \n2       100019943199  11/2009  01/2010            21.0                  806.0   \n3       100022098429  01/2010  03/2010            50.0                  682.0   \n4       100023088745  11/2009  01/2010            39.0                  804.0   \n...              ...      ...      ...             ...                    ...   \n323169  999990451380  12/2009  02/2010            35.0                  731.0   \n323170  999993511488  12/2009  02/2010            16.0                  778.0   \n323171  999993982336  12/2009  02/2010            35.0                  743.0   \n323172  999998369629  02/2010  04/2010            33.0                  683.0   \n323173  999999167522  01/2010  03/2010            26.0                  797.0   \n\n       PURPOSE                                Seller_Name  ORIG_RT  ORIG_AMT  \\\n0            P                     WELLS FARGO BANK, N.A.    4.875    284000   \n1            C  JPMORGAN CHASE BANK, NATIONAL ASSOCIATION    4.750     87000   \n2            P                                      OTHER    5.000    417000   \n3            P                                      OTHER    5.250    461000   \n4            P                     WELLS FARGO BANK, N.A.    5.250    100000   \n...        ...                                        ...      ...       ...   \n323169       P                     WELLS FARGO BANK, N.A.    4.875    520000   \n323170       R                     WELLS FARGO BANK, N.A.    5.125    320000   \n323171       R                      BANK OF AMERICA, N.A.    4.500    182000   \n323172       C                                      OTHER    5.375     82000   \n323173       R                                      OTHER    5.250    417000   \n\n       Foreclosure_date  target Monthly_Rpt_Prd Delq_Status date  target_90  \n0                   NaN       0             NaN         NaN  NaT          0  \n1                   NaN       0             NaN         NaN  NaT          0  \n2                   NaN       0             NaN         NaN  NaT          0  \n3                   NaN       0             NaN         NaN  NaT          0  \n4                   NaN       0             NaN         NaN  NaT          0  \n...                 ...     ...             ...         ...  ...        ...  \n323169              NaN       0             NaN         NaN  NaT          0  \n323170              NaN       0             NaN         NaN  NaT          0  \n323171              NaN       0             NaN         NaN  NaT          0  \n323172              NaN       0             NaN         NaN  NaT          0  \n323173              NaN       0             NaN         NaN  NaT          0  \n\n[323174 rows x 15 columns]",
      "text/html": "<div>\n<style scoped>\n    .dataframe tbody tr th:only-of-type {\n        vertical-align: middle;\n    }\n\n    .dataframe tbody tr th {\n        vertical-align: top;\n    }\n\n    .dataframe thead th {\n        text-align: right;\n    }\n</style>\n<table border=\"1\" class=\"dataframe\">\n  <thead>\n    <tr style=\"text-align: right;\">\n      <th></th>\n      <th>LOAN_ID</th>\n      <th>ORIG_DTE</th>\n      <th>FRST_DTE</th>\n      <th>Debt_to_Income</th>\n      <th>Borrower_Credit_Score</th>\n      <th>PURPOSE</th>\n      <th>Seller_Name</th>\n      <th>ORIG_RT</th>\n      <th>ORIG_AMT</th>\n      <th>Foreclosure_date</th>\n      <th>target</th>\n      <th>Monthly_Rpt_Prd</th>\n      <th>Delq_Status</th>\n      <th>date</th>\n      <th>target_90</th>\n    </tr>\n  </thead>\n  <tbody>\n    <tr>\n      <th>0</th>\n      <td>100010079393</td>\n      <td>01/2010</td>\n      <td>03/2010</td>\n      <td>32.0</td>\n      <td>773.0</td>\n      <td>P</td>\n      <td>WELLS FARGO BANK, N.A.</td>\n      <td>4.875</td>\n      <td>284000</td>\n      <td>NaN</td>\n      <td>0</td>\n      <td>NaN</td>\n      <td>NaN</td>\n      <td>NaT</td>\n      <td>0</td>\n    </tr>\n    <tr>\n      <th>1</th>\n      <td>100013622306</td>\n      <td>12/2009</td>\n      <td>02/2010</td>\n      <td>24.0</td>\n      <td>770.0</td>\n      <td>C</td>\n      <td>JPMORGAN CHASE BANK, NATIONAL ASSOCIATION</td>\n      <td>4.750</td>\n      <td>87000</td>\n      <td>NaN</td>\n      <td>0</td>\n      <td>NaN</td>\n      <td>NaN</td>\n      <td>NaT</td>\n      <td>0</td>\n    </tr>\n    <tr>\n      <th>2</th>\n      <td>100019943199</td>\n      <td>11/2009</td>\n      <td>01/2010</td>\n      <td>21.0</td>\n      <td>806.0</td>\n      <td>P</td>\n      <td>OTHER</td>\n      <td>5.000</td>\n      <td>417000</td>\n      <td>NaN</td>\n      <td>0</td>\n      <td>NaN</td>\n      <td>NaN</td>\n      <td>NaT</td>\n      <td>0</td>\n    </tr>\n    <tr>\n      <th>3</th>\n      <td>100022098429</td>\n      <td>01/2010</td>\n      <td>03/2010</td>\n      <td>50.0</td>\n      <td>682.0</td>\n      <td>P</td>\n      <td>OTHER</td>\n      <td>5.250</td>\n      <td>461000</td>\n      <td>NaN</td>\n      <td>0</td>\n      <td>NaN</td>\n      <td>NaN</td>\n      <td>NaT</td>\n      <td>0</td>\n    </tr>\n    <tr>\n      <th>4</th>\n      <td>100023088745</td>\n      <td>11/2009</td>\n      <td>01/2010</td>\n      <td>39.0</td>\n      <td>804.0</td>\n      <td>P</td>\n      <td>WELLS FARGO BANK, N.A.</td>\n      <td>5.250</td>\n      <td>100000</td>\n      <td>NaN</td>\n      <td>0</td>\n      <td>NaN</td>\n      <td>NaN</td>\n      <td>NaT</td>\n      <td>0</td>\n    </tr>\n    <tr>\n      <th>...</th>\n      <td>...</td>\n      <td>...</td>\n      <td>...</td>\n      <td>...</td>\n      <td>...</td>\n      <td>...</td>\n      <td>...</td>\n      <td>...</td>\n      <td>...</td>\n      <td>...</td>\n      <td>...</td>\n      <td>...</td>\n      <td>...</td>\n      <td>...</td>\n      <td>...</td>\n    </tr>\n    <tr>\n      <th>323169</th>\n      <td>999990451380</td>\n      <td>12/2009</td>\n      <td>02/2010</td>\n      <td>35.0</td>\n      <td>731.0</td>\n      <td>P</td>\n      <td>WELLS FARGO BANK, N.A.</td>\n      <td>4.875</td>\n      <td>520000</td>\n      <td>NaN</td>\n      <td>0</td>\n      <td>NaN</td>\n      <td>NaN</td>\n      <td>NaT</td>\n      <td>0</td>\n    </tr>\n    <tr>\n      <th>323170</th>\n      <td>999993511488</td>\n      <td>12/2009</td>\n      <td>02/2010</td>\n      <td>16.0</td>\n      <td>778.0</td>\n      <td>R</td>\n      <td>WELLS FARGO BANK, N.A.</td>\n      <td>5.125</td>\n      <td>320000</td>\n      <td>NaN</td>\n      <td>0</td>\n      <td>NaN</td>\n      <td>NaN</td>\n      <td>NaT</td>\n      <td>0</td>\n    </tr>\n    <tr>\n      <th>323171</th>\n      <td>999993982336</td>\n      <td>12/2009</td>\n      <td>02/2010</td>\n      <td>35.0</td>\n      <td>743.0</td>\n      <td>R</td>\n      <td>BANK OF AMERICA, N.A.</td>\n      <td>4.500</td>\n      <td>182000</td>\n      <td>NaN</td>\n      <td>0</td>\n      <td>NaN</td>\n      <td>NaN</td>\n      <td>NaT</td>\n      <td>0</td>\n    </tr>\n    <tr>\n      <th>323172</th>\n      <td>999998369629</td>\n      <td>02/2010</td>\n      <td>04/2010</td>\n      <td>33.0</td>\n      <td>683.0</td>\n      <td>C</td>\n      <td>OTHER</td>\n      <td>5.375</td>\n      <td>82000</td>\n      <td>NaN</td>\n      <td>0</td>\n      <td>NaN</td>\n      <td>NaN</td>\n      <td>NaT</td>\n      <td>0</td>\n    </tr>\n    <tr>\n      <th>323173</th>\n      <td>999999167522</td>\n      <td>01/2010</td>\n      <td>03/2010</td>\n      <td>26.0</td>\n      <td>797.0</td>\n      <td>R</td>\n      <td>OTHER</td>\n      <td>5.250</td>\n      <td>417000</td>\n      <td>NaN</td>\n      <td>0</td>\n      <td>NaN</td>\n      <td>NaN</td>\n      <td>NaT</td>\n      <td>0</td>\n    </tr>\n  </tbody>\n</table>\n<p>323174 rows × 15 columns</p>\n</div>"
     },
     "metadata": {},
     "execution_count": 22
    }
   ],
   "source": [
    "mortgages2"
   ]
  },
  {
   "cell_type": "code",
   "execution_count": 24,
   "metadata": {},
   "outputs": [
    {
     "output_type": "execute_result",
     "data": {
      "text/plain": "              target      target_90\ncount  323174.000000  323174.000000\nmean        0.005180       0.019599\nstd         0.071785       0.138619\nmin         0.000000       0.000000\n25%         0.000000       0.000000\n50%         0.000000       0.000000\n75%         0.000000       0.000000\nmax         1.000000       1.000000",
      "text/html": "<div>\n<style scoped>\n    .dataframe tbody tr th:only-of-type {\n        vertical-align: middle;\n    }\n\n    .dataframe tbody tr th {\n        vertical-align: top;\n    }\n\n    .dataframe thead th {\n        text-align: right;\n    }\n</style>\n<table border=\"1\" class=\"dataframe\">\n  <thead>\n    <tr style=\"text-align: right;\">\n      <th></th>\n      <th>target</th>\n      <th>target_90</th>\n    </tr>\n  </thead>\n  <tbody>\n    <tr>\n      <th>count</th>\n      <td>323174.000000</td>\n      <td>323174.000000</td>\n    </tr>\n    <tr>\n      <th>mean</th>\n      <td>0.005180</td>\n      <td>0.019599</td>\n    </tr>\n    <tr>\n      <th>std</th>\n      <td>0.071785</td>\n      <td>0.138619</td>\n    </tr>\n    <tr>\n      <th>min</th>\n      <td>0.000000</td>\n      <td>0.000000</td>\n    </tr>\n    <tr>\n      <th>25%</th>\n      <td>0.000000</td>\n      <td>0.000000</td>\n    </tr>\n    <tr>\n      <th>50%</th>\n      <td>0.000000</td>\n      <td>0.000000</td>\n    </tr>\n    <tr>\n      <th>75%</th>\n      <td>0.000000</td>\n      <td>0.000000</td>\n    </tr>\n    <tr>\n      <th>max</th>\n      <td>1.000000</td>\n      <td>1.000000</td>\n    </tr>\n  </tbody>\n</table>\n</div>"
     },
     "metadata": {},
     "execution_count": 24
    }
   ],
   "source": [
    "mortgages2.filter([\"target\", \"target_90\"]).describe()"
   ]
  },
  {
   "cell_type": "code",
   "execution_count": null,
   "metadata": {},
   "outputs": [],
   "source": []
  }
 ],
 "metadata": {
  "language_info": {
   "codemirror_mode": {
    "name": "ipython",
    "version": 3
   },
   "file_extension": ".py",
   "mimetype": "text/x-python",
   "name": "python",
   "nbconvert_exporter": "python",
   "pygments_lexer": "ipython3",
   "version": "3.7.3-final"
  },
  "orig_nbformat": 2,
  "kernelspec": {
   "name": "python37364bitbaseconda237d47ed00c34faa8bb5ab0c5c219e3a",
   "display_name": "Python 3.7.3 64-bit ('base': conda)"
  }
 },
 "nbformat": 4,
 "nbformat_minor": 2
}