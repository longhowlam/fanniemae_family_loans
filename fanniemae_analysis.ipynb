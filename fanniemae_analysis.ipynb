{
 "cells": [
  {
   "cell_type": "markdown",
   "metadata": {},
   "source": [
    "# Fannie Mae analysis\n",
    "\n",
    "(just started)\n",
    "\n",
    "This notebook contains some python code to analyse mortgage data\n",
    "See the following link how to download data and [more details](https://www.fanniemae.com/portal/funding-the-market/data/loan-performance-data.html).\n",
    "\n",
    "Per quarter there is a Acquisition data set and a Performance data set. See the [details here](https://www.fanniemae.com/resources/file/fundmarket/pdf/webinar-101.pdf)\n"
   ]
  },
  {
   "cell_type": "code",
   "execution_count": 1,
   "metadata": {},
   "outputs": [],
   "source": [
    "#### using the datatable package from h2o....  super package!\n",
    "import pandas as pd\n",
    "import numpy as np\n",
    "import datatable as dt"
   ]
  },
  {
   "cell_type": "markdown",
   "metadata": {},
   "source": [
    "## import acquisition and performance data\n",
    "\n",
    "The data on mortgages is per quarter of starting mortgages. For example the file 2010Q1.txt contains all mortgaes that started in Q1 2010, each row is one mortgage.\n",
    "\n",
    "The performance of the mortgage in the acquisition file are in the file Performance_2010Q1.txt. Multiple rows in this file correspond to one mortgage, For every mortgage we have the monthly performance of the mortgage, form its start until Dec of 2019.\n",
    "\n",
    "I am using the `fread` function from the datatable package to import CSV files, this is much faster than pandas."
   ]
  },
  {
   "cell_type": "code",
   "execution_count": 2,
   "metadata": {},
   "outputs": [
    {
     "output_type": "stream",
     "name": "stdout",
     "text": "CPU times: user 3.26 s, sys: 146 ms, total: 3.41 s\nWall time: 599 ms\n"
    },
    {
     "output_type": "execute_result",
     "data": {
      "text/plain": "(323174, 25)"
     },
     "metadata": {},
     "execution_count": 2
    }
   ],
   "source": [
    "%%time\n",
    "\n",
    "#### import Acquisition data\n",
    "acquisitions_Variables = [\n",
    "    \"LOAN_ID\", \"ORIG_CHN\", \"Seller_Name\", \"ORIG_RT\", \"ORIG_AMT\", \"ORIG_TRM\", \"ORIG_DTE\",\n",
    "    \"FRST_DTE\", \"OLTV\", \"OCLTV\", \"NUM_BO\", \"Debt_to_Income\", \"Borrower_Credit_Score\", \"FTHB_FLG\", \"PURPOSE\", \"PROPERTY_TYPE\",\n",
    "    \"NUM_UNIT\", \"OCC_STAT\", \"STATE\", \"ZIP_3\", \"MI_PCT\", \"Product_Type\", \"CSCORE_C\", \"MI_TYPE\", \"RELOCATION_FLG\"\n",
    "]\n",
    "\n",
    "acquisition = dt.fread(\n",
    "    \"data/Acquisition_2010Q1.txt\",\n",
    "    sep = \"|\",\n",
    "    header = None ,\n",
    "    columns = acquisitions_Variables,\\\n",
    ")\n",
    "\n",
    "acquisition = acquisition.to_pandas()\n",
    "acquisition.shape"
   ]
  },
  {
   "cell_type": "code",
   "execution_count": 3,
   "metadata": {},
   "outputs": [
    {
     "output_type": "execute_result",
     "data": {
      "text/plain": "             LOAN_ID ORIG_CHN                                Seller_Name  \\\n40568   212660481460        R  JPMORGAN CHASE BANK, NATIONAL ASSOCIATION   \n231962  746824458691        B                      BANK OF AMERICA, N.A.   \n105324  391947528693        C  JPMORGAN CHASE BANK, NATIONAL ASSOCIATION   \n241060  771597203482        C  JPMORGAN CHASE BANK, NATIONAL ASSOCIATION   \n68940   291196556229        R  JPMORGAN CHASE BANK, NATIONAL ASSOCIATION   \n\n        ORIG_RT  ORIG_AMT  ORIG_TRM ORIG_DTE FRST_DTE  OLTV  OCLTV  ...  \\\n40568     5.250     92000       360  01/2010  03/2010    80   80.0  ...   \n231962    4.750    146000       360  11/2009  01/2010    68   68.0  ...   \n105324    4.375    102000       120  12/2009  02/2010    48   49.0  ...   \n241060    4.375    232000       360  12/2009  02/2010    44   44.0  ...   \n68940     4.625    109000       180  12/2009  02/2010    78   78.0  ...   \n\n        PROPERTY_TYPE  NUM_UNIT  OCC_STAT STATE ZIP_3 MI_PCT  Product_Type  \\\n40568              SF         1         P    KS   674    NaN           FRM   \n231962             PU         1         P    GA   301    NaN           FRM   \n105324             SF         1         P    IN   471    NaN           FRM   \n241060             SF         1         P    SC   298    NaN           FRM   \n68940              PU         1         P    FL   334    NaN           FRM   \n\n       CSCORE_C MI_TYPE  RELOCATION_FLG  \n40568       NaN     NaN               N  \n231962    794.0     NaN               N  \n105324    653.0     NaN               N  \n241060      NaN     NaN               N  \n68940       NaN     NaN               N  \n\n[5 rows x 25 columns]",
      "text/html": "<div>\n<style scoped>\n    .dataframe tbody tr th:only-of-type {\n        vertical-align: middle;\n    }\n\n    .dataframe tbody tr th {\n        vertical-align: top;\n    }\n\n    .dataframe thead th {\n        text-align: right;\n    }\n</style>\n<table border=\"1\" class=\"dataframe\">\n  <thead>\n    <tr style=\"text-align: right;\">\n      <th></th>\n      <th>LOAN_ID</th>\n      <th>ORIG_CHN</th>\n      <th>Seller_Name</th>\n      <th>ORIG_RT</th>\n      <th>ORIG_AMT</th>\n      <th>ORIG_TRM</th>\n      <th>ORIG_DTE</th>\n      <th>FRST_DTE</th>\n      <th>OLTV</th>\n      <th>OCLTV</th>\n      <th>...</th>\n      <th>PROPERTY_TYPE</th>\n      <th>NUM_UNIT</th>\n      <th>OCC_STAT</th>\n      <th>STATE</th>\n      <th>ZIP_3</th>\n      <th>MI_PCT</th>\n      <th>Product_Type</th>\n      <th>CSCORE_C</th>\n      <th>MI_TYPE</th>\n      <th>RELOCATION_FLG</th>\n    </tr>\n  </thead>\n  <tbody>\n    <tr>\n      <th>40568</th>\n      <td>212660481460</td>\n      <td>R</td>\n      <td>JPMORGAN CHASE BANK, NATIONAL ASSOCIATION</td>\n      <td>5.250</td>\n      <td>92000</td>\n      <td>360</td>\n      <td>01/2010</td>\n      <td>03/2010</td>\n      <td>80</td>\n      <td>80.0</td>\n      <td>...</td>\n      <td>SF</td>\n      <td>1</td>\n      <td>P</td>\n      <td>KS</td>\n      <td>674</td>\n      <td>NaN</td>\n      <td>FRM</td>\n      <td>NaN</td>\n      <td>NaN</td>\n      <td>N</td>\n    </tr>\n    <tr>\n      <th>231962</th>\n      <td>746824458691</td>\n      <td>B</td>\n      <td>BANK OF AMERICA, N.A.</td>\n      <td>4.750</td>\n      <td>146000</td>\n      <td>360</td>\n      <td>11/2009</td>\n      <td>01/2010</td>\n      <td>68</td>\n      <td>68.0</td>\n      <td>...</td>\n      <td>PU</td>\n      <td>1</td>\n      <td>P</td>\n      <td>GA</td>\n      <td>301</td>\n      <td>NaN</td>\n      <td>FRM</td>\n      <td>794.0</td>\n      <td>NaN</td>\n      <td>N</td>\n    </tr>\n    <tr>\n      <th>105324</th>\n      <td>391947528693</td>\n      <td>C</td>\n      <td>JPMORGAN CHASE BANK, NATIONAL ASSOCIATION</td>\n      <td>4.375</td>\n      <td>102000</td>\n      <td>120</td>\n      <td>12/2009</td>\n      <td>02/2010</td>\n      <td>48</td>\n      <td>49.0</td>\n      <td>...</td>\n      <td>SF</td>\n      <td>1</td>\n      <td>P</td>\n      <td>IN</td>\n      <td>471</td>\n      <td>NaN</td>\n      <td>FRM</td>\n      <td>653.0</td>\n      <td>NaN</td>\n      <td>N</td>\n    </tr>\n    <tr>\n      <th>241060</th>\n      <td>771597203482</td>\n      <td>C</td>\n      <td>JPMORGAN CHASE BANK, NATIONAL ASSOCIATION</td>\n      <td>4.375</td>\n      <td>232000</td>\n      <td>360</td>\n      <td>12/2009</td>\n      <td>02/2010</td>\n      <td>44</td>\n      <td>44.0</td>\n      <td>...</td>\n      <td>SF</td>\n      <td>1</td>\n      <td>P</td>\n      <td>SC</td>\n      <td>298</td>\n      <td>NaN</td>\n      <td>FRM</td>\n      <td>NaN</td>\n      <td>NaN</td>\n      <td>N</td>\n    </tr>\n    <tr>\n      <th>68940</th>\n      <td>291196556229</td>\n      <td>R</td>\n      <td>JPMORGAN CHASE BANK, NATIONAL ASSOCIATION</td>\n      <td>4.625</td>\n      <td>109000</td>\n      <td>180</td>\n      <td>12/2009</td>\n      <td>02/2010</td>\n      <td>78</td>\n      <td>78.0</td>\n      <td>...</td>\n      <td>PU</td>\n      <td>1</td>\n      <td>P</td>\n      <td>FL</td>\n      <td>334</td>\n      <td>NaN</td>\n      <td>FRM</td>\n      <td>NaN</td>\n      <td>NaN</td>\n      <td>N</td>\n    </tr>\n  </tbody>\n</table>\n<p>5 rows × 25 columns</p>\n</div>"
     },
     "metadata": {},
     "execution_count": 3
    }
   ],
   "source": [
    "### five random five records\n",
    "acquisition.sample(5)"
   ]
  },
  {
   "cell_type": "code",
   "execution_count": 4,
   "metadata": {},
   "outputs": [
    {
     "output_type": "stream",
     "name": "stdout",
     "text": "CPU times: user 1min 2s, sys: 23.1 s, total: 1min 25s\nWall time: 48 s\n"
    },
    {
     "output_type": "execute_result",
     "data": {
      "text/plain": "(18634553, 31)"
     },
     "metadata": {},
     "execution_count": 4
    }
   ],
   "source": [
    "%%time\n",
    "\n",
    "#### Import performance data\n",
    "performance_Variables = [\n",
    "    \"LOAN_ID\", \"Monthly_Rpt_Prd\", \"Servicer_Name\", \"LAST_RT\", \"LAST_UPB\", \"Loan_Age\", \"Months_To_Legal_Mat\",\n",
    "    \"Adj_Month_To_Mat\", \"Maturity_Date\", \"MSA\", \"Delq_Status\", \"MOD_FLAG\", \"Zero_Bal_Code\", \"ZB_DTE\", \"LPI_DTE\",\n",
    "    \"Foreclosure_date\",\"DISP_DT\", \"FCC_COST\", \"PP_COST\", \"AR_COST\", \"IE_COST\", \"TAX_COST\", \"NS_PROCS\", \"CE_PROCS\", \"RMW_PROCS\",\n",
    "    \"O_PROCS\", \"NON_INT_UPB\", \"PRIN_FORG_UPB_FHFA\", \"REPCH_FLAG\", \"PRIN_FORG_UPB_OTH\", \"TRANSFER_FLG\"\n",
    "]\n",
    "\n",
    "performance = dt.fread(\n",
    "    \"data/Performance_2010Q1.txt\",\n",
    "    sep = \"|\",\n",
    "    header = None ,\n",
    "    columns = performance_Variables\n",
    ")\n",
    "\n",
    "performance = performance.to_pandas()\n",
    "performance.shape"
   ]
  },
  {
   "cell_type": "code",
   "execution_count": 5,
   "metadata": {},
   "outputs": [
    {
     "output_type": "execute_result",
     "data": {
      "text/plain": "        LOAN_ID Monthly_Rpt_Prd           Servicer_Name  LAST_RT  LAST_UPB  \\\n0  100010079393      02/01/2010  WELLS FARGO BANK, N.A.    4.875       NaN   \n1  100010079393      03/01/2010                            4.875       NaN   \n2  100010079393      04/01/2010                            4.875       NaN   \n3  100010079393      05/01/2010                            4.875       NaN   \n4  100010079393      06/01/2010                            4.875       NaN   \n\n   Loan_Age  Months_To_Legal_Mat  Adj_Month_To_Mat Maturity_Date    MSA  ...  \\\n0         0                  360             360.0       02/2040  12420  ...   \n1         1                  359             358.0       02/2040  12420  ...   \n2         2                  358             358.0       02/2040  12420  ...   \n3         3                  357             357.0       02/2040  12420  ...   \n4         4                  356             355.0       02/2040  12420  ...   \n\n  TAX_COST NS_PROCS  CE_PROCS RMW_PROCS O_PROCS NON_INT_UPB  \\\n0      NaN      NaN       NaN       NaN     NaN         NaN   \n1      NaN      NaN       NaN       NaN     NaN         NaN   \n2      NaN      NaN       NaN       NaN     NaN         NaN   \n3      NaN      NaN       NaN       NaN     NaN         NaN   \n4      NaN      NaN       NaN       NaN     NaN         NaN   \n\n  PRIN_FORG_UPB_FHFA  REPCH_FLAG  PRIN_FORG_UPB_OTH  TRANSFER_FLG  \n0                NaN                            NaN             N  \n1                NaN                            NaN             N  \n2                NaN                            NaN             N  \n3                NaN                            NaN             N  \n4                NaN                            NaN             N  \n\n[5 rows x 31 columns]",
      "text/html": "<div>\n<style scoped>\n    .dataframe tbody tr th:only-of-type {\n        vertical-align: middle;\n    }\n\n    .dataframe tbody tr th {\n        vertical-align: top;\n    }\n\n    .dataframe thead th {\n        text-align: right;\n    }\n</style>\n<table border=\"1\" class=\"dataframe\">\n  <thead>\n    <tr style=\"text-align: right;\">\n      <th></th>\n      <th>LOAN_ID</th>\n      <th>Monthly_Rpt_Prd</th>\n      <th>Servicer_Name</th>\n      <th>LAST_RT</th>\n      <th>LAST_UPB</th>\n      <th>Loan_Age</th>\n      <th>Months_To_Legal_Mat</th>\n      <th>Adj_Month_To_Mat</th>\n      <th>Maturity_Date</th>\n      <th>MSA</th>\n      <th>...</th>\n      <th>TAX_COST</th>\n      <th>NS_PROCS</th>\n      <th>CE_PROCS</th>\n      <th>RMW_PROCS</th>\n      <th>O_PROCS</th>\n      <th>NON_INT_UPB</th>\n      <th>PRIN_FORG_UPB_FHFA</th>\n      <th>REPCH_FLAG</th>\n      <th>PRIN_FORG_UPB_OTH</th>\n      <th>TRANSFER_FLG</th>\n    </tr>\n  </thead>\n  <tbody>\n    <tr>\n      <th>0</th>\n      <td>100010079393</td>\n      <td>02/01/2010</td>\n      <td>WELLS FARGO BANK, N.A.</td>\n      <td>4.875</td>\n      <td>NaN</td>\n      <td>0</td>\n      <td>360</td>\n      <td>360.0</td>\n      <td>02/2040</td>\n      <td>12420</td>\n      <td>...</td>\n      <td>NaN</td>\n      <td>NaN</td>\n      <td>NaN</td>\n      <td>NaN</td>\n      <td>NaN</td>\n      <td>NaN</td>\n      <td>NaN</td>\n      <td></td>\n      <td>NaN</td>\n      <td>N</td>\n    </tr>\n    <tr>\n      <th>1</th>\n      <td>100010079393</td>\n      <td>03/01/2010</td>\n      <td></td>\n      <td>4.875</td>\n      <td>NaN</td>\n      <td>1</td>\n      <td>359</td>\n      <td>358.0</td>\n      <td>02/2040</td>\n      <td>12420</td>\n      <td>...</td>\n      <td>NaN</td>\n      <td>NaN</td>\n      <td>NaN</td>\n      <td>NaN</td>\n      <td>NaN</td>\n      <td>NaN</td>\n      <td>NaN</td>\n      <td></td>\n      <td>NaN</td>\n      <td>N</td>\n    </tr>\n    <tr>\n      <th>2</th>\n      <td>100010079393</td>\n      <td>04/01/2010</td>\n      <td></td>\n      <td>4.875</td>\n      <td>NaN</td>\n      <td>2</td>\n      <td>358</td>\n      <td>358.0</td>\n      <td>02/2040</td>\n      <td>12420</td>\n      <td>...</td>\n      <td>NaN</td>\n      <td>NaN</td>\n      <td>NaN</td>\n      <td>NaN</td>\n      <td>NaN</td>\n      <td>NaN</td>\n      <td>NaN</td>\n      <td></td>\n      <td>NaN</td>\n      <td>N</td>\n    </tr>\n    <tr>\n      <th>3</th>\n      <td>100010079393</td>\n      <td>05/01/2010</td>\n      <td></td>\n      <td>4.875</td>\n      <td>NaN</td>\n      <td>3</td>\n      <td>357</td>\n      <td>357.0</td>\n      <td>02/2040</td>\n      <td>12420</td>\n      <td>...</td>\n      <td>NaN</td>\n      <td>NaN</td>\n      <td>NaN</td>\n      <td>NaN</td>\n      <td>NaN</td>\n      <td>NaN</td>\n      <td>NaN</td>\n      <td></td>\n      <td>NaN</td>\n      <td>N</td>\n    </tr>\n    <tr>\n      <th>4</th>\n      <td>100010079393</td>\n      <td>06/01/2010</td>\n      <td></td>\n      <td>4.875</td>\n      <td>NaN</td>\n      <td>4</td>\n      <td>356</td>\n      <td>355.0</td>\n      <td>02/2040</td>\n      <td>12420</td>\n      <td>...</td>\n      <td>NaN</td>\n      <td>NaN</td>\n      <td>NaN</td>\n      <td>NaN</td>\n      <td>NaN</td>\n      <td>NaN</td>\n      <td>NaN</td>\n      <td></td>\n      <td>NaN</td>\n      <td>N</td>\n    </tr>\n  </tbody>\n</table>\n<p>5 rows × 31 columns</p>\n</div>"
     },
     "metadata": {},
     "execution_count": 5
    }
   ],
   "source": [
    "#### first 5 records\n",
    "performance.head(5)"
   ]
  },
  {
   "cell_type": "markdown",
   "metadata": {},
   "source": [
    "## Start with a simple analysis\n",
    "\n",
    "This will be the easiest in terms of data prep. Look only at mortgages starting in one specific quarter. For the performance we look at foreclosure or not. So if there is a date in the Foreclosure_date column then the mortgage defaulted otherwise the mortgae did not defaulted. This is the worst that can happen to a mortgage. Latwer we will look at a different performance, days past due where the mortgage does not neccesarily goes default.\n"
   ]
  },
  {
   "cell_type": "code",
   "execution_count": 6,
   "metadata": {},
   "outputs": [
    {
     "output_type": "stream",
     "name": "stdout",
     "text": "CPU times: user 497 ms, sys: 323 ms, total: 820 ms\nWall time: 1.04 s\n"
    }
   ],
   "source": [
    "%%time\n",
    "foreclosures = (\n",
    "    performance\n",
    "    .query(\"Foreclosure_date != ''\")\n",
    "    .filter([\"LOAN_ID\", \"Foreclosure_date\"])\n",
    ")\n"
   ]
  },
  {
   "cell_type": "code",
   "execution_count": 7,
   "metadata": {},
   "outputs": [
    {
     "output_type": "stream",
     "name": "stdout",
     "text": "CPU times: user 574 ms, sys: 257 ms, total: 831 ms\nWall time: 914 ms\n"
    }
   ],
   "source": [
    "%%time\n",
    "mortgages = (\n",
    "    acquisition\n",
    "    .merge(\n",
    "        foreclosures,\n",
    "        how=\"left\",\n",
    "        left_on=\"LOAN_ID\",\n",
    "        right_on=\"LOAN_ID\"\n",
    "    )\n",
    "    .filter([ \n",
    "        \"LOAN_ID\",\"ORIG_DTE\",\"FRST_DTE\", \"Debt_to_Income\", \"Borrower_Credit_Score\", \"PURPOSE\",\n",
    "        \"Monthly_Rpt_Prd\", \"Loan_Age\", \"Seller_Name\", \"ORIG_RT\",\t\"ORIG_AMT\",\n",
    "        \"Zero_Bal_Code\", \"Delq_Status\", \"ZB_DTE\", \"LPI_DTE\", \"Foreclosure_date\"\n",
    "    ])\n",
    ")\n",
    "\n",
    "mortgages = (\n",
    "    mortgages\n",
    "    .assign(target = mortgages.Foreclosure_date.notna().astype(int))\n",
    ")"
   ]
  },
  {
   "cell_type": "code",
   "execution_count": 8,
   "metadata": {},
   "outputs": [
    {
     "output_type": "execute_result",
     "data": {
      "text/plain": "             LOAN_ID ORIG_DTE FRST_DTE  Debt_to_Income  Borrower_Credit_Score  \\\n0       100010079393  01/2010  03/2010            32.0                  773.0   \n1       100013622306  12/2009  02/2010            24.0                  770.0   \n2       100019943199  11/2009  01/2010            21.0                  806.0   \n3       100022098429  01/2010  03/2010            50.0                  682.0   \n4       100023088745  11/2009  01/2010            39.0                  804.0   \n...              ...      ...      ...             ...                    ...   \n323169  999990451380  12/2009  02/2010            35.0                  731.0   \n323170  999993511488  12/2009  02/2010            16.0                  778.0   \n323171  999993982336  12/2009  02/2010            35.0                  743.0   \n323172  999998369629  02/2010  04/2010            33.0                  683.0   \n323173  999999167522  01/2010  03/2010            26.0                  797.0   \n\n       PURPOSE                                Seller_Name  ORIG_RT  ORIG_AMT  \\\n0            P                     WELLS FARGO BANK, N.A.    4.875    284000   \n1            C  JPMORGAN CHASE BANK, NATIONAL ASSOCIATION    4.750     87000   \n2            P                                      OTHER    5.000    417000   \n3            P                                      OTHER    5.250    461000   \n4            P                     WELLS FARGO BANK, N.A.    5.250    100000   \n...        ...                                        ...      ...       ...   \n323169       P                     WELLS FARGO BANK, N.A.    4.875    520000   \n323170       R                     WELLS FARGO BANK, N.A.    5.125    320000   \n323171       R                      BANK OF AMERICA, N.A.    4.500    182000   \n323172       C                                      OTHER    5.375     82000   \n323173       R                                      OTHER    5.250    417000   \n\n       Foreclosure_date  target  \n0                   NaN       0  \n1                   NaN       0  \n2                   NaN       0  \n3                   NaN       0  \n4                   NaN       0  \n...                 ...     ...  \n323169              NaN       0  \n323170              NaN       0  \n323171              NaN       0  \n323172              NaN       0  \n323173              NaN       0  \n\n[323174 rows x 11 columns]",
      "text/html": "<div>\n<style scoped>\n    .dataframe tbody tr th:only-of-type {\n        vertical-align: middle;\n    }\n\n    .dataframe tbody tr th {\n        vertical-align: top;\n    }\n\n    .dataframe thead th {\n        text-align: right;\n    }\n</style>\n<table border=\"1\" class=\"dataframe\">\n  <thead>\n    <tr style=\"text-align: right;\">\n      <th></th>\n      <th>LOAN_ID</th>\n      <th>ORIG_DTE</th>\n      <th>FRST_DTE</th>\n      <th>Debt_to_Income</th>\n      <th>Borrower_Credit_Score</th>\n      <th>PURPOSE</th>\n      <th>Seller_Name</th>\n      <th>ORIG_RT</th>\n      <th>ORIG_AMT</th>\n      <th>Foreclosure_date</th>\n      <th>target</th>\n    </tr>\n  </thead>\n  <tbody>\n    <tr>\n      <th>0</th>\n      <td>100010079393</td>\n      <td>01/2010</td>\n      <td>03/2010</td>\n      <td>32.0</td>\n      <td>773.0</td>\n      <td>P</td>\n      <td>WELLS FARGO BANK, N.A.</td>\n      <td>4.875</td>\n      <td>284000</td>\n      <td>NaN</td>\n      <td>0</td>\n    </tr>\n    <tr>\n      <th>1</th>\n      <td>100013622306</td>\n      <td>12/2009</td>\n      <td>02/2010</td>\n      <td>24.0</td>\n      <td>770.0</td>\n      <td>C</td>\n      <td>JPMORGAN CHASE BANK, NATIONAL ASSOCIATION</td>\n      <td>4.750</td>\n      <td>87000</td>\n      <td>NaN</td>\n      <td>0</td>\n    </tr>\n    <tr>\n      <th>2</th>\n      <td>100019943199</td>\n      <td>11/2009</td>\n      <td>01/2010</td>\n      <td>21.0</td>\n      <td>806.0</td>\n      <td>P</td>\n      <td>OTHER</td>\n      <td>5.000</td>\n      <td>417000</td>\n      <td>NaN</td>\n      <td>0</td>\n    </tr>\n    <tr>\n      <th>3</th>\n      <td>100022098429</td>\n      <td>01/2010</td>\n      <td>03/2010</td>\n      <td>50.0</td>\n      <td>682.0</td>\n      <td>P</td>\n      <td>OTHER</td>\n      <td>5.250</td>\n      <td>461000</td>\n      <td>NaN</td>\n      <td>0</td>\n    </tr>\n    <tr>\n      <th>4</th>\n      <td>100023088745</td>\n      <td>11/2009</td>\n      <td>01/2010</td>\n      <td>39.0</td>\n      <td>804.0</td>\n      <td>P</td>\n      <td>WELLS FARGO BANK, N.A.</td>\n      <td>5.250</td>\n      <td>100000</td>\n      <td>NaN</td>\n      <td>0</td>\n    </tr>\n    <tr>\n      <th>...</th>\n      <td>...</td>\n      <td>...</td>\n      <td>...</td>\n      <td>...</td>\n      <td>...</td>\n      <td>...</td>\n      <td>...</td>\n      <td>...</td>\n      <td>...</td>\n      <td>...</td>\n      <td>...</td>\n    </tr>\n    <tr>\n      <th>323169</th>\n      <td>999990451380</td>\n      <td>12/2009</td>\n      <td>02/2010</td>\n      <td>35.0</td>\n      <td>731.0</td>\n      <td>P</td>\n      <td>WELLS FARGO BANK, N.A.</td>\n      <td>4.875</td>\n      <td>520000</td>\n      <td>NaN</td>\n      <td>0</td>\n    </tr>\n    <tr>\n      <th>323170</th>\n      <td>999993511488</td>\n      <td>12/2009</td>\n      <td>02/2010</td>\n      <td>16.0</td>\n      <td>778.0</td>\n      <td>R</td>\n      <td>WELLS FARGO BANK, N.A.</td>\n      <td>5.125</td>\n      <td>320000</td>\n      <td>NaN</td>\n      <td>0</td>\n    </tr>\n    <tr>\n      <th>323171</th>\n      <td>999993982336</td>\n      <td>12/2009</td>\n      <td>02/2010</td>\n      <td>35.0</td>\n      <td>743.0</td>\n      <td>R</td>\n      <td>BANK OF AMERICA, N.A.</td>\n      <td>4.500</td>\n      <td>182000</td>\n      <td>NaN</td>\n      <td>0</td>\n    </tr>\n    <tr>\n      <th>323172</th>\n      <td>999998369629</td>\n      <td>02/2010</td>\n      <td>04/2010</td>\n      <td>33.0</td>\n      <td>683.0</td>\n      <td>C</td>\n      <td>OTHER</td>\n      <td>5.375</td>\n      <td>82000</td>\n      <td>NaN</td>\n      <td>0</td>\n    </tr>\n    <tr>\n      <th>323173</th>\n      <td>999999167522</td>\n      <td>01/2010</td>\n      <td>03/2010</td>\n      <td>26.0</td>\n      <td>797.0</td>\n      <td>R</td>\n      <td>OTHER</td>\n      <td>5.250</td>\n      <td>417000</td>\n      <td>NaN</td>\n      <td>0</td>\n    </tr>\n  </tbody>\n</table>\n<p>323174 rows × 11 columns</p>\n</div>"
     },
     "metadata": {},
     "execution_count": 8
    }
   ],
   "source": [
    "mortgages"
   ]
  },
  {
   "cell_type": "code",
   "execution_count": 9,
   "metadata": {},
   "outputs": [
    {
     "output_type": "execute_result",
     "data": {
      "text/plain": "count    323174.000000\nmean          0.005180\nstd           0.071785\nmin           0.000000\n25%           0.000000\n50%           0.000000\n75%           0.000000\nmax           1.000000\nName: target, dtype: float64"
     },
     "metadata": {},
     "execution_count": 9
    }
   ],
   "source": [
    "mortgages.target.describe()"
   ]
  },
  {
   "cell_type": "markdown",
   "metadata": {},
   "source": [
    "So we see a default rate ofaround 0.518%.\n",
    "\n",
    "We can also look at a different target. First time that a mortgage goes into 90 days or more past due. We can use the column `Delq_Status`, it is the Loan Delinquency status and has the following meaning:\n",
    "\n",
    "* 0 - \"Current or less than 30 days past due\"\n",
    "* 1 - \"30 - 59 days past due\"\n",
    "* 2 - \"60 - 89 days past due\"\n",
    "* 3 - \"90 - 119 days past due\"\n",
    "* 4 - \"120 - 149 days past due\"\n",
    "* 5 - \"150 - 179 days past due\"\n",
    "* 6 - \"180 Day Delinquency\"\n",
    "* 7 - \"210 Day Delinquency\"\n",
    "* 8 - \"240 Day Delinquency\"\n",
    "* 9 - \"270 Day Delinquency\" / \"270+ Day Delinquency\""
   ]
  },
  {
   "cell_type": "code",
   "execution_count": 16,
   "metadata": {},
   "outputs": [],
   "source": [
    "### select the status 3\n",
    "tmp = (\n",
    "    performance\n",
    "    .query(\"Delq_Status == '3'\")\n",
    "    .filter([\"LOAN_ID\", \"Monthly_Rpt_Prd\", \"Delq_Status\"])\n",
    ")\n",
    "\n",
    "### select the first time when status 3 happened\n",
    "tmp = (\n",
    "    tmp\n",
    "    .assign(date = pd.to_datetime(tmp.Monthly_Rpt_Prd))\n",
    "    .sort_values(by = [\"LOAN_ID\", \"Monthly_Rpt_Prd\"])  \n",
    ")\n",
    "\n",
    "perf_90 = tmp.drop_duplicates(subset=[\"LOAN_ID\"])"
   ]
  },
  {
   "cell_type": "code",
   "execution_count": 17,
   "metadata": {},
   "outputs": [
    {
     "output_type": "execute_result",
     "data": {
      "text/plain": "(6334, 4)"
     },
     "metadata": {},
     "execution_count": 17
    }
   ],
   "source": [
    "perf_90.shape"
   ]
  },
  {
   "cell_type": "code",
   "execution_count": 21,
   "metadata": {},
   "outputs": [],
   "source": [
    "mortgages2 = (\n",
    "    mortgages\n",
    "    .merge(\n",
    "        perf_90,\n",
    "        how=\"left\",\n",
    "        left_on=\"LOAN_ID\",\n",
    "        right_on=\"LOAN_ID\"\n",
    "    )\n",
    ")\n",
    "\n",
    "mortgages2 = (\n",
    "    mortgages2\n",
    "    .assign(target_90 = mortgages2.date.notna().astype(int))\n",
    ")"
   ]
  },
  {
   "cell_type": "code",
   "execution_count": 22,
   "metadata": {},
   "outputs": [
    {
     "output_type": "execute_result",
     "data": {
      "text/plain": "             LOAN_ID ORIG_DTE FRST_DTE  Debt_to_Income  Borrower_Credit_Score  \\\n0       100010079393  01/2010  03/2010            32.0                  773.0   \n1       100013622306  12/2009  02/2010            24.0                  770.0   \n2       100019943199  11/2009  01/2010            21.0                  806.0   \n3       100022098429  01/2010  03/2010            50.0                  682.0   \n4       100023088745  11/2009  01/2010            39.0                  804.0   \n...              ...      ...      ...             ...                    ...   \n323169  999990451380  12/2009  02/2010            35.0                  731.0   \n323170  999993511488  12/2009  02/2010            16.0                  778.0   \n323171  999993982336  12/2009  02/2010            35.0                  743.0   \n323172  999998369629  02/2010  04/2010            33.0                  683.0   \n323173  999999167522  01/2010  03/2010            26.0                  797.0   \n\n       PURPOSE                                Seller_Name  ORIG_RT  ORIG_AMT  \\\n0            P                     WELLS FARGO BANK, N.A.    4.875    284000   \n1            C  JPMORGAN CHASE BANK, NATIONAL ASSOCIATION    4.750     87000   \n2            P                                      OTHER    5.000    417000   \n3            P                                      OTHER    5.250    461000   \n4            P                     WELLS FARGO BANK, N.A.    5.250    100000   \n...        ...                                        ...      ...       ...   \n323169       P                     WELLS FARGO BANK, N.A.    4.875    520000   \n323170       R                     WELLS FARGO BANK, N.A.    5.125    320000   \n323171       R                      BANK OF AMERICA, N.A.    4.500    182000   \n323172       C                                      OTHER    5.375     82000   \n323173       R                                      OTHER    5.250    417000   \n\n       Foreclosure_date  target Monthly_Rpt_Prd Delq_Status date  target_90  \n0                   NaN       0             NaN         NaN  NaT          0  \n1                   NaN       0             NaN         NaN  NaT          0  \n2                   NaN       0             NaN         NaN  NaT          0  \n3                   NaN       0             NaN         NaN  NaT          0  \n4                   NaN       0             NaN         NaN  NaT          0  \n...                 ...     ...             ...         ...  ...        ...  \n323169              NaN       0             NaN         NaN  NaT          0  \n323170              NaN       0             NaN         NaN  NaT          0  \n323171              NaN       0             NaN         NaN  NaT          0  \n323172              NaN       0             NaN         NaN  NaT          0  \n323173              NaN       0             NaN         NaN  NaT          0  \n\n[323174 rows x 15 columns]",
      "text/html": "<div>\n<style scoped>\n    .dataframe tbody tr th:only-of-type {\n        vertical-align: middle;\n    }\n\n    .dataframe tbody tr th {\n        vertical-align: top;\n    }\n\n    .dataframe thead th {\n        text-align: right;\n    }\n</style>\n<table border=\"1\" class=\"dataframe\">\n  <thead>\n    <tr style=\"text-align: right;\">\n      <th></th>\n      <th>LOAN_ID</th>\n      <th>ORIG_DTE</th>\n      <th>FRST_DTE</th>\n      <th>Debt_to_Income</th>\n      <th>Borrower_Credit_Score</th>\n      <th>PURPOSE</th>\n      <th>Seller_Name</th>\n      <th>ORIG_RT</th>\n      <th>ORIG_AMT</th>\n      <th>Foreclosure_date</th>\n      <th>target</th>\n      <th>Monthly_Rpt_Prd</th>\n      <th>Delq_Status</th>\n      <th>date</th>\n      <th>target_90</th>\n    </tr>\n  </thead>\n  <tbody>\n    <tr>\n      <th>0</th>\n      <td>100010079393</td>\n      <td>01/2010</td>\n      <td>03/2010</td>\n      <td>32.0</td>\n      <td>773.0</td>\n      <td>P</td>\n      <td>WELLS FARGO BANK, N.A.</td>\n      <td>4.875</td>\n      <td>284000</td>\n      <td>NaN</td>\n      <td>0</td>\n      <td>NaN</td>\n      <td>NaN</td>\n      <td>NaT</td>\n      <td>0</td>\n    </tr>\n    <tr>\n      <th>1</th>\n      <td>100013622306</td>\n      <td>12/2009</td>\n      <td>02/2010</td>\n      <td>24.0</td>\n      <td>770.0</td>\n      <td>C</td>\n      <td>JPMORGAN CHASE BANK, NATIONAL ASSOCIATION</td>\n      <td>4.750</td>\n      <td>87000</td>\n      <td>NaN</td>\n      <td>0</td>\n      <td>NaN</td>\n      <td>NaN</td>\n      <td>NaT</td>\n      <td>0</td>\n    </tr>\n    <tr>\n      <th>2</th>\n      <td>100019943199</td>\n      <td>11/2009</td>\n      <td>01/2010</td>\n      <td>21.0</td>\n      <td>806.0</td>\n      <td>P</td>\n      <td>OTHER</td>\n      <td>5.000</td>\n      <td>417000</td>\n      <td>NaN</td>\n      <td>0</td>\n      <td>NaN</td>\n      <td>NaN</td>\n      <td>NaT</td>\n      <td>0</td>\n    </tr>\n    <tr>\n      <th>3</th>\n      <td>100022098429</td>\n      <td>01/2010</td>\n      <td>03/2010</td>\n      <td>50.0</td>\n      <td>682.0</td>\n      <td>P</td>\n      <td>OTHER</td>\n      <td>5.250</td>\n      <td>461000</td>\n      <td>NaN</td>\n      <td>0</td>\n      <td>NaN</td>\n      <td>NaN</td>\n      <td>NaT</td>\n      <td>0</td>\n    </tr>\n    <tr>\n      <th>4</th>\n      <td>100023088745</td>\n      <td>11/2009</td>\n      <td>01/2010</td>\n      <td>39.0</td>\n      <td>804.0</td>\n      <td>P</td>\n      <td>WELLS FARGO BANK, N.A.</td>\n      <td>5.250</td>\n      <td>100000</td>\n      <td>NaN</td>\n      <td>0</td>\n      <td>NaN</td>\n      <td>NaN</td>\n      <td>NaT</td>\n      <td>0</td>\n    </tr>\n    <tr>\n      <th>...</th>\n      <td>...</td>\n      <td>...</td>\n      <td>...</td>\n      <td>...</td>\n      <td>...</td>\n      <td>...</td>\n      <td>...</td>\n      <td>...</td>\n      <td>...</td>\n      <td>...</td>\n      <td>...</td>\n      <td>...</td>\n      <td>...</td>\n      <td>...</td>\n      <td>...</td>\n    </tr>\n    <tr>\n      <th>323169</th>\n      <td>999990451380</td>\n      <td>12/2009</td>\n      <td>02/2010</td>\n      <td>35.0</td>\n      <td>731.0</td>\n      <td>P</td>\n      <td>WELLS FARGO BANK, N.A.</td>\n      <td>4.875</td>\n      <td>520000</td>\n      <td>NaN</td>\n      <td>0</td>\n      <td>NaN</td>\n      <td>NaN</td>\n      <td>NaT</td>\n      <td>0</td>\n    </tr>\n    <tr>\n      <th>323170</th>\n      <td>999993511488</td>\n      <td>12/2009</td>\n      <td>02/2010</td>\n      <td>16.0</td>\n      <td>778.0</td>\n      <td>R</td>\n      <td>WELLS FARGO BANK, N.A.</td>\n      <td>5.125</td>\n      <td>320000</td>\n      <td>NaN</td>\n      <td>0</td>\n      <td>NaN</td>\n      <td>NaN</td>\n      <td>NaT</td>\n      <td>0</td>\n    </tr>\n    <tr>\n      <th>323171</th>\n      <td>999993982336</td>\n      <td>12/2009</td>\n      <td>02/2010</td>\n      <td>35.0</td>\n      <td>743.0</td>\n      <td>R</td>\n      <td>BANK OF AMERICA, N.A.</td>\n      <td>4.500</td>\n      <td>182000</td>\n      <td>NaN</td>\n      <td>0</td>\n      <td>NaN</td>\n      <td>NaN</td>\n      <td>NaT</td>\n      <td>0</td>\n    </tr>\n    <tr>\n      <th>323172</th>\n      <td>999998369629</td>\n      <td>02/2010</td>\n      <td>04/2010</td>\n      <td>33.0</td>\n      <td>683.0</td>\n      <td>C</td>\n      <td>OTHER</td>\n      <td>5.375</td>\n      <td>82000</td>\n      <td>NaN</td>\n      <td>0</td>\n      <td>NaN</td>\n      <td>NaN</td>\n      <td>NaT</td>\n      <td>0</td>\n    </tr>\n    <tr>\n      <th>323173</th>\n      <td>999999167522</td>\n      <td>01/2010</td>\n      <td>03/2010</td>\n      <td>26.0</td>\n      <td>797.0</td>\n      <td>R</td>\n      <td>OTHER</td>\n      <td>5.250</td>\n      <td>417000</td>\n      <td>NaN</td>\n      <td>0</td>\n      <td>NaN</td>\n      <td>NaN</td>\n      <td>NaT</td>\n      <td>0</td>\n    </tr>\n  </tbody>\n</table>\n<p>323174 rows × 15 columns</p>\n</div>"
     },
     "metadata": {},
     "execution_count": 22
    }
   ],
   "source": [
    "mortgages2"
   ]
  },
  {
   "cell_type": "code",
   "execution_count": 24,
   "metadata": {},
   "outputs": [
    {
     "output_type": "execute_result",
     "data": {
      "text/plain": "              target      target_90\ncount  323174.000000  323174.000000\nmean        0.005180       0.019599\nstd         0.071785       0.138619\nmin         0.000000       0.000000\n25%         0.000000       0.000000\n50%         0.000000       0.000000\n75%         0.000000       0.000000\nmax         1.000000       1.000000",
      "text/html": "<div>\n<style scoped>\n    .dataframe tbody tr th:only-of-type {\n        vertical-align: middle;\n    }\n\n    .dataframe tbody tr th {\n        vertical-align: top;\n    }\n\n    .dataframe thead th {\n        text-align: right;\n    }\n</style>\n<table border=\"1\" class=\"dataframe\">\n  <thead>\n    <tr style=\"text-align: right;\">\n      <th></th>\n      <th>target</th>\n      <th>target_90</th>\n    </tr>\n  </thead>\n  <tbody>\n    <tr>\n      <th>count</th>\n      <td>323174.000000</td>\n      <td>323174.000000</td>\n    </tr>\n    <tr>\n      <th>mean</th>\n      <td>0.005180</td>\n      <td>0.019599</td>\n    </tr>\n    <tr>\n      <th>std</th>\n      <td>0.071785</td>\n      <td>0.138619</td>\n    </tr>\n    <tr>\n      <th>min</th>\n      <td>0.000000</td>\n      <td>0.000000</td>\n    </tr>\n    <tr>\n      <th>25%</th>\n      <td>0.000000</td>\n      <td>0.000000</td>\n    </tr>\n    <tr>\n      <th>50%</th>\n      <td>0.000000</td>\n      <td>0.000000</td>\n    </tr>\n    <tr>\n      <th>75%</th>\n      <td>0.000000</td>\n      <td>0.000000</td>\n    </tr>\n    <tr>\n      <th>max</th>\n      <td>1.000000</td>\n      <td>1.000000</td>\n    </tr>\n  </tbody>\n</table>\n</div>"
     },
     "metadata": {},
     "execution_count": 24
    }
   ],
   "source": [
    "mortgages2.filter([\"target\", \"target_90\"]).describe()"
   ]
  },
  {
   "cell_type": "code",
   "execution_count": null,
   "metadata": {},
   "outputs": [],
   "source": []
  }
 ],
 "metadata": {
  "language_info": {
   "codemirror_mode": {
    "name": "ipython",
    "version": 3
   },
   "file_extension": ".py",
   "mimetype": "text/x-python",
   "name": "python",
   "nbconvert_exporter": "python",
   "pygments_lexer": "ipython3",
   "version": "3.7.3-final"
  },
  "orig_nbformat": 2,
  "kernelspec": {
   "name": "python37364bitbaseconda237d47ed00c34faa8bb5ab0c5c219e3a",
   "display_name": "Python 3.7.3 64-bit ('base': conda)"
  }
 },
 "nbformat": 4,
 "nbformat_minor": 2
}