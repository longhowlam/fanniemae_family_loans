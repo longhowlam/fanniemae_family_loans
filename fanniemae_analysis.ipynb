{
 "cells": [
  {
   "cell_type": "markdown",
   "metadata": {},
   "source": [
    "# Fannie Mae analysis\n",
    "\n",
    "See for futher details: \n",
    "https://www.fanniemae.com/portal/funding-the-market/data/loan-performance-data.html\n",
    "\n",
    "Per quarter there is a Acquisition data set and a Performance data set. See for details\n",
    "https://www.fanniemae.com/resources/file/fundmarket/pdf/webinar-101.pdf"
   ]
  },
  {
   "cell_type": "code",
   "execution_count": 1,
   "metadata": {},
   "outputs": [],
   "source": [
    "import pandas as pd\n",
    "import datatable as dt"
   ]
  },
  {
   "cell_type": "markdown",
   "metadata": {},
   "source": [
    "## import acquisition and performance data"
   ]
  },
  {
   "cell_type": "code",
   "execution_count": 7,
   "metadata": {},
   "outputs": [
    {
     "output_type": "stream",
     "name": "stdout",
     "text": "CPU times: user 3.94 s, sys: 224 ms, total: 4.17 s\nWall time: 815 ms\n"
    },
    {
     "output_type": "execute_result",
     "data": {
      "text/plain": "(426207, 25)"
     },
     "metadata": {},
     "execution_count": 7
    }
   ],
   "source": [
    "%%time\n",
    "Acquisitions_Variables = [\n",
    "    \"LOAN_ID\", \"ORIG_CHN\", \"Seller_Name\", \"ORIG_RT\", \"ORIG_AMT\", \"ORIG_TRM\", \"ORIG_DTE\"\n",
    "    ,\"FRST_DTE\", \"OLTV\", \"OCLTV\", \"NUM_BO\", \"DTI\", \"CSCORE_B\", \"FTHB_FLG\", \"PURPOSE\", \"PROP_TYP\"\n",
    "    ,\"NUM_UNIT\", \"OCC_STAT\", \"STATE\", \"ZIP_3\", \"MI_PCT\", \"Product_Type\", \"CSCORE_C\", \"MI_TYPE\", \"RELOCATION_FLG\"\n",
    "]\n",
    "\n",
    "\n",
    "AQ2018Q1 = dt.fread(\n",
    "    \"data/Acquisition_2018Q1.txt\",\n",
    "    sep = \"|\",\n",
    "    header = None \n",
    ")\n",
    "\n",
    "AQ2018Q1.names = Acquisitions_Variables\n",
    "AQ2018Q1 = AQ2018Q1.to_pandas()\n",
    "AQ2018Q1.shape"
   ]
  },
  {
   "cell_type": "code",
   "execution_count": 3,
   "metadata": {},
   "outputs": [
    {
     "output_type": "execute_result",
     "data": {
      "text/plain": "        LOAN_ID ORIG_CHN             Seller_Name  ORIG_RT  ORIG_AMT  ORIG_TRM  \\\n0  100001040173        R      QUICKEN LOANS INC.     4.25    453000       360   \n1  100002370993        C  WELLS FARGO BANK, N.A.     4.25    266000       360   \n2  100005405807        R                   PMTT4     3.99    233000       360   \n3  100008071646        R                   OTHER     4.25    184000       360   \n4  100010739040        R                   OTHER     4.25    242000       360   \n\n  ORIG_DTE FRST_DTE  OLTV  OCLTV  ...  PROP_TYP  NUM_UNIT  OCC_STAT STATE  \\\n0  01/2018  03/2018    65   65.0  ...        PU         1         P    OH   \n1  01/2018  03/2018    80   80.0  ...        PU         1         P    IN   \n2  12/2017  01/2018    79   79.0  ...        SF         1         P    CA   \n3  01/2018  03/2018    80   80.0  ...        PU         1         P    FL   \n4  02/2018  04/2018    49   49.0  ...        SF         1         P    CA   \n\n  ZIP_3 MI_PCT  Product_Type CSCORE_C MI_TYPE  RELOCATION_FLG  \n0   430    NaN           FRM      NaN     NaN               N  \n1   467    NaN           FRM    793.0     NaN               N  \n2   936    NaN           FRM    665.0     NaN               N  \n3   336    NaN           FRM      NaN     NaN               N  \n4   906    NaN           FRM      NaN     NaN               N  \n\n[5 rows x 25 columns]",
      "text/html": "<div>\n<style scoped>\n    .dataframe tbody tr th:only-of-type {\n        vertical-align: middle;\n    }\n\n    .dataframe tbody tr th {\n        vertical-align: top;\n    }\n\n    .dataframe thead th {\n        text-align: right;\n    }\n</style>\n<table border=\"1\" class=\"dataframe\">\n  <thead>\n    <tr style=\"text-align: right;\">\n      <th></th>\n      <th>LOAN_ID</th>\n      <th>ORIG_CHN</th>\n      <th>Seller_Name</th>\n      <th>ORIG_RT</th>\n      <th>ORIG_AMT</th>\n      <th>ORIG_TRM</th>\n      <th>ORIG_DTE</th>\n      <th>FRST_DTE</th>\n      <th>OLTV</th>\n      <th>OCLTV</th>\n      <th>...</th>\n      <th>PROP_TYP</th>\n      <th>NUM_UNIT</th>\n      <th>OCC_STAT</th>\n      <th>STATE</th>\n      <th>ZIP_3</th>\n      <th>MI_PCT</th>\n      <th>Product_Type</th>\n      <th>CSCORE_C</th>\n      <th>MI_TYPE</th>\n      <th>RELOCATION_FLG</th>\n    </tr>\n  </thead>\n  <tbody>\n    <tr>\n      <th>0</th>\n      <td>100001040173</td>\n      <td>R</td>\n      <td>QUICKEN LOANS INC.</td>\n      <td>4.25</td>\n      <td>453000</td>\n      <td>360</td>\n      <td>01/2018</td>\n      <td>03/2018</td>\n      <td>65</td>\n      <td>65.0</td>\n      <td>...</td>\n      <td>PU</td>\n      <td>1</td>\n      <td>P</td>\n      <td>OH</td>\n      <td>430</td>\n      <td>NaN</td>\n      <td>FRM</td>\n      <td>NaN</td>\n      <td>NaN</td>\n      <td>N</td>\n    </tr>\n    <tr>\n      <th>1</th>\n      <td>100002370993</td>\n      <td>C</td>\n      <td>WELLS FARGO BANK, N.A.</td>\n      <td>4.25</td>\n      <td>266000</td>\n      <td>360</td>\n      <td>01/2018</td>\n      <td>03/2018</td>\n      <td>80</td>\n      <td>80.0</td>\n      <td>...</td>\n      <td>PU</td>\n      <td>1</td>\n      <td>P</td>\n      <td>IN</td>\n      <td>467</td>\n      <td>NaN</td>\n      <td>FRM</td>\n      <td>793.0</td>\n      <td>NaN</td>\n      <td>N</td>\n    </tr>\n    <tr>\n      <th>2</th>\n      <td>100005405807</td>\n      <td>R</td>\n      <td>PMTT4</td>\n      <td>3.99</td>\n      <td>233000</td>\n      <td>360</td>\n      <td>12/2017</td>\n      <td>01/2018</td>\n      <td>79</td>\n      <td>79.0</td>\n      <td>...</td>\n      <td>SF</td>\n      <td>1</td>\n      <td>P</td>\n      <td>CA</td>\n      <td>936</td>\n      <td>NaN</td>\n      <td>FRM</td>\n      <td>665.0</td>\n      <td>NaN</td>\n      <td>N</td>\n    </tr>\n    <tr>\n      <th>3</th>\n      <td>100008071646</td>\n      <td>R</td>\n      <td>OTHER</td>\n      <td>4.25</td>\n      <td>184000</td>\n      <td>360</td>\n      <td>01/2018</td>\n      <td>03/2018</td>\n      <td>80</td>\n      <td>80.0</td>\n      <td>...</td>\n      <td>PU</td>\n      <td>1</td>\n      <td>P</td>\n      <td>FL</td>\n      <td>336</td>\n      <td>NaN</td>\n      <td>FRM</td>\n      <td>NaN</td>\n      <td>NaN</td>\n      <td>N</td>\n    </tr>\n    <tr>\n      <th>4</th>\n      <td>100010739040</td>\n      <td>R</td>\n      <td>OTHER</td>\n      <td>4.25</td>\n      <td>242000</td>\n      <td>360</td>\n      <td>02/2018</td>\n      <td>04/2018</td>\n      <td>49</td>\n      <td>49.0</td>\n      <td>...</td>\n      <td>SF</td>\n      <td>1</td>\n      <td>P</td>\n      <td>CA</td>\n      <td>906</td>\n      <td>NaN</td>\n      <td>FRM</td>\n      <td>NaN</td>\n      <td>NaN</td>\n      <td>N</td>\n    </tr>\n  </tbody>\n</table>\n<p>5 rows × 25 columns</p>\n</div>"
     },
     "metadata": {},
     "execution_count": 3
    }
   ],
   "source": [
    "AQ2018Q1.head(5)"
   ]
  },
  {
   "cell_type": "code",
   "execution_count": 6,
   "metadata": {},
   "outputs": [
    {
     "output_type": "stream",
     "name": "stdout",
     "text": "CPU times: user 34.2 s, sys: 5.02 s, total: 39.2 s\nWall time: 14.8 s\n"
    },
    {
     "output_type": "execute_result",
     "data": {
      "text/plain": "(9332050, 31)"
     },
     "metadata": {},
     "execution_count": 6
    }
   ],
   "source": [
    "%%time\n",
    "Performance_Variables = [\n",
    "    \"LOAN_ID\", \"Monthly_Rpt_Prd\", \"Servicer_Name\", \"LAST_RT\", \"LAST_UPB\", \"Loan_Age\", \"Months_To_Legal_Mat\",\n",
    "    \"Adj_Month_To_Mat\", \"Maturity_Date\", \"MSA\", \"Delq_Status\", \"MOD_FLAG\", \"Zero_Bal_Code\", \n",
    "    \"ZB_DTE\", \"LPI_DTE\", \"FCC_DTE\",\"DISP_DT\", \"FCC_COST\", \"PP_COST\", \"AR_COST\", \"IE_COST\", \"TAX_COST\", \"NS_PROCS\",\n",
    "    \"CE_PROCS\", \"RMW_PROCS\", \"O_PROCS\", \"NON_INT_UPB\", \"PRIN_FORG_UPB_FHFA\", \"REPCH_FLAG\", \"PRIN_FORG_UPB_OTH\", \"TRANSFER_FLG\"\n",
    "]\n",
    "\n",
    "PERF2018Q1 = dt.fread(\n",
    "    \"data/Performance_2018Q1.txt\",\n",
    "    sep = \"|\",\n",
    "    header = None \n",
    ")\n",
    "\n",
    "PERF2018Q1.names = Performance_Variables\n",
    "PERF2018Q1 = PERF2018Q1.to_pandas()\n",
    "PERF2018Q1.shape"
   ]
  },
  {
   "cell_type": "code",
   "execution_count": 8,
   "metadata": {},
   "outputs": [
    {
     "output_type": "execute_result",
     "data": {
      "text/plain": "        LOAN_ID Monthly_Rpt_Prd       Servicer_Name  LAST_RT  LAST_UPB  \\\n0  100001040173      02/01/2018  QUICKEN LOANS INC.     4.25       NaN   \n1  100001040173      03/01/2018                         4.25       NaN   \n2  100001040173      04/01/2018                         4.25       NaN   \n3  100001040173      05/01/2018                         4.25       NaN   \n4  100001040173      06/01/2018                         4.25       NaN   \n\n   Loan_Age  Months_To_Legal_Mat  Adj_Month_To_Mat Maturity_Date    MSA  ...  \\\n0         0                  360             360.0       02/2048  18140  ...   \n1         1                  359             359.0       02/2048  18140  ...   \n2         2                  358             358.0       02/2048  18140  ...   \n3         3                  357             357.0       02/2048  18140  ...   \n4         4                  356             356.0       02/2048  18140  ...   \n\n  TAX_COST NS_PROCS  CE_PROCS RMW_PROCS O_PROCS NON_INT_UPB  \\\n0      NaN      NaN       NaN       NaN     NaN         NaN   \n1      NaN      NaN       NaN       NaN     NaN         NaN   \n2      NaN      NaN       NaN       NaN     NaN         NaN   \n3      NaN      NaN       NaN       NaN     NaN         NaN   \n4      NaN      NaN       NaN       NaN     NaN         NaN   \n\n  PRIN_FORG_UPB_FHFA  REPCH_FLAG  PRIN_FORG_UPB_OTH  TRANSFER_FLG  \n0                NaN                            NaN             N  \n1                NaN                            NaN             N  \n2                NaN                            NaN             N  \n3                NaN                            NaN             N  \n4                NaN                            NaN             N  \n\n[5 rows x 31 columns]",
      "text/html": "<div>\n<style scoped>\n    .dataframe tbody tr th:only-of-type {\n        vertical-align: middle;\n    }\n\n    .dataframe tbody tr th {\n        vertical-align: top;\n    }\n\n    .dataframe thead th {\n        text-align: right;\n    }\n</style>\n<table border=\"1\" class=\"dataframe\">\n  <thead>\n    <tr style=\"text-align: right;\">\n      <th></th>\n      <th>LOAN_ID</th>\n      <th>Monthly_Rpt_Prd</th>\n      <th>Servicer_Name</th>\n      <th>LAST_RT</th>\n      <th>LAST_UPB</th>\n      <th>Loan_Age</th>\n      <th>Months_To_Legal_Mat</th>\n      <th>Adj_Month_To_Mat</th>\n      <th>Maturity_Date</th>\n      <th>MSA</th>\n      <th>...</th>\n      <th>TAX_COST</th>\n      <th>NS_PROCS</th>\n      <th>CE_PROCS</th>\n      <th>RMW_PROCS</th>\n      <th>O_PROCS</th>\n      <th>NON_INT_UPB</th>\n      <th>PRIN_FORG_UPB_FHFA</th>\n      <th>REPCH_FLAG</th>\n      <th>PRIN_FORG_UPB_OTH</th>\n      <th>TRANSFER_FLG</th>\n    </tr>\n  </thead>\n  <tbody>\n    <tr>\n      <th>0</th>\n      <td>100001040173</td>\n      <td>02/01/2018</td>\n      <td>QUICKEN LOANS INC.</td>\n      <td>4.25</td>\n      <td>NaN</td>\n      <td>0</td>\n      <td>360</td>\n      <td>360.0</td>\n      <td>02/2048</td>\n      <td>18140</td>\n      <td>...</td>\n      <td>NaN</td>\n      <td>NaN</td>\n      <td>NaN</td>\n      <td>NaN</td>\n      <td>NaN</td>\n      <td>NaN</td>\n      <td>NaN</td>\n      <td></td>\n      <td>NaN</td>\n      <td>N</td>\n    </tr>\n    <tr>\n      <th>1</th>\n      <td>100001040173</td>\n      <td>03/01/2018</td>\n      <td></td>\n      <td>4.25</td>\n      <td>NaN</td>\n      <td>1</td>\n      <td>359</td>\n      <td>359.0</td>\n      <td>02/2048</td>\n      <td>18140</td>\n      <td>...</td>\n      <td>NaN</td>\n      <td>NaN</td>\n      <td>NaN</td>\n      <td>NaN</td>\n      <td>NaN</td>\n      <td>NaN</td>\n      <td>NaN</td>\n      <td></td>\n      <td>NaN</td>\n      <td>N</td>\n    </tr>\n    <tr>\n      <th>2</th>\n      <td>100001040173</td>\n      <td>04/01/2018</td>\n      <td></td>\n      <td>4.25</td>\n      <td>NaN</td>\n      <td>2</td>\n      <td>358</td>\n      <td>358.0</td>\n      <td>02/2048</td>\n      <td>18140</td>\n      <td>...</td>\n      <td>NaN</td>\n      <td>NaN</td>\n      <td>NaN</td>\n      <td>NaN</td>\n      <td>NaN</td>\n      <td>NaN</td>\n      <td>NaN</td>\n      <td></td>\n      <td>NaN</td>\n      <td>N</td>\n    </tr>\n    <tr>\n      <th>3</th>\n      <td>100001040173</td>\n      <td>05/01/2018</td>\n      <td></td>\n      <td>4.25</td>\n      <td>NaN</td>\n      <td>3</td>\n      <td>357</td>\n      <td>357.0</td>\n      <td>02/2048</td>\n      <td>18140</td>\n      <td>...</td>\n      <td>NaN</td>\n      <td>NaN</td>\n      <td>NaN</td>\n      <td>NaN</td>\n      <td>NaN</td>\n      <td>NaN</td>\n      <td>NaN</td>\n      <td></td>\n      <td>NaN</td>\n      <td>N</td>\n    </tr>\n    <tr>\n      <th>4</th>\n      <td>100001040173</td>\n      <td>06/01/2018</td>\n      <td></td>\n      <td>4.25</td>\n      <td>NaN</td>\n      <td>4</td>\n      <td>356</td>\n      <td>356.0</td>\n      <td>02/2048</td>\n      <td>18140</td>\n      <td>...</td>\n      <td>NaN</td>\n      <td>NaN</td>\n      <td>NaN</td>\n      <td>NaN</td>\n      <td>NaN</td>\n      <td>NaN</td>\n      <td>NaN</td>\n      <td></td>\n      <td>NaN</td>\n      <td>N</td>\n    </tr>\n  </tbody>\n</table>\n<p>5 rows × 31 columns</p>\n</div>"
     },
     "metadata": {},
     "execution_count": 8
    }
   ],
   "source": [
    "PERF2018Q1.head(5)"
   ]
  },
  {
   "cell_type": "code",
   "execution_count": 11,
   "metadata": {},
   "outputs": [],
   "source": [
    "test = (\n",
    "    AQ2018Q1\n",
    "    .merge(\n",
    "        PERF2018Q1,\n",
    "        how=\"left\",\n",
    "        left_on=\"LOAN_ID\",\n",
    "        right_on=\"LOAN_ID\"\n",
    "    )\n",
    "    .filter([ \n",
    "        \"LOAN_ID\",\"ORIG_DTE\",\"FRST_DTE\",\n",
    "        \"Monthly_Rpt_Prd\", \"Loan_Age\", \"Seller_Name\", \"ORIG_RT\",\t\"ORIG_AMT\",\n",
    "        \"Zero_Bal_Code\", \"Delq_Status\", \"ZB_DTE\", \"LPI_DTE\"\n",
    "    ])\n",
    ")"
   ]
  },
  {
   "cell_type": "code",
   "execution_count": 12,
   "metadata": {},
   "outputs": [
    {
     "output_type": "execute_result",
     "data": {
      "text/plain": "              LOAN_ID ORIG_DTE FRST_DTE Monthly_Rpt_Prd  Loan_Age  \\\n0        100001040173  01/2018  03/2018      02/01/2018       0.0   \n1        100001040173  01/2018  03/2018      03/01/2018       1.0   \n2        100001040173  01/2018  03/2018      04/01/2018       2.0   \n3        100001040173  01/2018  03/2018      05/01/2018       3.0   \n4        100001040173  01/2018  03/2018      06/01/2018       4.0   \n...               ...      ...      ...             ...       ...   \n9332046  999998783494  01/2018  03/2018      08/01/2019      18.0   \n9332047  999998783494  01/2018  03/2018      09/01/2019      19.0   \n9332048  999998783494  01/2018  03/2018      10/01/2019      20.0   \n9332049  999998783494  01/2018  03/2018      11/01/2019      21.0   \n9332050  999998783494  01/2018  03/2018      12/01/2019      22.0   \n\n                      Seller_Name  ORIG_RT  ORIG_AMT  Zero_Bal_Code  \\\n0              QUICKEN LOANS INC.     4.25    453000            NaN   \n1              QUICKEN LOANS INC.     4.25    453000            NaN   \n2              QUICKEN LOANS INC.     4.25    453000            NaN   \n3              QUICKEN LOANS INC.     4.25    453000            NaN   \n4              QUICKEN LOANS INC.     4.25    453000            NaN   \n...                           ...      ...       ...            ...   \n9332046  CALIBER HOME LOANS, INC.     4.25    358000            NaN   \n9332047  CALIBER HOME LOANS, INC.     4.25    358000            NaN   \n9332048  CALIBER HOME LOANS, INC.     4.25    358000            NaN   \n9332049  CALIBER HOME LOANS, INC.     4.25    358000            NaN   \n9332050  CALIBER HOME LOANS, INC.     4.25    358000            NaN   \n\n        Delq_Status ZB_DTE LPI_DTE  \n0                 0                 \n1                 0                 \n2                 0                 \n3                 0                 \n4                 0                 \n...             ...    ...     ...  \n9332046           0                 \n9332047           0                 \n9332048           0                 \n9332049           0                 \n9332050           0                 \n\n[9332051 rows x 12 columns]",
      "text/html": "<div>\n<style scoped>\n    .dataframe tbody tr th:only-of-type {\n        vertical-align: middle;\n    }\n\n    .dataframe tbody tr th {\n        vertical-align: top;\n    }\n\n    .dataframe thead th {\n        text-align: right;\n    }\n</style>\n<table border=\"1\" class=\"dataframe\">\n  <thead>\n    <tr style=\"text-align: right;\">\n      <th></th>\n      <th>LOAN_ID</th>\n      <th>ORIG_DTE</th>\n      <th>FRST_DTE</th>\n      <th>Monthly_Rpt_Prd</th>\n      <th>Loan_Age</th>\n      <th>Seller_Name</th>\n      <th>ORIG_RT</th>\n      <th>ORIG_AMT</th>\n      <th>Zero_Bal_Code</th>\n      <th>Delq_Status</th>\n      <th>ZB_DTE</th>\n      <th>LPI_DTE</th>\n    </tr>\n  </thead>\n  <tbody>\n    <tr>\n      <th>0</th>\n      <td>100001040173</td>\n      <td>01/2018</td>\n      <td>03/2018</td>\n      <td>02/01/2018</td>\n      <td>0.0</td>\n      <td>QUICKEN LOANS INC.</td>\n      <td>4.25</td>\n      <td>453000</td>\n      <td>NaN</td>\n      <td>0</td>\n      <td></td>\n      <td></td>\n    </tr>\n    <tr>\n      <th>1</th>\n      <td>100001040173</td>\n      <td>01/2018</td>\n      <td>03/2018</td>\n      <td>03/01/2018</td>\n      <td>1.0</td>\n      <td>QUICKEN LOANS INC.</td>\n      <td>4.25</td>\n      <td>453000</td>\n      <td>NaN</td>\n      <td>0</td>\n      <td></td>\n      <td></td>\n    </tr>\n    <tr>\n      <th>2</th>\n      <td>100001040173</td>\n      <td>01/2018</td>\n      <td>03/2018</td>\n      <td>04/01/2018</td>\n      <td>2.0</td>\n      <td>QUICKEN LOANS INC.</td>\n      <td>4.25</td>\n      <td>453000</td>\n      <td>NaN</td>\n      <td>0</td>\n      <td></td>\n      <td></td>\n    </tr>\n    <tr>\n      <th>3</th>\n      <td>100001040173</td>\n      <td>01/2018</td>\n      <td>03/2018</td>\n      <td>05/01/2018</td>\n      <td>3.0</td>\n      <td>QUICKEN LOANS INC.</td>\n      <td>4.25</td>\n      <td>453000</td>\n      <td>NaN</td>\n      <td>0</td>\n      <td></td>\n      <td></td>\n    </tr>\n    <tr>\n      <th>4</th>\n      <td>100001040173</td>\n      <td>01/2018</td>\n      <td>03/2018</td>\n      <td>06/01/2018</td>\n      <td>4.0</td>\n      <td>QUICKEN LOANS INC.</td>\n      <td>4.25</td>\n      <td>453000</td>\n      <td>NaN</td>\n      <td>0</td>\n      <td></td>\n      <td></td>\n    </tr>\n    <tr>\n      <th>...</th>\n      <td>...</td>\n      <td>...</td>\n      <td>...</td>\n      <td>...</td>\n      <td>...</td>\n      <td>...</td>\n      <td>...</td>\n      <td>...</td>\n      <td>...</td>\n      <td>...</td>\n      <td>...</td>\n      <td>...</td>\n    </tr>\n    <tr>\n      <th>9332046</th>\n      <td>999998783494</td>\n      <td>01/2018</td>\n      <td>03/2018</td>\n      <td>08/01/2019</td>\n      <td>18.0</td>\n      <td>CALIBER HOME LOANS, INC.</td>\n      <td>4.25</td>\n      <td>358000</td>\n      <td>NaN</td>\n      <td>0</td>\n      <td></td>\n      <td></td>\n    </tr>\n    <tr>\n      <th>9332047</th>\n      <td>999998783494</td>\n      <td>01/2018</td>\n      <td>03/2018</td>\n      <td>09/01/2019</td>\n      <td>19.0</td>\n      <td>CALIBER HOME LOANS, INC.</td>\n      <td>4.25</td>\n      <td>358000</td>\n      <td>NaN</td>\n      <td>0</td>\n      <td></td>\n      <td></td>\n    </tr>\n    <tr>\n      <th>9332048</th>\n      <td>999998783494</td>\n      <td>01/2018</td>\n      <td>03/2018</td>\n      <td>10/01/2019</td>\n      <td>20.0</td>\n      <td>CALIBER HOME LOANS, INC.</td>\n      <td>4.25</td>\n      <td>358000</td>\n      <td>NaN</td>\n      <td>0</td>\n      <td></td>\n      <td></td>\n    </tr>\n    <tr>\n      <th>9332049</th>\n      <td>999998783494</td>\n      <td>01/2018</td>\n      <td>03/2018</td>\n      <td>11/01/2019</td>\n      <td>21.0</td>\n      <td>CALIBER HOME LOANS, INC.</td>\n      <td>4.25</td>\n      <td>358000</td>\n      <td>NaN</td>\n      <td>0</td>\n      <td></td>\n      <td></td>\n    </tr>\n    <tr>\n      <th>9332050</th>\n      <td>999998783494</td>\n      <td>01/2018</td>\n      <td>03/2018</td>\n      <td>12/01/2019</td>\n      <td>22.0</td>\n      <td>CALIBER HOME LOANS, INC.</td>\n      <td>4.25</td>\n      <td>358000</td>\n      <td>NaN</td>\n      <td>0</td>\n      <td></td>\n      <td></td>\n    </tr>\n  </tbody>\n</table>\n<p>9332051 rows × 12 columns</p>\n</div>"
     },
     "metadata": {},
     "execution_count": 12
    }
   ],
   "source": [
    "test"
   ]
  },
  {
   "cell_type": "markdown",
   "metadata": {},
   "source": [
    "The column Delq_Status is the Loan Delinquency status and has the following meaning:\n",
    "\n",
    "* 0 - \"Current or less than 30 days past due\"\n",
    "* 1 - \"30 - 59 days past due\"\n",
    "* 2 - \"60 - 89 days past due\"\n",
    "* 3 - \"90 - 119 days past due\"\n",
    "* 4 - \"120 - 149 days past due\"\n",
    "* 5 - \"150 - 179 days past due\"\n",
    "* 6 - \"180 Day Delinquency\"\n",
    "* 7 - \"210 Day Delinquency\"\n",
    "* 8 - \"240 Day Delinquency\"\n",
    "* 9 - \"270 Day Delinquency\" / \"270+ Day Delinquency\""
   ]
  },
  {
   "cell_type": "code",
   "execution_count": 13,
   "metadata": {},
   "outputs": [
    {
     "output_type": "execute_result",
     "data": {
      "text/plain": "0     9187791\nX       68114\n1       52514\n2        9927\n3        4143\n4        2669\n5        2016\n6        1336\n7         941\n8         648\n9         446\n10        375\n11        274\n12        199\n13        158\n          137\n14        119\n15         96\n16         51\n17         38\n18         24\n19         16\n20         11\n21          5\n22          2\nName: Delq_Status, dtype: int64"
     },
     "metadata": {},
     "execution_count": 13
    }
   ],
   "source": [
    "test.Delq_Status.value_counts()"
   ]
  },
  {
   "cell_type": "code",
   "execution_count": 52,
   "metadata": {},
   "outputs": [
    {
     "output_type": "execute_result",
     "data": {
      "text/plain": "              LOAN_ID ORIG_DTE FRST_DTE Monthly_Rpt_Prd  Loan_Age  \\\n19598    101917807151  01/2018  03/2018      08/01/2019      18.0   \n20835    102021408123  12/2017  02/2018      08/01/2019      19.0   \n20836    102021408123  12/2017  02/2018      09/01/2019      20.0   \n20838    102021408123  12/2017  02/2018      11/01/2019      22.0   \n34776    103423240534  02/2018  04/2018      08/01/2019      17.0   \n...               ...      ...      ...             ...       ...   \n9319622  998762692998  12/2017  02/2018      11/01/2019      22.0   \n9319623  998762692998  12/2017  02/2018      12/01/2019      23.0   \n9321525  998998928844  12/2017  02/2018      12/01/2019      23.0   \n9322033  999048069737  12/2017  02/2018      01/01/2019      12.0   \n9324205  999254855075  01/2018  03/2018      11/01/2018       9.0   \n\n                                               Seller_Name  ORIG_RT  ORIG_AMT  \\\n19598                                   FLAGSTAR BANK, FSB    4.474     85000   \n20835                               FREEDOM MORTGAGE CORP.    4.125    387000   \n20836                               FREEDOM MORTGAGE CORP.    4.125    387000   \n20838                               FREEDOM MORTGAGE CORP.    4.125    387000   \n34776                               MOVEMENT MORTGAGE, LLC    4.625    360000   \n...                                                    ...      ...       ...   \n9319622                           CALIBER HOME LOANS, INC.    4.250    231000   \n9319623                           CALIBER HOME LOANS, INC.    4.250    231000   \n9321525  UNITED SHORE FINANCIAL SERVICES, LLC DBA UNITE...    3.875    360000   \n9322033               TRUIST BANK (FORMERLY SUNTRUST BANK)    4.250    190000   \n9324205                 FRANKLIN AMERICAN MORTGAGE COMPANY    4.125    174000   \n\n         Zero_Bal_Code Delq_Status ZB_DTE LPI_DTE  \n19598              NaN           5                 \n20835              NaN           5                 \n20836              NaN           5                 \n20838              NaN           5                 \n34776              NaN           5                 \n...                ...         ...    ...     ...  \n9319622            NaN           5                 \n9319623            NaN           5                 \n9321525            NaN           5                 \n9322033            NaN           5                 \n9324205            NaN           5                 \n\n[2016 rows x 12 columns]",
      "text/html": "<div>\n<style scoped>\n    .dataframe tbody tr th:only-of-type {\n        vertical-align: middle;\n    }\n\n    .dataframe tbody tr th {\n        vertical-align: top;\n    }\n\n    .dataframe thead th {\n        text-align: right;\n    }\n</style>\n<table border=\"1\" class=\"dataframe\">\n  <thead>\n    <tr style=\"text-align: right;\">\n      <th></th>\n      <th>LOAN_ID</th>\n      <th>ORIG_DTE</th>\n      <th>FRST_DTE</th>\n      <th>Monthly_Rpt_Prd</th>\n      <th>Loan_Age</th>\n      <th>Seller_Name</th>\n      <th>ORIG_RT</th>\n      <th>ORIG_AMT</th>\n      <th>Zero_Bal_Code</th>\n      <th>Delq_Status</th>\n      <th>ZB_DTE</th>\n      <th>LPI_DTE</th>\n    </tr>\n  </thead>\n  <tbody>\n    <tr>\n      <th>19598</th>\n      <td>101917807151</td>\n      <td>01/2018</td>\n      <td>03/2018</td>\n      <td>08/01/2019</td>\n      <td>18.0</td>\n      <td>FLAGSTAR BANK, FSB</td>\n      <td>4.474</td>\n      <td>85000</td>\n      <td>NaN</td>\n      <td>5</td>\n      <td></td>\n      <td></td>\n    </tr>\n    <tr>\n      <th>20835</th>\n      <td>102021408123</td>\n      <td>12/2017</td>\n      <td>02/2018</td>\n      <td>08/01/2019</td>\n      <td>19.0</td>\n      <td>FREEDOM MORTGAGE CORP.</td>\n      <td>4.125</td>\n      <td>387000</td>\n      <td>NaN</td>\n      <td>5</td>\n      <td></td>\n      <td></td>\n    </tr>\n    <tr>\n      <th>20836</th>\n      <td>102021408123</td>\n      <td>12/2017</td>\n      <td>02/2018</td>\n      <td>09/01/2019</td>\n      <td>20.0</td>\n      <td>FREEDOM MORTGAGE CORP.</td>\n      <td>4.125</td>\n      <td>387000</td>\n      <td>NaN</td>\n      <td>5</td>\n      <td></td>\n      <td></td>\n    </tr>\n    <tr>\n      <th>20838</th>\n      <td>102021408123</td>\n      <td>12/2017</td>\n      <td>02/2018</td>\n      <td>11/01/2019</td>\n      <td>22.0</td>\n      <td>FREEDOM MORTGAGE CORP.</td>\n      <td>4.125</td>\n      <td>387000</td>\n      <td>NaN</td>\n      <td>5</td>\n      <td></td>\n      <td></td>\n    </tr>\n    <tr>\n      <th>34776</th>\n      <td>103423240534</td>\n      <td>02/2018</td>\n      <td>04/2018</td>\n      <td>08/01/2019</td>\n      <td>17.0</td>\n      <td>MOVEMENT MORTGAGE, LLC</td>\n      <td>4.625</td>\n      <td>360000</td>\n      <td>NaN</td>\n      <td>5</td>\n      <td></td>\n      <td></td>\n    </tr>\n    <tr>\n      <th>...</th>\n      <td>...</td>\n      <td>...</td>\n      <td>...</td>\n      <td>...</td>\n      <td>...</td>\n      <td>...</td>\n      <td>...</td>\n      <td>...</td>\n      <td>...</td>\n      <td>...</td>\n      <td>...</td>\n      <td>...</td>\n    </tr>\n    <tr>\n      <th>9319622</th>\n      <td>998762692998</td>\n      <td>12/2017</td>\n      <td>02/2018</td>\n      <td>11/01/2019</td>\n      <td>22.0</td>\n      <td>CALIBER HOME LOANS, INC.</td>\n      <td>4.250</td>\n      <td>231000</td>\n      <td>NaN</td>\n      <td>5</td>\n      <td></td>\n      <td></td>\n    </tr>\n    <tr>\n      <th>9319623</th>\n      <td>998762692998</td>\n      <td>12/2017</td>\n      <td>02/2018</td>\n      <td>12/01/2019</td>\n      <td>23.0</td>\n      <td>CALIBER HOME LOANS, INC.</td>\n      <td>4.250</td>\n      <td>231000</td>\n      <td>NaN</td>\n      <td>5</td>\n      <td></td>\n      <td></td>\n    </tr>\n    <tr>\n      <th>9321525</th>\n      <td>998998928844</td>\n      <td>12/2017</td>\n      <td>02/2018</td>\n      <td>12/01/2019</td>\n      <td>23.0</td>\n      <td>UNITED SHORE FINANCIAL SERVICES, LLC DBA UNITE...</td>\n      <td>3.875</td>\n      <td>360000</td>\n      <td>NaN</td>\n      <td>5</td>\n      <td></td>\n      <td></td>\n    </tr>\n    <tr>\n      <th>9322033</th>\n      <td>999048069737</td>\n      <td>12/2017</td>\n      <td>02/2018</td>\n      <td>01/01/2019</td>\n      <td>12.0</td>\n      <td>TRUIST BANK (FORMERLY SUNTRUST BANK)</td>\n      <td>4.250</td>\n      <td>190000</td>\n      <td>NaN</td>\n      <td>5</td>\n      <td></td>\n      <td></td>\n    </tr>\n    <tr>\n      <th>9324205</th>\n      <td>999254855075</td>\n      <td>01/2018</td>\n      <td>03/2018</td>\n      <td>11/01/2018</td>\n      <td>9.0</td>\n      <td>FRANKLIN AMERICAN MORTGAGE COMPANY</td>\n      <td>4.125</td>\n      <td>174000</td>\n      <td>NaN</td>\n      <td>5</td>\n      <td></td>\n      <td></td>\n    </tr>\n  </tbody>\n</table>\n<p>2016 rows × 12 columns</p>\n</div>"
     },
     "metadata": {},
     "execution_count": 52
    }
   ],
   "source": [
    "test.query(\"Delq_Status == '5'\")"
   ]
  },
  {
   "cell_type": "code",
   "execution_count": 14,
   "metadata": {},
   "outputs": [
    {
     "output_type": "execute_result",
     "data": {
      "text/plain": "            LOAN_ID ORIG_DTE FRST_DTE Monthly_Rpt_Prd  Loan_Age  \\\n20818  102021408123  12/2017  02/2018      03/01/2018       2.0   \n20819  102021408123  12/2017  02/2018      04/01/2018       3.0   \n20820  102021408123  12/2017  02/2018      05/01/2018       4.0   \n20821  102021408123  12/2017  02/2018      06/01/2018       5.0   \n20822  102021408123  12/2017  02/2018      07/01/2018       6.0   \n20823  102021408123  12/2017  02/2018      08/01/2018       7.0   \n20824  102021408123  12/2017  02/2018      09/01/2018       8.0   \n20825  102021408123  12/2017  02/2018      10/01/2018       9.0   \n20826  102021408123  12/2017  02/2018      11/01/2018      10.0   \n20827  102021408123  12/2017  02/2018      12/01/2018      11.0   \n20828  102021408123  12/2017  02/2018      01/01/2019      12.0   \n20829  102021408123  12/2017  02/2018      02/01/2019      13.0   \n20830  102021408123  12/2017  02/2018      03/01/2019      14.0   \n20831  102021408123  12/2017  02/2018      04/01/2019      15.0   \n20832  102021408123  12/2017  02/2018      05/01/2019      16.0   \n20833  102021408123  12/2017  02/2018      06/01/2019      17.0   \n20834  102021408123  12/2017  02/2018      07/01/2019      18.0   \n20835  102021408123  12/2017  02/2018      08/01/2019      19.0   \n20836  102021408123  12/2017  02/2018      09/01/2019      20.0   \n20837  102021408123  12/2017  02/2018      10/01/2019      21.0   \n20838  102021408123  12/2017  02/2018      11/01/2019      22.0   \n20839  102021408123  12/2017  02/2018      12/01/2019      23.0   \n\n                  Seller_Name  ORIG_RT  ORIG_AMT  Zero_Bal_Code Delq_Status  \\\n20818  FREEDOM MORTGAGE CORP.    4.125    387000            NaN           0   \n20819  FREEDOM MORTGAGE CORP.    4.125    387000            NaN           0   \n20820  FREEDOM MORTGAGE CORP.    4.125    387000            NaN           0   \n20821  FREEDOM MORTGAGE CORP.    4.125    387000            NaN           0   \n20822  FREEDOM MORTGAGE CORP.    4.125    387000            NaN           0   \n20823  FREEDOM MORTGAGE CORP.    4.125    387000            NaN           0   \n20824  FREEDOM MORTGAGE CORP.    4.125    387000            NaN           0   \n20825  FREEDOM MORTGAGE CORP.    4.125    387000            NaN           0   \n20826  FREEDOM MORTGAGE CORP.    4.125    387000            NaN           0   \n20827  FREEDOM MORTGAGE CORP.    4.125    387000            NaN           0   \n20828  FREEDOM MORTGAGE CORP.    4.125    387000            NaN           0   \n20829  FREEDOM MORTGAGE CORP.    4.125    387000            NaN           1   \n20830  FREEDOM MORTGAGE CORP.    4.125    387000            NaN           0   \n20831  FREEDOM MORTGAGE CORP.    4.125    387000            NaN           2   \n20832  FREEDOM MORTGAGE CORP.    4.125    387000            NaN           3   \n20833  FREEDOM MORTGAGE CORP.    4.125    387000            NaN           4   \n20834  FREEDOM MORTGAGE CORP.    4.125    387000            NaN           4   \n20835  FREEDOM MORTGAGE CORP.    4.125    387000            NaN           5   \n20836  FREEDOM MORTGAGE CORP.    4.125    387000            NaN           5   \n20837  FREEDOM MORTGAGE CORP.    4.125    387000            NaN           4   \n20838  FREEDOM MORTGAGE CORP.    4.125    387000            NaN           5   \n20839  FREEDOM MORTGAGE CORP.    4.125    387000            NaN           6   \n\n      ZB_DTE LPI_DTE  \n20818                 \n20819                 \n20820                 \n20821                 \n20822                 \n20823                 \n20824                 \n20825                 \n20826                 \n20827                 \n20828                 \n20829                 \n20830                 \n20831                 \n20832                 \n20833                 \n20834                 \n20835                 \n20836                 \n20837                 \n20838                 \n20839                 ",
      "text/html": "<div>\n<style scoped>\n    .dataframe tbody tr th:only-of-type {\n        vertical-align: middle;\n    }\n\n    .dataframe tbody tr th {\n        vertical-align: top;\n    }\n\n    .dataframe thead th {\n        text-align: right;\n    }\n</style>\n<table border=\"1\" class=\"dataframe\">\n  <thead>\n    <tr style=\"text-align: right;\">\n      <th></th>\n      <th>LOAN_ID</th>\n      <th>ORIG_DTE</th>\n      <th>FRST_DTE</th>\n      <th>Monthly_Rpt_Prd</th>\n      <th>Loan_Age</th>\n      <th>Seller_Name</th>\n      <th>ORIG_RT</th>\n      <th>ORIG_AMT</th>\n      <th>Zero_Bal_Code</th>\n      <th>Delq_Status</th>\n      <th>ZB_DTE</th>\n      <th>LPI_DTE</th>\n    </tr>\n  </thead>\n  <tbody>\n    <tr>\n      <th>20818</th>\n      <td>102021408123</td>\n      <td>12/2017</td>\n      <td>02/2018</td>\n      <td>03/01/2018</td>\n      <td>2.0</td>\n      <td>FREEDOM MORTGAGE CORP.</td>\n      <td>4.125</td>\n      <td>387000</td>\n      <td>NaN</td>\n      <td>0</td>\n      <td></td>\n      <td></td>\n    </tr>\n    <tr>\n      <th>20819</th>\n      <td>102021408123</td>\n      <td>12/2017</td>\n      <td>02/2018</td>\n      <td>04/01/2018</td>\n      <td>3.0</td>\n      <td>FREEDOM MORTGAGE CORP.</td>\n      <td>4.125</td>\n      <td>387000</td>\n      <td>NaN</td>\n      <td>0</td>\n      <td></td>\n      <td></td>\n    </tr>\n    <tr>\n      <th>20820</th>\n      <td>102021408123</td>\n      <td>12/2017</td>\n      <td>02/2018</td>\n      <td>05/01/2018</td>\n      <td>4.0</td>\n      <td>FREEDOM MORTGAGE CORP.</td>\n      <td>4.125</td>\n      <td>387000</td>\n      <td>NaN</td>\n      <td>0</td>\n      <td></td>\n      <td></td>\n    </tr>\n    <tr>\n      <th>20821</th>\n      <td>102021408123</td>\n      <td>12/2017</td>\n      <td>02/2018</td>\n      <td>06/01/2018</td>\n      <td>5.0</td>\n      <td>FREEDOM MORTGAGE CORP.</td>\n      <td>4.125</td>\n      <td>387000</td>\n      <td>NaN</td>\n      <td>0</td>\n      <td></td>\n      <td></td>\n    </tr>\n    <tr>\n      <th>20822</th>\n      <td>102021408123</td>\n      <td>12/2017</td>\n      <td>02/2018</td>\n      <td>07/01/2018</td>\n      <td>6.0</td>\n      <td>FREEDOM MORTGAGE CORP.</td>\n      <td>4.125</td>\n      <td>387000</td>\n      <td>NaN</td>\n      <td>0</td>\n      <td></td>\n      <td></td>\n    </tr>\n    <tr>\n      <th>20823</th>\n      <td>102021408123</td>\n      <td>12/2017</td>\n      <td>02/2018</td>\n      <td>08/01/2018</td>\n      <td>7.0</td>\n      <td>FREEDOM MORTGAGE CORP.</td>\n      <td>4.125</td>\n      <td>387000</td>\n      <td>NaN</td>\n      <td>0</td>\n      <td></td>\n      <td></td>\n    </tr>\n    <tr>\n      <th>20824</th>\n      <td>102021408123</td>\n      <td>12/2017</td>\n      <td>02/2018</td>\n      <td>09/01/2018</td>\n      <td>8.0</td>\n      <td>FREEDOM MORTGAGE CORP.</td>\n      <td>4.125</td>\n      <td>387000</td>\n      <td>NaN</td>\n      <td>0</td>\n      <td></td>\n      <td></td>\n    </tr>\n    <tr>\n      <th>20825</th>\n      <td>102021408123</td>\n      <td>12/2017</td>\n      <td>02/2018</td>\n      <td>10/01/2018</td>\n      <td>9.0</td>\n      <td>FREEDOM MORTGAGE CORP.</td>\n      <td>4.125</td>\n      <td>387000</td>\n      <td>NaN</td>\n      <td>0</td>\n      <td></td>\n      <td></td>\n    </tr>\n    <tr>\n      <th>20826</th>\n      <td>102021408123</td>\n      <td>12/2017</td>\n      <td>02/2018</td>\n      <td>11/01/2018</td>\n      <td>10.0</td>\n      <td>FREEDOM MORTGAGE CORP.</td>\n      <td>4.125</td>\n      <td>387000</td>\n      <td>NaN</td>\n      <td>0</td>\n      <td></td>\n      <td></td>\n    </tr>\n    <tr>\n      <th>20827</th>\n      <td>102021408123</td>\n      <td>12/2017</td>\n      <td>02/2018</td>\n      <td>12/01/2018</td>\n      <td>11.0</td>\n      <td>FREEDOM MORTGAGE CORP.</td>\n      <td>4.125</td>\n      <td>387000</td>\n      <td>NaN</td>\n      <td>0</td>\n      <td></td>\n      <td></td>\n    </tr>\n    <tr>\n      <th>20828</th>\n      <td>102021408123</td>\n      <td>12/2017</td>\n      <td>02/2018</td>\n      <td>01/01/2019</td>\n      <td>12.0</td>\n      <td>FREEDOM MORTGAGE CORP.</td>\n      <td>4.125</td>\n      <td>387000</td>\n      <td>NaN</td>\n      <td>0</td>\n      <td></td>\n      <td></td>\n    </tr>\n    <tr>\n      <th>20829</th>\n      <td>102021408123</td>\n      <td>12/2017</td>\n      <td>02/2018</td>\n      <td>02/01/2019</td>\n      <td>13.0</td>\n      <td>FREEDOM MORTGAGE CORP.</td>\n      <td>4.125</td>\n      <td>387000</td>\n      <td>NaN</td>\n      <td>1</td>\n      <td></td>\n      <td></td>\n    </tr>\n    <tr>\n      <th>20830</th>\n      <td>102021408123</td>\n      <td>12/2017</td>\n      <td>02/2018</td>\n      <td>03/01/2019</td>\n      <td>14.0</td>\n      <td>FREEDOM MORTGAGE CORP.</td>\n      <td>4.125</td>\n      <td>387000</td>\n      <td>NaN</td>\n      <td>0</td>\n      <td></td>\n      <td></td>\n    </tr>\n    <tr>\n      <th>20831</th>\n      <td>102021408123</td>\n      <td>12/2017</td>\n      <td>02/2018</td>\n      <td>04/01/2019</td>\n      <td>15.0</td>\n      <td>FREEDOM MORTGAGE CORP.</td>\n      <td>4.125</td>\n      <td>387000</td>\n      <td>NaN</td>\n      <td>2</td>\n      <td></td>\n      <td></td>\n    </tr>\n    <tr>\n      <th>20832</th>\n      <td>102021408123</td>\n      <td>12/2017</td>\n      <td>02/2018</td>\n      <td>05/01/2019</td>\n      <td>16.0</td>\n      <td>FREEDOM MORTGAGE CORP.</td>\n      <td>4.125</td>\n      <td>387000</td>\n      <td>NaN</td>\n      <td>3</td>\n      <td></td>\n      <td></td>\n    </tr>\n    <tr>\n      <th>20833</th>\n      <td>102021408123</td>\n      <td>12/2017</td>\n      <td>02/2018</td>\n      <td>06/01/2019</td>\n      <td>17.0</td>\n      <td>FREEDOM MORTGAGE CORP.</td>\n      <td>4.125</td>\n      <td>387000</td>\n      <td>NaN</td>\n      <td>4</td>\n      <td></td>\n      <td></td>\n    </tr>\n    <tr>\n      <th>20834</th>\n      <td>102021408123</td>\n      <td>12/2017</td>\n      <td>02/2018</td>\n      <td>07/01/2019</td>\n      <td>18.0</td>\n      <td>FREEDOM MORTGAGE CORP.</td>\n      <td>4.125</td>\n      <td>387000</td>\n      <td>NaN</td>\n      <td>4</td>\n      <td></td>\n      <td></td>\n    </tr>\n    <tr>\n      <th>20835</th>\n      <td>102021408123</td>\n      <td>12/2017</td>\n      <td>02/2018</td>\n      <td>08/01/2019</td>\n      <td>19.0</td>\n      <td>FREEDOM MORTGAGE CORP.</td>\n      <td>4.125</td>\n      <td>387000</td>\n      <td>NaN</td>\n      <td>5</td>\n      <td></td>\n      <td></td>\n    </tr>\n    <tr>\n      <th>20836</th>\n      <td>102021408123</td>\n      <td>12/2017</td>\n      <td>02/2018</td>\n      <td>09/01/2019</td>\n      <td>20.0</td>\n      <td>FREEDOM MORTGAGE CORP.</td>\n      <td>4.125</td>\n      <td>387000</td>\n      <td>NaN</td>\n      <td>5</td>\n      <td></td>\n      <td></td>\n    </tr>\n    <tr>\n      <th>20837</th>\n      <td>102021408123</td>\n      <td>12/2017</td>\n      <td>02/2018</td>\n      <td>10/01/2019</td>\n      <td>21.0</td>\n      <td>FREEDOM MORTGAGE CORP.</td>\n      <td>4.125</td>\n      <td>387000</td>\n      <td>NaN</td>\n      <td>4</td>\n      <td></td>\n      <td></td>\n    </tr>\n    <tr>\n      <th>20838</th>\n      <td>102021408123</td>\n      <td>12/2017</td>\n      <td>02/2018</td>\n      <td>11/01/2019</td>\n      <td>22.0</td>\n      <td>FREEDOM MORTGAGE CORP.</td>\n      <td>4.125</td>\n      <td>387000</td>\n      <td>NaN</td>\n      <td>5</td>\n      <td></td>\n      <td></td>\n    </tr>\n    <tr>\n      <th>20839</th>\n      <td>102021408123</td>\n      <td>12/2017</td>\n      <td>02/2018</td>\n      <td>12/01/2019</td>\n      <td>23.0</td>\n      <td>FREEDOM MORTGAGE CORP.</td>\n      <td>4.125</td>\n      <td>387000</td>\n      <td>NaN</td>\n      <td>6</td>\n      <td></td>\n      <td></td>\n    </tr>\n  </tbody>\n</table>\n</div>"
     },
     "metadata": {},
     "execution_count": 14
    }
   ],
   "source": [
    "test.query(\"LOAN_ID == 102021408123\")"
   ]
  },
  {
   "cell_type": "code",
   "execution_count": null,
   "metadata": {},
   "outputs": [],
   "source": []
  }
 ],
 "metadata": {
  "language_info": {
   "codemirror_mode": {
    "name": "ipython",
    "version": 3
   },
   "file_extension": ".py",
   "mimetype": "text/x-python",
   "name": "python",
   "nbconvert_exporter": "python",
   "pygments_lexer": "ipython3",
   "version": "3.7.3-final"
  },
  "orig_nbformat": 2,
  "kernelspec": {
   "name": "python37364bitbaseconda237d47ed00c34faa8bb5ab0c5c219e3a",
   "display_name": "Python 3.7.3 64-bit ('base': conda)"
  }
 },
 "nbformat": 4,
 "nbformat_minor": 2
}