{
 "cells": [
  {
   "cell_type": "markdown",
   "metadata": {},
   "source": [
    "# Fannie Mae analysis\n",
    "\n",
    "(just started)\n",
    "\n",
    "This notebook contains some python code to analyse mortgage data\n",
    "See the following link how to download data and [more details](https://www.fanniemae.com/portal/funding-the-market/data/loan-performance-data.html).\n",
    "\n",
    "Per quarter there is a Acquisition data set and a Performance data set. See the [details here](https://www.fanniemae.com/resources/file/fundmarket/pdf/webinar-101.pdf)\n"
   ]
  },
  {
   "cell_type": "code",
   "execution_count": 3,
   "metadata": {},
   "outputs": [],
   "source": [
    "#### using the datatable package from h2o....  super package!\n",
    "import pandas as pd\n",
    "import numpy as np\n",
    "import datatable as dt"
   ]
  },
  {
   "cell_type": "markdown",
   "metadata": {},
   "source": [
    "## Import 2018 acquisition and performance data\n",
    "\n",
    "The data available on mortgages is per quarter of starting mortgages (from 2000 until 2019). It is a zip containing two text files, for example if we look in the 2018Q1.zip file we have:\n",
    "\n",
    "* the file Acquisition_2018Q1.txt, it contains all mortgaes that started in Q1 2018, each row is one mortgage,\n",
    "* the file Performance_2018Q1.txt, it contains the performance of the mortgages in the acquisition file. Multiple rows in this file correspond to one mortgage, For every mortgage we have the monthly performance of the mortgage, form its start until Dec of 2019.\n",
    "\n",
    "To make things managable I have downloaded only the four zip files corresponding to 2018, unzipped them and concatenated the Acquisition text files to one larger text file and zipped it. I did the same with the performances.\n",
    "\n",
    "`cat Acq*.txt > acquisition.txt & zip acquisition.zip acquisition.txt`\n",
    "\n",
    "`cat Perf*.txt > performance.txt & zip performance.zip performance.txt`\n",
    "\n",
    "I am using the `fread` function from the datatable package, it can import zipped CSV files without extracting them."
   ]
  },
  {
   "cell_type": "code",
   "execution_count": 5,
   "metadata": {},
   "outputs": [
    {
     "output_type": "stream",
     "name": "stdout",
     "text": "CPU times: user 9.3 s, sys: 998 ms, total: 10.3 s\nWall time: 3.96 s\n"
    },
    {
     "output_type": "execute_result",
     "data": {
      "text/plain": "(1625195, 25)"
     },
     "metadata": {},
     "execution_count": 5
    }
   ],
   "source": [
    "%%time\n",
    "#### import Acquisition data\n",
    "acquisitions_Variables = [\n",
    "    \"LOAN_ID\", \"ORIG_CHN\", \"Seller_Name\", \"ORIG_RT\", \"ORIG_AMT\", \"ORIG_TRM\", \"ORIG_DTE\",\n",
    "    \"FRST_DTE\", \"OLTV\", \"OCLTV\", \"NUM_BO\", \"Debt_to_Income\", \"Borrower_Credit_Score\", \"FTHB_FLG\", \"PURPOSE\", \"PROPERTY_TYPE\",\n",
    "    \"NUM_UNIT\", \"OCC_STAT\", \"STATE\", \"ZIP_3\", \"MI_PCT\", \"Product_Type\", \"CSCORE_C\", \"MI_TYPE\", \"RELOCATION_FLG\"\n",
    "]\n",
    "\n",
    "acquisition = dt.fread(\n",
    "    \"data/acquisition.zip\",\n",
    "    sep = \"|\",\n",
    "    header = None ,\n",
    "    columns = acquisitions_Variables,\\\n",
    ")\n",
    "\n",
    "acquisition = acquisition.to_pandas()\n",
    "acquisition.shape"
   ]
  },
  {
   "cell_type": "code",
   "execution_count": 6,
   "metadata": {},
   "outputs": [
    {
     "output_type": "execute_result",
     "data": {
      "text/plain": "              LOAN_ID ORIG_CHN                               Seller_Name  \\\n1167622  819598588084        C                            U.S. BANK N.A.   \n639007   601090051160        R                    WELLS FARGO BANK, N.A.   \n136894   387623739446        B                                     OTHER   \n1539297  788968275653        R                            U.S. BANK N.A.   \n536571   358621192050        R  FAIRWAY INDEPENDENT MORTGAGE CORPORATION   \n\n         ORIG_RT  ORIG_AMT  ORIG_TRM ORIG_DTE FRST_DTE  OLTV  OCLTV  ...  \\\n1167622    4.750    200000       360  06/2018  08/2018    83   83.0  ...   \n639007     4.500    110000       360  04/2018  06/2018    75   75.0  ...   \n136894     4.500    546000       360  12/2017  02/2018    70   70.0  ...   \n1539297    4.875    187000       360  09/2018  11/2018    80   80.0  ...   \n536571     4.625    288000       360  05/2018  07/2018    80   80.0  ...   \n\n         PROPERTY_TYPE  NUM_UNIT  OCC_STAT STATE ZIP_3 MI_PCT  Product_Type  \\\n1167622             PU         1         P    TN   380   12.0           FRM   \n639007              CO         1         P    FL   327    NaN           FRM   \n136894              SF         2         P    NY   114    NaN           FRM   \n1539297             SF         1         P    TX   784    NaN           FRM   \n536571              PU         1         S    AZ   863    NaN           FRM   \n\n        CSCORE_C MI_TYPE  RELOCATION_FLG  \n1167622      NaN     1.0               N  \n639007       NaN     NaN               N  \n136894       NaN     NaN               N  \n1539297      NaN     NaN               N  \n536571       NaN     NaN               N  \n\n[5 rows x 25 columns]",
      "text/html": "<div>\n<style scoped>\n    .dataframe tbody tr th:only-of-type {\n        vertical-align: middle;\n    }\n\n    .dataframe tbody tr th {\n        vertical-align: top;\n    }\n\n    .dataframe thead th {\n        text-align: right;\n    }\n</style>\n<table border=\"1\" class=\"dataframe\">\n  <thead>\n    <tr style=\"text-align: right;\">\n      <th></th>\n      <th>LOAN_ID</th>\n      <th>ORIG_CHN</th>\n      <th>Seller_Name</th>\n      <th>ORIG_RT</th>\n      <th>ORIG_AMT</th>\n      <th>ORIG_TRM</th>\n      <th>ORIG_DTE</th>\n      <th>FRST_DTE</th>\n      <th>OLTV</th>\n      <th>OCLTV</th>\n      <th>...</th>\n      <th>PROPERTY_TYPE</th>\n      <th>NUM_UNIT</th>\n      <th>OCC_STAT</th>\n      <th>STATE</th>\n      <th>ZIP_3</th>\n      <th>MI_PCT</th>\n      <th>Product_Type</th>\n      <th>CSCORE_C</th>\n      <th>MI_TYPE</th>\n      <th>RELOCATION_FLG</th>\n    </tr>\n  </thead>\n  <tbody>\n    <tr>\n      <th>1167622</th>\n      <td>819598588084</td>\n      <td>C</td>\n      <td>U.S. BANK N.A.</td>\n      <td>4.750</td>\n      <td>200000</td>\n      <td>360</td>\n      <td>06/2018</td>\n      <td>08/2018</td>\n      <td>83</td>\n      <td>83.0</td>\n      <td>...</td>\n      <td>PU</td>\n      <td>1</td>\n      <td>P</td>\n      <td>TN</td>\n      <td>380</td>\n      <td>12.0</td>\n      <td>FRM</td>\n      <td>NaN</td>\n      <td>1.0</td>\n      <td>N</td>\n    </tr>\n    <tr>\n      <th>639007</th>\n      <td>601090051160</td>\n      <td>R</td>\n      <td>WELLS FARGO BANK, N.A.</td>\n      <td>4.500</td>\n      <td>110000</td>\n      <td>360</td>\n      <td>04/2018</td>\n      <td>06/2018</td>\n      <td>75</td>\n      <td>75.0</td>\n      <td>...</td>\n      <td>CO</td>\n      <td>1</td>\n      <td>P</td>\n      <td>FL</td>\n      <td>327</td>\n      <td>NaN</td>\n      <td>FRM</td>\n      <td>NaN</td>\n      <td>NaN</td>\n      <td>N</td>\n    </tr>\n    <tr>\n      <th>136894</th>\n      <td>387623739446</td>\n      <td>B</td>\n      <td>OTHER</td>\n      <td>4.500</td>\n      <td>546000</td>\n      <td>360</td>\n      <td>12/2017</td>\n      <td>02/2018</td>\n      <td>70</td>\n      <td>70.0</td>\n      <td>...</td>\n      <td>SF</td>\n      <td>2</td>\n      <td>P</td>\n      <td>NY</td>\n      <td>114</td>\n      <td>NaN</td>\n      <td>FRM</td>\n      <td>NaN</td>\n      <td>NaN</td>\n      <td>N</td>\n    </tr>\n    <tr>\n      <th>1539297</th>\n      <td>788968275653</td>\n      <td>R</td>\n      <td>U.S. BANK N.A.</td>\n      <td>4.875</td>\n      <td>187000</td>\n      <td>360</td>\n      <td>09/2018</td>\n      <td>11/2018</td>\n      <td>80</td>\n      <td>80.0</td>\n      <td>...</td>\n      <td>SF</td>\n      <td>1</td>\n      <td>P</td>\n      <td>TX</td>\n      <td>784</td>\n      <td>NaN</td>\n      <td>FRM</td>\n      <td>NaN</td>\n      <td>NaN</td>\n      <td>N</td>\n    </tr>\n    <tr>\n      <th>536571</th>\n      <td>358621192050</td>\n      <td>R</td>\n      <td>FAIRWAY INDEPENDENT MORTGAGE CORPORATION</td>\n      <td>4.625</td>\n      <td>288000</td>\n      <td>360</td>\n      <td>05/2018</td>\n      <td>07/2018</td>\n      <td>80</td>\n      <td>80.0</td>\n      <td>...</td>\n      <td>PU</td>\n      <td>1</td>\n      <td>S</td>\n      <td>AZ</td>\n      <td>863</td>\n      <td>NaN</td>\n      <td>FRM</td>\n      <td>NaN</td>\n      <td>NaN</td>\n      <td>N</td>\n    </tr>\n  </tbody>\n</table>\n<p>5 rows × 25 columns</p>\n</div>"
     },
     "metadata": {},
     "execution_count": 6
    }
   ],
   "source": [
    "### five random five records\n",
    "acquisition.sample(5)"
   ]
  },
  {
   "cell_type": "code",
   "execution_count": 7,
   "metadata": {},
   "outputs": [
    {
     "output_type": "stream",
     "name": "stdout",
     "text": "CPU times: user 57.1 s, sys: 14.1 s, total: 1min 11s\nWall time: 25 s\n"
    },
    {
     "output_type": "execute_result",
     "data": {
      "text/plain": "(28552851, 31)"
     },
     "metadata": {},
     "execution_count": 7
    }
   ],
   "source": [
    "%%time\n",
    "#### Import performance data\n",
    "performance_Variables = [\n",
    "    \"LOAN_ID\", \"Monthly_Rpt_Prd\", \"Servicer_Name\", \"LAST_RT\", \"LAST_UPB\", \"Loan_Age\", \"Months_To_Legal_Mat\",\n",
    "    \"Adj_Month_To_Mat\", \"Maturity_Date\", \"MSA\", \"Delq_Status\", \"MOD_FLAG\", \"Zero_Bal_Code\", \"ZB_DTE\", \"LPI_DTE\",\n",
    "    \"Foreclosure_date\",\"DISP_DT\", \"FCC_COST\", \"PP_COST\", \"AR_COST\", \"IE_COST\", \"TAX_COST\", \"NS_PROCS\", \"CE_PROCS\", \"RMW_PROCS\",\n",
    "    \"O_PROCS\", \"NON_INT_UPB\", \"PRIN_FORG_UPB_FHFA\", \"REPCH_FLAG\", \"PRIN_FORG_UPB_OTH\", \"TRANSFER_FLG\"\n",
    "]\n",
    "\n",
    "performance = dt.fread(\n",
    "    \"data/performance.zip\",\n",
    "    sep = \"|\",\n",
    "    header = None ,\n",
    "    columns = performance_Variables\n",
    ")\n",
    "\n",
    "#performance = performance.to_pandas()\n",
    "performance.shape"
   ]
  },
  {
   "cell_type": "code",
   "execution_count": 8,
   "metadata": {},
   "outputs": [
    {
     "output_type": "stream",
     "name": "stdout",
     "text": "CPU times: user 51.4 s, sys: 36.3 s, total: 1min 27s\nWall time: 1min 17s\n"
    }
   ],
   "source": [
    "%%time\n",
    "performance = performance.to_pandas()"
   ]
  },
  {
   "cell_type": "code",
   "execution_count": 9,
   "metadata": {},
   "outputs": [
    {
     "output_type": "execute_result",
     "data": {
      "text/plain": "        LOAN_ID Monthly_Rpt_Prd       Servicer_Name  LAST_RT  LAST_UPB  \\\n0  100001040173      02/01/2018  QUICKEN LOANS INC.     4.25       NaN   \n1  100001040173      03/01/2018                         4.25       NaN   \n2  100001040173      04/01/2018                         4.25       NaN   \n3  100001040173      05/01/2018                         4.25       NaN   \n4  100001040173      06/01/2018                         4.25       NaN   \n\n   Loan_Age  Months_To_Legal_Mat  Adj_Month_To_Mat Maturity_Date    MSA  ...  \\\n0         0                  360             360.0       02/2048  18140  ...   \n1         1                  359             359.0       02/2048  18140  ...   \n2         2                  358             358.0       02/2048  18140  ...   \n3         3                  357             357.0       02/2048  18140  ...   \n4         4                  356             356.0       02/2048  18140  ...   \n\n  TAX_COST NS_PROCS  CE_PROCS RMW_PROCS O_PROCS NON_INT_UPB  \\\n0      NaN      NaN       NaN       NaN     NaN         NaN   \n1      NaN      NaN       NaN       NaN     NaN         NaN   \n2      NaN      NaN       NaN       NaN     NaN         NaN   \n3      NaN      NaN       NaN       NaN     NaN         NaN   \n4      NaN      NaN       NaN       NaN     NaN         NaN   \n\n  PRIN_FORG_UPB_FHFA  REPCH_FLAG  PRIN_FORG_UPB_OTH  TRANSFER_FLG  \n0                NaN                            NaN             N  \n1                NaN                            NaN             N  \n2                NaN                            NaN             N  \n3                NaN                            NaN             N  \n4                NaN                            NaN             N  \n\n[5 rows x 31 columns]",
      "text/html": "<div>\n<style scoped>\n    .dataframe tbody tr th:only-of-type {\n        vertical-align: middle;\n    }\n\n    .dataframe tbody tr th {\n        vertical-align: top;\n    }\n\n    .dataframe thead th {\n        text-align: right;\n    }\n</style>\n<table border=\"1\" class=\"dataframe\">\n  <thead>\n    <tr style=\"text-align: right;\">\n      <th></th>\n      <th>LOAN_ID</th>\n      <th>Monthly_Rpt_Prd</th>\n      <th>Servicer_Name</th>\n      <th>LAST_RT</th>\n      <th>LAST_UPB</th>\n      <th>Loan_Age</th>\n      <th>Months_To_Legal_Mat</th>\n      <th>Adj_Month_To_Mat</th>\n      <th>Maturity_Date</th>\n      <th>MSA</th>\n      <th>...</th>\n      <th>TAX_COST</th>\n      <th>NS_PROCS</th>\n      <th>CE_PROCS</th>\n      <th>RMW_PROCS</th>\n      <th>O_PROCS</th>\n      <th>NON_INT_UPB</th>\n      <th>PRIN_FORG_UPB_FHFA</th>\n      <th>REPCH_FLAG</th>\n      <th>PRIN_FORG_UPB_OTH</th>\n      <th>TRANSFER_FLG</th>\n    </tr>\n  </thead>\n  <tbody>\n    <tr>\n      <th>0</th>\n      <td>100001040173</td>\n      <td>02/01/2018</td>\n      <td>QUICKEN LOANS INC.</td>\n      <td>4.25</td>\n      <td>NaN</td>\n      <td>0</td>\n      <td>360</td>\n      <td>360.0</td>\n      <td>02/2048</td>\n      <td>18140</td>\n      <td>...</td>\n      <td>NaN</td>\n      <td>NaN</td>\n      <td>NaN</td>\n      <td>NaN</td>\n      <td>NaN</td>\n      <td>NaN</td>\n      <td>NaN</td>\n      <td></td>\n      <td>NaN</td>\n      <td>N</td>\n    </tr>\n    <tr>\n      <th>1</th>\n      <td>100001040173</td>\n      <td>03/01/2018</td>\n      <td></td>\n      <td>4.25</td>\n      <td>NaN</td>\n      <td>1</td>\n      <td>359</td>\n      <td>359.0</td>\n      <td>02/2048</td>\n      <td>18140</td>\n      <td>...</td>\n      <td>NaN</td>\n      <td>NaN</td>\n      <td>NaN</td>\n      <td>NaN</td>\n      <td>NaN</td>\n      <td>NaN</td>\n      <td>NaN</td>\n      <td></td>\n      <td>NaN</td>\n      <td>N</td>\n    </tr>\n    <tr>\n      <th>2</th>\n      <td>100001040173</td>\n      <td>04/01/2018</td>\n      <td></td>\n      <td>4.25</td>\n      <td>NaN</td>\n      <td>2</td>\n      <td>358</td>\n      <td>358.0</td>\n      <td>02/2048</td>\n      <td>18140</td>\n      <td>...</td>\n      <td>NaN</td>\n      <td>NaN</td>\n      <td>NaN</td>\n      <td>NaN</td>\n      <td>NaN</td>\n      <td>NaN</td>\n      <td>NaN</td>\n      <td></td>\n      <td>NaN</td>\n      <td>N</td>\n    </tr>\n    <tr>\n      <th>3</th>\n      <td>100001040173</td>\n      <td>05/01/2018</td>\n      <td></td>\n      <td>4.25</td>\n      <td>NaN</td>\n      <td>3</td>\n      <td>357</td>\n      <td>357.0</td>\n      <td>02/2048</td>\n      <td>18140</td>\n      <td>...</td>\n      <td>NaN</td>\n      <td>NaN</td>\n      <td>NaN</td>\n      <td>NaN</td>\n      <td>NaN</td>\n      <td>NaN</td>\n      <td>NaN</td>\n      <td></td>\n      <td>NaN</td>\n      <td>N</td>\n    </tr>\n    <tr>\n      <th>4</th>\n      <td>100001040173</td>\n      <td>06/01/2018</td>\n      <td></td>\n      <td>4.25</td>\n      <td>NaN</td>\n      <td>4</td>\n      <td>356</td>\n      <td>356.0</td>\n      <td>02/2048</td>\n      <td>18140</td>\n      <td>...</td>\n      <td>NaN</td>\n      <td>NaN</td>\n      <td>NaN</td>\n      <td>NaN</td>\n      <td>NaN</td>\n      <td>NaN</td>\n      <td>NaN</td>\n      <td></td>\n      <td>NaN</td>\n      <td>N</td>\n    </tr>\n  </tbody>\n</table>\n<p>5 rows × 31 columns</p>\n</div>"
     },
     "metadata": {},
     "execution_count": 9
    }
   ],
   "source": [
    "#### first 5 records\n",
    "performance.head(5)"
   ]
  },
  {
   "cell_type": "markdown",
   "metadata": {},
   "source": [
    "## Start with a simple analysis\n",
    "\n",
    "This will be the easiest in terms of data prep. Look only at mortgages starting in one specific quarter. For the performance we look at foreclosure or not. So if there is a date in the Foreclosure_date column then the mortgage defaulted otherwise the mortgae did not defaulted. This is the worst that can happen to a mortgage. Latwer we will look at a different performance, days past due where the mortgage does not neccesarily goes default.\n"
   ]
  },
  {
   "cell_type": "code",
   "execution_count": 10,
   "metadata": {},
   "outputs": [
    {
     "output_type": "stream",
     "name": "stdout",
     "text": "CPU times: user 718 ms, sys: 315 ms, total: 1.03 s\nWall time: 1.07 s\n"
    }
   ],
   "source": [
    "%%time\n",
    "foreclosures = (\n",
    "    performance\n",
    "    .query(\"Foreclosure_date != ''\")\n",
    "    .filter([\"LOAN_ID\", \"Foreclosure_date\"])\n",
    ")\n"
   ]
  },
  {
   "cell_type": "code",
   "execution_count": 11,
   "metadata": {},
   "outputs": [
    {
     "output_type": "execute_result",
     "data": {
      "text/plain": "               LOAN_ID Foreclosure_date\n19600     101917807151       10/01/2019\n142167    113708792510       05/01/2019\n249385    124076558673       08/01/2019\n618991    159787643799       12/01/2018\n679978    165820326073       10/01/2019\n...                ...              ...\n28070852  909577942160       11/01/2019\n28116099  918106303345       08/01/2019\n28157520  925789776954       09/01/2019\n28331073  958169517513       08/01/2019\n28477656  985888457739       09/01/2019\n\n[321 rows x 2 columns]",
      "text/html": "<div>\n<style scoped>\n    .dataframe tbody tr th:only-of-type {\n        vertical-align: middle;\n    }\n\n    .dataframe tbody tr th {\n        vertical-align: top;\n    }\n\n    .dataframe thead th {\n        text-align: right;\n    }\n</style>\n<table border=\"1\" class=\"dataframe\">\n  <thead>\n    <tr style=\"text-align: right;\">\n      <th></th>\n      <th>LOAN_ID</th>\n      <th>Foreclosure_date</th>\n    </tr>\n  </thead>\n  <tbody>\n    <tr>\n      <th>19600</th>\n      <td>101917807151</td>\n      <td>10/01/2019</td>\n    </tr>\n    <tr>\n      <th>142167</th>\n      <td>113708792510</td>\n      <td>05/01/2019</td>\n    </tr>\n    <tr>\n      <th>249385</th>\n      <td>124076558673</td>\n      <td>08/01/2019</td>\n    </tr>\n    <tr>\n      <th>618991</th>\n      <td>159787643799</td>\n      <td>12/01/2018</td>\n    </tr>\n    <tr>\n      <th>679978</th>\n      <td>165820326073</td>\n      <td>10/01/2019</td>\n    </tr>\n    <tr>\n      <th>...</th>\n      <td>...</td>\n      <td>...</td>\n    </tr>\n    <tr>\n      <th>28070852</th>\n      <td>909577942160</td>\n      <td>11/01/2019</td>\n    </tr>\n    <tr>\n      <th>28116099</th>\n      <td>918106303345</td>\n      <td>08/01/2019</td>\n    </tr>\n    <tr>\n      <th>28157520</th>\n      <td>925789776954</td>\n      <td>09/01/2019</td>\n    </tr>\n    <tr>\n      <th>28331073</th>\n      <td>958169517513</td>\n      <td>08/01/2019</td>\n    </tr>\n    <tr>\n      <th>28477656</th>\n      <td>985888457739</td>\n      <td>09/01/2019</td>\n    </tr>\n  </tbody>\n</table>\n<p>321 rows × 2 columns</p>\n</div>"
     },
     "metadata": {},
     "execution_count": 11
    }
   ],
   "source": [
    "foreclosures"
   ]
  },
  {
   "cell_type": "code",
   "execution_count": 12,
   "metadata": {},
   "outputs": [
    {
     "output_type": "stream",
     "name": "stdout",
     "text": "CPU times: user 3.26 s, sys: 1.88 s, total: 5.14 s\nWall time: 5.65 s\n"
    }
   ],
   "source": [
    "%%time\n",
    "mortgages = (\n",
    "    acquisition\n",
    "    .merge(\n",
    "        foreclosures,\n",
    "        how=\"left\",\n",
    "        left_on=\"LOAN_ID\",\n",
    "        right_on=\"LOAN_ID\"\n",
    "    )\n",
    "    .filter([ \n",
    "        \"LOAN_ID\",\"ORIG_DTE\",\"FRST_DTE\", \"Debt_to_Income\", \"Borrower_Credit_Score\", \"PURPOSE\",\n",
    "        \"Monthly_Rpt_Prd\", \"Loan_Age\", \"Seller_Name\", \"ORIG_RT\",\t\"ORIG_AMT\",\n",
    "        \"Zero_Bal_Code\", \"Delq_Status\", \"ZB_DTE\", \"LPI_DTE\", \"Foreclosure_date\"\n",
    "    ])\n",
    ")\n",
    "\n",
    "mortgages = (\n",
    "    mortgages\n",
    "    .assign(target = mortgages.Foreclosure_date.notna().astype(int))\n",
    ")"
   ]
  },
  {
   "cell_type": "code",
   "execution_count": 13,
   "metadata": {},
   "outputs": [
    {
     "output_type": "execute_result",
     "data": {
      "text/plain": "              LOAN_ID ORIG_DTE FRST_DTE  Debt_to_Income  \\\n0        100001040173  01/2018  03/2018            28.0   \n1        100002370993  01/2018  03/2018            41.0   \n2        100005405807  12/2017  01/2018            48.0   \n3        100008071646  01/2018  03/2018            48.0   \n4        100010739040  02/2018  04/2018            22.0   \n...               ...      ...      ...             ...   \n1625190  999988817135  09/2018  11/2018            49.0   \n1625191  999989388326  10/2018  12/2018            38.0   \n1625192  999991672082  07/2018  09/2018            17.0   \n1625193  999996626839  09/2018  11/2018            49.0   \n1625194  999997572341  10/2018  12/2018            38.0   \n\n         Borrower_Credit_Score PURPOSE             Seller_Name  ORIG_RT  \\\n0                        791.0       C      QUICKEN LOANS INC.    4.250   \n1                        736.0       R  WELLS FARGO BANK, N.A.    4.250   \n2                        696.0       R                   PMTT4    3.990   \n3                        767.0       P                   OTHER    4.250   \n4                        727.0       R                   OTHER    4.250   \n...                        ...     ...                     ...      ...   \n1625190                  723.0       C                   OTHER    5.375   \n1625191                  765.0       P                   OTHER    4.625   \n1625192                  725.0       C      FLAGSTAR BANK, FSB    5.500   \n1625193                  691.0       C      QUICKEN LOANS INC.    5.250   \n1625194                  811.0       R                   OTHER    4.750   \n\n         ORIG_AMT Foreclosure_date  target  \n0          453000              NaN       0  \n1          266000              NaN       0  \n2          233000              NaN       0  \n3          184000              NaN       0  \n4          242000              NaN       0  \n...           ...              ...     ...  \n1625190    180000              NaN       0  \n1625191    257000              NaN       0  \n1625192    520000              NaN       0  \n1625193    360000              NaN       0  \n1625194    135000              NaN       0  \n\n[1625195 rows x 11 columns]",
      "text/html": "<div>\n<style scoped>\n    .dataframe tbody tr th:only-of-type {\n        vertical-align: middle;\n    }\n\n    .dataframe tbody tr th {\n        vertical-align: top;\n    }\n\n    .dataframe thead th {\n        text-align: right;\n    }\n</style>\n<table border=\"1\" class=\"dataframe\">\n  <thead>\n    <tr style=\"text-align: right;\">\n      <th></th>\n      <th>LOAN_ID</th>\n      <th>ORIG_DTE</th>\n      <th>FRST_DTE</th>\n      <th>Debt_to_Income</th>\n      <th>Borrower_Credit_Score</th>\n      <th>PURPOSE</th>\n      <th>Seller_Name</th>\n      <th>ORIG_RT</th>\n      <th>ORIG_AMT</th>\n      <th>Foreclosure_date</th>\n      <th>target</th>\n    </tr>\n  </thead>\n  <tbody>\n    <tr>\n      <th>0</th>\n      <td>100001040173</td>\n      <td>01/2018</td>\n      <td>03/2018</td>\n      <td>28.0</td>\n      <td>791.0</td>\n      <td>C</td>\n      <td>QUICKEN LOANS INC.</td>\n      <td>4.250</td>\n      <td>453000</td>\n      <td>NaN</td>\n      <td>0</td>\n    </tr>\n    <tr>\n      <th>1</th>\n      <td>100002370993</td>\n      <td>01/2018</td>\n      <td>03/2018</td>\n      <td>41.0</td>\n      <td>736.0</td>\n      <td>R</td>\n      <td>WELLS FARGO BANK, N.A.</td>\n      <td>4.250</td>\n      <td>266000</td>\n      <td>NaN</td>\n      <td>0</td>\n    </tr>\n    <tr>\n      <th>2</th>\n      <td>100005405807</td>\n      <td>12/2017</td>\n      <td>01/2018</td>\n      <td>48.0</td>\n      <td>696.0</td>\n      <td>R</td>\n      <td>PMTT4</td>\n      <td>3.990</td>\n      <td>233000</td>\n      <td>NaN</td>\n      <td>0</td>\n    </tr>\n    <tr>\n      <th>3</th>\n      <td>100008071646</td>\n      <td>01/2018</td>\n      <td>03/2018</td>\n      <td>48.0</td>\n      <td>767.0</td>\n      <td>P</td>\n      <td>OTHER</td>\n      <td>4.250</td>\n      <td>184000</td>\n      <td>NaN</td>\n      <td>0</td>\n    </tr>\n    <tr>\n      <th>4</th>\n      <td>100010739040</td>\n      <td>02/2018</td>\n      <td>04/2018</td>\n      <td>22.0</td>\n      <td>727.0</td>\n      <td>R</td>\n      <td>OTHER</td>\n      <td>4.250</td>\n      <td>242000</td>\n      <td>NaN</td>\n      <td>0</td>\n    </tr>\n    <tr>\n      <th>...</th>\n      <td>...</td>\n      <td>...</td>\n      <td>...</td>\n      <td>...</td>\n      <td>...</td>\n      <td>...</td>\n      <td>...</td>\n      <td>...</td>\n      <td>...</td>\n      <td>...</td>\n      <td>...</td>\n    </tr>\n    <tr>\n      <th>1625190</th>\n      <td>999988817135</td>\n      <td>09/2018</td>\n      <td>11/2018</td>\n      <td>49.0</td>\n      <td>723.0</td>\n      <td>C</td>\n      <td>OTHER</td>\n      <td>5.375</td>\n      <td>180000</td>\n      <td>NaN</td>\n      <td>0</td>\n    </tr>\n    <tr>\n      <th>1625191</th>\n      <td>999989388326</td>\n      <td>10/2018</td>\n      <td>12/2018</td>\n      <td>38.0</td>\n      <td>765.0</td>\n      <td>P</td>\n      <td>OTHER</td>\n      <td>4.625</td>\n      <td>257000</td>\n      <td>NaN</td>\n      <td>0</td>\n    </tr>\n    <tr>\n      <th>1625192</th>\n      <td>999991672082</td>\n      <td>07/2018</td>\n      <td>09/2018</td>\n      <td>17.0</td>\n      <td>725.0</td>\n      <td>C</td>\n      <td>FLAGSTAR BANK, FSB</td>\n      <td>5.500</td>\n      <td>520000</td>\n      <td>NaN</td>\n      <td>0</td>\n    </tr>\n    <tr>\n      <th>1625193</th>\n      <td>999996626839</td>\n      <td>09/2018</td>\n      <td>11/2018</td>\n      <td>49.0</td>\n      <td>691.0</td>\n      <td>C</td>\n      <td>QUICKEN LOANS INC.</td>\n      <td>5.250</td>\n      <td>360000</td>\n      <td>NaN</td>\n      <td>0</td>\n    </tr>\n    <tr>\n      <th>1625194</th>\n      <td>999997572341</td>\n      <td>10/2018</td>\n      <td>12/2018</td>\n      <td>38.0</td>\n      <td>811.0</td>\n      <td>R</td>\n      <td>OTHER</td>\n      <td>4.750</td>\n      <td>135000</td>\n      <td>NaN</td>\n      <td>0</td>\n    </tr>\n  </tbody>\n</table>\n<p>1625195 rows × 11 columns</p>\n</div>"
     },
     "metadata": {},
     "execution_count": 13
    }
   ],
   "source": [
    "mortgages"
   ]
  },
  {
   "cell_type": "code",
   "execution_count": 14,
   "metadata": {},
   "outputs": [
    {
     "output_type": "execute_result",
     "data": {
      "text/plain": "count    1.625195e+06\nmean     1.975148e-04\nstd      1.405261e-02\nmin      0.000000e+00\n25%      0.000000e+00\n50%      0.000000e+00\n75%      0.000000e+00\nmax      1.000000e+00\nName: target, dtype: float64"
     },
     "metadata": {},
     "execution_count": 14
    }
   ],
   "source": [
    "mortgages.target.describe()"
   ]
  },
  {
   "cell_type": "code",
   "execution_count": 15,
   "metadata": {},
   "outputs": [
    {
     "output_type": "execute_result",
     "data": {
      "text/plain": "0.019751480000000002"
     },
     "metadata": {},
     "execution_count": 15
    }
   ],
   "source": [
    "1.975148e-04 *100"
   ]
  },
  {
   "cell_type": "markdown",
   "metadata": {},
   "source": [
    "So we see a default rate ofaround 0.518%.\n",
    "\n",
    "We can also look at a different target. First time that a mortgage goes into 90 days or more past due. We can use the column `Delq_Status`, it is the Loan Delinquency status and has the following meaning:\n",
    "\n",
    "* 0 - \"Current or less than 30 days past due\"\n",
    "* 1 - \"30 - 59 days past due\"\n",
    "* 2 - \"60 - 89 days past due\"\n",
    "* 3 - \"90 - 119 days past due\"\n",
    "* 4 - \"120 - 149 days past due\"\n",
    "* 5 - \"150 - 179 days past due\"\n",
    "* 6 - \"180 Day Delinquency\"\n",
    "* 7 - \"210 Day Delinquency\"\n",
    "* 8 - \"240 Day Delinquency\"\n",
    "* 9 - \"270 Day Delinquency\" / \"270+ Day Delinquency\""
   ]
  },
  {
   "cell_type": "code",
   "execution_count": 16,
   "metadata": {},
   "outputs": [],
   "source": [
    "### select the status 3\n",
    "tmp = (\n",
    "    performance\n",
    "    .query(\"Delq_Status == '3'\")\n",
    "    .filter([\"LOAN_ID\", \"Monthly_Rpt_Prd\", \"Delq_Status\"])\n",
    ")\n",
    "\n",
    "### select the first time when status 3 happened\n",
    "tmp = (\n",
    "    tmp\n",
    "    .assign(date = pd.to_datetime(tmp.Monthly_Rpt_Prd))\n",
    "    .sort_values(by = [\"LOAN_ID\", \"Monthly_Rpt_Prd\"])  \n",
    ")\n",
    "\n",
    "perf_90 = tmp.drop_duplicates(subset=[\"LOAN_ID\"])"
   ]
  },
  {
   "cell_type": "code",
   "execution_count": 17,
   "metadata": {},
   "outputs": [
    {
     "output_type": "execute_result",
     "data": {
      "text/plain": "(8833, 4)"
     },
     "metadata": {},
     "execution_count": 17
    }
   ],
   "source": [
    "perf_90.shape"
   ]
  },
  {
   "cell_type": "code",
   "execution_count": 18,
   "metadata": {},
   "outputs": [],
   "source": [
    "mortgages2 = (\n",
    "    mortgages\n",
    "    .merge(\n",
    "        perf_90,\n",
    "        how=\"left\",\n",
    "        left_on=\"LOAN_ID\",\n",
    "        right_on=\"LOAN_ID\"\n",
    "    )\n",
    ")\n",
    "\n",
    "mortgages2 = (\n",
    "    mortgages2\n",
    "    .assign(target_90 = mortgages2.date.notna().astype(int))\n",
    ")"
   ]
  },
  {
   "cell_type": "code",
   "execution_count": 19,
   "metadata": {},
   "outputs": [
    {
     "output_type": "execute_result",
     "data": {
      "text/plain": "              LOAN_ID ORIG_DTE FRST_DTE  Debt_to_Income  \\\n0        100001040173  01/2018  03/2018            28.0   \n1        100002370993  01/2018  03/2018            41.0   \n2        100005405807  12/2017  01/2018            48.0   \n3        100008071646  01/2018  03/2018            48.0   \n4        100010739040  02/2018  04/2018            22.0   \n...               ...      ...      ...             ...   \n1625190  999988817135  09/2018  11/2018            49.0   \n1625191  999989388326  10/2018  12/2018            38.0   \n1625192  999991672082  07/2018  09/2018            17.0   \n1625193  999996626839  09/2018  11/2018            49.0   \n1625194  999997572341  10/2018  12/2018            38.0   \n\n         Borrower_Credit_Score PURPOSE             Seller_Name  ORIG_RT  \\\n0                        791.0       C      QUICKEN LOANS INC.    4.250   \n1                        736.0       R  WELLS FARGO BANK, N.A.    4.250   \n2                        696.0       R                   PMTT4    3.990   \n3                        767.0       P                   OTHER    4.250   \n4                        727.0       R                   OTHER    4.250   \n...                        ...     ...                     ...      ...   \n1625190                  723.0       C                   OTHER    5.375   \n1625191                  765.0       P                   OTHER    4.625   \n1625192                  725.0       C      FLAGSTAR BANK, FSB    5.500   \n1625193                  691.0       C      QUICKEN LOANS INC.    5.250   \n1625194                  811.0       R                   OTHER    4.750   \n\n         ORIG_AMT Foreclosure_date  target Monthly_Rpt_Prd Delq_Status date  \\\n0          453000              NaN       0             NaN         NaN  NaT   \n1          266000              NaN       0             NaN         NaN  NaT   \n2          233000              NaN       0             NaN         NaN  NaT   \n3          184000              NaN       0             NaN         NaN  NaT   \n4          242000              NaN       0             NaN         NaN  NaT   \n...           ...              ...     ...             ...         ...  ...   \n1625190    180000              NaN       0             NaN         NaN  NaT   \n1625191    257000              NaN       0             NaN         NaN  NaT   \n1625192    520000              NaN       0             NaN         NaN  NaT   \n1625193    360000              NaN       0             NaN         NaN  NaT   \n1625194    135000              NaN       0             NaN         NaN  NaT   \n\n         target_90  \n0                0  \n1                0  \n2                0  \n3                0  \n4                0  \n...            ...  \n1625190          0  \n1625191          0  \n1625192          0  \n1625193          0  \n1625194          0  \n\n[1625195 rows x 15 columns]",
      "text/html": "<div>\n<style scoped>\n    .dataframe tbody tr th:only-of-type {\n        vertical-align: middle;\n    }\n\n    .dataframe tbody tr th {\n        vertical-align: top;\n    }\n\n    .dataframe thead th {\n        text-align: right;\n    }\n</style>\n<table border=\"1\" class=\"dataframe\">\n  <thead>\n    <tr style=\"text-align: right;\">\n      <th></th>\n      <th>LOAN_ID</th>\n      <th>ORIG_DTE</th>\n      <th>FRST_DTE</th>\n      <th>Debt_to_Income</th>\n      <th>Borrower_Credit_Score</th>\n      <th>PURPOSE</th>\n      <th>Seller_Name</th>\n      <th>ORIG_RT</th>\n      <th>ORIG_AMT</th>\n      <th>Foreclosure_date</th>\n      <th>target</th>\n      <th>Monthly_Rpt_Prd</th>\n      <th>Delq_Status</th>\n      <th>date</th>\n      <th>target_90</th>\n    </tr>\n  </thead>\n  <tbody>\n    <tr>\n      <th>0</th>\n      <td>100001040173</td>\n      <td>01/2018</td>\n      <td>03/2018</td>\n      <td>28.0</td>\n      <td>791.0</td>\n      <td>C</td>\n      <td>QUICKEN LOANS INC.</td>\n      <td>4.250</td>\n      <td>453000</td>\n      <td>NaN</td>\n      <td>0</td>\n      <td>NaN</td>\n      <td>NaN</td>\n      <td>NaT</td>\n      <td>0</td>\n    </tr>\n    <tr>\n      <th>1</th>\n      <td>100002370993</td>\n      <td>01/2018</td>\n      <td>03/2018</td>\n      <td>41.0</td>\n      <td>736.0</td>\n      <td>R</td>\n      <td>WELLS FARGO BANK, N.A.</td>\n      <td>4.250</td>\n      <td>266000</td>\n      <td>NaN</td>\n      <td>0</td>\n      <td>NaN</td>\n      <td>NaN</td>\n      <td>NaT</td>\n      <td>0</td>\n    </tr>\n    <tr>\n      <th>2</th>\n      <td>100005405807</td>\n      <td>12/2017</td>\n      <td>01/2018</td>\n      <td>48.0</td>\n      <td>696.0</td>\n      <td>R</td>\n      <td>PMTT4</td>\n      <td>3.990</td>\n      <td>233000</td>\n      <td>NaN</td>\n      <td>0</td>\n      <td>NaN</td>\n      <td>NaN</td>\n      <td>NaT</td>\n      <td>0</td>\n    </tr>\n    <tr>\n      <th>3</th>\n      <td>100008071646</td>\n      <td>01/2018</td>\n      <td>03/2018</td>\n      <td>48.0</td>\n      <td>767.0</td>\n      <td>P</td>\n      <td>OTHER</td>\n      <td>4.250</td>\n      <td>184000</td>\n      <td>NaN</td>\n      <td>0</td>\n      <td>NaN</td>\n      <td>NaN</td>\n      <td>NaT</td>\n      <td>0</td>\n    </tr>\n    <tr>\n      <th>4</th>\n      <td>100010739040</td>\n      <td>02/2018</td>\n      <td>04/2018</td>\n      <td>22.0</td>\n      <td>727.0</td>\n      <td>R</td>\n      <td>OTHER</td>\n      <td>4.250</td>\n      <td>242000</td>\n      <td>NaN</td>\n      <td>0</td>\n      <td>NaN</td>\n      <td>NaN</td>\n      <td>NaT</td>\n      <td>0</td>\n    </tr>\n    <tr>\n      <th>...</th>\n      <td>...</td>\n      <td>...</td>\n      <td>...</td>\n      <td>...</td>\n      <td>...</td>\n      <td>...</td>\n      <td>...</td>\n      <td>...</td>\n      <td>...</td>\n      <td>...</td>\n      <td>...</td>\n      <td>...</td>\n      <td>...</td>\n      <td>...</td>\n      <td>...</td>\n    </tr>\n    <tr>\n      <th>1625190</th>\n      <td>999988817135</td>\n      <td>09/2018</td>\n      <td>11/2018</td>\n      <td>49.0</td>\n      <td>723.0</td>\n      <td>C</td>\n      <td>OTHER</td>\n      <td>5.375</td>\n      <td>180000</td>\n      <td>NaN</td>\n      <td>0</td>\n      <td>NaN</td>\n      <td>NaN</td>\n      <td>NaT</td>\n      <td>0</td>\n    </tr>\n    <tr>\n      <th>1625191</th>\n      <td>999989388326</td>\n      <td>10/2018</td>\n      <td>12/2018</td>\n      <td>38.0</td>\n      <td>765.0</td>\n      <td>P</td>\n      <td>OTHER</td>\n      <td>4.625</td>\n      <td>257000</td>\n      <td>NaN</td>\n      <td>0</td>\n      <td>NaN</td>\n      <td>NaN</td>\n      <td>NaT</td>\n      <td>0</td>\n    </tr>\n    <tr>\n      <th>1625192</th>\n      <td>999991672082</td>\n      <td>07/2018</td>\n      <td>09/2018</td>\n      <td>17.0</td>\n      <td>725.0</td>\n      <td>C</td>\n      <td>FLAGSTAR BANK, FSB</td>\n      <td>5.500</td>\n      <td>520000</td>\n      <td>NaN</td>\n      <td>0</td>\n      <td>NaN</td>\n      <td>NaN</td>\n      <td>NaT</td>\n      <td>0</td>\n    </tr>\n    <tr>\n      <th>1625193</th>\n      <td>999996626839</td>\n      <td>09/2018</td>\n      <td>11/2018</td>\n      <td>49.0</td>\n      <td>691.0</td>\n      <td>C</td>\n      <td>QUICKEN LOANS INC.</td>\n      <td>5.250</td>\n      <td>360000</td>\n      <td>NaN</td>\n      <td>0</td>\n      <td>NaN</td>\n      <td>NaN</td>\n      <td>NaT</td>\n      <td>0</td>\n    </tr>\n    <tr>\n      <th>1625194</th>\n      <td>999997572341</td>\n      <td>10/2018</td>\n      <td>12/2018</td>\n      <td>38.0</td>\n      <td>811.0</td>\n      <td>R</td>\n      <td>OTHER</td>\n      <td>4.750</td>\n      <td>135000</td>\n      <td>NaN</td>\n      <td>0</td>\n      <td>NaN</td>\n      <td>NaN</td>\n      <td>NaT</td>\n      <td>0</td>\n    </tr>\n  </tbody>\n</table>\n<p>1625195 rows × 15 columns</p>\n</div>"
     },
     "metadata": {},
     "execution_count": 19
    }
   ],
   "source": [
    "mortgages2"
   ]
  },
  {
   "cell_type": "code",
   "execution_count": 20,
   "metadata": {},
   "outputs": [
    {
     "output_type": "execute_result",
     "data": {
      "text/plain": "             target     target_90\ncount  1.625195e+06  1.625195e+06\nmean   1.975148e-04  5.435040e-03\nstd    1.405261e-02  7.352213e-02\nmin    0.000000e+00  0.000000e+00\n25%    0.000000e+00  0.000000e+00\n50%    0.000000e+00  0.000000e+00\n75%    0.000000e+00  0.000000e+00\nmax    1.000000e+00  1.000000e+00",
      "text/html": "<div>\n<style scoped>\n    .dataframe tbody tr th:only-of-type {\n        vertical-align: middle;\n    }\n\n    .dataframe tbody tr th {\n        vertical-align: top;\n    }\n\n    .dataframe thead th {\n        text-align: right;\n    }\n</style>\n<table border=\"1\" class=\"dataframe\">\n  <thead>\n    <tr style=\"text-align: right;\">\n      <th></th>\n      <th>target</th>\n      <th>target_90</th>\n    </tr>\n  </thead>\n  <tbody>\n    <tr>\n      <th>count</th>\n      <td>1.625195e+06</td>\n      <td>1.625195e+06</td>\n    </tr>\n    <tr>\n      <th>mean</th>\n      <td>1.975148e-04</td>\n      <td>5.435040e-03</td>\n    </tr>\n    <tr>\n      <th>std</th>\n      <td>1.405261e-02</td>\n      <td>7.352213e-02</td>\n    </tr>\n    <tr>\n      <th>min</th>\n      <td>0.000000e+00</td>\n      <td>0.000000e+00</td>\n    </tr>\n    <tr>\n      <th>25%</th>\n      <td>0.000000e+00</td>\n      <td>0.000000e+00</td>\n    </tr>\n    <tr>\n      <th>50%</th>\n      <td>0.000000e+00</td>\n      <td>0.000000e+00</td>\n    </tr>\n    <tr>\n      <th>75%</th>\n      <td>0.000000e+00</td>\n      <td>0.000000e+00</td>\n    </tr>\n    <tr>\n      <th>max</th>\n      <td>1.000000e+00</td>\n      <td>1.000000e+00</td>\n    </tr>\n  </tbody>\n</table>\n</div>"
     },
     "metadata": {},
     "execution_count": 20
    }
   ],
   "source": [
    "mortgages2.filter([\"target\", \"target_90\"]).describe()"
   ]
  },
  {
   "cell_type": "code",
   "execution_count": 21,
   "metadata": {},
   "outputs": [
    {
     "output_type": "execute_result",
     "data": {
      "text/plain": "0.543504"
     },
     "metadata": {},
     "execution_count": 21
    }
   ],
   "source": [
    "5.435040e-03 * 100"
   ]
  },
  {
   "cell_type": "code",
   "execution_count": null,
   "metadata": {},
   "outputs": [],
   "source": []
  }
 ],
 "metadata": {
  "language_info": {
   "codemirror_mode": {
    "name": "ipython",
    "version": 3
   },
   "file_extension": ".py",
   "mimetype": "text/x-python",
   "name": "python",
   "nbconvert_exporter": "python",
   "pygments_lexer": "ipython3",
   "version": "3.7.3-final"
  },
  "orig_nbformat": 2,
  "kernelspec": {
   "name": "python37364bitbaseconda237d47ed00c34faa8bb5ab0c5c219e3a",
   "display_name": "Python 3.7.3 64-bit ('base': conda)"
  }
 },
 "nbformat": 4,
 "nbformat_minor": 2
}