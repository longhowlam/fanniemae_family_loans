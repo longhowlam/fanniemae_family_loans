{
 "cells": [
  {
   "cell_type": "markdown",
   "metadata": {},
   "source": [
    "# Fannie Mae analysis\n",
    "\n",
    "(just started)\n",
    "\n",
    "This notebook contains some python code to analyse mortgage data\n",
    "See the following link how to download data and [more details](https://www.fanniemae.com/portal/funding-the-market/data/loan-performance-data.html).\n",
    "\n",
    "Per quarter there is a Acquisition data set and a Performance data set. See the [details here](https://www.fanniemae.com/resources/file/fundmarket/pdf/webinar-101.pdf)\n"
   ]
  },
  {
   "cell_type": "code",
   "execution_count": 1,
   "metadata": {},
   "outputs": [],
   "source": [
    "#### using the datatable package from h2o....  super package!\n",
    "import pandas as pd\n",
    "import datatable as dt"
   ]
  },
  {
   "cell_type": "markdown",
   "metadata": {},
   "source": [
    "## import acquisition and performance data\n",
    "\n",
    "The data on mortgages is per quarter of starting mortgages. For example the file 2010Q1.txt contains all mortgaes that started in Q1 2010, each row is one mortgage.\n",
    "\n",
    "The performance of the mortgage in the acquisition file are in the file Performance_2010Q1.txt. Multiple rows in this file correspond to one mortgage, For every mortgage we have the monthly performance of the mortgage, form its start until Dec of 2019."
   ]
  },
  {
   "cell_type": "code",
   "execution_count": 18,
   "metadata": {},
   "outputs": [
    {
     "output_type": "stream",
     "name": "stdout",
     "text": "CPU times: user 3.88 s, sys: 355 ms, total: 4.24 s\nWall time: 840 ms\n"
    },
    {
     "output_type": "execute_result",
     "data": {
      "text/plain": "(323174, 25)"
     },
     "metadata": {},
     "execution_count": 18
    }
   ],
   "source": [
    "%%time\n",
    "\n",
    "#### import Acquisition data\n",
    "Acquisitions_Variables = [\n",
    "    \"LOAN_ID\", \"ORIG_CHN\", \"Seller_Name\", \"ORIG_RT\", \"ORIG_AMT\", \"ORIG_TRM\", \"ORIG_DTE\",\n",
    "    \"FRST_DTE\", \"OLTV\", \"OCLTV\", \"NUM_BO\", \"DTI\", \"CSCORE_B\", \"FTHB_FLG\", \"PURPOSE\", \"PROP_TYP\",\n",
    "    \"NUM_UNIT\", \"OCC_STAT\", \"STATE\", \"ZIP_3\", \"MI_PCT\", \"Product_Type\", \"CSCORE_C\", \"MI_TYPE\", \"RELOCATION_FLG\"\n",
    "]\n",
    "\n",
    "AQ2018Q1 = dt.fread(\n",
    "    \"data/Acquisition_2010Q1.txt\",\n",
    "    sep = \"|\",\n",
    "    header = None ,\n",
    "    columns = Acquisitions_Variables\n",
    ")\n",
    "\n",
    "AQ2018Q1 = AQ2018Q1.to_pandas()\n",
    "AQ2018Q1.shape"
   ]
  },
  {
   "cell_type": "code",
   "execution_count": 19,
   "metadata": {},
   "outputs": [
    {
     "output_type": "execute_result",
     "data": {
      "text/plain": "        LOAN_ID ORIG_CHN                                Seller_Name  ORIG_RT  \\\n0  100010079393        C                     WELLS FARGO BANK, N.A.    4.875   \n1  100013622306        R  JPMORGAN CHASE BANK, NATIONAL ASSOCIATION    4.750   \n2  100019943199        R                                      OTHER    5.000   \n3  100022098429        R                                      OTHER    5.250   \n4  100023088745        R                     WELLS FARGO BANK, N.A.    5.250   \n\n   ORIG_AMT  ORIG_TRM ORIG_DTE FRST_DTE  OLTV  OCLTV  ...  PROP_TYP  NUM_UNIT  \\\n0    284000       360  01/2010  03/2010    80   80.0  ...        PU         1   \n1     87000       180  12/2009  02/2010    63   63.0  ...        SF         1   \n2    417000       360  11/2009  01/2010    43   43.0  ...        PU         1   \n3    461000       360  01/2010  03/2010    61   61.0  ...        SF         2   \n4    100000       360  11/2009  01/2010    80   80.0  ...        CO         1   \n\n   OCC_STAT STATE ZIP_3 MI_PCT  Product_Type CSCORE_C MI_TYPE  RELOCATION_FLG  \n0         P    TX   787    NaN           FRM      NaN     NaN               N  \n1         P    CA   932    NaN           FRM    785.0     NaN               N  \n2         S    FL   342    NaN           FRM    808.0     NaN               N  \n3         P    NY   112    NaN           FRM      NaN     NaN               N  \n4         P    OH   446    NaN           FRM      NaN     NaN               N  \n\n[5 rows x 25 columns]",
      "text/html": "<div>\n<style scoped>\n    .dataframe tbody tr th:only-of-type {\n        vertical-align: middle;\n    }\n\n    .dataframe tbody tr th {\n        vertical-align: top;\n    }\n\n    .dataframe thead th {\n        text-align: right;\n    }\n</style>\n<table border=\"1\" class=\"dataframe\">\n  <thead>\n    <tr style=\"text-align: right;\">\n      <th></th>\n      <th>LOAN_ID</th>\n      <th>ORIG_CHN</th>\n      <th>Seller_Name</th>\n      <th>ORIG_RT</th>\n      <th>ORIG_AMT</th>\n      <th>ORIG_TRM</th>\n      <th>ORIG_DTE</th>\n      <th>FRST_DTE</th>\n      <th>OLTV</th>\n      <th>OCLTV</th>\n      <th>...</th>\n      <th>PROP_TYP</th>\n      <th>NUM_UNIT</th>\n      <th>OCC_STAT</th>\n      <th>STATE</th>\n      <th>ZIP_3</th>\n      <th>MI_PCT</th>\n      <th>Product_Type</th>\n      <th>CSCORE_C</th>\n      <th>MI_TYPE</th>\n      <th>RELOCATION_FLG</th>\n    </tr>\n  </thead>\n  <tbody>\n    <tr>\n      <th>0</th>\n      <td>100010079393</td>\n      <td>C</td>\n      <td>WELLS FARGO BANK, N.A.</td>\n      <td>4.875</td>\n      <td>284000</td>\n      <td>360</td>\n      <td>01/2010</td>\n      <td>03/2010</td>\n      <td>80</td>\n      <td>80.0</td>\n      <td>...</td>\n      <td>PU</td>\n      <td>1</td>\n      <td>P</td>\n      <td>TX</td>\n      <td>787</td>\n      <td>NaN</td>\n      <td>FRM</td>\n      <td>NaN</td>\n      <td>NaN</td>\n      <td>N</td>\n    </tr>\n    <tr>\n      <th>1</th>\n      <td>100013622306</td>\n      <td>R</td>\n      <td>JPMORGAN CHASE BANK, NATIONAL ASSOCIATION</td>\n      <td>4.750</td>\n      <td>87000</td>\n      <td>180</td>\n      <td>12/2009</td>\n      <td>02/2010</td>\n      <td>63</td>\n      <td>63.0</td>\n      <td>...</td>\n      <td>SF</td>\n      <td>1</td>\n      <td>P</td>\n      <td>CA</td>\n      <td>932</td>\n      <td>NaN</td>\n      <td>FRM</td>\n      <td>785.0</td>\n      <td>NaN</td>\n      <td>N</td>\n    </tr>\n    <tr>\n      <th>2</th>\n      <td>100019943199</td>\n      <td>R</td>\n      <td>OTHER</td>\n      <td>5.000</td>\n      <td>417000</td>\n      <td>360</td>\n      <td>11/2009</td>\n      <td>01/2010</td>\n      <td>43</td>\n      <td>43.0</td>\n      <td>...</td>\n      <td>PU</td>\n      <td>1</td>\n      <td>S</td>\n      <td>FL</td>\n      <td>342</td>\n      <td>NaN</td>\n      <td>FRM</td>\n      <td>808.0</td>\n      <td>NaN</td>\n      <td>N</td>\n    </tr>\n    <tr>\n      <th>3</th>\n      <td>100022098429</td>\n      <td>R</td>\n      <td>OTHER</td>\n      <td>5.250</td>\n      <td>461000</td>\n      <td>360</td>\n      <td>01/2010</td>\n      <td>03/2010</td>\n      <td>61</td>\n      <td>61.0</td>\n      <td>...</td>\n      <td>SF</td>\n      <td>2</td>\n      <td>P</td>\n      <td>NY</td>\n      <td>112</td>\n      <td>NaN</td>\n      <td>FRM</td>\n      <td>NaN</td>\n      <td>NaN</td>\n      <td>N</td>\n    </tr>\n    <tr>\n      <th>4</th>\n      <td>100023088745</td>\n      <td>R</td>\n      <td>WELLS FARGO BANK, N.A.</td>\n      <td>5.250</td>\n      <td>100000</td>\n      <td>360</td>\n      <td>11/2009</td>\n      <td>01/2010</td>\n      <td>80</td>\n      <td>80.0</td>\n      <td>...</td>\n      <td>CO</td>\n      <td>1</td>\n      <td>P</td>\n      <td>OH</td>\n      <td>446</td>\n      <td>NaN</td>\n      <td>FRM</td>\n      <td>NaN</td>\n      <td>NaN</td>\n      <td>N</td>\n    </tr>\n  </tbody>\n</table>\n<p>5 rows × 25 columns</p>\n</div>"
     },
     "metadata": {},
     "execution_count": 19
    }
   ],
   "source": [
    "### First five records\n",
    "AQ2018Q1.head(5)"
   ]
  },
  {
   "cell_type": "code",
   "execution_count": 20,
   "metadata": {},
   "outputs": [
    {
     "output_type": "stream",
     "name": "stdout",
     "text": "CPU times: user 1min 5s, sys: 27.4 s, total: 1min 33s\nWall time: 50.8 s\n"
    },
    {
     "output_type": "execute_result",
     "data": {
      "text/plain": "(18634553, 31)"
     },
     "metadata": {},
     "execution_count": 20
    }
   ],
   "source": [
    "%%time\n",
    "\n",
    "#### Import performance data\n",
    "Performance_Variables = [\n",
    "    \"LOAN_ID\", \"Monthly_Rpt_Prd\", \"Servicer_Name\", \"LAST_RT\", \"LAST_UPB\", \"Loan_Age\", \"Months_To_Legal_Mat\",\n",
    "    \"Adj_Month_To_Mat\", \"Maturity_Date\", \"MSA\", \"Delq_Status\", \"MOD_FLAG\", \"Zero_Bal_Code\", \"ZB_DTE\", \"LPI_DTE\",\n",
    "    \"FCC_DTE\",\"DISP_DT\", \"FCC_COST\", \"PP_COST\", \"AR_COST\", \"IE_COST\", \"TAX_COST\", \"NS_PROCS\", \"CE_PROCS\", \"RMW_PROCS\",\n",
    "    \"O_PROCS\", \"NON_INT_UPB\", \"PRIN_FORG_UPB_FHFA\", \"REPCH_FLAG\", \"PRIN_FORG_UPB_OTH\", \"TRANSFER_FLG\"\n",
    "]\n",
    "\n",
    "PERF2018Q1 = dt.fread(\n",
    "    \"data/Performance_2010Q1.txt\",\n",
    "    sep = \"|\",\n",
    "    header = None ,\n",
    "    columns = Performance_Variables\n",
    ")\n",
    "\n",
    "PERF2018Q1 = PERF2018Q1.to_pandas()\n",
    "PERF2018Q1.shape"
   ]
  },
  {
   "cell_type": "code",
   "execution_count": 21,
   "metadata": {},
   "outputs": [
    {
     "output_type": "execute_result",
     "data": {
      "text/plain": "        LOAN_ID Monthly_Rpt_Prd           Servicer_Name  LAST_RT  LAST_UPB  \\\n0  100010079393      02/01/2010  WELLS FARGO BANK, N.A.    4.875       NaN   \n1  100010079393      03/01/2010                            4.875       NaN   \n2  100010079393      04/01/2010                            4.875       NaN   \n3  100010079393      05/01/2010                            4.875       NaN   \n4  100010079393      06/01/2010                            4.875       NaN   \n\n   Loan_Age  Months_To_Legal_Mat  Adj_Month_To_Mat Maturity_Date    MSA  ...  \\\n0         0                  360             360.0       02/2040  12420  ...   \n1         1                  359             358.0       02/2040  12420  ...   \n2         2                  358             358.0       02/2040  12420  ...   \n3         3                  357             357.0       02/2040  12420  ...   \n4         4                  356             355.0       02/2040  12420  ...   \n\n  TAX_COST NS_PROCS  CE_PROCS RMW_PROCS O_PROCS NON_INT_UPB  \\\n0      NaN      NaN       NaN       NaN     NaN         NaN   \n1      NaN      NaN       NaN       NaN     NaN         NaN   \n2      NaN      NaN       NaN       NaN     NaN         NaN   \n3      NaN      NaN       NaN       NaN     NaN         NaN   \n4      NaN      NaN       NaN       NaN     NaN         NaN   \n\n  PRIN_FORG_UPB_FHFA  REPCH_FLAG  PRIN_FORG_UPB_OTH  TRANSFER_FLG  \n0                NaN                            NaN             N  \n1                NaN                            NaN             N  \n2                NaN                            NaN             N  \n3                NaN                            NaN             N  \n4                NaN                            NaN             N  \n\n[5 rows x 31 columns]",
      "text/html": "<div>\n<style scoped>\n    .dataframe tbody tr th:only-of-type {\n        vertical-align: middle;\n    }\n\n    .dataframe tbody tr th {\n        vertical-align: top;\n    }\n\n    .dataframe thead th {\n        text-align: right;\n    }\n</style>\n<table border=\"1\" class=\"dataframe\">\n  <thead>\n    <tr style=\"text-align: right;\">\n      <th></th>\n      <th>LOAN_ID</th>\n      <th>Monthly_Rpt_Prd</th>\n      <th>Servicer_Name</th>\n      <th>LAST_RT</th>\n      <th>LAST_UPB</th>\n      <th>Loan_Age</th>\n      <th>Months_To_Legal_Mat</th>\n      <th>Adj_Month_To_Mat</th>\n      <th>Maturity_Date</th>\n      <th>MSA</th>\n      <th>...</th>\n      <th>TAX_COST</th>\n      <th>NS_PROCS</th>\n      <th>CE_PROCS</th>\n      <th>RMW_PROCS</th>\n      <th>O_PROCS</th>\n      <th>NON_INT_UPB</th>\n      <th>PRIN_FORG_UPB_FHFA</th>\n      <th>REPCH_FLAG</th>\n      <th>PRIN_FORG_UPB_OTH</th>\n      <th>TRANSFER_FLG</th>\n    </tr>\n  </thead>\n  <tbody>\n    <tr>\n      <th>0</th>\n      <td>100010079393</td>\n      <td>02/01/2010</td>\n      <td>WELLS FARGO BANK, N.A.</td>\n      <td>4.875</td>\n      <td>NaN</td>\n      <td>0</td>\n      <td>360</td>\n      <td>360.0</td>\n      <td>02/2040</td>\n      <td>12420</td>\n      <td>...</td>\n      <td>NaN</td>\n      <td>NaN</td>\n      <td>NaN</td>\n      <td>NaN</td>\n      <td>NaN</td>\n      <td>NaN</td>\n      <td>NaN</td>\n      <td></td>\n      <td>NaN</td>\n      <td>N</td>\n    </tr>\n    <tr>\n      <th>1</th>\n      <td>100010079393</td>\n      <td>03/01/2010</td>\n      <td></td>\n      <td>4.875</td>\n      <td>NaN</td>\n      <td>1</td>\n      <td>359</td>\n      <td>358.0</td>\n      <td>02/2040</td>\n      <td>12420</td>\n      <td>...</td>\n      <td>NaN</td>\n      <td>NaN</td>\n      <td>NaN</td>\n      <td>NaN</td>\n      <td>NaN</td>\n      <td>NaN</td>\n      <td>NaN</td>\n      <td></td>\n      <td>NaN</td>\n      <td>N</td>\n    </tr>\n    <tr>\n      <th>2</th>\n      <td>100010079393</td>\n      <td>04/01/2010</td>\n      <td></td>\n      <td>4.875</td>\n      <td>NaN</td>\n      <td>2</td>\n      <td>358</td>\n      <td>358.0</td>\n      <td>02/2040</td>\n      <td>12420</td>\n      <td>...</td>\n      <td>NaN</td>\n      <td>NaN</td>\n      <td>NaN</td>\n      <td>NaN</td>\n      <td>NaN</td>\n      <td>NaN</td>\n      <td>NaN</td>\n      <td></td>\n      <td>NaN</td>\n      <td>N</td>\n    </tr>\n    <tr>\n      <th>3</th>\n      <td>100010079393</td>\n      <td>05/01/2010</td>\n      <td></td>\n      <td>4.875</td>\n      <td>NaN</td>\n      <td>3</td>\n      <td>357</td>\n      <td>357.0</td>\n      <td>02/2040</td>\n      <td>12420</td>\n      <td>...</td>\n      <td>NaN</td>\n      <td>NaN</td>\n      <td>NaN</td>\n      <td>NaN</td>\n      <td>NaN</td>\n      <td>NaN</td>\n      <td>NaN</td>\n      <td></td>\n      <td>NaN</td>\n      <td>N</td>\n    </tr>\n    <tr>\n      <th>4</th>\n      <td>100010079393</td>\n      <td>06/01/2010</td>\n      <td></td>\n      <td>4.875</td>\n      <td>NaN</td>\n      <td>4</td>\n      <td>356</td>\n      <td>355.0</td>\n      <td>02/2040</td>\n      <td>12420</td>\n      <td>...</td>\n      <td>NaN</td>\n      <td>NaN</td>\n      <td>NaN</td>\n      <td>NaN</td>\n      <td>NaN</td>\n      <td>NaN</td>\n      <td>NaN</td>\n      <td></td>\n      <td>NaN</td>\n      <td>N</td>\n    </tr>\n  </tbody>\n</table>\n<p>5 rows × 31 columns</p>\n</div>"
     },
     "metadata": {},
     "execution_count": 21
    }
   ],
   "source": [
    "#### first 5 records\n",
    "PERF2018Q1.head(5)"
   ]
  },
  {
   "cell_type": "markdown",
   "metadata": {},
   "source": [
    "## Start with a simple analysis\n",
    "\n",
    "This will be the easiest in terms of data prep. Look only at mortgages starting in one specific quarter. We can then join the Acquisition and performance file\n"
   ]
  },
  {
   "cell_type": "code",
   "execution_count": 6,
   "metadata": {},
   "outputs": [
    {
     "output_type": "stream",
     "name": "stdout",
     "text": "CPU times: user 57.4 s, sys: 1min 4s, total: 2min 2s\nWall time: 2min 13s\n"
    }
   ],
   "source": [
    "%%time\n",
    "test = (\n",
    "    AQ2018Q1\n",
    "    .merge(\n",
    "        PERF2018Q1,\n",
    "        how=\"left\",\n",
    "        left_on=\"LOAN_ID\",\n",
    "        right_on=\"LOAN_ID\"\n",
    "    )\n",
    "    .filter([ \n",
    "        \"LOAN_ID\",\"ORIG_DTE\",\"FRST_DTE\",\n",
    "        \"Monthly_Rpt_Prd\", \"Loan_Age\", \"Seller_Name\", \"ORIG_RT\",\t\"ORIG_AMT\",\n",
    "        \"Zero_Bal_Code\", \"Delq_Status\", \"ZB_DTE\", \"LPI_DTE\"\n",
    "    ])\n",
    ")"
   ]
  },
  {
   "cell_type": "code",
   "execution_count": 7,
   "metadata": {},
   "outputs": [
    {
     "output_type": "execute_result",
     "data": {
      "text/plain": "               LOAN_ID ORIG_DTE FRST_DTE Monthly_Rpt_Prd  Loan_Age  \\\n0         100010079393  01/2010  03/2010      02/01/2010         0   \n1         100010079393  01/2010  03/2010      03/01/2010         1   \n2         100010079393  01/2010  03/2010      04/01/2010         2   \n3         100010079393  01/2010  03/2010      05/01/2010         3   \n4         100010079393  01/2010  03/2010      06/01/2010         4   \n...                ...      ...      ...             ...       ...   \n18634548  999999167522  01/2010  03/2010      10/01/2011        20   \n18634549  999999167522  01/2010  03/2010      11/01/2011        21   \n18634550  999999167522  01/2010  03/2010      12/01/2011        22   \n18634551  999999167522  01/2010  03/2010      01/01/2012        23   \n18634552  999999167522  01/2010  03/2010      02/01/2012        24   \n\n                     Seller_Name  ORIG_RT  ORIG_AMT  Zero_Bal_Code  \\\n0         WELLS FARGO BANK, N.A.    4.875    284000            NaN   \n1         WELLS FARGO BANK, N.A.    4.875    284000            NaN   \n2         WELLS FARGO BANK, N.A.    4.875    284000            NaN   \n3         WELLS FARGO BANK, N.A.    4.875    284000            NaN   \n4         WELLS FARGO BANK, N.A.    4.875    284000            NaN   \n...                          ...      ...       ...            ...   \n18634548                   OTHER    5.250    417000            NaN   \n18634549                   OTHER    5.250    417000            NaN   \n18634550                   OTHER    5.250    417000            NaN   \n18634551                   OTHER    5.250    417000            NaN   \n18634552                   OTHER    5.250    417000            1.0   \n\n         Delq_Status   ZB_DTE LPI_DTE  \n0                  0                   \n1                  0                   \n2                  0                   \n3                  0                   \n4                  0                   \n...              ...      ...     ...  \n18634548           0                   \n18634549           0                   \n18634550           0                   \n18634551           0                   \n18634552           X  02/2012          \n\n[18634553 rows x 12 columns]",
      "text/html": "<div>\n<style scoped>\n    .dataframe tbody tr th:only-of-type {\n        vertical-align: middle;\n    }\n\n    .dataframe tbody tr th {\n        vertical-align: top;\n    }\n\n    .dataframe thead th {\n        text-align: right;\n    }\n</style>\n<table border=\"1\" class=\"dataframe\">\n  <thead>\n    <tr style=\"text-align: right;\">\n      <th></th>\n      <th>LOAN_ID</th>\n      <th>ORIG_DTE</th>\n      <th>FRST_DTE</th>\n      <th>Monthly_Rpt_Prd</th>\n      <th>Loan_Age</th>\n      <th>Seller_Name</th>\n      <th>ORIG_RT</th>\n      <th>ORIG_AMT</th>\n      <th>Zero_Bal_Code</th>\n      <th>Delq_Status</th>\n      <th>ZB_DTE</th>\n      <th>LPI_DTE</th>\n    </tr>\n  </thead>\n  <tbody>\n    <tr>\n      <th>0</th>\n      <td>100010079393</td>\n      <td>01/2010</td>\n      <td>03/2010</td>\n      <td>02/01/2010</td>\n      <td>0</td>\n      <td>WELLS FARGO BANK, N.A.</td>\n      <td>4.875</td>\n      <td>284000</td>\n      <td>NaN</td>\n      <td>0</td>\n      <td></td>\n      <td></td>\n    </tr>\n    <tr>\n      <th>1</th>\n      <td>100010079393</td>\n      <td>01/2010</td>\n      <td>03/2010</td>\n      <td>03/01/2010</td>\n      <td>1</td>\n      <td>WELLS FARGO BANK, N.A.</td>\n      <td>4.875</td>\n      <td>284000</td>\n      <td>NaN</td>\n      <td>0</td>\n      <td></td>\n      <td></td>\n    </tr>\n    <tr>\n      <th>2</th>\n      <td>100010079393</td>\n      <td>01/2010</td>\n      <td>03/2010</td>\n      <td>04/01/2010</td>\n      <td>2</td>\n      <td>WELLS FARGO BANK, N.A.</td>\n      <td>4.875</td>\n      <td>284000</td>\n      <td>NaN</td>\n      <td>0</td>\n      <td></td>\n      <td></td>\n    </tr>\n    <tr>\n      <th>3</th>\n      <td>100010079393</td>\n      <td>01/2010</td>\n      <td>03/2010</td>\n      <td>05/01/2010</td>\n      <td>3</td>\n      <td>WELLS FARGO BANK, N.A.</td>\n      <td>4.875</td>\n      <td>284000</td>\n      <td>NaN</td>\n      <td>0</td>\n      <td></td>\n      <td></td>\n    </tr>\n    <tr>\n      <th>4</th>\n      <td>100010079393</td>\n      <td>01/2010</td>\n      <td>03/2010</td>\n      <td>06/01/2010</td>\n      <td>4</td>\n      <td>WELLS FARGO BANK, N.A.</td>\n      <td>4.875</td>\n      <td>284000</td>\n      <td>NaN</td>\n      <td>0</td>\n      <td></td>\n      <td></td>\n    </tr>\n    <tr>\n      <th>...</th>\n      <td>...</td>\n      <td>...</td>\n      <td>...</td>\n      <td>...</td>\n      <td>...</td>\n      <td>...</td>\n      <td>...</td>\n      <td>...</td>\n      <td>...</td>\n      <td>...</td>\n      <td>...</td>\n      <td>...</td>\n    </tr>\n    <tr>\n      <th>18634548</th>\n      <td>999999167522</td>\n      <td>01/2010</td>\n      <td>03/2010</td>\n      <td>10/01/2011</td>\n      <td>20</td>\n      <td>OTHER</td>\n      <td>5.250</td>\n      <td>417000</td>\n      <td>NaN</td>\n      <td>0</td>\n      <td></td>\n      <td></td>\n    </tr>\n    <tr>\n      <th>18634549</th>\n      <td>999999167522</td>\n      <td>01/2010</td>\n      <td>03/2010</td>\n      <td>11/01/2011</td>\n      <td>21</td>\n      <td>OTHER</td>\n      <td>5.250</td>\n      <td>417000</td>\n      <td>NaN</td>\n      <td>0</td>\n      <td></td>\n      <td></td>\n    </tr>\n    <tr>\n      <th>18634550</th>\n      <td>999999167522</td>\n      <td>01/2010</td>\n      <td>03/2010</td>\n      <td>12/01/2011</td>\n      <td>22</td>\n      <td>OTHER</td>\n      <td>5.250</td>\n      <td>417000</td>\n      <td>NaN</td>\n      <td>0</td>\n      <td></td>\n      <td></td>\n    </tr>\n    <tr>\n      <th>18634551</th>\n      <td>999999167522</td>\n      <td>01/2010</td>\n      <td>03/2010</td>\n      <td>01/01/2012</td>\n      <td>23</td>\n      <td>OTHER</td>\n      <td>5.250</td>\n      <td>417000</td>\n      <td>NaN</td>\n      <td>0</td>\n      <td></td>\n      <td></td>\n    </tr>\n    <tr>\n      <th>18634552</th>\n      <td>999999167522</td>\n      <td>01/2010</td>\n      <td>03/2010</td>\n      <td>02/01/2012</td>\n      <td>24</td>\n      <td>OTHER</td>\n      <td>5.250</td>\n      <td>417000</td>\n      <td>1.0</td>\n      <td>X</td>\n      <td>02/2012</td>\n      <td></td>\n    </tr>\n  </tbody>\n</table>\n<p>18634553 rows × 12 columns</p>\n</div>"
     },
     "metadata": {},
     "execution_count": 7
    }
   ],
   "source": [
    "test"
   ]
  },
  {
   "cell_type": "markdown",
   "metadata": {},
   "source": [
    "The column Delq_Status is the Loan Delinquency status and has the following meaning:\n",
    "\n",
    "* 0 - \"Current or less than 30 days past due\"\n",
    "* 1 - \"30 - 59 days past due\"\n",
    "* 2 - \"60 - 89 days past due\"\n",
    "* 3 - \"90 - 119 days past due\"\n",
    "* 4 - \"120 - 149 days past due\"\n",
    "* 5 - \"150 - 179 days past due\"\n",
    "* 6 - \"180 Day Delinquency\"\n",
    "* 7 - \"210 Day Delinquency\"\n",
    "* 8 - \"240 Day Delinquency\"\n",
    "* 9 - \"270 Day Delinquency\" / \"270+ Day Delinquency\""
   ]
  },
  {
   "cell_type": "code",
   "execution_count": 22,
   "metadata": {},
   "outputs": [
    {
     "output_type": "execute_result",
     "data": {
      "text/plain": "0     18135400\nX       264341\n1       127953\n2        29554\n3        13632\n        ...   \n99           1\n98           1\n95           1\n96           1\n97           1\nName: Delq_Status, Length: 102, dtype: int64"
     },
     "metadata": {},
     "execution_count": 22
    }
   ],
   "source": [
    "test.Delq_Status.value_counts()"
   ]
  },
  {
   "cell_type": "code",
   "execution_count": 23,
   "metadata": {},
   "outputs": [
    {
     "output_type": "execute_result",
     "data": {
      "text/plain": "               LOAN_ID ORIG_DTE FRST_DTE Monthly_Rpt_Prd  Loan_Age  \\\n1995      100091653134  12/2009  02/2010      07/01/2018       102   \n1996      100091653134  12/2009  02/2010      08/01/2018       103   \n1997      100091653134  12/2009  02/2010      09/01/2018       104   \n6564      100312066648  01/2010  03/2010      03/01/2014        49   \n8863      100446401716  12/2009  02/2010      09/01/2011        20   \n...                ...      ...      ...             ...       ...   \n18631508  999865000263  01/2010  03/2010      11/01/2013        45   \n18631519  999865000263  01/2010  03/2010      10/01/2014        56   \n18631539  999865000263  01/2010  03/2010      06/01/2016        76   \n18632769  999919586679  12/2009  02/2010      01/01/2017        84   \n18632770  999919586679  12/2009  02/2010      02/01/2017        85   \n\n                                        Seller_Name  ORIG_RT  ORIG_AMT  \\\n1995                                          OTHER    5.375    312000   \n1996                                          OTHER    5.375    312000   \n1997                                          OTHER    5.375    312000   \n6564                                          OTHER    5.250    160000   \n8863      JPMORGAN CHASE BANK, NATIONAL ASSOCIATION    5.125    244000   \n...                                             ...      ...       ...   \n18631508                                      OTHER    5.125     60000   \n18631519                                      OTHER    5.125     60000   \n18631539                                      OTHER    5.125     60000   \n18632769                     WELLS FARGO BANK, N.A.    5.000    427000   \n18632770                     WELLS FARGO BANK, N.A.    5.000    427000   \n\n          Zero_Bal_Code Delq_Status ZB_DTE LPI_DTE  \n1995                NaN           5                 \n1996                NaN           5                 \n1997                NaN           5                 \n6564                NaN           5                 \n8863                NaN           5                 \n...                 ...         ...    ...     ...  \n18631508            NaN           5                 \n18631519            NaN           5                 \n18631539            NaN           5                 \n18632769            NaN           5                 \n18632770            NaN           5                 \n\n[7445 rows x 12 columns]",
      "text/html": "<div>\n<style scoped>\n    .dataframe tbody tr th:only-of-type {\n        vertical-align: middle;\n    }\n\n    .dataframe tbody tr th {\n        vertical-align: top;\n    }\n\n    .dataframe thead th {\n        text-align: right;\n    }\n</style>\n<table border=\"1\" class=\"dataframe\">\n  <thead>\n    <tr style=\"text-align: right;\">\n      <th></th>\n      <th>LOAN_ID</th>\n      <th>ORIG_DTE</th>\n      <th>FRST_DTE</th>\n      <th>Monthly_Rpt_Prd</th>\n      <th>Loan_Age</th>\n      <th>Seller_Name</th>\n      <th>ORIG_RT</th>\n      <th>ORIG_AMT</th>\n      <th>Zero_Bal_Code</th>\n      <th>Delq_Status</th>\n      <th>ZB_DTE</th>\n      <th>LPI_DTE</th>\n    </tr>\n  </thead>\n  <tbody>\n    <tr>\n      <th>1995</th>\n      <td>100091653134</td>\n      <td>12/2009</td>\n      <td>02/2010</td>\n      <td>07/01/2018</td>\n      <td>102</td>\n      <td>OTHER</td>\n      <td>5.375</td>\n      <td>312000</td>\n      <td>NaN</td>\n      <td>5</td>\n      <td></td>\n      <td></td>\n    </tr>\n    <tr>\n      <th>1996</th>\n      <td>100091653134</td>\n      <td>12/2009</td>\n      <td>02/2010</td>\n      <td>08/01/2018</td>\n      <td>103</td>\n      <td>OTHER</td>\n      <td>5.375</td>\n      <td>312000</td>\n      <td>NaN</td>\n      <td>5</td>\n      <td></td>\n      <td></td>\n    </tr>\n    <tr>\n      <th>1997</th>\n      <td>100091653134</td>\n      <td>12/2009</td>\n      <td>02/2010</td>\n      <td>09/01/2018</td>\n      <td>104</td>\n      <td>OTHER</td>\n      <td>5.375</td>\n      <td>312000</td>\n      <td>NaN</td>\n      <td>5</td>\n      <td></td>\n      <td></td>\n    </tr>\n    <tr>\n      <th>6564</th>\n      <td>100312066648</td>\n      <td>01/2010</td>\n      <td>03/2010</td>\n      <td>03/01/2014</td>\n      <td>49</td>\n      <td>OTHER</td>\n      <td>5.250</td>\n      <td>160000</td>\n      <td>NaN</td>\n      <td>5</td>\n      <td></td>\n      <td></td>\n    </tr>\n    <tr>\n      <th>8863</th>\n      <td>100446401716</td>\n      <td>12/2009</td>\n      <td>02/2010</td>\n      <td>09/01/2011</td>\n      <td>20</td>\n      <td>JPMORGAN CHASE BANK, NATIONAL ASSOCIATION</td>\n      <td>5.125</td>\n      <td>244000</td>\n      <td>NaN</td>\n      <td>5</td>\n      <td></td>\n      <td></td>\n    </tr>\n    <tr>\n      <th>...</th>\n      <td>...</td>\n      <td>...</td>\n      <td>...</td>\n      <td>...</td>\n      <td>...</td>\n      <td>...</td>\n      <td>...</td>\n      <td>...</td>\n      <td>...</td>\n      <td>...</td>\n      <td>...</td>\n      <td>...</td>\n    </tr>\n    <tr>\n      <th>18631508</th>\n      <td>999865000263</td>\n      <td>01/2010</td>\n      <td>03/2010</td>\n      <td>11/01/2013</td>\n      <td>45</td>\n      <td>OTHER</td>\n      <td>5.125</td>\n      <td>60000</td>\n      <td>NaN</td>\n      <td>5</td>\n      <td></td>\n      <td></td>\n    </tr>\n    <tr>\n      <th>18631519</th>\n      <td>999865000263</td>\n      <td>01/2010</td>\n      <td>03/2010</td>\n      <td>10/01/2014</td>\n      <td>56</td>\n      <td>OTHER</td>\n      <td>5.125</td>\n      <td>60000</td>\n      <td>NaN</td>\n      <td>5</td>\n      <td></td>\n      <td></td>\n    </tr>\n    <tr>\n      <th>18631539</th>\n      <td>999865000263</td>\n      <td>01/2010</td>\n      <td>03/2010</td>\n      <td>06/01/2016</td>\n      <td>76</td>\n      <td>OTHER</td>\n      <td>5.125</td>\n      <td>60000</td>\n      <td>NaN</td>\n      <td>5</td>\n      <td></td>\n      <td></td>\n    </tr>\n    <tr>\n      <th>18632769</th>\n      <td>999919586679</td>\n      <td>12/2009</td>\n      <td>02/2010</td>\n      <td>01/01/2017</td>\n      <td>84</td>\n      <td>WELLS FARGO BANK, N.A.</td>\n      <td>5.000</td>\n      <td>427000</td>\n      <td>NaN</td>\n      <td>5</td>\n      <td></td>\n      <td></td>\n    </tr>\n    <tr>\n      <th>18632770</th>\n      <td>999919586679</td>\n      <td>12/2009</td>\n      <td>02/2010</td>\n      <td>02/01/2017</td>\n      <td>85</td>\n      <td>WELLS FARGO BANK, N.A.</td>\n      <td>5.000</td>\n      <td>427000</td>\n      <td>NaN</td>\n      <td>5</td>\n      <td></td>\n      <td></td>\n    </tr>\n  </tbody>\n</table>\n<p>7445 rows × 12 columns</p>\n</div>"
     },
     "metadata": {},
     "execution_count": 23
    }
   ],
   "source": [
    "test.query(\"Delq_Status == '5'\")"
   ]
  },
  {
   "cell_type": "code",
   "execution_count": 25,
   "metadata": {},
   "outputs": [
    {
     "output_type": "execute_result",
     "data": {
      "text/plain": "           LOAN_ID ORIG_DTE FRST_DTE Monthly_Rpt_Prd  Loan_Age Seller_Name  \\\n1893  100091653134  12/2009  02/2010      01/01/2010         0       OTHER   \n1894  100091653134  12/2009  02/2010      02/01/2010         1       OTHER   \n1895  100091653134  12/2009  02/2010      03/01/2010         2       OTHER   \n1896  100091653134  12/2009  02/2010      04/01/2010         3       OTHER   \n1897  100091653134  12/2009  02/2010      05/01/2010         4       OTHER   \n...            ...      ...      ...             ...       ...         ...   \n2008  100091653134  12/2009  02/2010      08/01/2019       115       OTHER   \n2009  100091653134  12/2009  02/2010      09/01/2019       116       OTHER   \n2010  100091653134  12/2009  02/2010      10/01/2019       117       OTHER   \n2011  100091653134  12/2009  02/2010      11/01/2019       118       OTHER   \n2012  100091653134  12/2009  02/2010      12/01/2019       119       OTHER   \n\n      ORIG_RT  ORIG_AMT  Zero_Bal_Code Delq_Status ZB_DTE LPI_DTE  \n1893    5.375    312000            NaN           0                 \n1894    5.375    312000            NaN           0                 \n1895    5.375    312000            NaN           0                 \n1896    5.375    312000            NaN           0                 \n1897    5.375    312000            NaN           0                 \n...       ...       ...            ...         ...    ...     ...  \n2008    5.375    312000            NaN           0                 \n2009    5.375    312000            NaN           1                 \n2010    5.375    312000            NaN           1                 \n2011    5.375    312000            NaN           1                 \n2012    5.375    312000            NaN           1                 \n\n[120 rows x 12 columns]",
      "text/html": "<div>\n<style scoped>\n    .dataframe tbody tr th:only-of-type {\n        vertical-align: middle;\n    }\n\n    .dataframe tbody tr th {\n        vertical-align: top;\n    }\n\n    .dataframe thead th {\n        text-align: right;\n    }\n</style>\n<table border=\"1\" class=\"dataframe\">\n  <thead>\n    <tr style=\"text-align: right;\">\n      <th></th>\n      <th>LOAN_ID</th>\n      <th>ORIG_DTE</th>\n      <th>FRST_DTE</th>\n      <th>Monthly_Rpt_Prd</th>\n      <th>Loan_Age</th>\n      <th>Seller_Name</th>\n      <th>ORIG_RT</th>\n      <th>ORIG_AMT</th>\n      <th>Zero_Bal_Code</th>\n      <th>Delq_Status</th>\n      <th>ZB_DTE</th>\n      <th>LPI_DTE</th>\n    </tr>\n  </thead>\n  <tbody>\n    <tr>\n      <th>1893</th>\n      <td>100091653134</td>\n      <td>12/2009</td>\n      <td>02/2010</td>\n      <td>01/01/2010</td>\n      <td>0</td>\n      <td>OTHER</td>\n      <td>5.375</td>\n      <td>312000</td>\n      <td>NaN</td>\n      <td>0</td>\n      <td></td>\n      <td></td>\n    </tr>\n    <tr>\n      <th>1894</th>\n      <td>100091653134</td>\n      <td>12/2009</td>\n      <td>02/2010</td>\n      <td>02/01/2010</td>\n      <td>1</td>\n      <td>OTHER</td>\n      <td>5.375</td>\n      <td>312000</td>\n      <td>NaN</td>\n      <td>0</td>\n      <td></td>\n      <td></td>\n    </tr>\n    <tr>\n      <th>1895</th>\n      <td>100091653134</td>\n      <td>12/2009</td>\n      <td>02/2010</td>\n      <td>03/01/2010</td>\n      <td>2</td>\n      <td>OTHER</td>\n      <td>5.375</td>\n      <td>312000</td>\n      <td>NaN</td>\n      <td>0</td>\n      <td></td>\n      <td></td>\n    </tr>\n    <tr>\n      <th>1896</th>\n      <td>100091653134</td>\n      <td>12/2009</td>\n      <td>02/2010</td>\n      <td>04/01/2010</td>\n      <td>3</td>\n      <td>OTHER</td>\n      <td>5.375</td>\n      <td>312000</td>\n      <td>NaN</td>\n      <td>0</td>\n      <td></td>\n      <td></td>\n    </tr>\n    <tr>\n      <th>1897</th>\n      <td>100091653134</td>\n      <td>12/2009</td>\n      <td>02/2010</td>\n      <td>05/01/2010</td>\n      <td>4</td>\n      <td>OTHER</td>\n      <td>5.375</td>\n      <td>312000</td>\n      <td>NaN</td>\n      <td>0</td>\n      <td></td>\n      <td></td>\n    </tr>\n    <tr>\n      <th>...</th>\n      <td>...</td>\n      <td>...</td>\n      <td>...</td>\n      <td>...</td>\n      <td>...</td>\n      <td>...</td>\n      <td>...</td>\n      <td>...</td>\n      <td>...</td>\n      <td>...</td>\n      <td>...</td>\n      <td>...</td>\n    </tr>\n    <tr>\n      <th>2008</th>\n      <td>100091653134</td>\n      <td>12/2009</td>\n      <td>02/2010</td>\n      <td>08/01/2019</td>\n      <td>115</td>\n      <td>OTHER</td>\n      <td>5.375</td>\n      <td>312000</td>\n      <td>NaN</td>\n      <td>0</td>\n      <td></td>\n      <td></td>\n    </tr>\n    <tr>\n      <th>2009</th>\n      <td>100091653134</td>\n      <td>12/2009</td>\n      <td>02/2010</td>\n      <td>09/01/2019</td>\n      <td>116</td>\n      <td>OTHER</td>\n      <td>5.375</td>\n      <td>312000</td>\n      <td>NaN</td>\n      <td>1</td>\n      <td></td>\n      <td></td>\n    </tr>\n    <tr>\n      <th>2010</th>\n      <td>100091653134</td>\n      <td>12/2009</td>\n      <td>02/2010</td>\n      <td>10/01/2019</td>\n      <td>117</td>\n      <td>OTHER</td>\n      <td>5.375</td>\n      <td>312000</td>\n      <td>NaN</td>\n      <td>1</td>\n      <td></td>\n      <td></td>\n    </tr>\n    <tr>\n      <th>2011</th>\n      <td>100091653134</td>\n      <td>12/2009</td>\n      <td>02/2010</td>\n      <td>11/01/2019</td>\n      <td>118</td>\n      <td>OTHER</td>\n      <td>5.375</td>\n      <td>312000</td>\n      <td>NaN</td>\n      <td>1</td>\n      <td></td>\n      <td></td>\n    </tr>\n    <tr>\n      <th>2012</th>\n      <td>100091653134</td>\n      <td>12/2009</td>\n      <td>02/2010</td>\n      <td>12/01/2019</td>\n      <td>119</td>\n      <td>OTHER</td>\n      <td>5.375</td>\n      <td>312000</td>\n      <td>NaN</td>\n      <td>1</td>\n      <td></td>\n      <td></td>\n    </tr>\n  </tbody>\n</table>\n<p>120 rows × 12 columns</p>\n</div>"
     },
     "metadata": {},
     "execution_count": 25
    }
   ],
   "source": [
    "test.query(\"LOAN_ID == 100091653134\")"
   ]
  },
  {
   "cell_type": "code",
   "execution_count": null,
   "metadata": {},
   "outputs": [],
   "source": []
  },
  {
   "cell_type": "code",
   "execution_count": null,
   "metadata": {},
   "outputs": [],
   "source": []
  }
 ],
 "metadata": {
  "language_info": {
   "codemirror_mode": {
    "name": "ipython",
    "version": 3
   },
   "file_extension": ".py",
   "mimetype": "text/x-python",
   "name": "python",
   "nbconvert_exporter": "python",
   "pygments_lexer": "ipython3",
   "version": "3.7.3-final"
  },
  "orig_nbformat": 2,
  "kernelspec": {
   "name": "python37364bitbaseconda237d47ed00c34faa8bb5ab0c5c219e3a",
   "display_name": "Python 3.7.3 64-bit ('base': conda)"
  }
 },
 "nbformat": 4,
 "nbformat_minor": 2
}