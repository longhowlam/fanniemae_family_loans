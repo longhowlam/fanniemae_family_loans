{
 "cells": [
  {
   "cell_type": "markdown",
   "metadata": {},
   "source": [
    "# Fannie Mae analysis\n",
    "\n",
    "(just started)\n",
    "\n",
    "This notebook contains some python code to analyse mortgage data\n",
    "See the following link how to download data and [more details](https://www.fanniemae.com/portal/funding-the-market/data/loan-performance-data.html).\n",
    "\n",
    "Per quarter there is a Acquisition data set and a Performance data set. See the [details here](https://www.fanniemae.com/resources/file/fundmarket/pdf/webinar-101.pdf)\n"
   ]
  },
  {
   "cell_type": "code",
   "execution_count": 29,
   "metadata": {},
   "outputs": [],
   "source": [
    "#### using the datatable package from h2o....  super package!\n",
    "import pandas as pd\n",
    "import numpy as np\n",
    "import datatable as dt"
   ]
  },
  {
   "cell_type": "markdown",
   "metadata": {},
   "source": [
    "## import acquisition and performance data\n",
    "\n",
    "The data on mortgages is per quarter of starting mortgages. For example the file 2010Q1.txt contains all mortgaes that started in Q1 2010, each row is one mortgage.\n",
    "\n",
    "The performance of the mortgage in the acquisition file are in the file Performance_2010Q1.txt. Multiple rows in this file correspond to one mortgage, For every mortgage we have the monthly performance of the mortgage, form its start until Dec of 2019."
   ]
  },
  {
   "cell_type": "code",
   "execution_count": 55,
   "metadata": {},
   "outputs": [
    {
     "output_type": "stream",
     "name": "stdout",
     "text": "CPU times: user 3.53 s, sys: 213 ms, total: 3.74 s\nWall time: 768 ms\n"
    },
    {
     "output_type": "execute_result",
     "data": {
      "text/plain": "(323174, 25)"
     },
     "metadata": {},
     "execution_count": 55
    }
   ],
   "source": [
    "%%time\n",
    "\n",
    "#### import Acquisition data\n",
    "acquisitions_Variables = [\n",
    "    \"LOAN_ID\", \"ORIG_CHN\", \"Seller_Name\", \"ORIG_RT\", \"ORIG_AMT\", \"ORIG_TRM\", \"ORIG_DTE\",\n",
    "    \"FRST_DTE\", \"OLTV\", \"OCLTV\", \"NUM_BO\", \"Debt_to_Income\", \"Borrower_Credit_Score\", \"FTHB_FLG\", \"PURPOSE\", \"PROPERTY_TYPE\",\n",
    "    \"NUM_UNIT\", \"OCC_STAT\", \"STATE\", \"ZIP_3\", \"MI_PCT\", \"Product_Type\", \"CSCORE_C\", \"MI_TYPE\", \"RELOCATION_FLG\"\n",
    "]\n",
    "\n",
    "acquisition = dt.fread(\n",
    "    \"data/Acquisition_2010Q1.txt\",\n",
    "    sep = \"|\",\n",
    "    header = None ,\n",
    "    columns = acquisitions_Variables\n",
    ")\n",
    "\n",
    "acquisition = acquisition.to_pandas()\n",
    "acquisition.shape"
   ]
  },
  {
   "cell_type": "code",
   "execution_count": 6,
   "metadata": {},
   "outputs": [
    {
     "output_type": "execute_result",
     "data": {
      "text/plain": "             LOAN_ID ORIG_CHN             Seller_Name  ORIG_RT  ORIG_AMT  \\\n251264  800240213011        C                   OTHER    4.875     45000   \n199278  655083009567        C  WELLS FARGO BANK, N.A.    4.625    417000   \n26070   172441164363        B  SUNTRUST MORTGAGE INC.    4.250     95000   \n235617  756719413369        R   BANK OF AMERICA, N.A.    4.875     89000   \n51789   243492275169        R                   OTHER    5.250    132000   \n\n        ORIG_TRM ORIG_DTE FRST_DTE  OLTV  OCLTV  ...  PROP_TYP  NUM_UNIT  \\\n251264       180  01/2010  03/2010    53   53.0  ...        SF         1   \n199278       360  12/2009  02/2010    52   52.0  ...        CO         1   \n26070        120  02/2010  04/2010    49   49.0  ...        SF         1   \n235617       360  02/2010  04/2010    85   85.0  ...        SF         1   \n51789        360  02/2010  04/2010    80   80.0  ...        SF         1   \n\n        OCC_STAT STATE ZIP_3 MI_PCT  Product_Type CSCORE_C MI_TYPE  \\\n251264         P    NC   286    NaN           FRM    653.0     NaN   \n199278         S    FL   341    NaN           FRM    793.0     NaN   \n26070          P    KY   402    NaN           FRM    783.0     NaN   \n235617         P    WI   544   12.0           FRM    758.0     2.0   \n51789          P    MI   493    NaN           FRM    790.0     NaN   \n\n        RELOCATION_FLG  \n251264               N  \n199278               N  \n26070                N  \n235617               N  \n51789                N  \n\n[5 rows x 25 columns]",
      "text/html": "<div>\n<style scoped>\n    .dataframe tbody tr th:only-of-type {\n        vertical-align: middle;\n    }\n\n    .dataframe tbody tr th {\n        vertical-align: top;\n    }\n\n    .dataframe thead th {\n        text-align: right;\n    }\n</style>\n<table border=\"1\" class=\"dataframe\">\n  <thead>\n    <tr style=\"text-align: right;\">\n      <th></th>\n      <th>LOAN_ID</th>\n      <th>ORIG_CHN</th>\n      <th>Seller_Name</th>\n      <th>ORIG_RT</th>\n      <th>ORIG_AMT</th>\n      <th>ORIG_TRM</th>\n      <th>ORIG_DTE</th>\n      <th>FRST_DTE</th>\n      <th>OLTV</th>\n      <th>OCLTV</th>\n      <th>...</th>\n      <th>PROP_TYP</th>\n      <th>NUM_UNIT</th>\n      <th>OCC_STAT</th>\n      <th>STATE</th>\n      <th>ZIP_3</th>\n      <th>MI_PCT</th>\n      <th>Product_Type</th>\n      <th>CSCORE_C</th>\n      <th>MI_TYPE</th>\n      <th>RELOCATION_FLG</th>\n    </tr>\n  </thead>\n  <tbody>\n    <tr>\n      <th>251264</th>\n      <td>800240213011</td>\n      <td>C</td>\n      <td>OTHER</td>\n      <td>4.875</td>\n      <td>45000</td>\n      <td>180</td>\n      <td>01/2010</td>\n      <td>03/2010</td>\n      <td>53</td>\n      <td>53.0</td>\n      <td>...</td>\n      <td>SF</td>\n      <td>1</td>\n      <td>P</td>\n      <td>NC</td>\n      <td>286</td>\n      <td>NaN</td>\n      <td>FRM</td>\n      <td>653.0</td>\n      <td>NaN</td>\n      <td>N</td>\n    </tr>\n    <tr>\n      <th>199278</th>\n      <td>655083009567</td>\n      <td>C</td>\n      <td>WELLS FARGO BANK, N.A.</td>\n      <td>4.625</td>\n      <td>417000</td>\n      <td>360</td>\n      <td>12/2009</td>\n      <td>02/2010</td>\n      <td>52</td>\n      <td>52.0</td>\n      <td>...</td>\n      <td>CO</td>\n      <td>1</td>\n      <td>S</td>\n      <td>FL</td>\n      <td>341</td>\n      <td>NaN</td>\n      <td>FRM</td>\n      <td>793.0</td>\n      <td>NaN</td>\n      <td>N</td>\n    </tr>\n    <tr>\n      <th>26070</th>\n      <td>172441164363</td>\n      <td>B</td>\n      <td>SUNTRUST MORTGAGE INC.</td>\n      <td>4.250</td>\n      <td>95000</td>\n      <td>120</td>\n      <td>02/2010</td>\n      <td>04/2010</td>\n      <td>49</td>\n      <td>49.0</td>\n      <td>...</td>\n      <td>SF</td>\n      <td>1</td>\n      <td>P</td>\n      <td>KY</td>\n      <td>402</td>\n      <td>NaN</td>\n      <td>FRM</td>\n      <td>783.0</td>\n      <td>NaN</td>\n      <td>N</td>\n    </tr>\n    <tr>\n      <th>235617</th>\n      <td>756719413369</td>\n      <td>R</td>\n      <td>BANK OF AMERICA, N.A.</td>\n      <td>4.875</td>\n      <td>89000</td>\n      <td>360</td>\n      <td>02/2010</td>\n      <td>04/2010</td>\n      <td>85</td>\n      <td>85.0</td>\n      <td>...</td>\n      <td>SF</td>\n      <td>1</td>\n      <td>P</td>\n      <td>WI</td>\n      <td>544</td>\n      <td>12.0</td>\n      <td>FRM</td>\n      <td>758.0</td>\n      <td>2.0</td>\n      <td>N</td>\n    </tr>\n    <tr>\n      <th>51789</th>\n      <td>243492275169</td>\n      <td>R</td>\n      <td>OTHER</td>\n      <td>5.250</td>\n      <td>132000</td>\n      <td>360</td>\n      <td>02/2010</td>\n      <td>04/2010</td>\n      <td>80</td>\n      <td>80.0</td>\n      <td>...</td>\n      <td>SF</td>\n      <td>1</td>\n      <td>P</td>\n      <td>MI</td>\n      <td>493</td>\n      <td>NaN</td>\n      <td>FRM</td>\n      <td>790.0</td>\n      <td>NaN</td>\n      <td>N</td>\n    </tr>\n  </tbody>\n</table>\n<p>5 rows × 25 columns</p>\n</div>"
     },
     "metadata": {},
     "execution_count": 6
    }
   ],
   "source": [
    "### five random five records\n",
    "acquisition.sample(5)"
   ]
  },
  {
   "cell_type": "code",
   "execution_count": 9,
   "metadata": {},
   "outputs": [
    {
     "output_type": "stream",
     "name": "stdout",
     "text": "CPU times: user 30.7 s, sys: 6.11 s, total: 36.8 s\nWall time: 6.63 s\n"
    },
    {
     "output_type": "execute_result",
     "data": {
      "text/plain": "(18634553, 31)"
     },
     "metadata": {},
     "execution_count": 9
    }
   ],
   "source": [
    "%%time\n",
    "\n",
    "#### Import performance data\n",
    "performance_Variables = [\n",
    "    \"LOAN_ID\", \"Monthly_Rpt_Prd\", \"Servicer_Name\", \"LAST_RT\", \"LAST_UPB\", \"Loan_Age\", \"Months_To_Legal_Mat\",\n",
    "    \"Adj_Month_To_Mat\", \"Maturity_Date\", \"MSA\", \"Delq_Status\", \"MOD_FLAG\", \"Zero_Bal_Code\", \"ZB_DTE\", \"LPI_DTE\",\n",
    "    \"Foreclosure_date\",\"DISP_DT\", \"FCC_COST\", \"PP_COST\", \"AR_COST\", \"IE_COST\", \"TAX_COST\", \"NS_PROCS\", \"CE_PROCS\", \"RMW_PROCS\",\n",
    "    \"O_PROCS\", \"NON_INT_UPB\", \"PRIN_FORG_UPB_FHFA\", \"REPCH_FLAG\", \"PRIN_FORG_UPB_OTH\", \"TRANSFER_FLG\"\n",
    "]\n",
    "\n",
    "performance = dt.fread(\n",
    "    \"data/Performance_2010Q1.txt\",\n",
    "    sep = \"|\",\n",
    "    header = None ,\n",
    "    columns = performance_Variables\n",
    ")\n",
    "\n",
    "#performance = performance.to_pandas()\n",
    "performance.shape"
   ]
  },
  {
   "cell_type": "code",
   "execution_count": 11,
   "metadata": {},
   "outputs": [
    {
     "output_type": "execute_result",
     "data": {
      "text/plain": "",
      "text/html": "<style type='text/css'>\n.datatable table.frame { margin-bottom: 0; }\n.datatable table.frame thead { border-bottom: none; }\n.datatable table.frame tr.coltypes td {  color: #FFFFFF;  line-height: 6px;  padding: 0 0.5em;}\n.datatable .bool { background: #DDDD99; }\n.datatable .obj  { background: #565656; }\n.datatable .int  { background: #5D9E5D; }\n.datatable .real { background: #4040CC; }\n.datatable .str  { background: #CC4040; }\n.datatable .row_index {  background: var(--jp-border-color3);  border-right: 1px solid var(--jp-border-color0);  color: var(--jp-ui-font-color3);  font-size: 9px;}\n.datatable .frame tr.coltypes .row_index {  background: var(--jp-border-color0);}\n.datatable th:nth-child(2) { padding-left: 12px; }\n.datatable .hellipsis {  color: var(--jp-cell-editor-border-color);}\n.datatable .vellipsis {  background: var(--jp-layout-color0);  color: var(--jp-cell-editor-border-color);}\n.datatable .na {  color: var(--jp-cell-editor-border-color);  font-size: 80%;}\n.datatable .footer { font-size: 9px; }\n.datatable .frame_dimensions {  background: var(--jp-border-color3);  border-top: 1px solid var(--jp-border-color0);  color: var(--jp-ui-font-color3);  display: inline-block;  opacity: 0.6;  padding: 1px 10px 1px 5px;}\n</style>\n<div class='datatable'>\n  <table class='frame'>\n  <thead>\n    <tr class='colnames'><td class='row_index'></td><th>LOAN_ID</th><th>Monthly_Rpt_Prd</th><th>Servicer_Name</th><th>LAST_RT</th><th>LAST_UPB</th><th>Loan_Age</th><th>Months_To_Legal_Mat</th><th>Adj_Month_To_Mat</th><th>Maturity_Date</th><th>MSA</th><th class='vellipsis'>&hellip;</th><th>NON_INT_UPB</th><th>PRIN_FORG_UPB_FHFA</th><th>REPCH_FLAG</th><th>PRIN_FORG_UPB_OTH</th><th>TRANSFER_FLG</th></tr>\n    <tr class='coltypes'><td class='row_index'></td><td class='int' title='int64'>&#x25AA;&#x25AA;&#x25AA;&#x25AA;&#x25AA;&#x25AA;&#x25AA;&#x25AA;</td><td class='str' title='str32'>&#x25AA;&#x25AA;&#x25AA;&#x25AA;</td><td class='str' title='str32'>&#x25AA;&#x25AA;&#x25AA;&#x25AA;</td><td class='real' title='float64'>&#x25AA;&#x25AA;&#x25AA;&#x25AA;&#x25AA;&#x25AA;&#x25AA;&#x25AA;</td><td class='real' title='float64'>&#x25AA;&#x25AA;&#x25AA;&#x25AA;&#x25AA;&#x25AA;&#x25AA;&#x25AA;</td><td class='int' title='int32'>&#x25AA;&#x25AA;&#x25AA;&#x25AA;</td><td class='int' title='int32'>&#x25AA;&#x25AA;&#x25AA;&#x25AA;</td><td class='int' title='int32'>&#x25AA;&#x25AA;&#x25AA;&#x25AA;</td><td class='str' title='str32'>&#x25AA;&#x25AA;&#x25AA;&#x25AA;</td><td class='int' title='int32'>&#x25AA;&#x25AA;&#x25AA;&#x25AA;</td><td></td><td class='real' title='float64'>&#x25AA;&#x25AA;&#x25AA;&#x25AA;&#x25AA;&#x25AA;&#x25AA;&#x25AA;</td><td class='real' title='float64'>&#x25AA;&#x25AA;&#x25AA;&#x25AA;&#x25AA;&#x25AA;&#x25AA;&#x25AA;</td><td class='str' title='str32'>&#x25AA;&#x25AA;&#x25AA;&#x25AA;</td><td class='bool' title='bool8'>&#x25AA;</td><td class='str' title='str32'>&#x25AA;&#x25AA;&#x25AA;&#x25AA;</td></tr>\n  </thead>\n  <tbody>\n    <tr><td class='row_index'>0</td><td>100010079393</td><td>02/01/2010</td><td>WELLS FARGO BANK, N.A.</td><td>4.875</td><td><span class=na>NA</span></td><td>0</td><td>360</td><td>360</td><td>02/2040</td><td>12420</td><td class=vellipsis>&hellip;</td><td><span class=na>NA</span></td><td><span class=na>NA</span></td><td></td><td><span class=na>NA</span></td><td>N</td></tr>\n    <tr><td class='row_index'>1</td><td>100010079393</td><td>03/01/2010</td><td></td><td>4.875</td><td><span class=na>NA</span></td><td>1</td><td>359</td><td>358</td><td>02/2040</td><td>12420</td><td class=vellipsis>&hellip;</td><td><span class=na>NA</span></td><td><span class=na>NA</span></td><td></td><td><span class=na>NA</span></td><td>N</td></tr>\n    <tr><td class='row_index'>2</td><td>100010079393</td><td>04/01/2010</td><td></td><td>4.875</td><td><span class=na>NA</span></td><td>2</td><td>358</td><td>358</td><td>02/2040</td><td>12420</td><td class=vellipsis>&hellip;</td><td><span class=na>NA</span></td><td><span class=na>NA</span></td><td></td><td><span class=na>NA</span></td><td>N</td></tr>\n    <tr><td class='row_index'>3</td><td>100010079393</td><td>05/01/2010</td><td></td><td>4.875</td><td><span class=na>NA</span></td><td>3</td><td>357</td><td>357</td><td>02/2040</td><td>12420</td><td class=vellipsis>&hellip;</td><td><span class=na>NA</span></td><td><span class=na>NA</span></td><td></td><td><span class=na>NA</span></td><td>N</td></tr>\n    <tr><td class='row_index'>4</td><td>100010079393</td><td>06/01/2010</td><td></td><td>4.875</td><td><span class=na>NA</span></td><td>4</td><td>356</td><td>355</td><td>02/2040</td><td>12420</td><td class=vellipsis>&hellip;</td><td><span class=na>NA</span></td><td><span class=na>NA</span></td><td></td><td><span class=na>NA</span></td><td>N</td></tr>\n  </tbody>\n  </table>\n  <div class='footer'>\n    <div class='frame_dimensions'>5 rows &times; 31 columns</div>\n  </div>\n</div>\n"
     },
     "metadata": {},
     "execution_count": 11
    }
   ],
   "source": [
    "#### first 5 records\n",
    "performance.head(5)"
   ]
  },
  {
   "cell_type": "markdown",
   "metadata": {},
   "source": [
    "## Start with a simple analysis\n",
    "\n",
    "This will be the easiest in terms of data prep. Look only at mortgages starting in one specific quarter. For the performance we look at foreclosure or not. So if there is a date in the Foreclosure_date column then the mortgage defaulted otherwise the mortgae did not defaulted. This is the worst that can happen to a mortgage. Latwer we will look at a different performance, days past due where the mortgage does not neccesarily goes default.\n"
   ]
  },
  {
   "cell_type": "code",
   "execution_count": 20,
   "metadata": {},
   "outputs": [],
   "source": [
    "foreclosures = performance[dt.f.Foreclosure_date != \"\", [\"LOAN_ID\", \"Foreclosure_date\"]]\n",
    "foreclosures = foreclosures.to_pandas()"
   ]
  },
  {
   "cell_type": "code",
   "execution_count": 35,
   "metadata": {},
   "outputs": [
    {
     "output_type": "execute_result",
     "data": {
      "text/plain": "           LOAN_ID Foreclosure_date\n0     100446401716       11/01/2012\n1     100683589832       11/01/2016\n2     100960628290       03/01/2015\n3     101212627627       05/01/2016\n4     101455126320       12/01/2013\n...            ...              ...\n1669  997815231849       07/01/2019\n1670  998148417849       06/01/2015\n1671  998710529644       04/01/2015\n1672  999261560724       11/01/2017\n1673  999865000263       01/01/2017\n\n[1674 rows x 2 columns]",
      "text/html": "<div>\n<style scoped>\n    .dataframe tbody tr th:only-of-type {\n        vertical-align: middle;\n    }\n\n    .dataframe tbody tr th {\n        vertical-align: top;\n    }\n\n    .dataframe thead th {\n        text-align: right;\n    }\n</style>\n<table border=\"1\" class=\"dataframe\">\n  <thead>\n    <tr style=\"text-align: right;\">\n      <th></th>\n      <th>LOAN_ID</th>\n      <th>Foreclosure_date</th>\n    </tr>\n  </thead>\n  <tbody>\n    <tr>\n      <th>0</th>\n      <td>100446401716</td>\n      <td>11/01/2012</td>\n    </tr>\n    <tr>\n      <th>1</th>\n      <td>100683589832</td>\n      <td>11/01/2016</td>\n    </tr>\n    <tr>\n      <th>2</th>\n      <td>100960628290</td>\n      <td>03/01/2015</td>\n    </tr>\n    <tr>\n      <th>3</th>\n      <td>101212627627</td>\n      <td>05/01/2016</td>\n    </tr>\n    <tr>\n      <th>4</th>\n      <td>101455126320</td>\n      <td>12/01/2013</td>\n    </tr>\n    <tr>\n      <th>...</th>\n      <td>...</td>\n      <td>...</td>\n    </tr>\n    <tr>\n      <th>1669</th>\n      <td>997815231849</td>\n      <td>07/01/2019</td>\n    </tr>\n    <tr>\n      <th>1670</th>\n      <td>998148417849</td>\n      <td>06/01/2015</td>\n    </tr>\n    <tr>\n      <th>1671</th>\n      <td>998710529644</td>\n      <td>04/01/2015</td>\n    </tr>\n    <tr>\n      <th>1672</th>\n      <td>999261560724</td>\n      <td>11/01/2017</td>\n    </tr>\n    <tr>\n      <th>1673</th>\n      <td>999865000263</td>\n      <td>01/01/2017</td>\n    </tr>\n  </tbody>\n</table>\n<p>1674 rows × 2 columns</p>\n</div>"
     },
     "metadata": {},
     "execution_count": 35
    }
   ],
   "source": [
    "foreclosures"
   ]
  },
  {
   "cell_type": "code",
   "execution_count": 56,
   "metadata": {},
   "outputs": [
    {
     "output_type": "stream",
     "name": "stdout",
     "text": "CPU times: user 615 ms, sys: 139 ms, total: 754 ms\nWall time: 758 ms\n"
    }
   ],
   "source": [
    "%%time\n",
    "\n",
    "mortgages = (\n",
    "    acquisition\n",
    "    .merge(\n",
    "        foreclosures,\n",
    "        how=\"left\",\n",
    "        left_on=\"LOAN_ID\",\n",
    "        right_on=\"LOAN_ID\"\n",
    "    )\n",
    "    .filter([ \n",
    "        \"LOAN_ID\",\"ORIG_DTE\",\"FRST_DTE\", \"Debt_to_Income\", \"Borrower_Credit_Score\", \"PURPOSE\",\n",
    "        \"Monthly_Rpt_Prd\", \"Loan_Age\", \"Seller_Name\", \"ORIG_RT\",\t\"ORIG_AMT\",\n",
    "        \"Zero_Bal_Code\", \"Delq_Status\", \"ZB_DTE\", \"LPI_DTE\", \"Foreclosure_date\"\n",
    "    ])\n",
    ")\n",
    "\n",
    "mortgages = (\n",
    "    mortgages\n",
    "    .assign(target = mortgages.Foreclosure_date.notna().astype(int))\n",
    ")"
   ]
  },
  {
   "cell_type": "code",
   "execution_count": 57,
   "metadata": {},
   "outputs": [
    {
     "output_type": "execute_result",
     "data": {
      "text/plain": "             LOAN_ID ORIG_DTE FRST_DTE  Debt_to_Income  Borrower_Credit_Score  \\\n0       100010079393  01/2010  03/2010            32.0                  773.0   \n1       100013622306  12/2009  02/2010            24.0                  770.0   \n2       100019943199  11/2009  01/2010            21.0                  806.0   \n3       100022098429  01/2010  03/2010            50.0                  682.0   \n4       100023088745  11/2009  01/2010            39.0                  804.0   \n...              ...      ...      ...             ...                    ...   \n323169  999990451380  12/2009  02/2010            35.0                  731.0   \n323170  999993511488  12/2009  02/2010            16.0                  778.0   \n323171  999993982336  12/2009  02/2010            35.0                  743.0   \n323172  999998369629  02/2010  04/2010            33.0                  683.0   \n323173  999999167522  01/2010  03/2010            26.0                  797.0   \n\n       PURPOSE                                Seller_Name  ORIG_RT  ORIG_AMT  \\\n0            P                     WELLS FARGO BANK, N.A.    4.875    284000   \n1            C  JPMORGAN CHASE BANK, NATIONAL ASSOCIATION    4.750     87000   \n2            P                                      OTHER    5.000    417000   \n3            P                                      OTHER    5.250    461000   \n4            P                     WELLS FARGO BANK, N.A.    5.250    100000   \n...        ...                                        ...      ...       ...   \n323169       P                     WELLS FARGO BANK, N.A.    4.875    520000   \n323170       R                     WELLS FARGO BANK, N.A.    5.125    320000   \n323171       R                      BANK OF AMERICA, N.A.    4.500    182000   \n323172       C                                      OTHER    5.375     82000   \n323173       R                                      OTHER    5.250    417000   \n\n       Foreclosure_date  target  \n0                   NaN       0  \n1                   NaN       0  \n2                   NaN       0  \n3                   NaN       0  \n4                   NaN       0  \n...                 ...     ...  \n323169              NaN       0  \n323170              NaN       0  \n323171              NaN       0  \n323172              NaN       0  \n323173              NaN       0  \n\n[323174 rows x 11 columns]",
      "text/html": "<div>\n<style scoped>\n    .dataframe tbody tr th:only-of-type {\n        vertical-align: middle;\n    }\n\n    .dataframe tbody tr th {\n        vertical-align: top;\n    }\n\n    .dataframe thead th {\n        text-align: right;\n    }\n</style>\n<table border=\"1\" class=\"dataframe\">\n  <thead>\n    <tr style=\"text-align: right;\">\n      <th></th>\n      <th>LOAN_ID</th>\n      <th>ORIG_DTE</th>\n      <th>FRST_DTE</th>\n      <th>Debt_to_Income</th>\n      <th>Borrower_Credit_Score</th>\n      <th>PURPOSE</th>\n      <th>Seller_Name</th>\n      <th>ORIG_RT</th>\n      <th>ORIG_AMT</th>\n      <th>Foreclosure_date</th>\n      <th>target</th>\n    </tr>\n  </thead>\n  <tbody>\n    <tr>\n      <th>0</th>\n      <td>100010079393</td>\n      <td>01/2010</td>\n      <td>03/2010</td>\n      <td>32.0</td>\n      <td>773.0</td>\n      <td>P</td>\n      <td>WELLS FARGO BANK, N.A.</td>\n      <td>4.875</td>\n      <td>284000</td>\n      <td>NaN</td>\n      <td>0</td>\n    </tr>\n    <tr>\n      <th>1</th>\n      <td>100013622306</td>\n      <td>12/2009</td>\n      <td>02/2010</td>\n      <td>24.0</td>\n      <td>770.0</td>\n      <td>C</td>\n      <td>JPMORGAN CHASE BANK, NATIONAL ASSOCIATION</td>\n      <td>4.750</td>\n      <td>87000</td>\n      <td>NaN</td>\n      <td>0</td>\n    </tr>\n    <tr>\n      <th>2</th>\n      <td>100019943199</td>\n      <td>11/2009</td>\n      <td>01/2010</td>\n      <td>21.0</td>\n      <td>806.0</td>\n      <td>P</td>\n      <td>OTHER</td>\n      <td>5.000</td>\n      <td>417000</td>\n      <td>NaN</td>\n      <td>0</td>\n    </tr>\n    <tr>\n      <th>3</th>\n      <td>100022098429</td>\n      <td>01/2010</td>\n      <td>03/2010</td>\n      <td>50.0</td>\n      <td>682.0</td>\n      <td>P</td>\n      <td>OTHER</td>\n      <td>5.250</td>\n      <td>461000</td>\n      <td>NaN</td>\n      <td>0</td>\n    </tr>\n    <tr>\n      <th>4</th>\n      <td>100023088745</td>\n      <td>11/2009</td>\n      <td>01/2010</td>\n      <td>39.0</td>\n      <td>804.0</td>\n      <td>P</td>\n      <td>WELLS FARGO BANK, N.A.</td>\n      <td>5.250</td>\n      <td>100000</td>\n      <td>NaN</td>\n      <td>0</td>\n    </tr>\n    <tr>\n      <th>...</th>\n      <td>...</td>\n      <td>...</td>\n      <td>...</td>\n      <td>...</td>\n      <td>...</td>\n      <td>...</td>\n      <td>...</td>\n      <td>...</td>\n      <td>...</td>\n      <td>...</td>\n      <td>...</td>\n    </tr>\n    <tr>\n      <th>323169</th>\n      <td>999990451380</td>\n      <td>12/2009</td>\n      <td>02/2010</td>\n      <td>35.0</td>\n      <td>731.0</td>\n      <td>P</td>\n      <td>WELLS FARGO BANK, N.A.</td>\n      <td>4.875</td>\n      <td>520000</td>\n      <td>NaN</td>\n      <td>0</td>\n    </tr>\n    <tr>\n      <th>323170</th>\n      <td>999993511488</td>\n      <td>12/2009</td>\n      <td>02/2010</td>\n      <td>16.0</td>\n      <td>778.0</td>\n      <td>R</td>\n      <td>WELLS FARGO BANK, N.A.</td>\n      <td>5.125</td>\n      <td>320000</td>\n      <td>NaN</td>\n      <td>0</td>\n    </tr>\n    <tr>\n      <th>323171</th>\n      <td>999993982336</td>\n      <td>12/2009</td>\n      <td>02/2010</td>\n      <td>35.0</td>\n      <td>743.0</td>\n      <td>R</td>\n      <td>BANK OF AMERICA, N.A.</td>\n      <td>4.500</td>\n      <td>182000</td>\n      <td>NaN</td>\n      <td>0</td>\n    </tr>\n    <tr>\n      <th>323172</th>\n      <td>999998369629</td>\n      <td>02/2010</td>\n      <td>04/2010</td>\n      <td>33.0</td>\n      <td>683.0</td>\n      <td>C</td>\n      <td>OTHER</td>\n      <td>5.375</td>\n      <td>82000</td>\n      <td>NaN</td>\n      <td>0</td>\n    </tr>\n    <tr>\n      <th>323173</th>\n      <td>999999167522</td>\n      <td>01/2010</td>\n      <td>03/2010</td>\n      <td>26.0</td>\n      <td>797.0</td>\n      <td>R</td>\n      <td>OTHER</td>\n      <td>5.250</td>\n      <td>417000</td>\n      <td>NaN</td>\n      <td>0</td>\n    </tr>\n  </tbody>\n</table>\n<p>323174 rows × 11 columns</p>\n</div>"
     },
     "metadata": {},
     "execution_count": 57
    }
   ],
   "source": [
    "mortgages"
   ]
  },
  {
   "cell_type": "code",
   "execution_count": 51,
   "metadata": {},
   "outputs": [
    {
     "output_type": "execute_result",
     "data": {
      "text/plain": "count    323174.000000\nmean          0.005180\nstd           0.071785\nmin           0.000000\n25%           0.000000\n50%           0.000000\n75%           0.000000\nmax           1.000000\nName: target, dtype: float64"
     },
     "metadata": {},
     "execution_count": 51
    }
   ],
   "source": [
    "mortgages.target.describe()"
   ]
  },
  {
   "cell_type": "markdown",
   "metadata": {},
   "source": [
    "The column Delq_Status is the Loan Delinquency status and has the following meaning:\n",
    "\n",
    "* 0 - \"Current or less than 30 days past due\"\n",
    "* 1 - \"30 - 59 days past due\"\n",
    "* 2 - \"60 - 89 days past due\"\n",
    "* 3 - \"90 - 119 days past due\"\n",
    "* 4 - \"120 - 149 days past due\"\n",
    "* 5 - \"150 - 179 days past due\"\n",
    "* 6 - \"180 Day Delinquency\"\n",
    "* 7 - \"210 Day Delinquency\"\n",
    "* 8 - \"240 Day Delinquency\"\n",
    "* 9 - \"270 Day Delinquency\" / \"270+ Day Delinquency\""
   ]
  },
  {
   "cell_type": "code",
   "execution_count": 22,
   "metadata": {},
   "outputs": [
    {
     "output_type": "execute_result",
     "data": {
      "text/plain": "0     18135400\nX       264341\n1       127953\n2        29554\n3        13632\n        ...   \n99           1\n98           1\n95           1\n96           1\n97           1\nName: Delq_Status, Length: 102, dtype: int64"
     },
     "metadata": {},
     "execution_count": 22
    }
   ],
   "source": [
    "test.Delq_Status.value_counts()"
   ]
  },
  {
   "cell_type": "code",
   "execution_count": 23,
   "metadata": {},
   "outputs": [
    {
     "output_type": "execute_result",
     "data": {
      "text/plain": "               LOAN_ID ORIG_DTE FRST_DTE Monthly_Rpt_Prd  Loan_Age  \\\n1995      100091653134  12/2009  02/2010      07/01/2018       102   \n1996      100091653134  12/2009  02/2010      08/01/2018       103   \n1997      100091653134  12/2009  02/2010      09/01/2018       104   \n6564      100312066648  01/2010  03/2010      03/01/2014        49   \n8863      100446401716  12/2009  02/2010      09/01/2011        20   \n...                ...      ...      ...             ...       ...   \n18631508  999865000263  01/2010  03/2010      11/01/2013        45   \n18631519  999865000263  01/2010  03/2010      10/01/2014        56   \n18631539  999865000263  01/2010  03/2010      06/01/2016        76   \n18632769  999919586679  12/2009  02/2010      01/01/2017        84   \n18632770  999919586679  12/2009  02/2010      02/01/2017        85   \n\n                                        Seller_Name  ORIG_RT  ORIG_AMT  \\\n1995                                          OTHER    5.375    312000   \n1996                                          OTHER    5.375    312000   \n1997                                          OTHER    5.375    312000   \n6564                                          OTHER    5.250    160000   \n8863      JPMORGAN CHASE BANK, NATIONAL ASSOCIATION    5.125    244000   \n...                                             ...      ...       ...   \n18631508                                      OTHER    5.125     60000   \n18631519                                      OTHER    5.125     60000   \n18631539                                      OTHER    5.125     60000   \n18632769                     WELLS FARGO BANK, N.A.    5.000    427000   \n18632770                     WELLS FARGO BANK, N.A.    5.000    427000   \n\n          Zero_Bal_Code Delq_Status ZB_DTE LPI_DTE  \n1995                NaN           5                 \n1996                NaN           5                 \n1997                NaN           5                 \n6564                NaN           5                 \n8863                NaN           5                 \n...                 ...         ...    ...     ...  \n18631508            NaN           5                 \n18631519            NaN           5                 \n18631539            NaN           5                 \n18632769            NaN           5                 \n18632770            NaN           5                 \n\n[7445 rows x 12 columns]",
      "text/html": "<div>\n<style scoped>\n    .dataframe tbody tr th:only-of-type {\n        vertical-align: middle;\n    }\n\n    .dataframe tbody tr th {\n        vertical-align: top;\n    }\n\n    .dataframe thead th {\n        text-align: right;\n    }\n</style>\n<table border=\"1\" class=\"dataframe\">\n  <thead>\n    <tr style=\"text-align: right;\">\n      <th></th>\n      <th>LOAN_ID</th>\n      <th>ORIG_DTE</th>\n      <th>FRST_DTE</th>\n      <th>Monthly_Rpt_Prd</th>\n      <th>Loan_Age</th>\n      <th>Seller_Name</th>\n      <th>ORIG_RT</th>\n      <th>ORIG_AMT</th>\n      <th>Zero_Bal_Code</th>\n      <th>Delq_Status</th>\n      <th>ZB_DTE</th>\n      <th>LPI_DTE</th>\n    </tr>\n  </thead>\n  <tbody>\n    <tr>\n      <th>1995</th>\n      <td>100091653134</td>\n      <td>12/2009</td>\n      <td>02/2010</td>\n      <td>07/01/2018</td>\n      <td>102</td>\n      <td>OTHER</td>\n      <td>5.375</td>\n      <td>312000</td>\n      <td>NaN</td>\n      <td>5</td>\n      <td></td>\n      <td></td>\n    </tr>\n    <tr>\n      <th>1996</th>\n      <td>100091653134</td>\n      <td>12/2009</td>\n      <td>02/2010</td>\n      <td>08/01/2018</td>\n      <td>103</td>\n      <td>OTHER</td>\n      <td>5.375</td>\n      <td>312000</td>\n      <td>NaN</td>\n      <td>5</td>\n      <td></td>\n      <td></td>\n    </tr>\n    <tr>\n      <th>1997</th>\n      <td>100091653134</td>\n      <td>12/2009</td>\n      <td>02/2010</td>\n      <td>09/01/2018</td>\n      <td>104</td>\n      <td>OTHER</td>\n      <td>5.375</td>\n      <td>312000</td>\n      <td>NaN</td>\n      <td>5</td>\n      <td></td>\n      <td></td>\n    </tr>\n    <tr>\n      <th>6564</th>\n      <td>100312066648</td>\n      <td>01/2010</td>\n      <td>03/2010</td>\n      <td>03/01/2014</td>\n      <td>49</td>\n      <td>OTHER</td>\n      <td>5.250</td>\n      <td>160000</td>\n      <td>NaN</td>\n      <td>5</td>\n      <td></td>\n      <td></td>\n    </tr>\n    <tr>\n      <th>8863</th>\n      <td>100446401716</td>\n      <td>12/2009</td>\n      <td>02/2010</td>\n      <td>09/01/2011</td>\n      <td>20</td>\n      <td>JPMORGAN CHASE BANK, NATIONAL ASSOCIATION</td>\n      <td>5.125</td>\n      <td>244000</td>\n      <td>NaN</td>\n      <td>5</td>\n      <td></td>\n      <td></td>\n    </tr>\n    <tr>\n      <th>...</th>\n      <td>...</td>\n      <td>...</td>\n      <td>...</td>\n      <td>...</td>\n      <td>...</td>\n      <td>...</td>\n      <td>...</td>\n      <td>...</td>\n      <td>...</td>\n      <td>...</td>\n      <td>...</td>\n      <td>...</td>\n    </tr>\n    <tr>\n      <th>18631508</th>\n      <td>999865000263</td>\n      <td>01/2010</td>\n      <td>03/2010</td>\n      <td>11/01/2013</td>\n      <td>45</td>\n      <td>OTHER</td>\n      <td>5.125</td>\n      <td>60000</td>\n      <td>NaN</td>\n      <td>5</td>\n      <td></td>\n      <td></td>\n    </tr>\n    <tr>\n      <th>18631519</th>\n      <td>999865000263</td>\n      <td>01/2010</td>\n      <td>03/2010</td>\n      <td>10/01/2014</td>\n      <td>56</td>\n      <td>OTHER</td>\n      <td>5.125</td>\n      <td>60000</td>\n      <td>NaN</td>\n      <td>5</td>\n      <td></td>\n      <td></td>\n    </tr>\n    <tr>\n      <th>18631539</th>\n      <td>999865000263</td>\n      <td>01/2010</td>\n      <td>03/2010</td>\n      <td>06/01/2016</td>\n      <td>76</td>\n      <td>OTHER</td>\n      <td>5.125</td>\n      <td>60000</td>\n      <td>NaN</td>\n      <td>5</td>\n      <td></td>\n      <td></td>\n    </tr>\n    <tr>\n      <th>18632769</th>\n      <td>999919586679</td>\n      <td>12/2009</td>\n      <td>02/2010</td>\n      <td>01/01/2017</td>\n      <td>84</td>\n      <td>WELLS FARGO BANK, N.A.</td>\n      <td>5.000</td>\n      <td>427000</td>\n      <td>NaN</td>\n      <td>5</td>\n      <td></td>\n      <td></td>\n    </tr>\n    <tr>\n      <th>18632770</th>\n      <td>999919586679</td>\n      <td>12/2009</td>\n      <td>02/2010</td>\n      <td>02/01/2017</td>\n      <td>85</td>\n      <td>WELLS FARGO BANK, N.A.</td>\n      <td>5.000</td>\n      <td>427000</td>\n      <td>NaN</td>\n      <td>5</td>\n      <td></td>\n      <td></td>\n    </tr>\n  </tbody>\n</table>\n<p>7445 rows × 12 columns</p>\n</div>"
     },
     "metadata": {},
     "execution_count": 23
    }
   ],
   "source": [
    "test.query(\"Delq_Status == '5'\")"
   ]
  },
  {
   "cell_type": "code",
   "execution_count": 25,
   "metadata": {},
   "outputs": [
    {
     "output_type": "execute_result",
     "data": {
      "text/plain": "           LOAN_ID ORIG_DTE FRST_DTE Monthly_Rpt_Prd  Loan_Age Seller_Name  \\\n1893  100091653134  12/2009  02/2010      01/01/2010         0       OTHER   \n1894  100091653134  12/2009  02/2010      02/01/2010         1       OTHER   \n1895  100091653134  12/2009  02/2010      03/01/2010         2       OTHER   \n1896  100091653134  12/2009  02/2010      04/01/2010         3       OTHER   \n1897  100091653134  12/2009  02/2010      05/01/2010         4       OTHER   \n...            ...      ...      ...             ...       ...         ...   \n2008  100091653134  12/2009  02/2010      08/01/2019       115       OTHER   \n2009  100091653134  12/2009  02/2010      09/01/2019       116       OTHER   \n2010  100091653134  12/2009  02/2010      10/01/2019       117       OTHER   \n2011  100091653134  12/2009  02/2010      11/01/2019       118       OTHER   \n2012  100091653134  12/2009  02/2010      12/01/2019       119       OTHER   \n\n      ORIG_RT  ORIG_AMT  Zero_Bal_Code Delq_Status ZB_DTE LPI_DTE  \n1893    5.375    312000            NaN           0                 \n1894    5.375    312000            NaN           0                 \n1895    5.375    312000            NaN           0                 \n1896    5.375    312000            NaN           0                 \n1897    5.375    312000            NaN           0                 \n...       ...       ...            ...         ...    ...     ...  \n2008    5.375    312000            NaN           0                 \n2009    5.375    312000            NaN           1                 \n2010    5.375    312000            NaN           1                 \n2011    5.375    312000            NaN           1                 \n2012    5.375    312000            NaN           1                 \n\n[120 rows x 12 columns]",
      "text/html": "<div>\n<style scoped>\n    .dataframe tbody tr th:only-of-type {\n        vertical-align: middle;\n    }\n\n    .dataframe tbody tr th {\n        vertical-align: top;\n    }\n\n    .dataframe thead th {\n        text-align: right;\n    }\n</style>\n<table border=\"1\" class=\"dataframe\">\n  <thead>\n    <tr style=\"text-align: right;\">\n      <th></th>\n      <th>LOAN_ID</th>\n      <th>ORIG_DTE</th>\n      <th>FRST_DTE</th>\n      <th>Monthly_Rpt_Prd</th>\n      <th>Loan_Age</th>\n      <th>Seller_Name</th>\n      <th>ORIG_RT</th>\n      <th>ORIG_AMT</th>\n      <th>Zero_Bal_Code</th>\n      <th>Delq_Status</th>\n      <th>ZB_DTE</th>\n      <th>LPI_DTE</th>\n    </tr>\n  </thead>\n  <tbody>\n    <tr>\n      <th>1893</th>\n      <td>100091653134</td>\n      <td>12/2009</td>\n      <td>02/2010</td>\n      <td>01/01/2010</td>\n      <td>0</td>\n      <td>OTHER</td>\n      <td>5.375</td>\n      <td>312000</td>\n      <td>NaN</td>\n      <td>0</td>\n      <td></td>\n      <td></td>\n    </tr>\n    <tr>\n      <th>1894</th>\n      <td>100091653134</td>\n      <td>12/2009</td>\n      <td>02/2010</td>\n      <td>02/01/2010</td>\n      <td>1</td>\n      <td>OTHER</td>\n      <td>5.375</td>\n      <td>312000</td>\n      <td>NaN</td>\n      <td>0</td>\n      <td></td>\n      <td></td>\n    </tr>\n    <tr>\n      <th>1895</th>\n      <td>100091653134</td>\n      <td>12/2009</td>\n      <td>02/2010</td>\n      <td>03/01/2010</td>\n      <td>2</td>\n      <td>OTHER</td>\n      <td>5.375</td>\n      <td>312000</td>\n      <td>NaN</td>\n      <td>0</td>\n      <td></td>\n      <td></td>\n    </tr>\n    <tr>\n      <th>1896</th>\n      <td>100091653134</td>\n      <td>12/2009</td>\n      <td>02/2010</td>\n      <td>04/01/2010</td>\n      <td>3</td>\n      <td>OTHER</td>\n      <td>5.375</td>\n      <td>312000</td>\n      <td>NaN</td>\n      <td>0</td>\n      <td></td>\n      <td></td>\n    </tr>\n    <tr>\n      <th>1897</th>\n      <td>100091653134</td>\n      <td>12/2009</td>\n      <td>02/2010</td>\n      <td>05/01/2010</td>\n      <td>4</td>\n      <td>OTHER</td>\n      <td>5.375</td>\n      <td>312000</td>\n      <td>NaN</td>\n      <td>0</td>\n      <td></td>\n      <td></td>\n    </tr>\n    <tr>\n      <th>...</th>\n      <td>...</td>\n      <td>...</td>\n      <td>...</td>\n      <td>...</td>\n      <td>...</td>\n      <td>...</td>\n      <td>...</td>\n      <td>...</td>\n      <td>...</td>\n      <td>...</td>\n      <td>...</td>\n      <td>...</td>\n    </tr>\n    <tr>\n      <th>2008</th>\n      <td>100091653134</td>\n      <td>12/2009</td>\n      <td>02/2010</td>\n      <td>08/01/2019</td>\n      <td>115</td>\n      <td>OTHER</td>\n      <td>5.375</td>\n      <td>312000</td>\n      <td>NaN</td>\n      <td>0</td>\n      <td></td>\n      <td></td>\n    </tr>\n    <tr>\n      <th>2009</th>\n      <td>100091653134</td>\n      <td>12/2009</td>\n      <td>02/2010</td>\n      <td>09/01/2019</td>\n      <td>116</td>\n      <td>OTHER</td>\n      <td>5.375</td>\n      <td>312000</td>\n      <td>NaN</td>\n      <td>1</td>\n      <td></td>\n      <td></td>\n    </tr>\n    <tr>\n      <th>2010</th>\n      <td>100091653134</td>\n      <td>12/2009</td>\n      <td>02/2010</td>\n      <td>10/01/2019</td>\n      <td>117</td>\n      <td>OTHER</td>\n      <td>5.375</td>\n      <td>312000</td>\n      <td>NaN</td>\n      <td>1</td>\n      <td></td>\n      <td></td>\n    </tr>\n    <tr>\n      <th>2011</th>\n      <td>100091653134</td>\n      <td>12/2009</td>\n      <td>02/2010</td>\n      <td>11/01/2019</td>\n      <td>118</td>\n      <td>OTHER</td>\n      <td>5.375</td>\n      <td>312000</td>\n      <td>NaN</td>\n      <td>1</td>\n      <td></td>\n      <td></td>\n    </tr>\n    <tr>\n      <th>2012</th>\n      <td>100091653134</td>\n      <td>12/2009</td>\n      <td>02/2010</td>\n      <td>12/01/2019</td>\n      <td>119</td>\n      <td>OTHER</td>\n      <td>5.375</td>\n      <td>312000</td>\n      <td>NaN</td>\n      <td>1</td>\n      <td></td>\n      <td></td>\n    </tr>\n  </tbody>\n</table>\n<p>120 rows × 12 columns</p>\n</div>"
     },
     "metadata": {},
     "execution_count": 25
    }
   ],
   "source": [
    "test.query(\"LOAN_ID == 100091653134\")"
   ]
  },
  {
   "cell_type": "code",
   "execution_count": null,
   "metadata": {},
   "outputs": [],
   "source": []
  },
  {
   "cell_type": "code",
   "execution_count": null,
   "metadata": {},
   "outputs": [],
   "source": []
  }
 ],
 "metadata": {
  "language_info": {
   "codemirror_mode": {
    "name": "ipython",
    "version": 3
   },
   "file_extension": ".py",
   "mimetype": "text/x-python",
   "name": "python",
   "nbconvert_exporter": "python",
   "pygments_lexer": "ipython3",
   "version": "3.7.3-final"
  },
  "orig_nbformat": 2,
  "kernelspec": {
   "name": "python37364bitbaseconda237d47ed00c34faa8bb5ab0c5c219e3a",
   "display_name": "Python 3.7.3 64-bit ('base': conda)"
  }
 },
 "nbformat": 4,
 "nbformat_minor": 2
}