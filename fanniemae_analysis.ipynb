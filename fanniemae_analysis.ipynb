{
 "cells": [
  {
   "cell_type": "markdown",
   "metadata": {},
   "source": [
    "# Fannie Mae analysis\n",
    "\n",
    "(just started)\n",
    "\n",
    "This notebook contains some python code to analyse mortgage data\n",
    "See the following link how to download data and [more details](https://www.fanniemae.com/portal/funding-the-market/data/loan-performance-data.html).\n",
    "\n",
    "Per quarter there is a Acquisition data set and a Performance data set. See the [details here](https://www.fanniemae.com/resources/file/fundmarket/pdf/webinar-101.pdf)\n"
   ]
  },
  {
   "cell_type": "code",
   "execution_count": 26,
   "metadata": {},
   "outputs": [],
   "source": [
    "#### using the datatable package from h2o....  super package!\n",
    "import pandas as pd\n",
    "import numpy as np\n",
    "import datatable as dt\n",
    "import seaborn as sns\n",
    "import pickle"
   ]
  },
  {
   "cell_type": "markdown",
   "metadata": {},
   "source": [
    "## Import acquisition and performance data\n",
    "\n",
    "The data available on mortgages is per quarter of starting mortgages (from 2000 until 2019). It is a zip containing two text files, for example if we look in the 2010Q1.zip file we have:\n",
    "\n",
    "* the file Acquisition_2010Q1.txt, it contains all mortgaes that started in Q1 2018, each row is one mortgage,\n",
    "* the file Performance_2010Q1.txt, it contains the performance of the mortgages in the acquisition file. Multiple rows in this file correspond to one mortgage, For every mortgage we have the monthly performance of the mortgage, form its start until Dec of 2019.\n",
    "\n",
    "To make things managable I have downloaded only the four zip files corresponding to 2010, unzipped them and concatenated the Acquisition text files to one larger text file and zipped it. I did the same with the performances.\n",
    "\n",
    "`cat Acq*.txt > acquisition.txt & zip acquisition.zip acquisition.txt`\n",
    "\n",
    "`cat Perf*.txt > performance.txt & zip performance.zip performance.txt`\n",
    "\n",
    "I am using the `fread` function from the datatable package, it can import zipped CSV files without extracting them."
   ]
  },
  {
   "cell_type": "code",
   "execution_count": 2,
   "metadata": {},
   "outputs": [
    {
     "output_type": "stream",
     "name": "stdout",
     "text": "CPU times: user 11.7 s, sys: 1.16 s, total: 12.8 s\nWall time: 5.29 s\n"
    },
    {
     "output_type": "execute_result",
     "data": {
      "text/plain": "(1826502, 26)"
     },
     "metadata": {},
     "execution_count": 2
    }
   ],
   "source": [
    "%%time\n",
    "#### import Acquisition data\n",
    "acquisitions_Variables = [\n",
    "    \"LOAN_ID\", \"ORIG_CHN\", \"Seller_Name\", \"ORIG_RT\", \"ORIG_AMT\", \"ORIG_TRM\", \"ORIG_DTE\",\n",
    "    \"FRST_DTE\", \"OLTV\", \"OCLTV\", \"NUM_BO\", \"Debt_to_Income\", \"Borrower_Credit_Score\", \"FTHB_FLG\", \"PURPOSE\", \"PROPERTY_TYPE\",\n",
    "    \"NUM_UNIT\", \"OCC_STAT\", \"STATE\", \"ZIP_3\", \"MI_PCT\", \"Product_Type\", \"CSCORE_C\", \"MI_TYPE\", \"RELOCATION_FLG\"\n",
    "]\n",
    "\n",
    "acquisition = dt.fread(\n",
    "    \"data/acquisition2010.zip\",\n",
    "    sep = \"|\",\n",
    "    header = None ,\n",
    "    columns = acquisitions_Variables,\\\n",
    ")\n",
    "\n",
    "acquisition = acquisition.to_pandas()\n",
    "acquisition = acquisition.assign(start_date = pd.to_datetime(acquisition.ORIG_DTE))\n",
    "acquisition.shape"
   ]
  },
  {
   "cell_type": "code",
   "execution_count": 22,
   "metadata": {},
   "outputs": [
    {
     "output_type": "execute_result",
     "data": {
      "text/plain": "             LOAN_ID ORIG_CHN             Seller_Name  ORIG_RT  ORIG_AMT  \\\n909799  557941053003        R                   OTHER    4.375    249000   \n374781  238725777953        C   BANK OF AMERICA, N.A.    4.990    287000   \n36548   201268372074        R   BANK OF AMERICA, N.A.    6.750     89000   \n760105  286338708040        B  WELLS FARGO BANK, N.A.    4.500    296000   \n519462  626674404453        B                   OTHER    5.500    166000   \n\n        ORIG_TRM ORIG_DTE FRST_DTE  OLTV  OCLTV  ...  NUM_UNIT  OCC_STAT  \\\n909799       180  07/2010  09/2010    30   30.0  ...         1         P   \n374781       240  02/2010  04/2010    80   80.0  ...         1         P   \n36548        360  11/2009  01/2010    80   80.0  ...         1         I   \n760105       360  07/2010  09/2010    78   78.0  ...         1         P   \n519462       360  05/2010  07/2010    80   80.0  ...         1         S   \n\n        STATE ZIP_3 MI_PCT Product_Type  CSCORE_C MI_TYPE RELOCATION_FLG  \\\n909799     MS   391    NaN          FRM     809.0     NaN              N   \n374781     NM   871    NaN          FRM     797.0     NaN              N   \n36548      CO   809    NaN          FRM       NaN     NaN              N   \n760105     CA   913    NaN          FRM     800.0     NaN              N   \n519462     CA   957    NaN          FRM     809.0     NaN              N   \n\n        start_date  \n909799  2010-07-01  \n374781  2010-02-01  \n36548   2009-11-01  \n760105  2010-07-01  \n519462  2010-05-01  \n\n[5 rows x 26 columns]",
      "text/html": "<div>\n<style scoped>\n    .dataframe tbody tr th:only-of-type {\n        vertical-align: middle;\n    }\n\n    .dataframe tbody tr th {\n        vertical-align: top;\n    }\n\n    .dataframe thead th {\n        text-align: right;\n    }\n</style>\n<table border=\"1\" class=\"dataframe\">\n  <thead>\n    <tr style=\"text-align: right;\">\n      <th></th>\n      <th>LOAN_ID</th>\n      <th>ORIG_CHN</th>\n      <th>Seller_Name</th>\n      <th>ORIG_RT</th>\n      <th>ORIG_AMT</th>\n      <th>ORIG_TRM</th>\n      <th>ORIG_DTE</th>\n      <th>FRST_DTE</th>\n      <th>OLTV</th>\n      <th>OCLTV</th>\n      <th>...</th>\n      <th>NUM_UNIT</th>\n      <th>OCC_STAT</th>\n      <th>STATE</th>\n      <th>ZIP_3</th>\n      <th>MI_PCT</th>\n      <th>Product_Type</th>\n      <th>CSCORE_C</th>\n      <th>MI_TYPE</th>\n      <th>RELOCATION_FLG</th>\n      <th>start_date</th>\n    </tr>\n  </thead>\n  <tbody>\n    <tr>\n      <th>909799</th>\n      <td>557941053003</td>\n      <td>R</td>\n      <td>OTHER</td>\n      <td>4.375</td>\n      <td>249000</td>\n      <td>180</td>\n      <td>07/2010</td>\n      <td>09/2010</td>\n      <td>30</td>\n      <td>30.0</td>\n      <td>...</td>\n      <td>1</td>\n      <td>P</td>\n      <td>MS</td>\n      <td>391</td>\n      <td>NaN</td>\n      <td>FRM</td>\n      <td>809.0</td>\n      <td>NaN</td>\n      <td>N</td>\n      <td>2010-07-01</td>\n    </tr>\n    <tr>\n      <th>374781</th>\n      <td>238725777953</td>\n      <td>C</td>\n      <td>BANK OF AMERICA, N.A.</td>\n      <td>4.990</td>\n      <td>287000</td>\n      <td>240</td>\n      <td>02/2010</td>\n      <td>04/2010</td>\n      <td>80</td>\n      <td>80.0</td>\n      <td>...</td>\n      <td>1</td>\n      <td>P</td>\n      <td>NM</td>\n      <td>871</td>\n      <td>NaN</td>\n      <td>FRM</td>\n      <td>797.0</td>\n      <td>NaN</td>\n      <td>N</td>\n      <td>2010-02-01</td>\n    </tr>\n    <tr>\n      <th>36548</th>\n      <td>201268372074</td>\n      <td>R</td>\n      <td>BANK OF AMERICA, N.A.</td>\n      <td>6.750</td>\n      <td>89000</td>\n      <td>360</td>\n      <td>11/2009</td>\n      <td>01/2010</td>\n      <td>80</td>\n      <td>80.0</td>\n      <td>...</td>\n      <td>1</td>\n      <td>I</td>\n      <td>CO</td>\n      <td>809</td>\n      <td>NaN</td>\n      <td>FRM</td>\n      <td>NaN</td>\n      <td>NaN</td>\n      <td>N</td>\n      <td>2009-11-01</td>\n    </tr>\n    <tr>\n      <th>760105</th>\n      <td>286338708040</td>\n      <td>B</td>\n      <td>WELLS FARGO BANK, N.A.</td>\n      <td>4.500</td>\n      <td>296000</td>\n      <td>360</td>\n      <td>07/2010</td>\n      <td>09/2010</td>\n      <td>78</td>\n      <td>78.0</td>\n      <td>...</td>\n      <td>1</td>\n      <td>P</td>\n      <td>CA</td>\n      <td>913</td>\n      <td>NaN</td>\n      <td>FRM</td>\n      <td>800.0</td>\n      <td>NaN</td>\n      <td>N</td>\n      <td>2010-07-01</td>\n    </tr>\n    <tr>\n      <th>519462</th>\n      <td>626674404453</td>\n      <td>B</td>\n      <td>OTHER</td>\n      <td>5.500</td>\n      <td>166000</td>\n      <td>360</td>\n      <td>05/2010</td>\n      <td>07/2010</td>\n      <td>80</td>\n      <td>80.0</td>\n      <td>...</td>\n      <td>1</td>\n      <td>S</td>\n      <td>CA</td>\n      <td>957</td>\n      <td>NaN</td>\n      <td>FRM</td>\n      <td>809.0</td>\n      <td>NaN</td>\n      <td>N</td>\n      <td>2010-05-01</td>\n    </tr>\n  </tbody>\n</table>\n<p>5 rows × 26 columns</p>\n</div>"
     },
     "metadata": {},
     "execution_count": 22
    }
   ],
   "source": [
    "### five random five records\n",
    "acquisition.sample(5)"
   ]
  },
  {
   "cell_type": "code",
   "execution_count": 3,
   "metadata": {},
   "outputs": [
    {
     "output_type": "execute_result",
     "data": {
      "text/plain": "<matplotlib.axes._subplots.AxesSubplot at 0x1a16681668>"
     },
     "metadata": {},
     "execution_count": 3
    },
    {
     "output_type": "display_data",
     "data": {
      "text/plain": "<Figure size 432x288 with 1 Axes>",
      "image/svg+xml": "<?xml version=\"1.0\" encoding=\"utf-8\" standalone=\"no\"?>\n<!DOCTYPE svg PUBLIC \"-//W3C//DTD SVG 1.1//EN\"\n  \"http://www.w3.org/Graphics/SVG/1.1/DTD/svg11.dtd\">\n<!-- Created with matplotlib (https://matplotlib.org/) -->\n<svg height=\"265.797813pt\" version=\"1.1\" viewBox=\"0 0 400.771492 265.797813\" width=\"400.771492pt\" xmlns=\"http://www.w3.org/2000/svg\" xmlns:xlink=\"http://www.w3.org/1999/xlink\">\n <defs>\n  <style type=\"text/css\">\n*{stroke-linecap:butt;stroke-linejoin:round;}\n  </style>\n </defs>\n <g id=\"figure_1\">\n  <g id=\"patch_1\">\n   <path d=\"M 0 265.797813 \nL 400.771492 265.797813 \nL 400.771492 0 \nL 0 0 \nz\n\" style=\"fill:none;\"/>\n  </g>\n  <g id=\"axes_1\">\n   <g id=\"patch_2\">\n    <path d=\"M 52.375 228.14 \nL 387.175 228.14 \nL 387.175 10.7 \nL 52.375 10.7 \nz\n\" style=\"fill:#ffffff;\"/>\n   </g>\n   <g id=\"patch_3\">\n    <path clip-path=\"url(#p87f937f54b)\" d=\"M 67.593182 228.14 \nL 73.680455 228.14 \nL 73.680455 219.603933 \nL 67.593182 219.603933 \nz\n\" style=\"fill:#1f77b4;opacity:0.4;\"/>\n   </g>\n   <g id=\"patch_4\">\n    <path clip-path=\"url(#p87f937f54b)\" d=\"M 73.680455 228.14 \nL 79.767727 228.14 \nL 79.767727 151.431183 \nL 73.680455 151.431183 \nz\n\" style=\"fill:#1f77b4;opacity:0.4;\"/>\n   </g>\n   <g id=\"patch_5\">\n    <path clip-path=\"url(#p87f937f54b)\" d=\"M 79.767727 228.14 \nL 85.855 228.14 \nL 85.855 68.422511 \nL 79.767727 68.422511 \nz\n\" style=\"fill:#1f77b4;opacity:0.4;\"/>\n   </g>\n   <g id=\"patch_6\">\n    <path clip-path=\"url(#p87f937f54b)\" d=\"M 85.855 228.14 \nL 91.942273 228.14 \nL 91.942273 24.591347 \nL 85.855 24.591347 \nz\n\" style=\"fill:#1f77b4;opacity:0.4;\"/>\n   </g>\n   <g id=\"patch_7\">\n    <path clip-path=\"url(#p87f937f54b)\" d=\"M 91.942273 228.14 \nL 98.029545 228.14 \nL 98.029545 21.054286 \nL 91.942273 21.054286 \nz\n\" style=\"fill:#1f77b4;opacity:0.4;\"/>\n   </g>\n   <g id=\"patch_8\">\n    <path clip-path=\"url(#p87f937f54b)\" d=\"M 98.029545 228.14 \nL 104.116818 228.14 \nL 104.116818 40.800611 \nL 98.029545 40.800611 \nz\n\" style=\"fill:#1f77b4;opacity:0.4;\"/>\n   </g>\n   <g id=\"patch_9\">\n    <path clip-path=\"url(#p87f937f54b)\" d=\"M 104.116818 228.14 \nL 110.204091 228.14 \nL 110.204091 54.546116 \nL 104.116818 54.546116 \nz\n\" style=\"fill:#1f77b4;opacity:0.4;\"/>\n   </g>\n   <g id=\"patch_10\">\n    <path clip-path=\"url(#p87f937f54b)\" d=\"M 110.204091 228.14 \nL 116.291364 228.14 \nL 116.291364 95.088911 \nL 110.204091 95.088911 \nz\n\" style=\"fill:#1f77b4;opacity:0.4;\"/>\n   </g>\n   <g id=\"patch_11\">\n    <path clip-path=\"url(#p87f937f54b)\" d=\"M 116.291364 228.14 \nL 122.378636 228.14 \nL 122.378636 113.848525 \nL 116.291364 113.848525 \nz\n\" style=\"fill:#1f77b4;opacity:0.4;\"/>\n   </g>\n   <g id=\"patch_12\">\n    <path clip-path=\"url(#p87f937f54b)\" d=\"M 122.378636 228.14 \nL 128.465909 228.14 \nL 128.465909 131.229762 \nL 122.378636 131.229762 \nz\n\" style=\"fill:#1f77b4;opacity:0.4;\"/>\n   </g>\n   <g id=\"patch_13\">\n    <path clip-path=\"url(#p87f937f54b)\" d=\"M 128.465909 228.14 \nL 134.553182 228.14 \nL 134.553182 143.730801 \nL 128.465909 143.730801 \nz\n\" style=\"fill:#1f77b4;opacity:0.4;\"/>\n   </g>\n   <g id=\"patch_14\">\n    <path clip-path=\"url(#p87f937f54b)\" d=\"M 134.553182 228.14 \nL 140.640455 228.14 \nL 140.640455 162.038339 \nL 134.553182 162.038339 \nz\n\" style=\"fill:#1f77b4;opacity:0.4;\"/>\n   </g>\n   <g id=\"patch_15\">\n    <path clip-path=\"url(#p87f937f54b)\" d=\"M 140.640455 228.14 \nL 146.727727 228.14 \nL 146.727727 174.065152 \nL 140.640455 174.065152 \nz\n\" style=\"fill:#1f77b4;opacity:0.4;\"/>\n   </g>\n   <g id=\"patch_16\">\n    <path clip-path=\"url(#p87f937f54b)\" d=\"M 146.727727 228.14 \nL 152.815 228.14 \nL 152.815 177.605234 \nL 146.727727 177.605234 \nz\n\" style=\"fill:#1f77b4;opacity:0.4;\"/>\n   </g>\n   <g id=\"patch_17\">\n    <path clip-path=\"url(#p87f937f54b)\" d=\"M 152.815 228.14 \nL 158.902273 228.14 \nL 158.902273 113.050093 \nL 152.815 113.050093 \nz\n\" style=\"fill:#1f77b4;opacity:0.4;\"/>\n   </g>\n   <g id=\"patch_18\">\n    <path clip-path=\"url(#p87f937f54b)\" d=\"M 158.902273 228.14 \nL 164.989545 228.14 \nL 164.989545 219.724755 \nL 158.902273 219.724755 \nz\n\" style=\"fill:#1f77b4;opacity:0.4;\"/>\n   </g>\n   <g id=\"patch_19\">\n    <path clip-path=\"url(#p87f937f54b)\" d=\"M 164.989545 228.14 \nL 171.076818 228.14 \nL 171.076818 216.030625 \nL 164.989545 216.030625 \nz\n\" style=\"fill:#1f77b4;opacity:0.4;\"/>\n   </g>\n   <g id=\"patch_20\">\n    <path clip-path=\"url(#p87f937f54b)\" d=\"M 171.076818 228.14 \nL 177.164091 228.14 \nL 177.164091 215.379194 \nL 171.076818 215.379194 \nz\n\" style=\"fill:#1f77b4;opacity:0.4;\"/>\n   </g>\n   <g id=\"patch_21\">\n    <path clip-path=\"url(#p87f937f54b)\" d=\"M 177.164091 228.14 \nL 183.251364 228.14 \nL 183.251364 215.516125 \nL 177.164091 215.516125 \nz\n\" style=\"fill:#1f77b4;opacity:0.4;\"/>\n   </g>\n   <g id=\"patch_22\">\n    <path clip-path=\"url(#p87f937f54b)\" d=\"M 183.251364 228.14 \nL 189.338636 228.14 \nL 189.338636 217.782543 \nL 183.251364 217.782543 \nz\n\" style=\"fill:#1f77b4;opacity:0.4;\"/>\n   </g>\n   <g id=\"patch_23\">\n    <path clip-path=\"url(#p87f937f54b)\" d=\"M 189.338636 228.14 \nL 195.425909 228.14 \nL 195.425909 219.157899 \nL 189.338636 219.157899 \nz\n\" style=\"fill:#1f77b4;opacity:0.4;\"/>\n   </g>\n   <g id=\"patch_24\">\n    <path clip-path=\"url(#p87f937f54b)\" d=\"M 195.425909 228.14 \nL 201.513182 228.14 \nL 201.513182 219.428741 \nL 195.425909 219.428741 \nz\n\" style=\"fill:#1f77b4;opacity:0.4;\"/>\n   </g>\n   <g id=\"patch_25\">\n    <path clip-path=\"url(#p87f937f54b)\" d=\"M 201.513182 228.14 \nL 207.600455 228.14 \nL 207.600455 222.034467 \nL 201.513182 222.034467 \nz\n\" style=\"fill:#1f77b4;opacity:0.4;\"/>\n   </g>\n   <g id=\"patch_26\">\n    <path clip-path=\"url(#p87f937f54b)\" d=\"M 207.600455 228.14 \nL 213.687727 228.14 \nL 213.687727 222.872165 \nL 207.600455 222.872165 \nz\n\" style=\"fill:#1f77b4;opacity:0.4;\"/>\n   </g>\n   <g id=\"patch_27\">\n    <path clip-path=\"url(#p87f937f54b)\" d=\"M 213.687727 228.14 \nL 219.775 228.14 \nL 219.775 222.198583 \nL 213.687727 222.198583 \nz\n\" style=\"fill:#1f77b4;opacity:0.4;\"/>\n   </g>\n   <g id=\"patch_28\">\n    <path clip-path=\"url(#p87f937f54b)\" d=\"M 219.775 228.14 \nL 225.862273 228.14 \nL 225.862273 211.988126 \nL 219.775 211.988126 \nz\n\" style=\"fill:#1f77b4;opacity:0.4;\"/>\n   </g>\n   <g id=\"patch_29\">\n    <path clip-path=\"url(#p87f937f54b)\" d=\"M 225.862273 228.14 \nL 231.949545 228.14 \nL 231.949545 228.036295 \nL 225.862273 228.036295 \nz\n\" style=\"fill:#1f77b4;opacity:0.4;\"/>\n   </g>\n   <g id=\"patch_30\">\n    <path clip-path=\"url(#p87f937f54b)\" d=\"M 231.949545 228.14 \nL 238.036818 228.14 \nL 238.036818 228.04737 \nL 231.949545 228.04737 \nz\n\" style=\"fill:#1f77b4;opacity:0.4;\"/>\n   </g>\n   <g id=\"patch_31\">\n    <path clip-path=\"url(#p87f937f54b)\" d=\"M 238.036818 228.14 \nL 244.124091 228.14 \nL 244.124091 227.981925 \nL 238.036818 227.981925 \nz\n\" style=\"fill:#1f77b4;opacity:0.4;\"/>\n   </g>\n   <g id=\"patch_32\">\n    <path clip-path=\"url(#p87f937f54b)\" d=\"M 244.124091 228.14 \nL 250.211364 228.14 \nL 250.211364 228.112815 \nL 244.124091 228.112815 \nz\n\" style=\"fill:#1f77b4;opacity:0.4;\"/>\n   </g>\n   <g id=\"patch_33\">\n    <path clip-path=\"url(#p87f937f54b)\" d=\"M 250.211364 228.14 \nL 256.298636 228.14 \nL 256.298636 228.10476 \nL 250.211364 228.10476 \nz\n\" style=\"fill:#1f77b4;opacity:0.4;\"/>\n   </g>\n   <g id=\"patch_34\">\n    <path clip-path=\"url(#p87f937f54b)\" d=\"M 256.298636 228.14 \nL 262.385909 228.14 \nL 262.385909 228.111808 \nL 256.298636 228.111808 \nz\n\" style=\"fill:#1f77b4;opacity:0.4;\"/>\n   </g>\n   <g id=\"patch_35\">\n    <path clip-path=\"url(#p87f937f54b)\" d=\"M 262.385909 228.14 \nL 268.473182 228.14 \nL 268.473182 228.115836 \nL 262.385909 228.115836 \nz\n\" style=\"fill:#1f77b4;opacity:0.4;\"/>\n   </g>\n   <g id=\"patch_36\">\n    <path clip-path=\"url(#p87f937f54b)\" d=\"M 268.473182 228.14 \nL 274.560455 228.14 \nL 274.560455 228.084623 \nL 268.473182 228.084623 \nz\n\" style=\"fill:#1f77b4;opacity:0.4;\"/>\n   </g>\n   <g id=\"patch_37\">\n    <path clip-path=\"url(#p87f937f54b)\" d=\"M 274.560455 228.14 \nL 280.647727 228.14 \nL 280.647727 228.130938 \nL 274.560455 228.130938 \nz\n\" style=\"fill:#1f77b4;opacity:0.4;\"/>\n   </g>\n   <g id=\"patch_38\">\n    <path clip-path=\"url(#p87f937f54b)\" d=\"M 280.647727 228.14 \nL 286.735 228.14 \nL 286.735 228.126911 \nL 280.647727 228.126911 \nz\n\" style=\"fill:#1f77b4;opacity:0.4;\"/>\n   </g>\n   <g id=\"patch_39\">\n    <path clip-path=\"url(#p87f937f54b)\" d=\"M 286.735 228.14 \nL 292.822273 228.14 \nL 292.822273 228.135973 \nL 286.735 228.135973 \nz\n\" style=\"fill:#1f77b4;opacity:0.4;\"/>\n   </g>\n   <g id=\"patch_40\">\n    <path clip-path=\"url(#p87f937f54b)\" d=\"M 292.822273 228.14 \nL 298.909545 228.14 \nL 298.909545 228.138993 \nL 292.822273 228.138993 \nz\n\" style=\"fill:#1f77b4;opacity:0.4;\"/>\n   </g>\n   <g id=\"patch_41\">\n    <path clip-path=\"url(#p87f937f54b)\" d=\"M 298.909545 228.14 \nL 304.996818 228.14 \nL 304.996818 228.133959 \nL 298.909545 228.133959 \nz\n\" style=\"fill:#1f77b4;opacity:0.4;\"/>\n   </g>\n   <g id=\"patch_42\">\n    <path clip-path=\"url(#p87f937f54b)\" d=\"M 304.996818 228.14 \nL 311.084091 228.14 \nL 311.084091 228.132952 \nL 304.996818 228.132952 \nz\n\" style=\"fill:#1f77b4;opacity:0.4;\"/>\n   </g>\n   <g id=\"patch_43\">\n    <path clip-path=\"url(#p87f937f54b)\" d=\"M 311.084091 228.14 \nL 317.171364 228.14 \nL 317.171364 228.127918 \nL 311.084091 228.127918 \nz\n\" style=\"fill:#1f77b4;opacity:0.4;\"/>\n   </g>\n   <g id=\"patch_44\">\n    <path clip-path=\"url(#p87f937f54b)\" d=\"M 317.171364 228.14 \nL 323.258636 228.14 \nL 323.258636 228.14 \nL 317.171364 228.14 \nz\n\" style=\"fill:#1f77b4;opacity:0.4;\"/>\n   </g>\n   <g id=\"patch_45\">\n    <path clip-path=\"url(#p87f937f54b)\" d=\"M 323.258636 228.14 \nL 329.345909 228.14 \nL 329.345909 228.138993 \nL 323.258636 228.138993 \nz\n\" style=\"fill:#1f77b4;opacity:0.4;\"/>\n   </g>\n   <g id=\"patch_46\">\n    <path clip-path=\"url(#p87f937f54b)\" d=\"M 329.345909 228.14 \nL 335.433182 228.14 \nL 335.433182 228.138993 \nL 329.345909 228.138993 \nz\n\" style=\"fill:#1f77b4;opacity:0.4;\"/>\n   </g>\n   <g id=\"patch_47\">\n    <path clip-path=\"url(#p87f937f54b)\" d=\"M 335.433182 228.14 \nL 341.520455 228.14 \nL 341.520455 228.136979 \nL 335.433182 228.136979 \nz\n\" style=\"fill:#1f77b4;opacity:0.4;\"/>\n   </g>\n   <g id=\"patch_48\">\n    <path clip-path=\"url(#p87f937f54b)\" d=\"M 341.520455 228.14 \nL 347.607727 228.14 \nL 347.607727 228.137986 \nL 341.520455 228.137986 \nz\n\" style=\"fill:#1f77b4;opacity:0.4;\"/>\n   </g>\n   <g id=\"patch_49\">\n    <path clip-path=\"url(#p87f937f54b)\" d=\"M 347.607727 228.14 \nL 353.695 228.14 \nL 353.695 228.138993 \nL 347.607727 228.138993 \nz\n\" style=\"fill:#1f77b4;opacity:0.4;\"/>\n   </g>\n   <g id=\"patch_50\">\n    <path clip-path=\"url(#p87f937f54b)\" d=\"M 353.695 228.14 \nL 359.782273 228.14 \nL 359.782273 228.14 \nL 353.695 228.14 \nz\n\" style=\"fill:#1f77b4;opacity:0.4;\"/>\n   </g>\n   <g id=\"patch_51\">\n    <path clip-path=\"url(#p87f937f54b)\" d=\"M 359.782273 228.14 \nL 365.869545 228.14 \nL 365.869545 228.137986 \nL 359.782273 228.137986 \nz\n\" style=\"fill:#1f77b4;opacity:0.4;\"/>\n   </g>\n   <g id=\"patch_52\">\n    <path clip-path=\"url(#p87f937f54b)\" d=\"M 365.869545 228.14 \nL 371.956818 228.14 \nL 371.956818 228.134966 \nL 365.869545 228.134966 \nz\n\" style=\"fill:#1f77b4;opacity:0.4;\"/>\n   </g>\n   <g id=\"matplotlib.axis_1\">\n    <g id=\"xtick_1\">\n     <g id=\"line2d_1\">\n      <defs>\n       <path d=\"M 0 0 \nL 0 3.5 \n\" id=\"m29b33ac20c\" style=\"stroke:#000000;stroke-width:0.8;\"/>\n      </defs>\n      <g>\n       <use style=\"stroke:#000000;stroke-width:0.8;\" x=\"66.067003\" xlink:href=\"#m29b33ac20c\" y=\"228.14\"/>\n      </g>\n     </g>\n     <g id=\"text_1\">\n      <!-- 0 -->\n      <defs>\n       <path d=\"M 31.78125 66.40625 \nQ 24.171875 66.40625 20.328125 58.90625 \nQ 16.5 51.421875 16.5 36.375 \nQ 16.5 21.390625 20.328125 13.890625 \nQ 24.171875 6.390625 31.78125 6.390625 \nQ 39.453125 6.390625 43.28125 13.890625 \nQ 47.125 21.390625 47.125 36.375 \nQ 47.125 51.421875 43.28125 58.90625 \nQ 39.453125 66.40625 31.78125 66.40625 \nz\nM 31.78125 74.21875 \nQ 44.046875 74.21875 50.515625 64.515625 \nQ 56.984375 54.828125 56.984375 36.375 \nQ 56.984375 17.96875 50.515625 8.265625 \nQ 44.046875 -1.421875 31.78125 -1.421875 \nQ 19.53125 -1.421875 13.0625 8.265625 \nQ 6.59375 17.96875 6.59375 36.375 \nQ 6.59375 54.828125 13.0625 64.515625 \nQ 19.53125 74.21875 31.78125 74.21875 \nz\n\" id=\"DejaVuSans-48\"/>\n      </defs>\n      <g transform=\"translate(62.885753 242.738438)scale(0.1 -0.1)\">\n       <use xlink:href=\"#DejaVuSans-48\"/>\n      </g>\n     </g>\n    </g>\n    <g id=\"xtick_2\">\n     <g id=\"line2d_2\">\n      <g>\n       <use style=\"stroke:#000000;stroke-width:0.8;\" x=\"109.672109\" xlink:href=\"#m29b33ac20c\" y=\"228.14\"/>\n      </g>\n     </g>\n     <g id=\"text_2\">\n      <!-- 200000 -->\n      <defs>\n       <path d=\"M 19.1875 8.296875 \nL 53.609375 8.296875 \nL 53.609375 0 \nL 7.328125 0 \nL 7.328125 8.296875 \nQ 12.9375 14.109375 22.625 23.890625 \nQ 32.328125 33.6875 34.8125 36.53125 \nQ 39.546875 41.84375 41.421875 45.53125 \nQ 43.3125 49.21875 43.3125 52.78125 \nQ 43.3125 58.59375 39.234375 62.25 \nQ 35.15625 65.921875 28.609375 65.921875 \nQ 23.96875 65.921875 18.8125 64.3125 \nQ 13.671875 62.703125 7.8125 59.421875 \nL 7.8125 69.390625 \nQ 13.765625 71.78125 18.9375 73 \nQ 24.125 74.21875 28.421875 74.21875 \nQ 39.75 74.21875 46.484375 68.546875 \nQ 53.21875 62.890625 53.21875 53.421875 \nQ 53.21875 48.921875 51.53125 44.890625 \nQ 49.859375 40.875 45.40625 35.40625 \nQ 44.1875 33.984375 37.640625 27.21875 \nQ 31.109375 20.453125 19.1875 8.296875 \nz\n\" id=\"DejaVuSans-50\"/>\n      </defs>\n      <g transform=\"translate(90.584609 242.738438)scale(0.1 -0.1)\">\n       <use xlink:href=\"#DejaVuSans-50\"/>\n       <use x=\"63.623047\" xlink:href=\"#DejaVuSans-48\"/>\n       <use x=\"127.246094\" xlink:href=\"#DejaVuSans-48\"/>\n       <use x=\"190.869141\" xlink:href=\"#DejaVuSans-48\"/>\n       <use x=\"254.492188\" xlink:href=\"#DejaVuSans-48\"/>\n       <use x=\"318.115234\" xlink:href=\"#DejaVuSans-48\"/>\n      </g>\n     </g>\n    </g>\n    <g id=\"xtick_3\">\n     <g id=\"line2d_3\">\n      <g>\n       <use style=\"stroke:#000000;stroke-width:0.8;\" x=\"153.277214\" xlink:href=\"#m29b33ac20c\" y=\"228.14\"/>\n      </g>\n     </g>\n     <g id=\"text_3\">\n      <!-- 400000 -->\n      <defs>\n       <path d=\"M 37.796875 64.3125 \nL 12.890625 25.390625 \nL 37.796875 25.390625 \nz\nM 35.203125 72.90625 \nL 47.609375 72.90625 \nL 47.609375 25.390625 \nL 58.015625 25.390625 \nL 58.015625 17.1875 \nL 47.609375 17.1875 \nL 47.609375 0 \nL 37.796875 0 \nL 37.796875 17.1875 \nL 4.890625 17.1875 \nL 4.890625 26.703125 \nz\n\" id=\"DejaVuSans-52\"/>\n      </defs>\n      <g transform=\"translate(134.189714 242.738438)scale(0.1 -0.1)\">\n       <use xlink:href=\"#DejaVuSans-52\"/>\n       <use x=\"63.623047\" xlink:href=\"#DejaVuSans-48\"/>\n       <use x=\"127.246094\" xlink:href=\"#DejaVuSans-48\"/>\n       <use x=\"190.869141\" xlink:href=\"#DejaVuSans-48\"/>\n       <use x=\"254.492188\" xlink:href=\"#DejaVuSans-48\"/>\n       <use x=\"318.115234\" xlink:href=\"#DejaVuSans-48\"/>\n      </g>\n     </g>\n    </g>\n    <g id=\"xtick_4\">\n     <g id=\"line2d_4\">\n      <g>\n       <use style=\"stroke:#000000;stroke-width:0.8;\" x=\"196.88232\" xlink:href=\"#m29b33ac20c\" y=\"228.14\"/>\n      </g>\n     </g>\n     <g id=\"text_4\">\n      <!-- 600000 -->\n      <defs>\n       <path d=\"M 33.015625 40.375 \nQ 26.375 40.375 22.484375 35.828125 \nQ 18.609375 31.296875 18.609375 23.390625 \nQ 18.609375 15.53125 22.484375 10.953125 \nQ 26.375 6.390625 33.015625 6.390625 \nQ 39.65625 6.390625 43.53125 10.953125 \nQ 47.40625 15.53125 47.40625 23.390625 \nQ 47.40625 31.296875 43.53125 35.828125 \nQ 39.65625 40.375 33.015625 40.375 \nz\nM 52.59375 71.296875 \nL 52.59375 62.3125 \nQ 48.875 64.0625 45.09375 64.984375 \nQ 41.3125 65.921875 37.59375 65.921875 \nQ 27.828125 65.921875 22.671875 59.328125 \nQ 17.53125 52.734375 16.796875 39.40625 \nQ 19.671875 43.65625 24.015625 45.921875 \nQ 28.375 48.1875 33.59375 48.1875 \nQ 44.578125 48.1875 50.953125 41.515625 \nQ 57.328125 34.859375 57.328125 23.390625 \nQ 57.328125 12.15625 50.6875 5.359375 \nQ 44.046875 -1.421875 33.015625 -1.421875 \nQ 20.359375 -1.421875 13.671875 8.265625 \nQ 6.984375 17.96875 6.984375 36.375 \nQ 6.984375 53.65625 15.1875 63.9375 \nQ 23.390625 74.21875 37.203125 74.21875 \nQ 40.921875 74.21875 44.703125 73.484375 \nQ 48.484375 72.75 52.59375 71.296875 \nz\n\" id=\"DejaVuSans-54\"/>\n      </defs>\n      <g transform=\"translate(177.79482 242.738438)scale(0.1 -0.1)\">\n       <use xlink:href=\"#DejaVuSans-54\"/>\n       <use x=\"63.623047\" xlink:href=\"#DejaVuSans-48\"/>\n       <use x=\"127.246094\" xlink:href=\"#DejaVuSans-48\"/>\n       <use x=\"190.869141\" xlink:href=\"#DejaVuSans-48\"/>\n       <use x=\"254.492188\" xlink:href=\"#DejaVuSans-48\"/>\n       <use x=\"318.115234\" xlink:href=\"#DejaVuSans-48\"/>\n      </g>\n     </g>\n    </g>\n    <g id=\"xtick_5\">\n     <g id=\"line2d_5\">\n      <g>\n       <use style=\"stroke:#000000;stroke-width:0.8;\" x=\"240.487425\" xlink:href=\"#m29b33ac20c\" y=\"228.14\"/>\n      </g>\n     </g>\n     <g id=\"text_5\">\n      <!-- 800000 -->\n      <defs>\n       <path d=\"M 31.78125 34.625 \nQ 24.75 34.625 20.71875 30.859375 \nQ 16.703125 27.09375 16.703125 20.515625 \nQ 16.703125 13.921875 20.71875 10.15625 \nQ 24.75 6.390625 31.78125 6.390625 \nQ 38.8125 6.390625 42.859375 10.171875 \nQ 46.921875 13.96875 46.921875 20.515625 \nQ 46.921875 27.09375 42.890625 30.859375 \nQ 38.875 34.625 31.78125 34.625 \nz\nM 21.921875 38.8125 \nQ 15.578125 40.375 12.03125 44.71875 \nQ 8.5 49.078125 8.5 55.328125 \nQ 8.5 64.0625 14.71875 69.140625 \nQ 20.953125 74.21875 31.78125 74.21875 \nQ 42.671875 74.21875 48.875 69.140625 \nQ 55.078125 64.0625 55.078125 55.328125 \nQ 55.078125 49.078125 51.53125 44.71875 \nQ 48 40.375 41.703125 38.8125 \nQ 48.828125 37.15625 52.796875 32.3125 \nQ 56.78125 27.484375 56.78125 20.515625 \nQ 56.78125 9.90625 50.3125 4.234375 \nQ 43.84375 -1.421875 31.78125 -1.421875 \nQ 19.734375 -1.421875 13.25 4.234375 \nQ 6.78125 9.90625 6.78125 20.515625 \nQ 6.78125 27.484375 10.78125 32.3125 \nQ 14.796875 37.15625 21.921875 38.8125 \nz\nM 18.3125 54.390625 \nQ 18.3125 48.734375 21.84375 45.5625 \nQ 25.390625 42.390625 31.78125 42.390625 \nQ 38.140625 42.390625 41.71875 45.5625 \nQ 45.3125 48.734375 45.3125 54.390625 \nQ 45.3125 60.0625 41.71875 63.234375 \nQ 38.140625 66.40625 31.78125 66.40625 \nQ 25.390625 66.40625 21.84375 63.234375 \nQ 18.3125 60.0625 18.3125 54.390625 \nz\n\" id=\"DejaVuSans-56\"/>\n      </defs>\n      <g transform=\"translate(221.399925 242.738438)scale(0.1 -0.1)\">\n       <use xlink:href=\"#DejaVuSans-56\"/>\n       <use x=\"63.623047\" xlink:href=\"#DejaVuSans-48\"/>\n       <use x=\"127.246094\" xlink:href=\"#DejaVuSans-48\"/>\n       <use x=\"190.869141\" xlink:href=\"#DejaVuSans-48\"/>\n       <use x=\"254.492188\" xlink:href=\"#DejaVuSans-48\"/>\n       <use x=\"318.115234\" xlink:href=\"#DejaVuSans-48\"/>\n      </g>\n     </g>\n    </g>\n    <g id=\"xtick_6\">\n     <g id=\"line2d_6\">\n      <g>\n       <use style=\"stroke:#000000;stroke-width:0.8;\" x=\"284.092531\" xlink:href=\"#m29b33ac20c\" y=\"228.14\"/>\n      </g>\n     </g>\n     <g id=\"text_6\">\n      <!-- 1000000 -->\n      <defs>\n       <path d=\"M 12.40625 8.296875 \nL 28.515625 8.296875 \nL 28.515625 63.921875 \nL 10.984375 60.40625 \nL 10.984375 69.390625 \nL 28.421875 72.90625 \nL 38.28125 72.90625 \nL 38.28125 8.296875 \nL 54.390625 8.296875 \nL 54.390625 0 \nL 12.40625 0 \nz\n\" id=\"DejaVuSans-49\"/>\n      </defs>\n      <g transform=\"translate(261.823781 242.738438)scale(0.1 -0.1)\">\n       <use xlink:href=\"#DejaVuSans-49\"/>\n       <use x=\"63.623047\" xlink:href=\"#DejaVuSans-48\"/>\n       <use x=\"127.246094\" xlink:href=\"#DejaVuSans-48\"/>\n       <use x=\"190.869141\" xlink:href=\"#DejaVuSans-48\"/>\n       <use x=\"254.492188\" xlink:href=\"#DejaVuSans-48\"/>\n       <use x=\"318.115234\" xlink:href=\"#DejaVuSans-48\"/>\n       <use x=\"381.738281\" xlink:href=\"#DejaVuSans-48\"/>\n      </g>\n     </g>\n    </g>\n    <g id=\"xtick_7\">\n     <g id=\"line2d_7\">\n      <g>\n       <use style=\"stroke:#000000;stroke-width:0.8;\" x=\"327.697636\" xlink:href=\"#m29b33ac20c\" y=\"228.14\"/>\n      </g>\n     </g>\n     <g id=\"text_7\">\n      <!-- 1200000 -->\n      <g transform=\"translate(305.428886 242.738438)scale(0.1 -0.1)\">\n       <use xlink:href=\"#DejaVuSans-49\"/>\n       <use x=\"63.623047\" xlink:href=\"#DejaVuSans-50\"/>\n       <use x=\"127.246094\" xlink:href=\"#DejaVuSans-48\"/>\n       <use x=\"190.869141\" xlink:href=\"#DejaVuSans-48\"/>\n       <use x=\"254.492188\" xlink:href=\"#DejaVuSans-48\"/>\n       <use x=\"318.115234\" xlink:href=\"#DejaVuSans-48\"/>\n       <use x=\"381.738281\" xlink:href=\"#DejaVuSans-48\"/>\n      </g>\n     </g>\n    </g>\n    <g id=\"xtick_8\">\n     <g id=\"line2d_8\">\n      <g>\n       <use style=\"stroke:#000000;stroke-width:0.8;\" x=\"371.302742\" xlink:href=\"#m29b33ac20c\" y=\"228.14\"/>\n      </g>\n     </g>\n     <g id=\"text_8\">\n      <!-- 1400000 -->\n      <g transform=\"translate(349.033992 242.738438)scale(0.1 -0.1)\">\n       <use xlink:href=\"#DejaVuSans-49\"/>\n       <use x=\"63.623047\" xlink:href=\"#DejaVuSans-52\"/>\n       <use x=\"127.246094\" xlink:href=\"#DejaVuSans-48\"/>\n       <use x=\"190.869141\" xlink:href=\"#DejaVuSans-48\"/>\n       <use x=\"254.492188\" xlink:href=\"#DejaVuSans-48\"/>\n       <use x=\"318.115234\" xlink:href=\"#DejaVuSans-48\"/>\n       <use x=\"381.738281\" xlink:href=\"#DejaVuSans-48\"/>\n      </g>\n     </g>\n    </g>\n    <g id=\"text_9\">\n     <!-- ORIG_AMT -->\n     <defs>\n      <path d=\"M 39.40625 66.21875 \nQ 28.65625 66.21875 22.328125 58.203125 \nQ 16.015625 50.203125 16.015625 36.375 \nQ 16.015625 22.609375 22.328125 14.59375 \nQ 28.65625 6.59375 39.40625 6.59375 \nQ 50.140625 6.59375 56.421875 14.59375 \nQ 62.703125 22.609375 62.703125 36.375 \nQ 62.703125 50.203125 56.421875 58.203125 \nQ 50.140625 66.21875 39.40625 66.21875 \nz\nM 39.40625 74.21875 \nQ 54.734375 74.21875 63.90625 63.9375 \nQ 73.09375 53.65625 73.09375 36.375 \nQ 73.09375 19.140625 63.90625 8.859375 \nQ 54.734375 -1.421875 39.40625 -1.421875 \nQ 24.03125 -1.421875 14.8125 8.828125 \nQ 5.609375 19.09375 5.609375 36.375 \nQ 5.609375 53.65625 14.8125 63.9375 \nQ 24.03125 74.21875 39.40625 74.21875 \nz\n\" id=\"DejaVuSans-79\"/>\n      <path d=\"M 44.390625 34.1875 \nQ 47.5625 33.109375 50.5625 29.59375 \nQ 53.5625 26.078125 56.59375 19.921875 \nL 66.609375 0 \nL 56 0 \nL 46.6875 18.703125 \nQ 43.0625 26.03125 39.671875 28.421875 \nQ 36.28125 30.8125 30.421875 30.8125 \nL 19.671875 30.8125 \nL 19.671875 0 \nL 9.8125 0 \nL 9.8125 72.90625 \nL 32.078125 72.90625 \nQ 44.578125 72.90625 50.734375 67.671875 \nQ 56.890625 62.453125 56.890625 51.90625 \nQ 56.890625 45.015625 53.6875 40.46875 \nQ 50.484375 35.9375 44.390625 34.1875 \nz\nM 19.671875 64.796875 \nL 19.671875 38.921875 \nL 32.078125 38.921875 \nQ 39.203125 38.921875 42.84375 42.21875 \nQ 46.484375 45.515625 46.484375 51.90625 \nQ 46.484375 58.296875 42.84375 61.546875 \nQ 39.203125 64.796875 32.078125 64.796875 \nz\n\" id=\"DejaVuSans-82\"/>\n      <path d=\"M 9.8125 72.90625 \nL 19.671875 72.90625 \nL 19.671875 0 \nL 9.8125 0 \nz\n\" id=\"DejaVuSans-73\"/>\n      <path d=\"M 59.515625 10.40625 \nL 59.515625 29.984375 \nL 43.40625 29.984375 \nL 43.40625 38.09375 \nL 69.28125 38.09375 \nL 69.28125 6.78125 \nQ 63.578125 2.734375 56.6875 0.65625 \nQ 49.8125 -1.421875 42 -1.421875 \nQ 24.90625 -1.421875 15.25 8.5625 \nQ 5.609375 18.5625 5.609375 36.375 \nQ 5.609375 54.25 15.25 64.234375 \nQ 24.90625 74.21875 42 74.21875 \nQ 49.125 74.21875 55.546875 72.453125 \nQ 61.96875 70.703125 67.390625 67.28125 \nL 67.390625 56.78125 \nQ 61.921875 61.421875 55.765625 63.765625 \nQ 49.609375 66.109375 42.828125 66.109375 \nQ 29.4375 66.109375 22.71875 58.640625 \nQ 16.015625 51.171875 16.015625 36.375 \nQ 16.015625 21.625 22.71875 14.15625 \nQ 29.4375 6.6875 42.828125 6.6875 \nQ 48.046875 6.6875 52.140625 7.59375 \nQ 56.25 8.5 59.515625 10.40625 \nz\n\" id=\"DejaVuSans-71\"/>\n      <path d=\"M 50.984375 -16.609375 \nL 50.984375 -23.578125 \nL -0.984375 -23.578125 \nL -0.984375 -16.609375 \nz\n\" id=\"DejaVuSans-95\"/>\n      <path d=\"M 34.1875 63.1875 \nL 20.796875 26.90625 \nL 47.609375 26.90625 \nz\nM 28.609375 72.90625 \nL 39.796875 72.90625 \nL 67.578125 0 \nL 57.328125 0 \nL 50.6875 18.703125 \nL 17.828125 18.703125 \nL 11.1875 0 \nL 0.78125 0 \nz\n\" id=\"DejaVuSans-65\"/>\n      <path d=\"M 9.8125 72.90625 \nL 24.515625 72.90625 \nL 43.109375 23.296875 \nL 61.8125 72.90625 \nL 76.515625 72.90625 \nL 76.515625 0 \nL 66.890625 0 \nL 66.890625 64.015625 \nL 48.09375 14.015625 \nL 38.1875 14.015625 \nL 19.390625 64.015625 \nL 19.390625 0 \nL 9.8125 0 \nz\n\" id=\"DejaVuSans-77\"/>\n      <path d=\"M -0.296875 72.90625 \nL 61.375 72.90625 \nL 61.375 64.59375 \nL 35.5 64.59375 \nL 35.5 0 \nL 25.59375 0 \nL 25.59375 64.59375 \nL -0.296875 64.59375 \nz\n\" id=\"DejaVuSans-84\"/>\n     </defs>\n     <g transform=\"translate(193.727344 256.24)scale(0.1 -0.1)\">\n      <use xlink:href=\"#DejaVuSans-79\"/>\n      <use x=\"78.710938\" xlink:href=\"#DejaVuSans-82\"/>\n      <use x=\"148.193359\" xlink:href=\"#DejaVuSans-73\"/>\n      <use x=\"177.685547\" xlink:href=\"#DejaVuSans-71\"/>\n      <use x=\"255.175781\" xlink:href=\"#DejaVuSans-95\"/>\n      <use x=\"305.175781\" xlink:href=\"#DejaVuSans-65\"/>\n      <use x=\"373.583984\" xlink:href=\"#DejaVuSans-77\"/>\n      <use x=\"459.863281\" xlink:href=\"#DejaVuSans-84\"/>\n     </g>\n    </g>\n   </g>\n   <g id=\"matplotlib.axis_2\">\n    <g id=\"ytick_1\">\n     <g id=\"line2d_9\">\n      <defs>\n       <path d=\"M 0 0 \nL -3.5 0 \n\" id=\"mee9b1580aa\" style=\"stroke:#000000;stroke-width:0.8;\"/>\n      </defs>\n      <g>\n       <use style=\"stroke:#000000;stroke-width:0.8;\" x=\"52.375\" xlink:href=\"#mee9b1580aa\" y=\"228.14\"/>\n      </g>\n     </g>\n     <g id=\"text_10\">\n      <!-- 0 -->\n      <g transform=\"translate(39.0125 231.939219)scale(0.1 -0.1)\">\n       <use xlink:href=\"#DejaVuSans-48\"/>\n      </g>\n     </g>\n    </g>\n    <g id=\"ytick_2\">\n     <g id=\"line2d_10\">\n      <g>\n       <use style=\"stroke:#000000;stroke-width:0.8;\" x=\"52.375\" xlink:href=\"#mee9b1580aa\" y=\"202.968771\"/>\n      </g>\n     </g>\n     <g id=\"text_11\">\n      <!-- 25000 -->\n      <defs>\n       <path d=\"M 10.796875 72.90625 \nL 49.515625 72.90625 \nL 49.515625 64.59375 \nL 19.828125 64.59375 \nL 19.828125 46.734375 \nQ 21.96875 47.46875 24.109375 47.828125 \nQ 26.265625 48.1875 28.421875 48.1875 \nQ 40.625 48.1875 47.75 41.5 \nQ 54.890625 34.8125 54.890625 23.390625 \nQ 54.890625 11.625 47.5625 5.09375 \nQ 40.234375 -1.421875 26.90625 -1.421875 \nQ 22.3125 -1.421875 17.546875 -0.640625 \nQ 12.796875 0.140625 7.71875 1.703125 \nL 7.71875 11.625 \nQ 12.109375 9.234375 16.796875 8.0625 \nQ 21.484375 6.890625 26.703125 6.890625 \nQ 35.15625 6.890625 40.078125 11.328125 \nQ 45.015625 15.765625 45.015625 23.390625 \nQ 45.015625 31 40.078125 35.4375 \nQ 35.15625 39.890625 26.703125 39.890625 \nQ 22.75 39.890625 18.8125 39.015625 \nQ 14.890625 38.140625 10.796875 36.28125 \nz\n\" id=\"DejaVuSans-53\"/>\n      </defs>\n      <g transform=\"translate(13.5625 206.76799)scale(0.1 -0.1)\">\n       <use xlink:href=\"#DejaVuSans-50\"/>\n       <use x=\"63.623047\" xlink:href=\"#DejaVuSans-53\"/>\n       <use x=\"127.246094\" xlink:href=\"#DejaVuSans-48\"/>\n       <use x=\"190.869141\" xlink:href=\"#DejaVuSans-48\"/>\n       <use x=\"254.492188\" xlink:href=\"#DejaVuSans-48\"/>\n      </g>\n     </g>\n    </g>\n    <g id=\"ytick_3\">\n     <g id=\"line2d_11\">\n      <g>\n       <use style=\"stroke:#000000;stroke-width:0.8;\" x=\"52.375\" xlink:href=\"#mee9b1580aa\" y=\"177.797542\"/>\n      </g>\n     </g>\n     <g id=\"text_12\">\n      <!-- 50000 -->\n      <g transform=\"translate(13.5625 181.596761)scale(0.1 -0.1)\">\n       <use xlink:href=\"#DejaVuSans-53\"/>\n       <use x=\"63.623047\" xlink:href=\"#DejaVuSans-48\"/>\n       <use x=\"127.246094\" xlink:href=\"#DejaVuSans-48\"/>\n       <use x=\"190.869141\" xlink:href=\"#DejaVuSans-48\"/>\n       <use x=\"254.492188\" xlink:href=\"#DejaVuSans-48\"/>\n      </g>\n     </g>\n    </g>\n    <g id=\"ytick_4\">\n     <g id=\"line2d_12\">\n      <g>\n       <use style=\"stroke:#000000;stroke-width:0.8;\" x=\"52.375\" xlink:href=\"#mee9b1580aa\" y=\"152.626313\"/>\n      </g>\n     </g>\n     <g id=\"text_13\">\n      <!-- 75000 -->\n      <defs>\n       <path d=\"M 8.203125 72.90625 \nL 55.078125 72.90625 \nL 55.078125 68.703125 \nL 28.609375 0 \nL 18.3125 0 \nL 43.21875 64.59375 \nL 8.203125 64.59375 \nz\n\" id=\"DejaVuSans-55\"/>\n      </defs>\n      <g transform=\"translate(13.5625 156.425532)scale(0.1 -0.1)\">\n       <use xlink:href=\"#DejaVuSans-55\"/>\n       <use x=\"63.623047\" xlink:href=\"#DejaVuSans-53\"/>\n       <use x=\"127.246094\" xlink:href=\"#DejaVuSans-48\"/>\n       <use x=\"190.869141\" xlink:href=\"#DejaVuSans-48\"/>\n       <use x=\"254.492188\" xlink:href=\"#DejaVuSans-48\"/>\n      </g>\n     </g>\n    </g>\n    <g id=\"ytick_5\">\n     <g id=\"line2d_13\">\n      <g>\n       <use style=\"stroke:#000000;stroke-width:0.8;\" x=\"52.375\" xlink:href=\"#mee9b1580aa\" y=\"127.455084\"/>\n      </g>\n     </g>\n     <g id=\"text_14\">\n      <!-- 100000 -->\n      <g transform=\"translate(7.2 131.254303)scale(0.1 -0.1)\">\n       <use xlink:href=\"#DejaVuSans-49\"/>\n       <use x=\"63.623047\" xlink:href=\"#DejaVuSans-48\"/>\n       <use x=\"127.246094\" xlink:href=\"#DejaVuSans-48\"/>\n       <use x=\"190.869141\" xlink:href=\"#DejaVuSans-48\"/>\n       <use x=\"254.492188\" xlink:href=\"#DejaVuSans-48\"/>\n       <use x=\"318.115234\" xlink:href=\"#DejaVuSans-48\"/>\n      </g>\n     </g>\n    </g>\n    <g id=\"ytick_6\">\n     <g id=\"line2d_14\">\n      <g>\n       <use style=\"stroke:#000000;stroke-width:0.8;\" x=\"52.375\" xlink:href=\"#mee9b1580aa\" y=\"102.283855\"/>\n      </g>\n     </g>\n     <g id=\"text_15\">\n      <!-- 125000 -->\n      <g transform=\"translate(7.2 106.083074)scale(0.1 -0.1)\">\n       <use xlink:href=\"#DejaVuSans-49\"/>\n       <use x=\"63.623047\" xlink:href=\"#DejaVuSans-50\"/>\n       <use x=\"127.246094\" xlink:href=\"#DejaVuSans-53\"/>\n       <use x=\"190.869141\" xlink:href=\"#DejaVuSans-48\"/>\n       <use x=\"254.492188\" xlink:href=\"#DejaVuSans-48\"/>\n       <use x=\"318.115234\" xlink:href=\"#DejaVuSans-48\"/>\n      </g>\n     </g>\n    </g>\n    <g id=\"ytick_7\">\n     <g id=\"line2d_15\">\n      <g>\n       <use style=\"stroke:#000000;stroke-width:0.8;\" x=\"52.375\" xlink:href=\"#mee9b1580aa\" y=\"77.112626\"/>\n      </g>\n     </g>\n     <g id=\"text_16\">\n      <!-- 150000 -->\n      <g transform=\"translate(7.2 80.911845)scale(0.1 -0.1)\">\n       <use xlink:href=\"#DejaVuSans-49\"/>\n       <use x=\"63.623047\" xlink:href=\"#DejaVuSans-53\"/>\n       <use x=\"127.246094\" xlink:href=\"#DejaVuSans-48\"/>\n       <use x=\"190.869141\" xlink:href=\"#DejaVuSans-48\"/>\n       <use x=\"254.492188\" xlink:href=\"#DejaVuSans-48\"/>\n       <use x=\"318.115234\" xlink:href=\"#DejaVuSans-48\"/>\n      </g>\n     </g>\n    </g>\n    <g id=\"ytick_8\">\n     <g id=\"line2d_16\">\n      <g>\n       <use style=\"stroke:#000000;stroke-width:0.8;\" x=\"52.375\" xlink:href=\"#mee9b1580aa\" y=\"51.941397\"/>\n      </g>\n     </g>\n     <g id=\"text_17\">\n      <!-- 175000 -->\n      <g transform=\"translate(7.2 55.740616)scale(0.1 -0.1)\">\n       <use xlink:href=\"#DejaVuSans-49\"/>\n       <use x=\"63.623047\" xlink:href=\"#DejaVuSans-55\"/>\n       <use x=\"127.246094\" xlink:href=\"#DejaVuSans-53\"/>\n       <use x=\"190.869141\" xlink:href=\"#DejaVuSans-48\"/>\n       <use x=\"254.492188\" xlink:href=\"#DejaVuSans-48\"/>\n       <use x=\"318.115234\" xlink:href=\"#DejaVuSans-48\"/>\n      </g>\n     </g>\n    </g>\n    <g id=\"ytick_9\">\n     <g id=\"line2d_17\">\n      <g>\n       <use style=\"stroke:#000000;stroke-width:0.8;\" x=\"52.375\" xlink:href=\"#mee9b1580aa\" y=\"26.770168\"/>\n      </g>\n     </g>\n     <g id=\"text_18\">\n      <!-- 200000 -->\n      <g transform=\"translate(7.2 30.569387)scale(0.1 -0.1)\">\n       <use xlink:href=\"#DejaVuSans-50\"/>\n       <use x=\"63.623047\" xlink:href=\"#DejaVuSans-48\"/>\n       <use x=\"127.246094\" xlink:href=\"#DejaVuSans-48\"/>\n       <use x=\"190.869141\" xlink:href=\"#DejaVuSans-48\"/>\n       <use x=\"254.492188\" xlink:href=\"#DejaVuSans-48\"/>\n       <use x=\"318.115234\" xlink:href=\"#DejaVuSans-48\"/>\n      </g>\n     </g>\n    </g>\n   </g>\n   <g id=\"patch_53\">\n    <path d=\"M 52.375 228.14 \nL 52.375 10.7 \n\" style=\"fill:none;stroke:#000000;stroke-linecap:square;stroke-linejoin:miter;stroke-width:0.8;\"/>\n   </g>\n   <g id=\"patch_54\">\n    <path d=\"M 387.175 228.14 \nL 387.175 10.7 \n\" style=\"fill:none;stroke:#000000;stroke-linecap:square;stroke-linejoin:miter;stroke-width:0.8;\"/>\n   </g>\n   <g id=\"patch_55\">\n    <path d=\"M 52.375 228.14 \nL 387.175 228.14 \n\" style=\"fill:none;stroke:#000000;stroke-linecap:square;stroke-linejoin:miter;stroke-width:0.8;\"/>\n   </g>\n   <g id=\"patch_56\">\n    <path d=\"M 52.375 10.7 \nL 387.175 10.7 \n\" style=\"fill:none;stroke:#000000;stroke-linecap:square;stroke-linejoin:miter;stroke-width:0.8;\"/>\n   </g>\n  </g>\n </g>\n <defs>\n  <clipPath id=\"p87f937f54b\">\n   <rect height=\"217.44\" width=\"334.8\" x=\"52.375\" y=\"10.7\"/>\n  </clipPath>\n </defs>\n</svg>\n",
      "image/png": "[encoded data removed]"
     },
     "metadata": {
      "needs_background": "light"
     }
    }
   ],
   "source": [
    "sns.distplot(acquisition.ORIG_AMT, kde=False)"
   ]
  },
  {
   "cell_type": "code",
   "execution_count": 4,
   "metadata": {},
   "outputs": [
    {
     "output_type": "stream",
     "name": "stdout",
     "text": "CPU times: user 3min 53s, sys: 1min 43s, total: 5min 37s\nWall time: 1min 58s\n"
    },
    {
     "output_type": "execute_result",
     "data": {
      "text/plain": "(105999627, 31)"
     },
     "metadata": {},
     "execution_count": 4
    }
   ],
   "source": [
    "%%time\n",
    "#### Import performance data\n",
    "performance_Variables = [\n",
    "    \"LOAN_ID\", \"Monthly_Rpt_Prd\", \"Servicer_Name\", \"LAST_RT\", \"LAST_UPB\", \"Loan_Age\", \"Months_To_Legal_Mat\",\n",
    "    \"Adj_Month_To_Mat\", \"Maturity_Date\", \"MSA\", \"Delq_Status\", \"MOD_FLAG\", \"Zero_Bal_Code\", \"ZB_DTE\", \"LPI_DTE\",\n",
    "    \"Foreclosure_date\",\"DISP_DT\", \"FCC_COST\", \"PP_COST\", \"AR_COST\", \"IE_COST\", \"TAX_COST\", \"NS_PROCS\", \"CE_PROCS\", \"RMW_PROCS\",\n",
    "    \"O_PROCS\", \"NON_INT_UPB\", \"PRIN_FORG_UPB_FHFA\", \"REPCH_FLAG\", \"PRIN_FORG_UPB_OTH\", \"TRANSFER_FLG\"\n",
    "]\n",
    "\n",
    "performance = dt.fread(\n",
    "    \"data/performance2010.zip\",\n",
    "    sep = \"|\",\n",
    "    header = None ,\n",
    "    columns = performance_Variables,\n",
    ")\n",
    "\n",
    "#performance = performance.to_pandas()\n",
    "# converting to pandas is not feasible on my Mac\n",
    "performance.shape"
   ]
  },
  {
   "cell_type": "code",
   "execution_count": 6,
   "metadata": {},
   "outputs": [
    {
     "output_type": "execute_result",
     "data": {
      "text/plain": "",
      "text/html": "<style type='text/css'>\n.datatable table.frame { margin-bottom: 0; }\n.datatable table.frame thead { border-bottom: none; }\n.datatable table.frame tr.coltypes td {  color: #FFFFFF;  line-height: 6px;  padding: 0 0.5em;}\n.datatable .bool { background: #DDDD99; }\n.datatable .obj  { background: #565656; }\n.datatable .int  { background: #5D9E5D; }\n.datatable .real { background: #4040CC; }\n.datatable .str  { background: #CC4040; }\n.datatable .row_index {  background: var(--jp-border-color3);  border-right: 1px solid var(--jp-border-color0);  color: var(--jp-ui-font-color3);  font-size: 9px;}\n.datatable .frame tr.coltypes .row_index {  background: var(--jp-border-color0);}\n.datatable th:nth-child(2) { padding-left: 12px; }\n.datatable .hellipsis {  color: var(--jp-cell-editor-border-color);}\n.datatable .vellipsis {  background: var(--jp-layout-color0);  color: var(--jp-cell-editor-border-color);}\n.datatable .na {  color: var(--jp-cell-editor-border-color);  font-size: 80%;}\n.datatable .footer { font-size: 9px; }\n.datatable .frame_dimensions {  background: var(--jp-border-color3);  border-top: 1px solid var(--jp-border-color0);  color: var(--jp-ui-font-color3);  display: inline-block;  opacity: 0.6;  padding: 1px 10px 1px 5px;}\n</style>\n<div class='datatable'>\n  <table class='frame'>\n  <thead>\n    <tr class='colnames'><td class='row_index'></td><th>LOAN_ID</th><th>Monthly_Rpt_Prd</th><th>Servicer_Name</th><th>LAST_RT</th><th>LAST_UPB</th><th>Loan_Age</th><th>Months_To_Legal_Mat</th><th>Adj_Month_To_Mat</th><th>Maturity_Date</th><th>MSA</th><th class='vellipsis'>&hellip;</th><th>NON_INT_UPB</th><th>PRIN_FORG_UPB_FHFA</th><th>REPCH_FLAG</th><th>PRIN_FORG_UPB_OTH</th><th>TRANSFER_FLG</th></tr>\n    <tr class='coltypes'><td class='row_index'></td><td class='int' title='int64'>&#x25AA;&#x25AA;&#x25AA;&#x25AA;&#x25AA;&#x25AA;&#x25AA;&#x25AA;</td><td class='str' title='str32'>&#x25AA;&#x25AA;&#x25AA;&#x25AA;</td><td class='str' title='str32'>&#x25AA;&#x25AA;&#x25AA;&#x25AA;</td><td class='real' title='float64'>&#x25AA;&#x25AA;&#x25AA;&#x25AA;&#x25AA;&#x25AA;&#x25AA;&#x25AA;</td><td class='real' title='float64'>&#x25AA;&#x25AA;&#x25AA;&#x25AA;&#x25AA;&#x25AA;&#x25AA;&#x25AA;</td><td class='int' title='int32'>&#x25AA;&#x25AA;&#x25AA;&#x25AA;</td><td class='int' title='int32'>&#x25AA;&#x25AA;&#x25AA;&#x25AA;</td><td class='int' title='int32'>&#x25AA;&#x25AA;&#x25AA;&#x25AA;</td><td class='str' title='str32'>&#x25AA;&#x25AA;&#x25AA;&#x25AA;</td><td class='int' title='int32'>&#x25AA;&#x25AA;&#x25AA;&#x25AA;</td><td></td><td class='real' title='float64'>&#x25AA;&#x25AA;&#x25AA;&#x25AA;&#x25AA;&#x25AA;&#x25AA;&#x25AA;</td><td class='real' title='float64'>&#x25AA;&#x25AA;&#x25AA;&#x25AA;&#x25AA;&#x25AA;&#x25AA;&#x25AA;</td><td class='str' title='str32'>&#x25AA;&#x25AA;&#x25AA;&#x25AA;</td><td class='real' title='float64'>&#x25AA;&#x25AA;&#x25AA;&#x25AA;&#x25AA;&#x25AA;&#x25AA;&#x25AA;</td><td class='str' title='str32'>&#x25AA;&#x25AA;&#x25AA;&#x25AA;</td></tr>\n  </thead>\n  <tbody>\n    <tr><td class='row_index'>0</td><td>100010079393</td><td>02/01/2010</td><td>WELLS FARGO BANK, N.A.</td><td>4.875</td><td><span class=na>NA</span></td><td>0</td><td>360</td><td>360</td><td>02/2040</td><td>12420</td><td class=vellipsis>&hellip;</td><td><span class=na>NA</span></td><td><span class=na>NA</span></td><td></td><td><span class=na>NA</span></td><td>N</td></tr>\n    <tr><td class='row_index'>1</td><td>100010079393</td><td>03/01/2010</td><td></td><td>4.875</td><td><span class=na>NA</span></td><td>1</td><td>359</td><td>358</td><td>02/2040</td><td>12420</td><td class=vellipsis>&hellip;</td><td><span class=na>NA</span></td><td><span class=na>NA</span></td><td></td><td><span class=na>NA</span></td><td>N</td></tr>\n    <tr><td class='row_index'>2</td><td>100010079393</td><td>04/01/2010</td><td></td><td>4.875</td><td><span class=na>NA</span></td><td>2</td><td>358</td><td>358</td><td>02/2040</td><td>12420</td><td class=vellipsis>&hellip;</td><td><span class=na>NA</span></td><td><span class=na>NA</span></td><td></td><td><span class=na>NA</span></td><td>N</td></tr>\n    <tr><td class='row_index'>3</td><td>100010079393</td><td>05/01/2010</td><td></td><td>4.875</td><td><span class=na>NA</span></td><td>3</td><td>357</td><td>357</td><td>02/2040</td><td>12420</td><td class=vellipsis>&hellip;</td><td><span class=na>NA</span></td><td><span class=na>NA</span></td><td></td><td><span class=na>NA</span></td><td>N</td></tr>\n    <tr><td class='row_index'>4</td><td>100010079393</td><td>06/01/2010</td><td></td><td>4.875</td><td><span class=na>NA</span></td><td>4</td><td>356</td><td>355</td><td>02/2040</td><td>12420</td><td class=vellipsis>&hellip;</td><td><span class=na>NA</span></td><td><span class=na>NA</span></td><td></td><td><span class=na>NA</span></td><td>N</td></tr>\n  </tbody>\n  </table>\n  <div class='footer'>\n    <div class='frame_dimensions'>5 rows &times; 31 columns</div>\n  </div>\n</div>\n"
     },
     "metadata": {},
     "execution_count": 6
    }
   ],
   "source": [
    "#### first 5 records\n",
    "performance.head(5)"
   ]
  },
  {
   "cell_type": "code",
   "execution_count": 18,
   "metadata": {},
   "outputs": [],
   "source": [
    "### converting only 3 columns to pandas is feasible\n",
    "Delinq = performance[:,[\"LOAN_ID\",\"Monthly_Rpt_Prd\",\"Delq_Status\"]].to_pandas()"
   ]
  },
  {
   "cell_type": "markdown",
   "metadata": {},
   "source": [
    "## Start with a simple analysis\n",
    "\n",
    "This will be the easiest in terms of data prep. Look only at mortgages starting in one specific quarter. For the performance we look at foreclosure or not. So if there is a date in the Foreclosure_date column then the mortgage defaulted otherwise the mortgae did not defaulted. This is the worst that can happen to a mortgage. Latwer we will look at a different performance, days past due where the mortgage does not neccesarily goes default.\n"
   ]
  },
  {
   "cell_type": "code",
   "execution_count": 5,
   "metadata": {},
   "outputs": [],
   "source": [
    "# pandas code, but not feasible for 2010\n",
    "\n",
    "#foreclosures = (\n",
    "#    performance\n",
    "#    .query(\"Foreclosure_date != ''\")\n",
    "#    .filter([\"LOAN_ID\", \"Foreclosure_date\"])\n",
    "#)"
   ]
  },
  {
   "cell_type": "code",
   "execution_count": 9,
   "metadata": {},
   "outputs": [],
   "source": [
    "foreclosures = performance[dt.f.Foreclosure_date != \"\",[\"LOAN_ID\", \"Foreclosure_date\"]]"
   ]
  },
  {
   "cell_type": "code",
   "execution_count": 11,
   "metadata": {},
   "outputs": [],
   "source": [
    "foreclosures = foreclosures.to_pandas()"
   ]
  },
  {
   "cell_type": "code",
   "execution_count": 16,
   "metadata": {},
   "outputs": [
    {
     "output_type": "execute_result",
     "data": {
      "text/plain": "           LOAN_ID Foreclosure_date\n0     100446401716       11/01/2012\n1     100683589832       11/01/2016\n2     100960628290       03/01/2015\n3     101212627627       05/01/2016\n4     101455126320       12/01/2013\n...            ...              ...\n6275  998748916895       09/01/2017\n6276  998862664293       12/01/2012\n6277  999358284451       11/01/2016\n6278  999491819310       08/01/2016\n6279  999854155384       04/01/2018\n\n[6280 rows x 2 columns]",
      "text/html": "<div>\n<style scoped>\n    .dataframe tbody tr th:only-of-type {\n        vertical-align: middle;\n    }\n\n    .dataframe tbody tr th {\n        vertical-align: top;\n    }\n\n    .dataframe thead th {\n        text-align: right;\n    }\n</style>\n<table border=\"1\" class=\"dataframe\">\n  <thead>\n    <tr style=\"text-align: right;\">\n      <th></th>\n      <th>LOAN_ID</th>\n      <th>Foreclosure_date</th>\n    </tr>\n  </thead>\n  <tbody>\n    <tr>\n      <th>0</th>\n      <td>100446401716</td>\n      <td>11/01/2012</td>\n    </tr>\n    <tr>\n      <th>1</th>\n      <td>100683589832</td>\n      <td>11/01/2016</td>\n    </tr>\n    <tr>\n      <th>2</th>\n      <td>100960628290</td>\n      <td>03/01/2015</td>\n    </tr>\n    <tr>\n      <th>3</th>\n      <td>101212627627</td>\n      <td>05/01/2016</td>\n    </tr>\n    <tr>\n      <th>4</th>\n      <td>101455126320</td>\n      <td>12/01/2013</td>\n    </tr>\n    <tr>\n      <th>...</th>\n      <td>...</td>\n      <td>...</td>\n    </tr>\n    <tr>\n      <th>6275</th>\n      <td>998748916895</td>\n      <td>09/01/2017</td>\n    </tr>\n    <tr>\n      <th>6276</th>\n      <td>998862664293</td>\n      <td>12/01/2012</td>\n    </tr>\n    <tr>\n      <th>6277</th>\n      <td>999358284451</td>\n      <td>11/01/2016</td>\n    </tr>\n    <tr>\n      <th>6278</th>\n      <td>999491819310</td>\n      <td>08/01/2016</td>\n    </tr>\n    <tr>\n      <th>6279</th>\n      <td>999854155384</td>\n      <td>04/01/2018</td>\n    </tr>\n  </tbody>\n</table>\n<p>6280 rows × 2 columns</p>\n</div>"
     },
     "metadata": {},
     "execution_count": 16
    }
   ],
   "source": [
    "foreclosures"
   ]
  },
  {
   "cell_type": "code",
   "execution_count": 30,
   "metadata": {},
   "outputs": [
    {
     "output_type": "stream",
     "name": "stdout",
     "text": "CPU times: user 3.64 s, sys: 1.22 s, total: 4.86 s\nWall time: 4.89 s\n"
    }
   ],
   "source": [
    "%%time\n",
    "mortgages = (\n",
    "    acquisition\n",
    "    .merge(\n",
    "        foreclosures,\n",
    "        how=\"left\",\n",
    "        left_on=\"LOAN_ID\",\n",
    "        right_on=\"LOAN_ID\"\n",
    "    )\n",
    "    .filter([ \n",
    "        \"LOAN_ID\",\"ORIG_DTE\",\"FRST_DTE\", \"STATE\", \"OLTV\", \"Debt_to_Income\", \"Borrower_Credit_Score\", \"PURPOSE\",\n",
    "        \"Monthly_Rpt_Prd\", \"Loan_Age\", \"Seller_Name\", \"ORIG_RT\",\t\"ORIG_AMT\",\n",
    "        \"Zero_Bal_Code\", \"Delq_Status\", \"ZB_DTE\", \"LPI_DTE\", \"Foreclosure_date\"\n",
    "    ])\n",
    ")\n",
    "\n",
    "mortgages = (\n",
    "    mortgages\n",
    "    .assign(target_foreclosure = mortgages.Foreclosure_date.notna().astype(int))\n",
    ")"
   ]
  },
  {
   "cell_type": "code",
   "execution_count": 31,
   "metadata": {},
   "outputs": [
    {
     "output_type": "execute_result",
     "data": {
      "text/plain": "              LOAN_ID ORIG_DTE FRST_DTE STATE  OLTV  Debt_to_Income  \\\n0        100010079393  01/2010  03/2010    TX    80            32.0   \n1        100013622306  12/2009  02/2010    CA    63            24.0   \n2        100019943199  11/2009  01/2010    FL    43            21.0   \n3        100022098429  01/2010  03/2010    NY    61            50.0   \n4        100023088745  11/2009  01/2010    OH    80            39.0   \n...               ...      ...      ...   ...   ...             ...   \n1826497  999993753714  09/2010  12/2010    NC    36            13.0   \n1826498  999994430501  11/2010  01/2011    TN    74            25.0   \n1826499  999997933975  10/2010  12/2010    PA    43            24.0   \n1826500  999998752557  08/2010  10/2010    MA    64            26.0   \n1826501  999999946478  09/2010  11/2010    CA    12            38.0   \n\n         Borrower_Credit_Score PURPOSE  \\\n0                        773.0       P   \n1                        770.0       C   \n2                        806.0       P   \n3                        682.0       P   \n4                        804.0       P   \n...                        ...     ...   \n1826497                  791.0       R   \n1826498                  813.0       C   \n1826499                  808.0       R   \n1826500                  780.0       R   \n1826501                  793.0       C   \n\n                                       Seller_Name  ORIG_RT  ORIG_AMT  \\\n0                           WELLS FARGO BANK, N.A.    4.875    284000   \n1        JPMORGAN CHASE BANK, NATIONAL ASSOCIATION    4.750     87000   \n2                                            OTHER    5.000    417000   \n3                                            OTHER    5.250    461000   \n4                           WELLS FARGO BANK, N.A.    5.250    100000   \n...                                            ...      ...       ...   \n1826497                     WELLS FARGO BANK, N.A.    4.375     97000   \n1826498                                      OTHER    3.750     65000   \n1826499  JPMORGAN CHASE BANK, NATIONAL ASSOCIATION    4.500    186000   \n1826500                         GMAC MORTGAGE, LLC    4.375    236000   \n1826501                     SUNTRUST MORTGAGE INC.    3.875    278000   \n\n        Foreclosure_date  target_foreclosure  \n0                    NaN                   0  \n1                    NaN                   0  \n2                    NaN                   0  \n3                    NaN                   0  \n4                    NaN                   0  \n...                  ...                 ...  \n1826497              NaN                   0  \n1826498              NaN                   0  \n1826499              NaN                   0  \n1826500              NaN                   0  \n1826501              NaN                   0  \n\n[1826502 rows x 13 columns]",
      "text/html": "<div>\n<style scoped>\n    .dataframe tbody tr th:only-of-type {\n        vertical-align: middle;\n    }\n\n    .dataframe tbody tr th {\n        vertical-align: top;\n    }\n\n    .dataframe thead th {\n        text-align: right;\n    }\n</style>\n<table border=\"1\" class=\"dataframe\">\n  <thead>\n    <tr style=\"text-align: right;\">\n      <th></th>\n      <th>LOAN_ID</th>\n      <th>ORIG_DTE</th>\n      <th>FRST_DTE</th>\n      <th>STATE</th>\n      <th>OLTV</th>\n      <th>Debt_to_Income</th>\n      <th>Borrower_Credit_Score</th>\n      <th>PURPOSE</th>\n      <th>Seller_Name</th>\n      <th>ORIG_RT</th>\n      <th>ORIG_AMT</th>\n      <th>Foreclosure_date</th>\n      <th>target_foreclosure</th>\n    </tr>\n  </thead>\n  <tbody>\n    <tr>\n      <th>0</th>\n      <td>100010079393</td>\n      <td>01/2010</td>\n      <td>03/2010</td>\n      <td>TX</td>\n      <td>80</td>\n      <td>32.0</td>\n      <td>773.0</td>\n      <td>P</td>\n      <td>WELLS FARGO BANK, N.A.</td>\n      <td>4.875</td>\n      <td>284000</td>\n      <td>NaN</td>\n      <td>0</td>\n    </tr>\n    <tr>\n      <th>1</th>\n      <td>100013622306</td>\n      <td>12/2009</td>\n      <td>02/2010</td>\n      <td>CA</td>\n      <td>63</td>\n      <td>24.0</td>\n      <td>770.0</td>\n      <td>C</td>\n      <td>JPMORGAN CHASE BANK, NATIONAL ASSOCIATION</td>\n      <td>4.750</td>\n      <td>87000</td>\n      <td>NaN</td>\n      <td>0</td>\n    </tr>\n    <tr>\n      <th>2</th>\n      <td>100019943199</td>\n      <td>11/2009</td>\n      <td>01/2010</td>\n      <td>FL</td>\n      <td>43</td>\n      <td>21.0</td>\n      <td>806.0</td>\n      <td>P</td>\n      <td>OTHER</td>\n      <td>5.000</td>\n      <td>417000</td>\n      <td>NaN</td>\n      <td>0</td>\n    </tr>\n    <tr>\n      <th>3</th>\n      <td>100022098429</td>\n      <td>01/2010</td>\n      <td>03/2010</td>\n      <td>NY</td>\n      <td>61</td>\n      <td>50.0</td>\n      <td>682.0</td>\n      <td>P</td>\n      <td>OTHER</td>\n      <td>5.250</td>\n      <td>461000</td>\n      <td>NaN</td>\n      <td>0</td>\n    </tr>\n    <tr>\n      <th>4</th>\n      <td>100023088745</td>\n      <td>11/2009</td>\n      <td>01/2010</td>\n      <td>OH</td>\n      <td>80</td>\n      <td>39.0</td>\n      <td>804.0</td>\n      <td>P</td>\n      <td>WELLS FARGO BANK, N.A.</td>\n      <td>5.250</td>\n      <td>100000</td>\n      <td>NaN</td>\n      <td>0</td>\n    </tr>\n    <tr>\n      <th>...</th>\n      <td>...</td>\n      <td>...</td>\n      <td>...</td>\n      <td>...</td>\n      <td>...</td>\n      <td>...</td>\n      <td>...</td>\n      <td>...</td>\n      <td>...</td>\n      <td>...</td>\n      <td>...</td>\n      <td>...</td>\n      <td>...</td>\n    </tr>\n    <tr>\n      <th>1826497</th>\n      <td>999993753714</td>\n      <td>09/2010</td>\n      <td>12/2010</td>\n      <td>NC</td>\n      <td>36</td>\n      <td>13.0</td>\n      <td>791.0</td>\n      <td>R</td>\n      <td>WELLS FARGO BANK, N.A.</td>\n      <td>4.375</td>\n      <td>97000</td>\n      <td>NaN</td>\n      <td>0</td>\n    </tr>\n    <tr>\n      <th>1826498</th>\n      <td>999994430501</td>\n      <td>11/2010</td>\n      <td>01/2011</td>\n      <td>TN</td>\n      <td>74</td>\n      <td>25.0</td>\n      <td>813.0</td>\n      <td>C</td>\n      <td>OTHER</td>\n      <td>3.750</td>\n      <td>65000</td>\n      <td>NaN</td>\n      <td>0</td>\n    </tr>\n    <tr>\n      <th>1826499</th>\n      <td>999997933975</td>\n      <td>10/2010</td>\n      <td>12/2010</td>\n      <td>PA</td>\n      <td>43</td>\n      <td>24.0</td>\n      <td>808.0</td>\n      <td>R</td>\n      <td>JPMORGAN CHASE BANK, NATIONAL ASSOCIATION</td>\n      <td>4.500</td>\n      <td>186000</td>\n      <td>NaN</td>\n      <td>0</td>\n    </tr>\n    <tr>\n      <th>1826500</th>\n      <td>999998752557</td>\n      <td>08/2010</td>\n      <td>10/2010</td>\n      <td>MA</td>\n      <td>64</td>\n      <td>26.0</td>\n      <td>780.0</td>\n      <td>R</td>\n      <td>GMAC MORTGAGE, LLC</td>\n      <td>4.375</td>\n      <td>236000</td>\n      <td>NaN</td>\n      <td>0</td>\n    </tr>\n    <tr>\n      <th>1826501</th>\n      <td>999999946478</td>\n      <td>09/2010</td>\n      <td>11/2010</td>\n      <td>CA</td>\n      <td>12</td>\n      <td>38.0</td>\n      <td>793.0</td>\n      <td>C</td>\n      <td>SUNTRUST MORTGAGE INC.</td>\n      <td>3.875</td>\n      <td>278000</td>\n      <td>NaN</td>\n      <td>0</td>\n    </tr>\n  </tbody>\n</table>\n<p>1826502 rows × 13 columns</p>\n</div>"
     },
     "metadata": {},
     "execution_count": 31
    }
   ],
   "source": [
    "mortgages"
   ]
  },
  {
   "cell_type": "code",
   "execution_count": 14,
   "metadata": {},
   "outputs": [
    {
     "output_type": "execute_result",
     "data": {
      "text/plain": "count    1.826502e+06\nmean     3.438266e-03\nstd      5.853586e-02\nmin      0.000000e+00\n25%      0.000000e+00\n50%      0.000000e+00\n75%      0.000000e+00\nmax      1.000000e+00\nName: target, dtype: float64"
     },
     "metadata": {},
     "execution_count": 14
    }
   ],
   "source": [
    "mortgages.target.describe()"
   ]
  },
  {
   "cell_type": "code",
   "execution_count": 32,
   "metadata": {},
   "outputs": [
    {
     "output_type": "execute_result",
     "data": {
      "text/plain": "CA    312152\nTX    120709\nIL     97075\nNY     83854\nWI     70138\nPA     67799\nMA     66354\nFL     60301\nNJ     57795\nVA     54908\nWA     53769\nOH     47759\nCO     46299\nNC     44068\nMO     40836\nMD     39098\nGA     39091\nMI     37786\nMN     35027\nAZ     33849\nIN     31236\nTN     29002\nOR     25792\nCT     24126\nIA     23501\nSC     22480\nAL     21469\nLA     21053\nUT     20036\nOK     16828\nKY     16137\nKS     13521\nNE     12985\nAR     12316\nNV     10897\nNM     10508\nMS      9979\nID      9636\nNH      9461\nHI      9372\nMT      8784\nRI      6548\nDE      6498\nSD      6180\nME      5958\nDC      5774\nWV      4930\nWY      4834\nVT      4778\nPR      4617\nND      4098\nAK      4065\nVI       283\nGU       153\nName: STATE, dtype: int64"
     },
     "metadata": {},
     "execution_count": 32
    }
   ],
   "source": [
    "mortgages.STATE.value_counts()"
   ]
  },
  {
   "cell_type": "markdown",
   "metadata": {},
   "source": [
    "We can also look at a different target. First time that a mortgage goes into 90 days or more past due. We can use the column `Delq_Status`, it is the Loan Delinquency status and has the following meaning:\n",
    "\n",
    "* 0 - \"Current or less than 30 days past due\"\n",
    "* 1 - \"30 - 59 days past due\"\n",
    "* 2 - \"60 - 89 days past due\"\n",
    "* 3 - \"90 - 119 days past due\"\n",
    "* 4 - \"120 - 149 days past due\"\n",
    "* 5 - \"150 - 179 days past due\"\n",
    "* 6 - \"180 Day Delinquency\"\n",
    "* 7 - \"210 Day Delinquency\"\n",
    "* 8 - \"240 Day Delinquency\"\n",
    "* 9 - \"270 Day Delinquency\" / \"270+ Day Delinquency\""
   ]
  },
  {
   "cell_type": "code",
   "execution_count": 33,
   "metadata": {},
   "outputs": [],
   "source": [
    "### select the status 3\n",
    "tmp = (\n",
    "    Delinq\n",
    "    .query(\"Delq_Status == '3'\")\n",
    "    .filter([\"LOAN_ID\", \"Monthly_Rpt_Prd\", \"Delq_Status\"])\n",
    ")\n",
    "\n",
    "### select the first time when status 3 happened\n",
    "tmp = (\n",
    "    tmp\n",
    "    .assign(date = pd.to_datetime(tmp.Monthly_Rpt_Prd))\n",
    "    .sort_values(by = [\"LOAN_ID\", \"Monthly_Rpt_Prd\"])  \n",
    ")\n",
    "\n",
    "perf_90 = tmp.drop_duplicates(subset=[\"LOAN_ID\"])"
   ]
  },
  {
   "cell_type": "code",
   "execution_count": 34,
   "metadata": {},
   "outputs": [
    {
     "output_type": "execute_result",
     "data": {
      "text/plain": "                LOAN_ID Monthly_Rpt_Prd Delq_Status       date\n18634785   100010962431      09/01/2012           3 2012-09-01\n18635016   100020082687      01/01/2018           3 2018-01-01\n64357205   100044482443      09/01/2012           3 2012-09-01\n1993       100091653134      05/01/2018           3 2018-05-01\n36838443   100203636682      10/01/2016           3 2016-10-01\n...                 ...             ...         ...        ...\n64351731   999882330981      10/01/2015           3 2015-10-01\n105995103  999897801695      05/01/2019           3 2019-05-01\n18632763   999919586679      07/01/2016           3 2016-07-01\n64353562   999937529584      05/01/2019           3 2019-05-01\n105998015  999965648043      03/01/2016           3 2016-03-01\n\n[25735 rows x 4 columns]",
      "text/html": "<div>\n<style scoped>\n    .dataframe tbody tr th:only-of-type {\n        vertical-align: middle;\n    }\n\n    .dataframe tbody tr th {\n        vertical-align: top;\n    }\n\n    .dataframe thead th {\n        text-align: right;\n    }\n</style>\n<table border=\"1\" class=\"dataframe\">\n  <thead>\n    <tr style=\"text-align: right;\">\n      <th></th>\n      <th>LOAN_ID</th>\n      <th>Monthly_Rpt_Prd</th>\n      <th>Delq_Status</th>\n      <th>date</th>\n    </tr>\n  </thead>\n  <tbody>\n    <tr>\n      <th>18634785</th>\n      <td>100010962431</td>\n      <td>09/01/2012</td>\n      <td>3</td>\n      <td>2012-09-01</td>\n    </tr>\n    <tr>\n      <th>18635016</th>\n      <td>100020082687</td>\n      <td>01/01/2018</td>\n      <td>3</td>\n      <td>2018-01-01</td>\n    </tr>\n    <tr>\n      <th>64357205</th>\n      <td>100044482443</td>\n      <td>09/01/2012</td>\n      <td>3</td>\n      <td>2012-09-01</td>\n    </tr>\n    <tr>\n      <th>1993</th>\n      <td>100091653134</td>\n      <td>05/01/2018</td>\n      <td>3</td>\n      <td>2018-05-01</td>\n    </tr>\n    <tr>\n      <th>36838443</th>\n      <td>100203636682</td>\n      <td>10/01/2016</td>\n      <td>3</td>\n      <td>2016-10-01</td>\n    </tr>\n    <tr>\n      <th>...</th>\n      <td>...</td>\n      <td>...</td>\n      <td>...</td>\n      <td>...</td>\n    </tr>\n    <tr>\n      <th>64351731</th>\n      <td>999882330981</td>\n      <td>10/01/2015</td>\n      <td>3</td>\n      <td>2015-10-01</td>\n    </tr>\n    <tr>\n      <th>105995103</th>\n      <td>999897801695</td>\n      <td>05/01/2019</td>\n      <td>3</td>\n      <td>2019-05-01</td>\n    </tr>\n    <tr>\n      <th>18632763</th>\n      <td>999919586679</td>\n      <td>07/01/2016</td>\n      <td>3</td>\n      <td>2016-07-01</td>\n    </tr>\n    <tr>\n      <th>64353562</th>\n      <td>999937529584</td>\n      <td>05/01/2019</td>\n      <td>3</td>\n      <td>2019-05-01</td>\n    </tr>\n    <tr>\n      <th>105998015</th>\n      <td>999965648043</td>\n      <td>03/01/2016</td>\n      <td>3</td>\n      <td>2016-03-01</td>\n    </tr>\n  </tbody>\n</table>\n<p>25735 rows × 4 columns</p>\n</div>"
     },
     "metadata": {},
     "execution_count": 34
    }
   ],
   "source": [
    "perf_90"
   ]
  },
  {
   "cell_type": "code",
   "execution_count": 35,
   "metadata": {},
   "outputs": [],
   "source": [
    "mortgages2 = (\n",
    "    mortgages\n",
    "    .merge(\n",
    "        perf_90,\n",
    "        how=\"left\",\n",
    "        left_on=\"LOAN_ID\",\n",
    "        right_on=\"LOAN_ID\"\n",
    "    )\n",
    ")\n",
    "\n",
    "mortgages2 = (\n",
    "    mortgages2\n",
    "    .assign(target_90 = mortgages2.date.notna().astype(int))\n",
    ")"
   ]
  },
  {
   "cell_type": "code",
   "execution_count": 36,
   "metadata": {},
   "outputs": [
    {
     "output_type": "execute_result",
     "data": {
      "text/plain": "              LOAN_ID ORIG_DTE FRST_DTE STATE  OLTV  Debt_to_Income  \\\n0        100010079393  01/2010  03/2010    TX    80            32.0   \n1        100013622306  12/2009  02/2010    CA    63            24.0   \n2        100019943199  11/2009  01/2010    FL    43            21.0   \n3        100022098429  01/2010  03/2010    NY    61            50.0   \n4        100023088745  11/2009  01/2010    OH    80            39.0   \n...               ...      ...      ...   ...   ...             ...   \n1826497  999993753714  09/2010  12/2010    NC    36            13.0   \n1826498  999994430501  11/2010  01/2011    TN    74            25.0   \n1826499  999997933975  10/2010  12/2010    PA    43            24.0   \n1826500  999998752557  08/2010  10/2010    MA    64            26.0   \n1826501  999999946478  09/2010  11/2010    CA    12            38.0   \n\n         Borrower_Credit_Score PURPOSE  \\\n0                        773.0       P   \n1                        770.0       C   \n2                        806.0       P   \n3                        682.0       P   \n4                        804.0       P   \n...                        ...     ...   \n1826497                  791.0       R   \n1826498                  813.0       C   \n1826499                  808.0       R   \n1826500                  780.0       R   \n1826501                  793.0       C   \n\n                                       Seller_Name  ORIG_RT  ORIG_AMT  \\\n0                           WELLS FARGO BANK, N.A.    4.875    284000   \n1        JPMORGAN CHASE BANK, NATIONAL ASSOCIATION    4.750     87000   \n2                                            OTHER    5.000    417000   \n3                                            OTHER    5.250    461000   \n4                           WELLS FARGO BANK, N.A.    5.250    100000   \n...                                            ...      ...       ...   \n1826497                     WELLS FARGO BANK, N.A.    4.375     97000   \n1826498                                      OTHER    3.750     65000   \n1826499  JPMORGAN CHASE BANK, NATIONAL ASSOCIATION    4.500    186000   \n1826500                         GMAC MORTGAGE, LLC    4.375    236000   \n1826501                     SUNTRUST MORTGAGE INC.    3.875    278000   \n\n        Foreclosure_date  target_foreclosure Monthly_Rpt_Prd Delq_Status date  \\\n0                    NaN                   0             NaN         NaN  NaT   \n1                    NaN                   0             NaN         NaN  NaT   \n2                    NaN                   0             NaN         NaN  NaT   \n3                    NaN                   0             NaN         NaN  NaT   \n4                    NaN                   0             NaN         NaN  NaT   \n...                  ...                 ...             ...         ...  ...   \n1826497              NaN                   0             NaN         NaN  NaT   \n1826498              NaN                   0             NaN         NaN  NaT   \n1826499              NaN                   0             NaN         NaN  NaT   \n1826500              NaN                   0             NaN         NaN  NaT   \n1826501              NaN                   0             NaN         NaN  NaT   \n\n         target_90  \n0                0  \n1                0  \n2                0  \n3                0  \n4                0  \n...            ...  \n1826497          0  \n1826498          0  \n1826499          0  \n1826500          0  \n1826501          0  \n\n[1826502 rows x 17 columns]",
      "text/html": "<div>\n<style scoped>\n    .dataframe tbody tr th:only-of-type {\n        vertical-align: middle;\n    }\n\n    .dataframe tbody tr th {\n        vertical-align: top;\n    }\n\n    .dataframe thead th {\n        text-align: right;\n    }\n</style>\n<table border=\"1\" class=\"dataframe\">\n  <thead>\n    <tr style=\"text-align: right;\">\n      <th></th>\n      <th>LOAN_ID</th>\n      <th>ORIG_DTE</th>\n      <th>FRST_DTE</th>\n      <th>STATE</th>\n      <th>OLTV</th>\n      <th>Debt_to_Income</th>\n      <th>Borrower_Credit_Score</th>\n      <th>PURPOSE</th>\n      <th>Seller_Name</th>\n      <th>ORIG_RT</th>\n      <th>ORIG_AMT</th>\n      <th>Foreclosure_date</th>\n      <th>target_foreclosure</th>\n      <th>Monthly_Rpt_Prd</th>\n      <th>Delq_Status</th>\n      <th>date</th>\n      <th>target_90</th>\n    </tr>\n  </thead>\n  <tbody>\n    <tr>\n      <th>0</th>\n      <td>100010079393</td>\n      <td>01/2010</td>\n      <td>03/2010</td>\n      <td>TX</td>\n      <td>80</td>\n      <td>32.0</td>\n      <td>773.0</td>\n      <td>P</td>\n      <td>WELLS FARGO BANK, N.A.</td>\n      <td>4.875</td>\n      <td>284000</td>\n      <td>NaN</td>\n      <td>0</td>\n      <td>NaN</td>\n      <td>NaN</td>\n      <td>NaT</td>\n      <td>0</td>\n    </tr>\n    <tr>\n      <th>1</th>\n      <td>100013622306</td>\n      <td>12/2009</td>\n      <td>02/2010</td>\n      <td>CA</td>\n      <td>63</td>\n      <td>24.0</td>\n      <td>770.0</td>\n      <td>C</td>\n      <td>JPMORGAN CHASE BANK, NATIONAL ASSOCIATION</td>\n      <td>4.750</td>\n      <td>87000</td>\n      <td>NaN</td>\n      <td>0</td>\n      <td>NaN</td>\n      <td>NaN</td>\n      <td>NaT</td>\n      <td>0</td>\n    </tr>\n    <tr>\n      <th>2</th>\n      <td>100019943199</td>\n      <td>11/2009</td>\n      <td>01/2010</td>\n      <td>FL</td>\n      <td>43</td>\n      <td>21.0</td>\n      <td>806.0</td>\n      <td>P</td>\n      <td>OTHER</td>\n      <td>5.000</td>\n      <td>417000</td>\n      <td>NaN</td>\n      <td>0</td>\n      <td>NaN</td>\n      <td>NaN</td>\n      <td>NaT</td>\n      <td>0</td>\n    </tr>\n    <tr>\n      <th>3</th>\n      <td>100022098429</td>\n      <td>01/2010</td>\n      <td>03/2010</td>\n      <td>NY</td>\n      <td>61</td>\n      <td>50.0</td>\n      <td>682.0</td>\n      <td>P</td>\n      <td>OTHER</td>\n      <td>5.250</td>\n      <td>461000</td>\n      <td>NaN</td>\n      <td>0</td>\n      <td>NaN</td>\n      <td>NaN</td>\n      <td>NaT</td>\n      <td>0</td>\n    </tr>\n    <tr>\n      <th>4</th>\n      <td>100023088745</td>\n      <td>11/2009</td>\n      <td>01/2010</td>\n      <td>OH</td>\n      <td>80</td>\n      <td>39.0</td>\n      <td>804.0</td>\n      <td>P</td>\n      <td>WELLS FARGO BANK, N.A.</td>\n      <td>5.250</td>\n      <td>100000</td>\n      <td>NaN</td>\n      <td>0</td>\n      <td>NaN</td>\n      <td>NaN</td>\n      <td>NaT</td>\n      <td>0</td>\n    </tr>\n    <tr>\n      <th>...</th>\n      <td>...</td>\n      <td>...</td>\n      <td>...</td>\n      <td>...</td>\n      <td>...</td>\n      <td>...</td>\n      <td>...</td>\n      <td>...</td>\n      <td>...</td>\n      <td>...</td>\n      <td>...</td>\n      <td>...</td>\n      <td>...</td>\n      <td>...</td>\n      <td>...</td>\n      <td>...</td>\n      <td>...</td>\n    </tr>\n    <tr>\n      <th>1826497</th>\n      <td>999993753714</td>\n      <td>09/2010</td>\n      <td>12/2010</td>\n      <td>NC</td>\n      <td>36</td>\n      <td>13.0</td>\n      <td>791.0</td>\n      <td>R</td>\n      <td>WELLS FARGO BANK, N.A.</td>\n      <td>4.375</td>\n      <td>97000</td>\n      <td>NaN</td>\n      <td>0</td>\n      <td>NaN</td>\n      <td>NaN</td>\n      <td>NaT</td>\n      <td>0</td>\n    </tr>\n    <tr>\n      <th>1826498</th>\n      <td>999994430501</td>\n      <td>11/2010</td>\n      <td>01/2011</td>\n      <td>TN</td>\n      <td>74</td>\n      <td>25.0</td>\n      <td>813.0</td>\n      <td>C</td>\n      <td>OTHER</td>\n      <td>3.750</td>\n      <td>65000</td>\n      <td>NaN</td>\n      <td>0</td>\n      <td>NaN</td>\n      <td>NaN</td>\n      <td>NaT</td>\n      <td>0</td>\n    </tr>\n    <tr>\n      <th>1826499</th>\n      <td>999997933975</td>\n      <td>10/2010</td>\n      <td>12/2010</td>\n      <td>PA</td>\n      <td>43</td>\n      <td>24.0</td>\n      <td>808.0</td>\n      <td>R</td>\n      <td>JPMORGAN CHASE BANK, NATIONAL ASSOCIATION</td>\n      <td>4.500</td>\n      <td>186000</td>\n      <td>NaN</td>\n      <td>0</td>\n      <td>NaN</td>\n      <td>NaN</td>\n      <td>NaT</td>\n      <td>0</td>\n    </tr>\n    <tr>\n      <th>1826500</th>\n      <td>999998752557</td>\n      <td>08/2010</td>\n      <td>10/2010</td>\n      <td>MA</td>\n      <td>64</td>\n      <td>26.0</td>\n      <td>780.0</td>\n      <td>R</td>\n      <td>GMAC MORTGAGE, LLC</td>\n      <td>4.375</td>\n      <td>236000</td>\n      <td>NaN</td>\n      <td>0</td>\n      <td>NaN</td>\n      <td>NaN</td>\n      <td>NaT</td>\n      <td>0</td>\n    </tr>\n    <tr>\n      <th>1826501</th>\n      <td>999999946478</td>\n      <td>09/2010</td>\n      <td>11/2010</td>\n      <td>CA</td>\n      <td>12</td>\n      <td>38.0</td>\n      <td>793.0</td>\n      <td>C</td>\n      <td>SUNTRUST MORTGAGE INC.</td>\n      <td>3.875</td>\n      <td>278000</td>\n      <td>NaN</td>\n      <td>0</td>\n      <td>NaN</td>\n      <td>NaN</td>\n      <td>NaT</td>\n      <td>0</td>\n    </tr>\n  </tbody>\n</table>\n<p>1826502 rows × 17 columns</p>\n</div>"
     },
     "metadata": {},
     "execution_count": 36
    }
   ],
   "source": [
    "mortgages2"
   ]
  },
  {
   "cell_type": "code",
   "execution_count": 24,
   "metadata": {},
   "outputs": [
    {
     "output_type": "execute_result",
     "data": {
      "text/plain": "             target     target_90\ncount  1.826502e+06  1.826502e+06\nmean   3.438266e-03  1.408977e-02\nstd    5.853586e-02  1.178612e-01\nmin    0.000000e+00  0.000000e+00\n25%    0.000000e+00  0.000000e+00\n50%    0.000000e+00  0.000000e+00\n75%    0.000000e+00  0.000000e+00\nmax    1.000000e+00  1.000000e+00",
      "text/html": "<div>\n<style scoped>\n    .dataframe tbody tr th:only-of-type {\n        vertical-align: middle;\n    }\n\n    .dataframe tbody tr th {\n        vertical-align: top;\n    }\n\n    .dataframe thead th {\n        text-align: right;\n    }\n</style>\n<table border=\"1\" class=\"dataframe\">\n  <thead>\n    <tr style=\"text-align: right;\">\n      <th></th>\n      <th>target</th>\n      <th>target_90</th>\n    </tr>\n  </thead>\n  <tbody>\n    <tr>\n      <th>count</th>\n      <td>1.826502e+06</td>\n      <td>1.826502e+06</td>\n    </tr>\n    <tr>\n      <th>mean</th>\n      <td>3.438266e-03</td>\n      <td>1.408977e-02</td>\n    </tr>\n    <tr>\n      <th>std</th>\n      <td>5.853586e-02</td>\n      <td>1.178612e-01</td>\n    </tr>\n    <tr>\n      <th>min</th>\n      <td>0.000000e+00</td>\n      <td>0.000000e+00</td>\n    </tr>\n    <tr>\n      <th>25%</th>\n      <td>0.000000e+00</td>\n      <td>0.000000e+00</td>\n    </tr>\n    <tr>\n      <th>50%</th>\n      <td>0.000000e+00</td>\n      <td>0.000000e+00</td>\n    </tr>\n    <tr>\n      <th>75%</th>\n      <td>0.000000e+00</td>\n      <td>0.000000e+00</td>\n    </tr>\n    <tr>\n      <th>max</th>\n      <td>1.000000e+00</td>\n      <td>1.000000e+00</td>\n    </tr>\n  </tbody>\n</table>\n</div>"
     },
     "metadata": {},
     "execution_count": 24
    }
   ],
   "source": [
    "mortgages2.filter([\"target\", \"target_90\"]).describe()"
   ]
  },
  {
   "cell_type": "code",
   "execution_count": 37,
   "metadata": {},
   "outputs": [],
   "source": [
    "pickle.dump(mortgages2, open(\"data/mortgages.pck\", \"wb\"))"
   ]
  },
  {
   "cell_type": "markdown",
   "metadata": {},
   "source": [
    "#### Variable importances"
   ]
  }
 ],
 "metadata": {
  "language_info": {
   "codemirror_mode": {
    "name": "ipython",
    "version": 3
   },
   "file_extension": ".py",
   "mimetype": "text/x-python",
   "name": "python",
   "nbconvert_exporter": "python",
   "pygments_lexer": "ipython3",
   "version": "3.7.3-final"
  },
  "orig_nbformat": 2,
  "kernelspec": {
   "name": "python37364bitbaseconda237d47ed00c34faa8bb5ab0c5c219e3a",
   "display_name": "Python 3.7.3 64-bit ('base': conda)"
  }
 },
 "nbformat": 4,
 "nbformat_minor": 2
}