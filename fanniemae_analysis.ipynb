{
 "cells": [
  {
   "cell_type": "markdown",
   "metadata": {},
   "source": [
    "# Fannie Mae analysis\n",
    "\n",
    "(just started)\n",
    "\n",
    "This notebook contains some python code to analyse mortgage data\n",
    "See the following link how to download data and [more details](https://www.fanniemae.com/portal/funding-the-market/data/loan-performance-data.html).\n",
    "\n",
    "Per quarter there is a Acquisition data set and a Performance data set. See the [details here](https://www.fanniemae.com/resources/file/fundmarket/pdf/webinar-101.pdf)\n"
   ]
  },
  {
   "cell_type": "code",
   "execution_count": 47,
   "metadata": {},
   "outputs": [],
   "source": [
    "#### using the datatable package from h2o....  super package!\n",
    "import pandas as pd\n",
    "import numpy as np\n",
    "import datatable as dt\n",
    "import seaborn as sns\n",
    "import pickle\n",
    "\n",
    "import sys"
   ]
  },
  {
   "cell_type": "markdown",
   "metadata": {},
   "source": [
    "## Import acquisition and performance data\n",
    "\n",
    "The data available on mortgages is per quarter of starting mortgages (from 2000 until 2019). It is a zip containing two text files, for example if we look in the 2010Q1.zip file we have:\n",
    "\n",
    "* the file Acquisition_2010Q1.txt, it contains all mortgaes that started in Q1 2018, each row is one mortgage,\n",
    "* the file Performance_2010Q1.txt, it contains the performance of the mortgages in the acquisition file. Multiple rows in this file correspond to one mortgage, For every mortgage we have the monthly performance of the mortgage, form its start until Dec of 2019.\n",
    "\n",
    "To make things managable I have downloaded only the four zip files corresponding to 2010, unzipped them and concatenated the Acquisition text files to one larger text file and zipped it. I did the same with the performances.\n",
    "\n",
    "`cat Acq*.txt > acquisition.txt & zip acquisition.zip acquisition.txt`\n",
    "\n",
    "`cat Perf*.txt > performance.txt & zip performance.zip performance.txt`\n",
    "\n",
    "I am using the `fread` function from the datatable package, it can import zipped CSV files without extracting them."
   ]
  },
  {
   "cell_type": "code",
   "execution_count": 14,
   "metadata": {},
   "outputs": [
    {
     "output_type": "stream",
     "name": "stdout",
     "text": "CPU times: user 12.6 s, sys: 1.27 s, total: 13.9 s\nWall time: 5.54 s\n"
    },
    {
     "output_type": "execute_result",
     "data": {
      "text/plain": "(1826502, 26)"
     },
     "metadata": {},
     "execution_count": 14
    }
   ],
   "source": [
    "%%time\n",
    "#### import Acquisition data\n",
    "acquisitions_Variables = [\n",
    "    \"LOAN_ID\", \"ORIG_CHN\", \"Seller_Name\", \"ORIG_RT\", \"ORIG_AMT\", \"ORIG_TRM\", \"ORIG_DTE\",\n",
    "    \"FRST_DTE\", \"OLTV\", \"OCLTV\", \"NUM_BO\", \"Debt_to_Income\", \"Borrower_Credit_Score\", \"FTHB_FLG\", \"PURPOSE\", \"PROPERTY_TYPE\",\n",
    "    \"NUM_UNIT\", \"OCC_STAT\", \"STATE\", \"ZIP_3\", \"MI_PCT\", \"Product_Type\", \"CSCORE_C\", \"MI_TYPE\", \"RELOCATION_FLG\"\n",
    "]\n",
    "\n",
    "acquisition = dt.fread(\n",
    "    \"data/acquisition2010.zip\",\n",
    "    sep = \"|\",\n",
    "    header = None ,\n",
    "    columns = acquisitions_Variables,\n",
    ")\n",
    "\n",
    "acquisition = acquisition.to_pandas()\n",
    "acquisition = acquisition.assign(start_date = pd.to_datetime(acquisition.ORIG_DTE))\n",
    "acquisition.shape"
   ]
  },
  {
   "cell_type": "code",
   "execution_count": 15,
   "metadata": {},
   "outputs": [
    {
     "output_type": "execute_result",
     "data": {
      "text/plain": "              LOAN_ID ORIG_CHN                                Seller_Name  \\\n690112   159195123306        R                                      OTHER   \n1627533  734144301817        R                                      OTHER   \n1800661  965458724928        R                                      OTHER   \n1770842  925723260054        R                      BANK OF AMERICA, N.A.   \n16297    145265431704        C  JPMORGAN CHASE BANK, NATIONAL ASSOCIATION   \n\n         ORIG_RT  ORIG_AMT  ORIG_TRM ORIG_DTE FRST_DTE  OLTV  OCLTV  ...  \\\n690112     4.250     68000       180  08/2010  10/2010    95   95.0  ...   \n1627533    4.250    100000       360  12/2010  01/2011    38   38.0  ...   \n1800661    4.250    300000       240  09/2010  11/2010    54   54.0  ...   \n1770842    4.375    554000       360  11/2010  01/2011    59   59.0  ...   \n16297      5.000    116000       360  01/2010  03/2010    95   95.0  ...   \n\n         NUM_UNIT  OCC_STAT  STATE ZIP_3 MI_PCT Product_Type  CSCORE_C  \\\n690112          1         P     TX   767   25.0          FRM       NaN   \n1627533         1         P     NE   680    NaN          FRM       NaN   \n1800661         1         P     MD   210    NaN          FRM     785.0   \n1770842         1         P     NJ    77    NaN          FRM     761.0   \n16297           2         P     WI   532   25.0          FRM       NaN   \n\n        MI_TYPE RELOCATION_FLG  start_date  \n690112      1.0              N  2010-08-01  \n1627533     NaN              N  2010-12-01  \n1800661     NaN              N  2010-09-01  \n1770842     NaN              N  2010-11-01  \n16297       1.0              N  2010-01-01  \n\n[5 rows x 26 columns]",
      "text/html": "<div>\n<style scoped>\n    .dataframe tbody tr th:only-of-type {\n        vertical-align: middle;\n    }\n\n    .dataframe tbody tr th {\n        vertical-align: top;\n    }\n\n    .dataframe thead th {\n        text-align: right;\n    }\n</style>\n<table border=\"1\" class=\"dataframe\">\n  <thead>\n    <tr style=\"text-align: right;\">\n      <th></th>\n      <th>LOAN_ID</th>\n      <th>ORIG_CHN</th>\n      <th>Seller_Name</th>\n      <th>ORIG_RT</th>\n      <th>ORIG_AMT</th>\n      <th>ORIG_TRM</th>\n      <th>ORIG_DTE</th>\n      <th>FRST_DTE</th>\n      <th>OLTV</th>\n      <th>OCLTV</th>\n      <th>...</th>\n      <th>NUM_UNIT</th>\n      <th>OCC_STAT</th>\n      <th>STATE</th>\n      <th>ZIP_3</th>\n      <th>MI_PCT</th>\n      <th>Product_Type</th>\n      <th>CSCORE_C</th>\n      <th>MI_TYPE</th>\n      <th>RELOCATION_FLG</th>\n      <th>start_date</th>\n    </tr>\n  </thead>\n  <tbody>\n    <tr>\n      <th>690112</th>\n      <td>159195123306</td>\n      <td>R</td>\n      <td>OTHER</td>\n      <td>4.250</td>\n      <td>68000</td>\n      <td>180</td>\n      <td>08/2010</td>\n      <td>10/2010</td>\n      <td>95</td>\n      <td>95.0</td>\n      <td>...</td>\n      <td>1</td>\n      <td>P</td>\n      <td>TX</td>\n      <td>767</td>\n      <td>25.0</td>\n      <td>FRM</td>\n      <td>NaN</td>\n      <td>1.0</td>\n      <td>N</td>\n      <td>2010-08-01</td>\n    </tr>\n    <tr>\n      <th>1627533</th>\n      <td>734144301817</td>\n      <td>R</td>\n      <td>OTHER</td>\n      <td>4.250</td>\n      <td>100000</td>\n      <td>360</td>\n      <td>12/2010</td>\n      <td>01/2011</td>\n      <td>38</td>\n      <td>38.0</td>\n      <td>...</td>\n      <td>1</td>\n      <td>P</td>\n      <td>NE</td>\n      <td>680</td>\n      <td>NaN</td>\n      <td>FRM</td>\n      <td>NaN</td>\n      <td>NaN</td>\n      <td>N</td>\n      <td>2010-12-01</td>\n    </tr>\n    <tr>\n      <th>1800661</th>\n      <td>965458724928</td>\n      <td>R</td>\n      <td>OTHER</td>\n      <td>4.250</td>\n      <td>300000</td>\n      <td>240</td>\n      <td>09/2010</td>\n      <td>11/2010</td>\n      <td>54</td>\n      <td>54.0</td>\n      <td>...</td>\n      <td>1</td>\n      <td>P</td>\n      <td>MD</td>\n      <td>210</td>\n      <td>NaN</td>\n      <td>FRM</td>\n      <td>785.0</td>\n      <td>NaN</td>\n      <td>N</td>\n      <td>2010-09-01</td>\n    </tr>\n    <tr>\n      <th>1770842</th>\n      <td>925723260054</td>\n      <td>R</td>\n      <td>BANK OF AMERICA, N.A.</td>\n      <td>4.375</td>\n      <td>554000</td>\n      <td>360</td>\n      <td>11/2010</td>\n      <td>01/2011</td>\n      <td>59</td>\n      <td>59.0</td>\n      <td>...</td>\n      <td>1</td>\n      <td>P</td>\n      <td>NJ</td>\n      <td>77</td>\n      <td>NaN</td>\n      <td>FRM</td>\n      <td>761.0</td>\n      <td>NaN</td>\n      <td>N</td>\n      <td>2010-11-01</td>\n    </tr>\n    <tr>\n      <th>16297</th>\n      <td>145265431704</td>\n      <td>C</td>\n      <td>JPMORGAN CHASE BANK, NATIONAL ASSOCIATION</td>\n      <td>5.000</td>\n      <td>116000</td>\n      <td>360</td>\n      <td>01/2010</td>\n      <td>03/2010</td>\n      <td>95</td>\n      <td>95.0</td>\n      <td>...</td>\n      <td>2</td>\n      <td>P</td>\n      <td>WI</td>\n      <td>532</td>\n      <td>25.0</td>\n      <td>FRM</td>\n      <td>NaN</td>\n      <td>1.0</td>\n      <td>N</td>\n      <td>2010-01-01</td>\n    </tr>\n  </tbody>\n</table>\n<p>5 rows × 26 columns</p>\n</div>"
     },
     "metadata": {},
     "execution_count": 15
    }
   ],
   "source": [
    "### five random five records\n",
    "acquisition.sample(5)"
   ]
  },
  {
   "cell_type": "code",
   "execution_count": 17,
   "metadata": {},
   "outputs": [
    {
     "output_type": "execute_result",
     "data": {
      "text/plain": "<matplotlib.axes._subplots.AxesSubplot at 0x1c209b1438>"
     },
     "metadata": {},
     "execution_count": 17
    },
    {
     "output_type": "display_data",
     "data": {
      "text/plain": "<Figure size 432x288 with 1 Axes>",
      "image/svg+xml": "<?xml version=\"1.0\" encoding=\"utf-8\" standalone=\"no\"?>\n<!DOCTYPE svg PUBLIC \"-//W3C//DTD SVG 1.1//EN\"\n  \"http://www.w3.org/Graphics/SVG/1.1/DTD/svg11.dtd\">\n<!-- Created with matplotlib (https://matplotlib.org/) -->\n<svg height=\"265.974375pt\" version=\"1.1\" viewBox=\"0 0 397.875 265.974375\" width=\"397.875pt\" xmlns=\"http://www.w3.org/2000/svg\" xmlns:xlink=\"http://www.w3.org/1999/xlink\">\n <defs>\n  <style type=\"text/css\">\n*{stroke-linecap:butt;stroke-linejoin:round;}\n  </style>\n </defs>\n <g id=\"figure_1\">\n  <g id=\"patch_1\">\n   <path d=\"M 0 265.974375 \nL 397.875 265.974375 \nL 397.875 0 \nL 0 0 \nz\n\" style=\"fill:none;\"/>\n  </g>\n  <g id=\"axes_1\">\n   <g id=\"patch_2\">\n    <path d=\"M 52.375 228.14 \nL 387.175 228.14 \nL 387.175 10.7 \nL 52.375 10.7 \nz\n\" style=\"fill:#ffffff;\"/>\n   </g>\n   <g id=\"patch_3\">\n    <path clip-path=\"url(#p448fb53c55)\" d=\"M 67.593182 228.14 \nL 73.680455 228.14 \nL 73.680455 228.138164 \nL 67.593182 228.138164 \nz\n\" style=\"fill:#1f77b4;opacity:0.4;\"/>\n   </g>\n   <g id=\"patch_4\">\n    <path clip-path=\"url(#p448fb53c55)\" d=\"M 73.680455 228.14 \nL 79.767727 228.14 \nL 79.767727 228.14 \nL 73.680455 228.14 \nz\n\" style=\"fill:#1f77b4;opacity:0.4;\"/>\n   </g>\n   <g id=\"patch_5\">\n    <path clip-path=\"url(#p448fb53c55)\" d=\"M 79.767727 228.14 \nL 85.855 228.14 \nL 85.855 228.14 \nL 79.767727 228.14 \nz\n\" style=\"fill:#1f77b4;opacity:0.4;\"/>\n   </g>\n   <g id=\"patch_6\">\n    <path clip-path=\"url(#p448fb53c55)\" d=\"M 85.855 228.14 \nL 91.942273 228.14 \nL 91.942273 228.139082 \nL 85.855 228.139082 \nz\n\" style=\"fill:#1f77b4;opacity:0.4;\"/>\n   </g>\n   <g id=\"patch_7\">\n    <path clip-path=\"url(#p448fb53c55)\" d=\"M 91.942273 228.14 \nL 98.029545 228.14 \nL 98.029545 228.138164 \nL 91.942273 228.138164 \nz\n\" style=\"fill:#1f77b4;opacity:0.4;\"/>\n   </g>\n   <g id=\"patch_8\">\n    <path clip-path=\"url(#p448fb53c55)\" d=\"M 98.029545 228.14 \nL 104.116818 228.14 \nL 104.116818 228.138164 \nL 98.029545 228.138164 \nz\n\" style=\"fill:#1f77b4;opacity:0.4;\"/>\n   </g>\n   <g id=\"patch_9\">\n    <path clip-path=\"url(#p448fb53c55)\" d=\"M 104.116818 228.14 \nL 110.204091 228.14 \nL 110.204091 228.14 \nL 104.116818 228.14 \nz\n\" style=\"fill:#1f77b4;opacity:0.4;\"/>\n   </g>\n   <g id=\"patch_10\">\n    <path clip-path=\"url(#p448fb53c55)\" d=\"M 110.204091 228.14 \nL 116.291364 228.14 \nL 116.291364 228.133573 \nL 110.204091 228.133573 \nz\n\" style=\"fill:#1f77b4;opacity:0.4;\"/>\n   </g>\n   <g id=\"patch_11\">\n    <path clip-path=\"url(#p448fb53c55)\" d=\"M 116.291364 228.14 \nL 122.378636 228.14 \nL 122.378636 228.134491 \nL 116.291364 228.134491 \nz\n\" style=\"fill:#1f77b4;opacity:0.4;\"/>\n   </g>\n   <g id=\"patch_12\">\n    <path clip-path=\"url(#p448fb53c55)\" d=\"M 122.378636 228.14 \nL 128.465909 228.14 \nL 128.465909 228.134491 \nL 122.378636 228.134491 \nz\n\" style=\"fill:#1f77b4;opacity:0.4;\"/>\n   </g>\n   <g id=\"patch_13\">\n    <path clip-path=\"url(#p448fb53c55)\" d=\"M 128.465909 228.14 \nL 134.553182 228.14 \nL 134.553182 228.132655 \nL 128.465909 228.132655 \nz\n\" style=\"fill:#1f77b4;opacity:0.4;\"/>\n   </g>\n   <g id=\"patch_14\">\n    <path clip-path=\"url(#p448fb53c55)\" d=\"M 134.553182 228.14 \nL 140.640455 228.14 \nL 140.640455 228.130819 \nL 134.553182 228.130819 \nz\n\" style=\"fill:#1f77b4;opacity:0.4;\"/>\n   </g>\n   <g id=\"patch_15\">\n    <path clip-path=\"url(#p448fb53c55)\" d=\"M 140.640455 228.14 \nL 146.727727 228.14 \nL 146.727727 228.128064 \nL 140.640455 228.128064 \nz\n\" style=\"fill:#1f77b4;opacity:0.4;\"/>\n   </g>\n   <g id=\"patch_16\">\n    <path clip-path=\"url(#p448fb53c55)\" d=\"M 146.727727 228.14 \nL 152.815 228.14 \nL 152.815 228.12531 \nL 146.727727 228.12531 \nz\n\" style=\"fill:#1f77b4;opacity:0.4;\"/>\n   </g>\n   <g id=\"patch_17\">\n    <path clip-path=\"url(#p448fb53c55)\" d=\"M 152.815 228.14 \nL 158.902273 228.14 \nL 158.902273 228.128983 \nL 152.815 228.128983 \nz\n\" style=\"fill:#1f77b4;opacity:0.4;\"/>\n   </g>\n   <g id=\"patch_18\">\n    <path clip-path=\"url(#p448fb53c55)\" d=\"M 158.902273 228.14 \nL 164.989545 228.14 \nL 164.989545 228.126228 \nL 158.902273 228.126228 \nz\n\" style=\"fill:#1f77b4;opacity:0.4;\"/>\n   </g>\n   <g id=\"patch_19\">\n    <path clip-path=\"url(#p448fb53c55)\" d=\"M 164.989545 228.14 \nL 171.076818 228.14 \nL 171.076818 228.121638 \nL 164.989545 228.121638 \nz\n\" style=\"fill:#1f77b4;opacity:0.4;\"/>\n   </g>\n   <g id=\"patch_20\">\n    <path clip-path=\"url(#p448fb53c55)\" d=\"M 171.076818 228.14 \nL 177.164091 228.14 \nL 177.164091 228.124392 \nL 171.076818 228.124392 \nz\n\" style=\"fill:#1f77b4;opacity:0.4;\"/>\n   </g>\n   <g id=\"patch_21\">\n    <path clip-path=\"url(#p448fb53c55)\" d=\"M 177.164091 228.14 \nL 183.251364 228.14 \nL 183.251364 228.04727 \nL 177.164091 228.04727 \nz\n\" style=\"fill:#1f77b4;opacity:0.4;\"/>\n   </g>\n   <g id=\"patch_22\">\n    <path clip-path=\"url(#p448fb53c55)\" d=\"M 183.251364 228.14 \nL 189.338636 228.14 \nL 189.338636 227.984838 \nL 183.251364 227.984838 \nz\n\" style=\"fill:#1f77b4;opacity:0.4;\"/>\n   </g>\n   <g id=\"patch_23\">\n    <path clip-path=\"url(#p448fb53c55)\" d=\"M 189.338636 228.14 \nL 195.425909 228.14 \nL 195.425909 227.908635 \nL 189.338636 227.908635 \nz\n\" style=\"fill:#1f77b4;opacity:0.4;\"/>\n   </g>\n   <g id=\"patch_24\">\n    <path clip-path=\"url(#p448fb53c55)\" d=\"M 195.425909 228.14 \nL 201.513182 228.14 \nL 201.513182 227.877419 \nL 195.425909 227.877419 \nz\n\" style=\"fill:#1f77b4;opacity:0.4;\"/>\n   </g>\n   <g id=\"patch_25\">\n    <path clip-path=\"url(#p448fb53c55)\" d=\"M 201.513182 228.14 \nL 207.600455 228.14 \nL 207.600455 227.76449 \nL 201.513182 227.76449 \nz\n\" style=\"fill:#1f77b4;opacity:0.4;\"/>\n   </g>\n   <g id=\"patch_26\">\n    <path clip-path=\"url(#p448fb53c55)\" d=\"M 207.600455 228.14 \nL 213.687727 228.14 \nL 213.687727 224.975253 \nL 207.600455 224.975253 \nz\n\" style=\"fill:#1f77b4;opacity:0.4;\"/>\n   </g>\n   <g id=\"patch_27\">\n    <path clip-path=\"url(#p448fb53c55)\" d=\"M 213.687727 228.14 \nL 219.775 228.14 \nL 219.775 223.744059 \nL 213.687727 223.744059 \nz\n\" style=\"fill:#1f77b4;opacity:0.4;\"/>\n   </g>\n   <g id=\"patch_28\">\n    <path clip-path=\"url(#p448fb53c55)\" d=\"M 219.775 228.14 \nL 225.862273 228.14 \nL 225.862273 222.162145 \nL 219.775 222.162145 \nz\n\" style=\"fill:#1f77b4;opacity:0.4;\"/>\n   </g>\n   <g id=\"patch_29\">\n    <path clip-path=\"url(#p448fb53c55)\" d=\"M 225.862273 228.14 \nL 231.949545 228.14 \nL 231.949545 220.977775 \nL 225.862273 220.977775 \nz\n\" style=\"fill:#1f77b4;opacity:0.4;\"/>\n   </g>\n   <g id=\"patch_30\">\n    <path clip-path=\"url(#p448fb53c55)\" d=\"M 231.949545 228.14 \nL 238.036818 228.14 \nL 238.036818 217.769877 \nL 231.949545 217.769877 \nz\n\" style=\"fill:#1f77b4;opacity:0.4;\"/>\n   </g>\n   <g id=\"patch_31\">\n    <path clip-path=\"url(#p448fb53c55)\" d=\"M 238.036818 228.14 \nL 244.124091 228.14 \nL 244.124091 214.999002 \nL 238.036818 214.999002 \nz\n\" style=\"fill:#1f77b4;opacity:0.4;\"/>\n   </g>\n   <g id=\"patch_32\">\n    <path clip-path=\"url(#p448fb53c55)\" d=\"M 244.124091 228.14 \nL 250.211364 228.14 \nL 250.211364 210.069636 \nL 244.124091 210.069636 \nz\n\" style=\"fill:#1f77b4;opacity:0.4;\"/>\n   </g>\n   <g id=\"patch_33\">\n    <path clip-path=\"url(#p448fb53c55)\" d=\"M 250.211364 228.14 \nL 256.298636 228.14 \nL 256.298636 204.078009 \nL 250.211364 204.078009 \nz\n\" style=\"fill:#1f77b4;opacity:0.4;\"/>\n   </g>\n   <g id=\"patch_34\">\n    <path clip-path=\"url(#p448fb53c55)\" d=\"M 256.298636 228.14 \nL 262.385909 228.14 \nL 262.385909 196.517321 \nL 256.298636 196.517321 \nz\n\" style=\"fill:#1f77b4;opacity:0.4;\"/>\n   </g>\n   <g id=\"patch_35\">\n    <path clip-path=\"url(#p448fb53c55)\" d=\"M 262.385909 228.14 \nL 268.473182 228.14 \nL 268.473182 191.378625 \nL 262.385909 191.378625 \nz\n\" style=\"fill:#1f77b4;opacity:0.4;\"/>\n   </g>\n   <g id=\"patch_36\">\n    <path clip-path=\"url(#p448fb53c55)\" d=\"M 268.473182 228.14 \nL 274.560455 228.14 \nL 274.560455 182.033119 \nL 268.473182 182.033119 \nz\n\" style=\"fill:#1f77b4;opacity:0.4;\"/>\n   </g>\n   <g id=\"patch_37\">\n    <path clip-path=\"url(#p448fb53c55)\" d=\"M 274.560455 228.14 \nL 280.647727 228.14 \nL 280.647727 183.812429 \nL 274.560455 183.812429 \nz\n\" style=\"fill:#1f77b4;opacity:0.4;\"/>\n   </g>\n   <g id=\"patch_38\">\n    <path clip-path=\"url(#p448fb53c55)\" d=\"M 280.647727 228.14 \nL 286.735 228.14 \nL 286.735 169.294256 \nL 280.647727 169.294256 \nz\n\" style=\"fill:#1f77b4;opacity:0.4;\"/>\n   </g>\n   <g id=\"patch_39\">\n    <path clip-path=\"url(#p448fb53c55)\" d=\"M 286.735 228.14 \nL 292.822273 228.14 \nL 292.822273 174.843351 \nL 286.735 174.843351 \nz\n\" style=\"fill:#1f77b4;opacity:0.4;\"/>\n   </g>\n   <g id=\"patch_40\">\n    <path clip-path=\"url(#p448fb53c55)\" d=\"M 292.822273 228.14 \nL 298.909545 228.14 \nL 298.909545 155.057027 \nL 292.822273 155.057027 \nz\n\" style=\"fill:#1f77b4;opacity:0.4;\"/>\n   </g>\n   <g id=\"patch_41\">\n    <path clip-path=\"url(#p448fb53c55)\" d=\"M 298.909545 228.14 \nL 304.996818 228.14 \nL 304.996818 140.965779 \nL 298.909545 140.965779 \nz\n\" style=\"fill:#1f77b4;opacity:0.4;\"/>\n   </g>\n   <g id=\"patch_42\">\n    <path clip-path=\"url(#p448fb53c55)\" d=\"M 304.996818 228.14 \nL 311.084091 228.14 \nL 311.084091 133.729186 \nL 304.996818 133.729186 \nz\n\" style=\"fill:#1f77b4;opacity:0.4;\"/>\n   </g>\n   <g id=\"patch_43\">\n    <path clip-path=\"url(#p448fb53c55)\" d=\"M 311.084091 228.14 \nL 317.171364 228.14 \nL 317.171364 95.396914 \nL 311.084091 95.396914 \nz\n\" style=\"fill:#1f77b4;opacity:0.4;\"/>\n   </g>\n   <g id=\"patch_44\">\n    <path clip-path=\"url(#p448fb53c55)\" d=\"M 317.171364 228.14 \nL 323.258636 228.14 \nL 323.258636 80.983407 \nL 317.171364 80.983407 \nz\n\" style=\"fill:#1f77b4;opacity:0.4;\"/>\n   </g>\n   <g id=\"patch_45\">\n    <path clip-path=\"url(#p448fb53c55)\" d=\"M 323.258636 228.14 \nL 329.345909 228.14 \nL 329.345909 33.317565 \nL 323.258636 33.317565 \nz\n\" style=\"fill:#1f77b4;opacity:0.4;\"/>\n   </g>\n   <g id=\"patch_46\">\n    <path clip-path=\"url(#p448fb53c55)\" d=\"M 329.345909 228.14 \nL 335.433182 228.14 \nL 335.433182 31.303218 \nL 329.345909 31.303218 \nz\n\" style=\"fill:#1f77b4;opacity:0.4;\"/>\n   </g>\n   <g id=\"patch_47\">\n    <path clip-path=\"url(#p448fb53c55)\" d=\"M 335.433182 228.14 \nL 341.520455 228.14 \nL 341.520455 21.054286 \nL 335.433182 21.054286 \nz\n\" style=\"fill:#1f77b4;opacity:0.4;\"/>\n   </g>\n   <g id=\"patch_48\">\n    <path clip-path=\"url(#p448fb53c55)\" d=\"M 341.520455 228.14 \nL 347.607727 228.14 \nL 347.607727 91.259882 \nL 341.520455 91.259882 \nz\n\" style=\"fill:#1f77b4;opacity:0.4;\"/>\n   </g>\n   <g id=\"patch_49\">\n    <path clip-path=\"url(#p448fb53c55)\" d=\"M 347.607727 228.14 \nL 353.695 228.14 \nL 353.695 183.471807 \nL 347.607727 183.471807 \nz\n\" style=\"fill:#1f77b4;opacity:0.4;\"/>\n   </g>\n   <g id=\"patch_50\">\n    <path clip-path=\"url(#p448fb53c55)\" d=\"M 353.695 228.14 \nL 359.782273 228.14 \nL 359.782273 226.111881 \nL 353.695 226.111881 \nz\n\" style=\"fill:#1f77b4;opacity:0.4;\"/>\n   </g>\n   <g id=\"patch_51\">\n    <path clip-path=\"url(#p448fb53c55)\" d=\"M 359.782273 228.14 \nL 365.869545 228.14 \nL 365.869545 228.097767 \nL 359.782273 228.097767 \nz\n\" style=\"fill:#1f77b4;opacity:0.4;\"/>\n   </g>\n   <g id=\"patch_52\">\n    <path clip-path=\"url(#p448fb53c55)\" d=\"M 365.869545 228.14 \nL 371.956818 228.14 \nL 371.956818 228.136328 \nL 365.869545 228.136328 \nz\n\" style=\"fill:#1f77b4;opacity:0.4;\"/>\n   </g>\n   <g id=\"matplotlib.axis_1\">\n    <g id=\"xtick_1\">\n     <g id=\"line2d_1\">\n      <defs>\n       <path d=\"M 0 0 \nL 0 3.5 \n\" id=\"m454d8cc9ac\" style=\"stroke:#000000;stroke-width:0.8;\"/>\n      </defs>\n      <g>\n       <use style=\"stroke:#000000;stroke-width:0.8;\" x=\"122.478428\" xlink:href=\"#m454d8cc9ac\" y=\"228.14\"/>\n      </g>\n     </g>\n     <g id=\"text_1\">\n      <!-- 500 -->\n      <defs>\n       <path d=\"M 10.796875 72.90625 \nL 49.515625 72.90625 \nL 49.515625 64.59375 \nL 19.828125 64.59375 \nL 19.828125 46.734375 \nQ 21.96875 47.46875 24.109375 47.828125 \nQ 26.265625 48.1875 28.421875 48.1875 \nQ 40.625 48.1875 47.75 41.5 \nQ 54.890625 34.8125 54.890625 23.390625 \nQ 54.890625 11.625 47.5625 5.09375 \nQ 40.234375 -1.421875 26.90625 -1.421875 \nQ 22.3125 -1.421875 17.546875 -0.640625 \nQ 12.796875 0.140625 7.71875 1.703125 \nL 7.71875 11.625 \nQ 12.109375 9.234375 16.796875 8.0625 \nQ 21.484375 6.890625 26.703125 6.890625 \nQ 35.15625 6.890625 40.078125 11.328125 \nQ 45.015625 15.765625 45.015625 23.390625 \nQ 45.015625 31 40.078125 35.4375 \nQ 35.15625 39.890625 26.703125 39.890625 \nQ 22.75 39.890625 18.8125 39.015625 \nQ 14.890625 38.140625 10.796875 36.28125 \nz\n\" id=\"DejaVuSans-53\"/>\n       <path d=\"M 31.78125 66.40625 \nQ 24.171875 66.40625 20.328125 58.90625 \nQ 16.5 51.421875 16.5 36.375 \nQ 16.5 21.390625 20.328125 13.890625 \nQ 24.171875 6.390625 31.78125 6.390625 \nQ 39.453125 6.390625 43.28125 13.890625 \nQ 47.125 21.390625 47.125 36.375 \nQ 47.125 51.421875 43.28125 58.90625 \nQ 39.453125 66.40625 31.78125 66.40625 \nz\nM 31.78125 74.21875 \nQ 44.046875 74.21875 50.515625 64.515625 \nQ 56.984375 54.828125 56.984375 36.375 \nQ 56.984375 17.96875 50.515625 8.265625 \nQ 44.046875 -1.421875 31.78125 -1.421875 \nQ 19.53125 -1.421875 13.0625 8.265625 \nQ 6.59375 17.96875 6.59375 36.375 \nQ 6.59375 54.828125 13.0625 64.515625 \nQ 19.53125 74.21875 31.78125 74.21875 \nz\n\" id=\"DejaVuSans-48\"/>\n      </defs>\n      <g transform=\"translate(112.934678 242.738438)scale(0.1 -0.1)\">\n       <use xlink:href=\"#DejaVuSans-53\"/>\n       <use x=\"63.623047\" xlink:href=\"#DejaVuSans-48\"/>\n       <use x=\"127.246094\" xlink:href=\"#DejaVuSans-48\"/>\n      </g>\n     </g>\n    </g>\n    <g id=\"xtick_2\">\n     <g id=\"line2d_2\">\n      <g>\n       <use style=\"stroke:#000000;stroke-width:0.8;\" x=\"193.757968\" xlink:href=\"#m454d8cc9ac\" y=\"228.14\"/>\n      </g>\n     </g>\n     <g id=\"text_2\">\n      <!-- 600 -->\n      <defs>\n       <path d=\"M 33.015625 40.375 \nQ 26.375 40.375 22.484375 35.828125 \nQ 18.609375 31.296875 18.609375 23.390625 \nQ 18.609375 15.53125 22.484375 10.953125 \nQ 26.375 6.390625 33.015625 6.390625 \nQ 39.65625 6.390625 43.53125 10.953125 \nQ 47.40625 15.53125 47.40625 23.390625 \nQ 47.40625 31.296875 43.53125 35.828125 \nQ 39.65625 40.375 33.015625 40.375 \nz\nM 52.59375 71.296875 \nL 52.59375 62.3125 \nQ 48.875 64.0625 45.09375 64.984375 \nQ 41.3125 65.921875 37.59375 65.921875 \nQ 27.828125 65.921875 22.671875 59.328125 \nQ 17.53125 52.734375 16.796875 39.40625 \nQ 19.671875 43.65625 24.015625 45.921875 \nQ 28.375 48.1875 33.59375 48.1875 \nQ 44.578125 48.1875 50.953125 41.515625 \nQ 57.328125 34.859375 57.328125 23.390625 \nQ 57.328125 12.15625 50.6875 5.359375 \nQ 44.046875 -1.421875 33.015625 -1.421875 \nQ 20.359375 -1.421875 13.671875 8.265625 \nQ 6.984375 17.96875 6.984375 36.375 \nQ 6.984375 53.65625 15.1875 63.9375 \nQ 23.390625 74.21875 37.203125 74.21875 \nQ 40.921875 74.21875 44.703125 73.484375 \nQ 48.484375 72.75 52.59375 71.296875 \nz\n\" id=\"DejaVuSans-54\"/>\n      </defs>\n      <g transform=\"translate(184.214218 242.738438)scale(0.1 -0.1)\">\n       <use xlink:href=\"#DejaVuSans-54\"/>\n       <use x=\"63.623047\" xlink:href=\"#DejaVuSans-48\"/>\n       <use x=\"127.246094\" xlink:href=\"#DejaVuSans-48\"/>\n      </g>\n     </g>\n    </g>\n    <g id=\"xtick_3\">\n     <g id=\"line2d_3\">\n      <g>\n       <use style=\"stroke:#000000;stroke-width:0.8;\" x=\"265.037508\" xlink:href=\"#m454d8cc9ac\" y=\"228.14\"/>\n      </g>\n     </g>\n     <g id=\"text_3\">\n      <!-- 700 -->\n      <defs>\n       <path d=\"M 8.203125 72.90625 \nL 55.078125 72.90625 \nL 55.078125 68.703125 \nL 28.609375 0 \nL 18.3125 0 \nL 43.21875 64.59375 \nL 8.203125 64.59375 \nz\n\" id=\"DejaVuSans-55\"/>\n      </defs>\n      <g transform=\"translate(255.493758 242.738438)scale(0.1 -0.1)\">\n       <use xlink:href=\"#DejaVuSans-55\"/>\n       <use x=\"63.623047\" xlink:href=\"#DejaVuSans-48\"/>\n       <use x=\"127.246094\" xlink:href=\"#DejaVuSans-48\"/>\n      </g>\n     </g>\n    </g>\n    <g id=\"xtick_4\">\n     <g id=\"line2d_4\">\n      <g>\n       <use style=\"stroke:#000000;stroke-width:0.8;\" x=\"336.317048\" xlink:href=\"#m454d8cc9ac\" y=\"228.14\"/>\n      </g>\n     </g>\n     <g id=\"text_4\">\n      <!-- 800 -->\n      <defs>\n       <path d=\"M 31.78125 34.625 \nQ 24.75 34.625 20.71875 30.859375 \nQ 16.703125 27.09375 16.703125 20.515625 \nQ 16.703125 13.921875 20.71875 10.15625 \nQ 24.75 6.390625 31.78125 6.390625 \nQ 38.8125 6.390625 42.859375 10.171875 \nQ 46.921875 13.96875 46.921875 20.515625 \nQ 46.921875 27.09375 42.890625 30.859375 \nQ 38.875 34.625 31.78125 34.625 \nz\nM 21.921875 38.8125 \nQ 15.578125 40.375 12.03125 44.71875 \nQ 8.5 49.078125 8.5 55.328125 \nQ 8.5 64.0625 14.71875 69.140625 \nQ 20.953125 74.21875 31.78125 74.21875 \nQ 42.671875 74.21875 48.875 69.140625 \nQ 55.078125 64.0625 55.078125 55.328125 \nQ 55.078125 49.078125 51.53125 44.71875 \nQ 48 40.375 41.703125 38.8125 \nQ 48.828125 37.15625 52.796875 32.3125 \nQ 56.78125 27.484375 56.78125 20.515625 \nQ 56.78125 9.90625 50.3125 4.234375 \nQ 43.84375 -1.421875 31.78125 -1.421875 \nQ 19.734375 -1.421875 13.25 4.234375 \nQ 6.78125 9.90625 6.78125 20.515625 \nQ 6.78125 27.484375 10.78125 32.3125 \nQ 14.796875 37.15625 21.921875 38.8125 \nz\nM 18.3125 54.390625 \nQ 18.3125 48.734375 21.84375 45.5625 \nQ 25.390625 42.390625 31.78125 42.390625 \nQ 38.140625 42.390625 41.71875 45.5625 \nQ 45.3125 48.734375 45.3125 54.390625 \nQ 45.3125 60.0625 41.71875 63.234375 \nQ 38.140625 66.40625 31.78125 66.40625 \nQ 25.390625 66.40625 21.84375 63.234375 \nQ 18.3125 60.0625 18.3125 54.390625 \nz\n\" id=\"DejaVuSans-56\"/>\n      </defs>\n      <g transform=\"translate(326.773298 242.738438)scale(0.1 -0.1)\">\n       <use xlink:href=\"#DejaVuSans-56\"/>\n       <use x=\"63.623047\" xlink:href=\"#DejaVuSans-48\"/>\n       <use x=\"127.246094\" xlink:href=\"#DejaVuSans-48\"/>\n      </g>\n     </g>\n    </g>\n    <g id=\"text_5\">\n     <!-- Borrower_Credit_Score -->\n     <defs>\n      <path d=\"M 19.671875 34.8125 \nL 19.671875 8.109375 \nL 35.5 8.109375 \nQ 43.453125 8.109375 47.28125 11.40625 \nQ 51.125 14.703125 51.125 21.484375 \nQ 51.125 28.328125 47.28125 31.5625 \nQ 43.453125 34.8125 35.5 34.8125 \nz\nM 19.671875 64.796875 \nL 19.671875 42.828125 \nL 34.28125 42.828125 \nQ 41.5 42.828125 45.03125 45.53125 \nQ 48.578125 48.25 48.578125 53.8125 \nQ 48.578125 59.328125 45.03125 62.0625 \nQ 41.5 64.796875 34.28125 64.796875 \nz\nM 9.8125 72.90625 \nL 35.015625 72.90625 \nQ 46.296875 72.90625 52.390625 68.21875 \nQ 58.5 63.53125 58.5 54.890625 \nQ 58.5 48.1875 55.375 44.234375 \nQ 52.25 40.28125 46.1875 39.3125 \nQ 53.46875 37.75 57.5 32.78125 \nQ 61.53125 27.828125 61.53125 20.40625 \nQ 61.53125 10.640625 54.890625 5.3125 \nQ 48.25 0 35.984375 0 \nL 9.8125 0 \nz\n\" id=\"DejaVuSans-66\"/>\n      <path d=\"M 30.609375 48.390625 \nQ 23.390625 48.390625 19.1875 42.75 \nQ 14.984375 37.109375 14.984375 27.296875 \nQ 14.984375 17.484375 19.15625 11.84375 \nQ 23.34375 6.203125 30.609375 6.203125 \nQ 37.796875 6.203125 41.984375 11.859375 \nQ 46.1875 17.53125 46.1875 27.296875 \nQ 46.1875 37.015625 41.984375 42.703125 \nQ 37.796875 48.390625 30.609375 48.390625 \nz\nM 30.609375 56 \nQ 42.328125 56 49.015625 48.375 \nQ 55.71875 40.765625 55.71875 27.296875 \nQ 55.71875 13.875 49.015625 6.21875 \nQ 42.328125 -1.421875 30.609375 -1.421875 \nQ 18.84375 -1.421875 12.171875 6.21875 \nQ 5.515625 13.875 5.515625 27.296875 \nQ 5.515625 40.765625 12.171875 48.375 \nQ 18.84375 56 30.609375 56 \nz\n\" id=\"DejaVuSans-111\"/>\n      <path d=\"M 41.109375 46.296875 \nQ 39.59375 47.171875 37.8125 47.578125 \nQ 36.03125 48 33.890625 48 \nQ 26.265625 48 22.1875 43.046875 \nQ 18.109375 38.09375 18.109375 28.8125 \nL 18.109375 0 \nL 9.078125 0 \nL 9.078125 54.6875 \nL 18.109375 54.6875 \nL 18.109375 46.1875 \nQ 20.953125 51.171875 25.484375 53.578125 \nQ 30.03125 56 36.53125 56 \nQ 37.453125 56 38.578125 55.875 \nQ 39.703125 55.765625 41.0625 55.515625 \nz\n\" id=\"DejaVuSans-114\"/>\n      <path d=\"M 4.203125 54.6875 \nL 13.1875 54.6875 \nL 24.421875 12.015625 \nL 35.59375 54.6875 \nL 46.1875 54.6875 \nL 57.421875 12.015625 \nL 68.609375 54.6875 \nL 77.59375 54.6875 \nL 63.28125 0 \nL 52.6875 0 \nL 40.921875 44.828125 \nL 29.109375 0 \nL 18.5 0 \nz\n\" id=\"DejaVuSans-119\"/>\n      <path d=\"M 56.203125 29.59375 \nL 56.203125 25.203125 \nL 14.890625 25.203125 \nQ 15.484375 15.921875 20.484375 11.0625 \nQ 25.484375 6.203125 34.421875 6.203125 \nQ 39.59375 6.203125 44.453125 7.46875 \nQ 49.3125 8.734375 54.109375 11.28125 \nL 54.109375 2.78125 \nQ 49.265625 0.734375 44.1875 -0.34375 \nQ 39.109375 -1.421875 33.890625 -1.421875 \nQ 20.796875 -1.421875 13.15625 6.1875 \nQ 5.515625 13.8125 5.515625 26.8125 \nQ 5.515625 40.234375 12.765625 48.109375 \nQ 20.015625 56 32.328125 56 \nQ 43.359375 56 49.78125 48.890625 \nQ 56.203125 41.796875 56.203125 29.59375 \nz\nM 47.21875 32.234375 \nQ 47.125 39.59375 43.09375 43.984375 \nQ 39.0625 48.390625 32.421875 48.390625 \nQ 24.90625 48.390625 20.390625 44.140625 \nQ 15.875 39.890625 15.1875 32.171875 \nz\n\" id=\"DejaVuSans-101\"/>\n      <path d=\"M 50.984375 -16.609375 \nL 50.984375 -23.578125 \nL -0.984375 -23.578125 \nL -0.984375 -16.609375 \nz\n\" id=\"DejaVuSans-95\"/>\n      <path d=\"M 64.40625 67.28125 \nL 64.40625 56.890625 \nQ 59.421875 61.53125 53.78125 63.8125 \nQ 48.140625 66.109375 41.796875 66.109375 \nQ 29.296875 66.109375 22.65625 58.46875 \nQ 16.015625 50.828125 16.015625 36.375 \nQ 16.015625 21.96875 22.65625 14.328125 \nQ 29.296875 6.6875 41.796875 6.6875 \nQ 48.140625 6.6875 53.78125 8.984375 \nQ 59.421875 11.28125 64.40625 15.921875 \nL 64.40625 5.609375 \nQ 59.234375 2.09375 53.4375 0.328125 \nQ 47.65625 -1.421875 41.21875 -1.421875 \nQ 24.65625 -1.421875 15.125 8.703125 \nQ 5.609375 18.84375 5.609375 36.375 \nQ 5.609375 53.953125 15.125 64.078125 \nQ 24.65625 74.21875 41.21875 74.21875 \nQ 47.75 74.21875 53.53125 72.484375 \nQ 59.328125 70.75 64.40625 67.28125 \nz\n\" id=\"DejaVuSans-67\"/>\n      <path d=\"M 45.40625 46.390625 \nL 45.40625 75.984375 \nL 54.390625 75.984375 \nL 54.390625 0 \nL 45.40625 0 \nL 45.40625 8.203125 \nQ 42.578125 3.328125 38.25 0.953125 \nQ 33.9375 -1.421875 27.875 -1.421875 \nQ 17.96875 -1.421875 11.734375 6.484375 \nQ 5.515625 14.40625 5.515625 27.296875 \nQ 5.515625 40.1875 11.734375 48.09375 \nQ 17.96875 56 27.875 56 \nQ 33.9375 56 38.25 53.625 \nQ 42.578125 51.265625 45.40625 46.390625 \nz\nM 14.796875 27.296875 \nQ 14.796875 17.390625 18.875 11.75 \nQ 22.953125 6.109375 30.078125 6.109375 \nQ 37.203125 6.109375 41.296875 11.75 \nQ 45.40625 17.390625 45.40625 27.296875 \nQ 45.40625 37.203125 41.296875 42.84375 \nQ 37.203125 48.484375 30.078125 48.484375 \nQ 22.953125 48.484375 18.875 42.84375 \nQ 14.796875 37.203125 14.796875 27.296875 \nz\n\" id=\"DejaVuSans-100\"/>\n      <path d=\"M 9.421875 54.6875 \nL 18.40625 54.6875 \nL 18.40625 0 \nL 9.421875 0 \nz\nM 9.421875 75.984375 \nL 18.40625 75.984375 \nL 18.40625 64.59375 \nL 9.421875 64.59375 \nz\n\" id=\"DejaVuSans-105\"/>\n      <path d=\"M 18.3125 70.21875 \nL 18.3125 54.6875 \nL 36.8125 54.6875 \nL 36.8125 47.703125 \nL 18.3125 47.703125 \nL 18.3125 18.015625 \nQ 18.3125 11.328125 20.140625 9.421875 \nQ 21.96875 7.515625 27.59375 7.515625 \nL 36.8125 7.515625 \nL 36.8125 0 \nL 27.59375 0 \nQ 17.1875 0 13.234375 3.875 \nQ 9.28125 7.765625 9.28125 18.015625 \nL 9.28125 47.703125 \nL 2.6875 47.703125 \nL 2.6875 54.6875 \nL 9.28125 54.6875 \nL 9.28125 70.21875 \nz\n\" id=\"DejaVuSans-116\"/>\n      <path d=\"M 53.515625 70.515625 \nL 53.515625 60.890625 \nQ 47.90625 63.578125 42.921875 64.890625 \nQ 37.9375 66.21875 33.296875 66.21875 \nQ 25.25 66.21875 20.875 63.09375 \nQ 16.5 59.96875 16.5 54.203125 \nQ 16.5 49.359375 19.40625 46.890625 \nQ 22.3125 44.4375 30.421875 42.921875 \nL 36.375 41.703125 \nQ 47.40625 39.59375 52.65625 34.296875 \nQ 57.90625 29 57.90625 20.125 \nQ 57.90625 9.515625 50.796875 4.046875 \nQ 43.703125 -1.421875 29.984375 -1.421875 \nQ 24.8125 -1.421875 18.96875 -0.25 \nQ 13.140625 0.921875 6.890625 3.21875 \nL 6.890625 13.375 \nQ 12.890625 10.015625 18.65625 8.296875 \nQ 24.421875 6.59375 29.984375 6.59375 \nQ 38.421875 6.59375 43.015625 9.90625 \nQ 47.609375 13.234375 47.609375 19.390625 \nQ 47.609375 24.75 44.3125 27.78125 \nQ 41.015625 30.8125 33.5 32.328125 \nL 27.484375 33.5 \nQ 16.453125 35.6875 11.515625 40.375 \nQ 6.59375 45.0625 6.59375 53.421875 \nQ 6.59375 63.09375 13.40625 68.65625 \nQ 20.21875 74.21875 32.171875 74.21875 \nQ 37.3125 74.21875 42.625 73.28125 \nQ 47.953125 72.359375 53.515625 70.515625 \nz\n\" id=\"DejaVuSans-83\"/>\n      <path d=\"M 48.78125 52.59375 \nL 48.78125 44.1875 \nQ 44.96875 46.296875 41.140625 47.34375 \nQ 37.3125 48.390625 33.40625 48.390625 \nQ 24.65625 48.390625 19.8125 42.84375 \nQ 14.984375 37.3125 14.984375 27.296875 \nQ 14.984375 17.28125 19.8125 11.734375 \nQ 24.65625 6.203125 33.40625 6.203125 \nQ 37.3125 6.203125 41.140625 7.25 \nQ 44.96875 8.296875 48.78125 10.40625 \nL 48.78125 2.09375 \nQ 45.015625 0.34375 40.984375 -0.53125 \nQ 36.96875 -1.421875 32.421875 -1.421875 \nQ 20.0625 -1.421875 12.78125 6.34375 \nQ 5.515625 14.109375 5.515625 27.296875 \nQ 5.515625 40.671875 12.859375 48.328125 \nQ 20.21875 56 33.015625 56 \nQ 37.15625 56 41.109375 55.140625 \nQ 45.0625 54.296875 48.78125 52.59375 \nz\n\" id=\"DejaVuSans-99\"/>\n     </defs>\n     <g transform=\"translate(162.6375 256.416562)scale(0.1 -0.1)\">\n      <use xlink:href=\"#DejaVuSans-66\"/>\n      <use x=\"68.603516\" xlink:href=\"#DejaVuSans-111\"/>\n      <use x=\"129.785156\" xlink:href=\"#DejaVuSans-114\"/>\n      <use x=\"170.882812\" xlink:href=\"#DejaVuSans-114\"/>\n      <use x=\"211.964844\" xlink:href=\"#DejaVuSans-111\"/>\n      <use x=\"273.146484\" xlink:href=\"#DejaVuSans-119\"/>\n      <use x=\"354.933594\" xlink:href=\"#DejaVuSans-101\"/>\n      <use x=\"416.457031\" xlink:href=\"#DejaVuSans-114\"/>\n      <use x=\"457.570312\" xlink:href=\"#DejaVuSans-95\"/>\n      <use x=\"507.570312\" xlink:href=\"#DejaVuSans-67\"/>\n      <use x=\"577.394531\" xlink:href=\"#DejaVuSans-114\"/>\n      <use x=\"618.476562\" xlink:href=\"#DejaVuSans-101\"/>\n      <use x=\"680\" xlink:href=\"#DejaVuSans-100\"/>\n      <use x=\"743.476562\" xlink:href=\"#DejaVuSans-105\"/>\n      <use x=\"771.259766\" xlink:href=\"#DejaVuSans-116\"/>\n      <use x=\"810.46875\" xlink:href=\"#DejaVuSans-95\"/>\n      <use x=\"860.46875\" xlink:href=\"#DejaVuSans-83\"/>\n      <use x=\"923.945312\" xlink:href=\"#DejaVuSans-99\"/>\n      <use x=\"978.925781\" xlink:href=\"#DejaVuSans-111\"/>\n      <use x=\"1040.107422\" xlink:href=\"#DejaVuSans-114\"/>\n      <use x=\"1081.189453\" xlink:href=\"#DejaVuSans-101\"/>\n     </g>\n    </g>\n   </g>\n   <g id=\"matplotlib.axis_2\">\n    <g id=\"ytick_1\">\n     <g id=\"line2d_5\">\n      <defs>\n       <path d=\"M 0 0 \nL -3.5 0 \n\" id=\"m57d005a653\" style=\"stroke:#000000;stroke-width:0.8;\"/>\n      </defs>\n      <g>\n       <use style=\"stroke:#000000;stroke-width:0.8;\" x=\"52.375\" xlink:href=\"#m57d005a653\" y=\"228.14\"/>\n      </g>\n     </g>\n     <g id=\"text_6\">\n      <!-- 0 -->\n      <g transform=\"translate(39.0125 231.939219)scale(0.1 -0.1)\">\n       <use xlink:href=\"#DejaVuSans-48\"/>\n      </g>\n     </g>\n    </g>\n    <g id=\"ytick_2\">\n     <g id=\"line2d_6\">\n      <g>\n       <use style=\"stroke:#000000;stroke-width:0.8;\" x=\"52.375\" xlink:href=\"#m57d005a653\" y=\"182.234187\"/>\n      </g>\n     </g>\n     <g id=\"text_7\">\n      <!-- 50000 -->\n      <g transform=\"translate(13.5625 186.033405)scale(0.1 -0.1)\">\n       <use xlink:href=\"#DejaVuSans-53\"/>\n       <use x=\"63.623047\" xlink:href=\"#DejaVuSans-48\"/>\n       <use x=\"127.246094\" xlink:href=\"#DejaVuSans-48\"/>\n       <use x=\"190.869141\" xlink:href=\"#DejaVuSans-48\"/>\n       <use x=\"254.492188\" xlink:href=\"#DejaVuSans-48\"/>\n      </g>\n     </g>\n    </g>\n    <g id=\"ytick_3\">\n     <g id=\"line2d_7\">\n      <g>\n       <use style=\"stroke:#000000;stroke-width:0.8;\" x=\"52.375\" xlink:href=\"#m57d005a653\" y=\"136.328373\"/>\n      </g>\n     </g>\n     <g id=\"text_8\">\n      <!-- 100000 -->\n      <defs>\n       <path d=\"M 12.40625 8.296875 \nL 28.515625 8.296875 \nL 28.515625 63.921875 \nL 10.984375 60.40625 \nL 10.984375 69.390625 \nL 28.421875 72.90625 \nL 38.28125 72.90625 \nL 38.28125 8.296875 \nL 54.390625 8.296875 \nL 54.390625 0 \nL 12.40625 0 \nz\n\" id=\"DejaVuSans-49\"/>\n      </defs>\n      <g transform=\"translate(7.2 140.127592)scale(0.1 -0.1)\">\n       <use xlink:href=\"#DejaVuSans-49\"/>\n       <use x=\"63.623047\" xlink:href=\"#DejaVuSans-48\"/>\n       <use x=\"127.246094\" xlink:href=\"#DejaVuSans-48\"/>\n       <use x=\"190.869141\" xlink:href=\"#DejaVuSans-48\"/>\n       <use x=\"254.492188\" xlink:href=\"#DejaVuSans-48\"/>\n       <use x=\"318.115234\" xlink:href=\"#DejaVuSans-48\"/>\n      </g>\n     </g>\n    </g>\n    <g id=\"ytick_4\">\n     <g id=\"line2d_8\">\n      <g>\n       <use style=\"stroke:#000000;stroke-width:0.8;\" x=\"52.375\" xlink:href=\"#m57d005a653\" y=\"90.42256\"/>\n      </g>\n     </g>\n     <g id=\"text_9\">\n      <!-- 150000 -->\n      <g transform=\"translate(7.2 94.221779)scale(0.1 -0.1)\">\n       <use xlink:href=\"#DejaVuSans-49\"/>\n       <use x=\"63.623047\" xlink:href=\"#DejaVuSans-53\"/>\n       <use x=\"127.246094\" xlink:href=\"#DejaVuSans-48\"/>\n       <use x=\"190.869141\" xlink:href=\"#DejaVuSans-48\"/>\n       <use x=\"254.492188\" xlink:href=\"#DejaVuSans-48\"/>\n       <use x=\"318.115234\" xlink:href=\"#DejaVuSans-48\"/>\n      </g>\n     </g>\n    </g>\n    <g id=\"ytick_5\">\n     <g id=\"line2d_9\">\n      <g>\n       <use style=\"stroke:#000000;stroke-width:0.8;\" x=\"52.375\" xlink:href=\"#m57d005a653\" y=\"44.516747\"/>\n      </g>\n     </g>\n     <g id=\"text_10\">\n      <!-- 200000 -->\n      <defs>\n       <path d=\"M 19.1875 8.296875 \nL 53.609375 8.296875 \nL 53.609375 0 \nL 7.328125 0 \nL 7.328125 8.296875 \nQ 12.9375 14.109375 22.625 23.890625 \nQ 32.328125 33.6875 34.8125 36.53125 \nQ 39.546875 41.84375 41.421875 45.53125 \nQ 43.3125 49.21875 43.3125 52.78125 \nQ 43.3125 58.59375 39.234375 62.25 \nQ 35.15625 65.921875 28.609375 65.921875 \nQ 23.96875 65.921875 18.8125 64.3125 \nQ 13.671875 62.703125 7.8125 59.421875 \nL 7.8125 69.390625 \nQ 13.765625 71.78125 18.9375 73 \nQ 24.125 74.21875 28.421875 74.21875 \nQ 39.75 74.21875 46.484375 68.546875 \nQ 53.21875 62.890625 53.21875 53.421875 \nQ 53.21875 48.921875 51.53125 44.890625 \nQ 49.859375 40.875 45.40625 35.40625 \nQ 44.1875 33.984375 37.640625 27.21875 \nQ 31.109375 20.453125 19.1875 8.296875 \nz\n\" id=\"DejaVuSans-50\"/>\n      </defs>\n      <g transform=\"translate(7.2 48.315966)scale(0.1 -0.1)\">\n       <use xlink:href=\"#DejaVuSans-50\"/>\n       <use x=\"63.623047\" xlink:href=\"#DejaVuSans-48\"/>\n       <use x=\"127.246094\" xlink:href=\"#DejaVuSans-48\"/>\n       <use x=\"190.869141\" xlink:href=\"#DejaVuSans-48\"/>\n       <use x=\"254.492188\" xlink:href=\"#DejaVuSans-48\"/>\n       <use x=\"318.115234\" xlink:href=\"#DejaVuSans-48\"/>\n      </g>\n     </g>\n    </g>\n   </g>\n   <g id=\"patch_53\">\n    <path d=\"M 52.375 228.14 \nL 52.375 10.7 \n\" style=\"fill:none;stroke:#000000;stroke-linecap:square;stroke-linejoin:miter;stroke-width:0.8;\"/>\n   </g>\n   <g id=\"patch_54\">\n    <path d=\"M 387.175 228.14 \nL 387.175 10.7 \n\" style=\"fill:none;stroke:#000000;stroke-linecap:square;stroke-linejoin:miter;stroke-width:0.8;\"/>\n   </g>\n   <g id=\"patch_55\">\n    <path d=\"M 52.375 228.14 \nL 387.175 228.14 \n\" style=\"fill:none;stroke:#000000;stroke-linecap:square;stroke-linejoin:miter;stroke-width:0.8;\"/>\n   </g>\n   <g id=\"patch_56\">\n    <path d=\"M 52.375 10.7 \nL 387.175 10.7 \n\" style=\"fill:none;stroke:#000000;stroke-linecap:square;stroke-linejoin:miter;stroke-width:0.8;\"/>\n   </g>\n  </g>\n </g>\n <defs>\n  <clipPath id=\"p448fb53c55\">\n   <rect height=\"217.44\" width=\"334.8\" x=\"52.375\" y=\"10.7\"/>\n  </clipPath>\n </defs>\n</svg>\n",
      "image/png": "[encoded data removed]"
     },
     "metadata": {
      "needs_background": "light"
     }
    }
   ],
   "source": [
    "tmp = acquisition.dropna(subset=[\"Borrower_Credit_Score\"])\n",
    "sns.distplot(tmp.Borrower_Credit_Score, kde=False)"
   ]
  },
  {
   "cell_type": "code",
   "execution_count": 19,
   "metadata": {},
   "outputs": [
    {
     "output_type": "stream",
     "name": "stdout",
     "text": "CPU times: user 3min 49s, sys: 1min 40s, total: 5min 29s\nWall time: 1min 54s\n"
    },
    {
     "output_type": "execute_result",
     "data": {
      "text/plain": "(105999627, 31)"
     },
     "metadata": {},
     "execution_count": 19
    }
   ],
   "source": [
    "%%time\n",
    "#### Import performance data\n",
    "performance_Variables = [\n",
    "    \"LOAN_ID\", \"Monthly_Rpt_Prd\", \"Servicer_Name\", \"LAST_RT\", \"LAST_UPB\", \"Loan_Age\", \"Months_To_Legal_Mat\",\n",
    "    \"Adj_Month_To_Mat\", \"Maturity_Date\", \"MSA\", \"Delq_Status\", \"MOD_FLAG\", \"Zero_Bal_Code\", \"ZB_DTE\", \"LPI_DTE\",\n",
    "    \"Foreclosure_date\",\"DISP_DT\", \"FCC_COST\", \"PP_COST\", \"AR_COST\", \"IE_COST\", \"TAX_COST\", \"NS_PROCS\", \"CE_PROCS\", \"RMW_PROCS\",\n",
    "    \"O_PROCS\", \"NON_INT_UPB\", \"PRIN_FORG_UPB_FHFA\", \"REPCH_FLAG\", \"PRIN_FORG_UPB_OTH\", \"TRANSFER_FLG\"\n",
    "]\n",
    "\n",
    "performance = dt.fread(\n",
    "    \"data/performance2010.zip\",\n",
    "    sep = \"|\",\n",
    "    header = None ,\n",
    "    columns = performance_Variables,\n",
    ")\n",
    "\n",
    "#performance = performance.to_pandas()\n",
    "# converting to pandas is not feasible on my Mac\n",
    "performance.shape"
   ]
  },
  {
   "cell_type": "code",
   "execution_count": 6,
   "metadata": {},
   "outputs": [
    {
     "output_type": "execute_result",
     "data": {
      "text/plain": "",
      "text/html": "<style type='text/css'>\n.datatable table.frame { margin-bottom: 0; }\n.datatable table.frame thead { border-bottom: none; }\n.datatable table.frame tr.coltypes td {  color: #FFFFFF;  line-height: 6px;  padding: 0 0.5em;}\n.datatable .bool { background: #DDDD99; }\n.datatable .obj  { background: #565656; }\n.datatable .int  { background: #5D9E5D; }\n.datatable .real { background: #4040CC; }\n.datatable .str  { background: #CC4040; }\n.datatable .row_index {  background: var(--jp-border-color3);  border-right: 1px solid var(--jp-border-color0);  color: var(--jp-ui-font-color3);  font-size: 9px;}\n.datatable .frame tr.coltypes .row_index {  background: var(--jp-border-color0);}\n.datatable th:nth-child(2) { padding-left: 12px; }\n.datatable .hellipsis {  color: var(--jp-cell-editor-border-color);}\n.datatable .vellipsis {  background: var(--jp-layout-color0);  color: var(--jp-cell-editor-border-color);}\n.datatable .na {  color: var(--jp-cell-editor-border-color);  font-size: 80%;}\n.datatable .footer { font-size: 9px; }\n.datatable .frame_dimensions {  background: var(--jp-border-color3);  border-top: 1px solid var(--jp-border-color0);  color: var(--jp-ui-font-color3);  display: inline-block;  opacity: 0.6;  padding: 1px 10px 1px 5px;}\n</style>\n<div class='datatable'>\n  <table class='frame'>\n  <thead>\n    <tr class='colnames'><td class='row_index'></td><th>LOAN_ID</th><th>Monthly_Rpt_Prd</th><th>Servicer_Name</th><th>LAST_RT</th><th>LAST_UPB</th><th>Loan_Age</th><th>Months_To_Legal_Mat</th><th>Adj_Month_To_Mat</th><th>Maturity_Date</th><th>MSA</th><th class='vellipsis'>&hellip;</th><th>NON_INT_UPB</th><th>PRIN_FORG_UPB_FHFA</th><th>REPCH_FLAG</th><th>PRIN_FORG_UPB_OTH</th><th>TRANSFER_FLG</th></tr>\n    <tr class='coltypes'><td class='row_index'></td><td class='int' title='int64'>&#x25AA;&#x25AA;&#x25AA;&#x25AA;&#x25AA;&#x25AA;&#x25AA;&#x25AA;</td><td class='str' title='str32'>&#x25AA;&#x25AA;&#x25AA;&#x25AA;</td><td class='str' title='str32'>&#x25AA;&#x25AA;&#x25AA;&#x25AA;</td><td class='real' title='float64'>&#x25AA;&#x25AA;&#x25AA;&#x25AA;&#x25AA;&#x25AA;&#x25AA;&#x25AA;</td><td class='real' title='float64'>&#x25AA;&#x25AA;&#x25AA;&#x25AA;&#x25AA;&#x25AA;&#x25AA;&#x25AA;</td><td class='int' title='int32'>&#x25AA;&#x25AA;&#x25AA;&#x25AA;</td><td class='int' title='int32'>&#x25AA;&#x25AA;&#x25AA;&#x25AA;</td><td class='int' title='int32'>&#x25AA;&#x25AA;&#x25AA;&#x25AA;</td><td class='str' title='str32'>&#x25AA;&#x25AA;&#x25AA;&#x25AA;</td><td class='int' title='int32'>&#x25AA;&#x25AA;&#x25AA;&#x25AA;</td><td></td><td class='real' title='float64'>&#x25AA;&#x25AA;&#x25AA;&#x25AA;&#x25AA;&#x25AA;&#x25AA;&#x25AA;</td><td class='real' title='float64'>&#x25AA;&#x25AA;&#x25AA;&#x25AA;&#x25AA;&#x25AA;&#x25AA;&#x25AA;</td><td class='str' title='str32'>&#x25AA;&#x25AA;&#x25AA;&#x25AA;</td><td class='real' title='float64'>&#x25AA;&#x25AA;&#x25AA;&#x25AA;&#x25AA;&#x25AA;&#x25AA;&#x25AA;</td><td class='str' title='str32'>&#x25AA;&#x25AA;&#x25AA;&#x25AA;</td></tr>\n  </thead>\n  <tbody>\n    <tr><td class='row_index'>0</td><td>100010079393</td><td>02/01/2010</td><td>WELLS FARGO BANK, N.A.</td><td>4.875</td><td><span class=na>NA</span></td><td>0</td><td>360</td><td>360</td><td>02/2040</td><td>12420</td><td class=vellipsis>&hellip;</td><td><span class=na>NA</span></td><td><span class=na>NA</span></td><td></td><td><span class=na>NA</span></td><td>N</td></tr>\n    <tr><td class='row_index'>1</td><td>100010079393</td><td>03/01/2010</td><td></td><td>4.875</td><td><span class=na>NA</span></td><td>1</td><td>359</td><td>358</td><td>02/2040</td><td>12420</td><td class=vellipsis>&hellip;</td><td><span class=na>NA</span></td><td><span class=na>NA</span></td><td></td><td><span class=na>NA</span></td><td>N</td></tr>\n    <tr><td class='row_index'>2</td><td>100010079393</td><td>04/01/2010</td><td></td><td>4.875</td><td><span class=na>NA</span></td><td>2</td><td>358</td><td>358</td><td>02/2040</td><td>12420</td><td class=vellipsis>&hellip;</td><td><span class=na>NA</span></td><td><span class=na>NA</span></td><td></td><td><span class=na>NA</span></td><td>N</td></tr>\n    <tr><td class='row_index'>3</td><td>100010079393</td><td>05/01/2010</td><td></td><td>4.875</td><td><span class=na>NA</span></td><td>3</td><td>357</td><td>357</td><td>02/2040</td><td>12420</td><td class=vellipsis>&hellip;</td><td><span class=na>NA</span></td><td><span class=na>NA</span></td><td></td><td><span class=na>NA</span></td><td>N</td></tr>\n    <tr><td class='row_index'>4</td><td>100010079393</td><td>06/01/2010</td><td></td><td>4.875</td><td><span class=na>NA</span></td><td>4</td><td>356</td><td>355</td><td>02/2040</td><td>12420</td><td class=vellipsis>&hellip;</td><td><span class=na>NA</span></td><td><span class=na>NA</span></td><td></td><td><span class=na>NA</span></td><td>N</td></tr>\n  </tbody>\n  </table>\n  <div class='footer'>\n    <div class='frame_dimensions'>5 rows &times; 31 columns</div>\n  </div>\n</div>\n"
     },
     "metadata": {},
     "execution_count": 6
    }
   ],
   "source": [
    "#### first 5 records\n",
    "performance.head(5)"
   ]
  },
  {
   "cell_type": "code",
   "execution_count": 20,
   "metadata": {},
   "outputs": [],
   "source": [
    "### converting only 3 columns to pandas is feasible\n",
    "Delinq = performance[:,[\"LOAN_ID\",\"Monthly_Rpt_Prd\",\"Delq_Status\"]].to_pandas()"
   ]
  },
  {
   "cell_type": "markdown",
   "metadata": {},
   "source": [
    "## Start with a simple analysis\n",
    "\n",
    "This will be the easiest in terms of data prep. Look only at mortgages starting in one specific quarter. For the performance we look at foreclosure or not. So if there is a date in the Foreclosure_date column then the mortgage defaulted otherwise the mortgae did not defaulted. This is the worst that can happen to a mortgage. Latwer we will look at a different performance, days past due where the mortgage does not neccesarily goes default.\n"
   ]
  },
  {
   "cell_type": "code",
   "execution_count": 5,
   "metadata": {},
   "outputs": [],
   "source": [
    "# pandas code, but not feasible for 2010\n",
    "\n",
    "#foreclosures = (\n",
    "#    performance\n",
    "#    .query(\"Foreclosure_date != ''\")\n",
    "#    .filter([\"LOAN_ID\", \"Foreclosure_date\"])\n",
    "#)"
   ]
  },
  {
   "cell_type": "code",
   "execution_count": 27,
   "metadata": {},
   "outputs": [],
   "source": [
    "foreclosures = performance[dt.f.Foreclosure_date != \"\",[\"LOAN_ID\", \"Foreclosure_date\"]]"
   ]
  },
  {
   "cell_type": "code",
   "execution_count": 22,
   "metadata": {},
   "outputs": [],
   "source": [
    "foreclosures = foreclosures.to_pandas()"
   ]
  },
  {
   "cell_type": "code",
   "execution_count": 23,
   "metadata": {},
   "outputs": [
    {
     "output_type": "execute_result",
     "data": {
      "text/plain": "           LOAN_ID Foreclosure_date\n0     100446401716       11/01/2012\n1     100683589832       11/01/2016\n2     100960628290       03/01/2015\n3     101212627627       05/01/2016\n4     101455126320       12/01/2013\n...            ...              ...\n6275  998748916895       09/01/2017\n6276  998862664293       12/01/2012\n6277  999358284451       11/01/2016\n6278  999491819310       08/01/2016\n6279  999854155384       04/01/2018\n\n[6280 rows x 2 columns]",
      "text/html": "<div>\n<style scoped>\n    .dataframe tbody tr th:only-of-type {\n        vertical-align: middle;\n    }\n\n    .dataframe tbody tr th {\n        vertical-align: top;\n    }\n\n    .dataframe thead th {\n        text-align: right;\n    }\n</style>\n<table border=\"1\" class=\"dataframe\">\n  <thead>\n    <tr style=\"text-align: right;\">\n      <th></th>\n      <th>LOAN_ID</th>\n      <th>Foreclosure_date</th>\n    </tr>\n  </thead>\n  <tbody>\n    <tr>\n      <th>0</th>\n      <td>100446401716</td>\n      <td>11/01/2012</td>\n    </tr>\n    <tr>\n      <th>1</th>\n      <td>100683589832</td>\n      <td>11/01/2016</td>\n    </tr>\n    <tr>\n      <th>2</th>\n      <td>100960628290</td>\n      <td>03/01/2015</td>\n    </tr>\n    <tr>\n      <th>3</th>\n      <td>101212627627</td>\n      <td>05/01/2016</td>\n    </tr>\n    <tr>\n      <th>4</th>\n      <td>101455126320</td>\n      <td>12/01/2013</td>\n    </tr>\n    <tr>\n      <th>...</th>\n      <td>...</td>\n      <td>...</td>\n    </tr>\n    <tr>\n      <th>6275</th>\n      <td>998748916895</td>\n      <td>09/01/2017</td>\n    </tr>\n    <tr>\n      <th>6276</th>\n      <td>998862664293</td>\n      <td>12/01/2012</td>\n    </tr>\n    <tr>\n      <th>6277</th>\n      <td>999358284451</td>\n      <td>11/01/2016</td>\n    </tr>\n    <tr>\n      <th>6278</th>\n      <td>999491819310</td>\n      <td>08/01/2016</td>\n    </tr>\n    <tr>\n      <th>6279</th>\n      <td>999854155384</td>\n      <td>04/01/2018</td>\n    </tr>\n  </tbody>\n</table>\n<p>6280 rows × 2 columns</p>\n</div>"
     },
     "metadata": {},
     "execution_count": 23
    }
   ],
   "source": [
    "foreclosures"
   ]
  },
  {
   "cell_type": "code",
   "execution_count": 24,
   "metadata": {},
   "outputs": [
    {
     "output_type": "stream",
     "name": "stdout",
     "text": "CPU times: user 3.76 s, sys: 2.81 s, total: 6.57 s\nWall time: 7.92 s\n"
    }
   ],
   "source": [
    "%%time\n",
    "mortgages = (\n",
    "    acquisition\n",
    "    .merge(\n",
    "        foreclosures,\n",
    "        how=\"left\",\n",
    "        left_on=\"LOAN_ID\",\n",
    "        right_on=\"LOAN_ID\"\n",
    "    )\n",
    ")\n",
    "\n",
    "mortgages = (\n",
    "    mortgages\n",
    "    .assign(target_foreclosure = mortgages.Foreclosure_date.notna().astype(int))\n",
    ")"
   ]
  },
  {
   "cell_type": "code",
   "execution_count": 25,
   "metadata": {},
   "outputs": [
    {
     "output_type": "execute_result",
     "data": {
      "text/plain": "              LOAN_ID ORIG_CHN                                Seller_Name  \\\n0        100010079393        C                     WELLS FARGO BANK, N.A.   \n1        100013622306        R  JPMORGAN CHASE BANK, NATIONAL ASSOCIATION   \n2        100019943199        R                                      OTHER   \n3        100022098429        R                                      OTHER   \n4        100023088745        R                     WELLS FARGO BANK, N.A.   \n...               ...      ...                                        ...   \n1826497  999993753714        R                     WELLS FARGO BANK, N.A.   \n1826498  999994430501        B                                      OTHER   \n1826499  999997933975        C  JPMORGAN CHASE BANK, NATIONAL ASSOCIATION   \n1826500  999998752557        C                         GMAC MORTGAGE, LLC   \n1826501  999999946478        B                     SUNTRUST MORTGAGE INC.   \n\n         ORIG_RT  ORIG_AMT  ORIG_TRM ORIG_DTE FRST_DTE  OLTV  OCLTV  ...  \\\n0          4.875    284000       360  01/2010  03/2010    80   80.0  ...   \n1          4.750     87000       180  12/2009  02/2010    63   63.0  ...   \n2          5.000    417000       360  11/2009  01/2010    43   43.0  ...   \n3          5.250    461000       360  01/2010  03/2010    61   61.0  ...   \n4          5.250    100000       360  11/2009  01/2010    80   80.0  ...   \n...          ...       ...       ...      ...      ...   ...    ...  ...   \n1826497    4.375     97000       180  09/2010  12/2010    36   36.0  ...   \n1826498    3.750     65000       180  11/2010  01/2011    74   74.0  ...   \n1826499    4.500    186000       360  10/2010  12/2010    43   46.0  ...   \n1826500    4.375    236000       300  08/2010  10/2010    64   64.0  ...   \n1826501    3.875    278000       120  09/2010  11/2010    12   25.0  ...   \n\n         STATE  ZIP_3  MI_PCT Product_Type CSCORE_C MI_TYPE  RELOCATION_FLG  \\\n0           TX    787     NaN          FRM      NaN     NaN               N   \n1           CA    932     NaN          FRM    785.0     NaN               N   \n2           FL    342     NaN          FRM    808.0     NaN               N   \n3           NY    112     NaN          FRM      NaN     NaN               N   \n4           OH    446     NaN          FRM      NaN     NaN               N   \n...        ...    ...     ...          ...      ...     ...             ...   \n1826497     NC    275     NaN          FRM      NaN     NaN               N   \n1826498     TN    384     NaN          FRM    808.0     NaN               N   \n1826499     PA    189     NaN          FRM    781.0     NaN               N   \n1826500     MA     24     NaN          FRM      NaN     NaN               N   \n1826501     CA    943     NaN          FRM    810.0     NaN               N   \n\n        start_date Foreclosure_date  target_foreclosure  \n0       2010-01-01              NaN                   0  \n1       2009-12-01              NaN                   0  \n2       2009-11-01              NaN                   0  \n3       2010-01-01              NaN                   0  \n4       2009-11-01              NaN                   0  \n...            ...              ...                 ...  \n1826497 2010-09-01              NaN                   0  \n1826498 2010-11-01              NaN                   0  \n1826499 2010-10-01              NaN                   0  \n1826500 2010-08-01              NaN                   0  \n1826501 2010-09-01              NaN                   0  \n\n[1826502 rows x 28 columns]",
      "text/html": "<div>\n<style scoped>\n    .dataframe tbody tr th:only-of-type {\n        vertical-align: middle;\n    }\n\n    .dataframe tbody tr th {\n        vertical-align: top;\n    }\n\n    .dataframe thead th {\n        text-align: right;\n    }\n</style>\n<table border=\"1\" class=\"dataframe\">\n  <thead>\n    <tr style=\"text-align: right;\">\n      <th></th>\n      <th>LOAN_ID</th>\n      <th>ORIG_CHN</th>\n      <th>Seller_Name</th>\n      <th>ORIG_RT</th>\n      <th>ORIG_AMT</th>\n      <th>ORIG_TRM</th>\n      <th>ORIG_DTE</th>\n      <th>FRST_DTE</th>\n      <th>OLTV</th>\n      <th>OCLTV</th>\n      <th>...</th>\n      <th>STATE</th>\n      <th>ZIP_3</th>\n      <th>MI_PCT</th>\n      <th>Product_Type</th>\n      <th>CSCORE_C</th>\n      <th>MI_TYPE</th>\n      <th>RELOCATION_FLG</th>\n      <th>start_date</th>\n      <th>Foreclosure_date</th>\n      <th>target_foreclosure</th>\n    </tr>\n  </thead>\n  <tbody>\n    <tr>\n      <th>0</th>\n      <td>100010079393</td>\n      <td>C</td>\n      <td>WELLS FARGO BANK, N.A.</td>\n      <td>4.875</td>\n      <td>284000</td>\n      <td>360</td>\n      <td>01/2010</td>\n      <td>03/2010</td>\n      <td>80</td>\n      <td>80.0</td>\n      <td>...</td>\n      <td>TX</td>\n      <td>787</td>\n      <td>NaN</td>\n      <td>FRM</td>\n      <td>NaN</td>\n      <td>NaN</td>\n      <td>N</td>\n      <td>2010-01-01</td>\n      <td>NaN</td>\n      <td>0</td>\n    </tr>\n    <tr>\n      <th>1</th>\n      <td>100013622306</td>\n      <td>R</td>\n      <td>JPMORGAN CHASE BANK, NATIONAL ASSOCIATION</td>\n      <td>4.750</td>\n      <td>87000</td>\n      <td>180</td>\n      <td>12/2009</td>\n      <td>02/2010</td>\n      <td>63</td>\n      <td>63.0</td>\n      <td>...</td>\n      <td>CA</td>\n      <td>932</td>\n      <td>NaN</td>\n      <td>FRM</td>\n      <td>785.0</td>\n      <td>NaN</td>\n      <td>N</td>\n      <td>2009-12-01</td>\n      <td>NaN</td>\n      <td>0</td>\n    </tr>\n    <tr>\n      <th>2</th>\n      <td>100019943199</td>\n      <td>R</td>\n      <td>OTHER</td>\n      <td>5.000</td>\n      <td>417000</td>\n      <td>360</td>\n      <td>11/2009</td>\n      <td>01/2010</td>\n      <td>43</td>\n      <td>43.0</td>\n      <td>...</td>\n      <td>FL</td>\n      <td>342</td>\n      <td>NaN</td>\n      <td>FRM</td>\n      <td>808.0</td>\n      <td>NaN</td>\n      <td>N</td>\n      <td>2009-11-01</td>\n      <td>NaN</td>\n      <td>0</td>\n    </tr>\n    <tr>\n      <th>3</th>\n      <td>100022098429</td>\n      <td>R</td>\n      <td>OTHER</td>\n      <td>5.250</td>\n      <td>461000</td>\n      <td>360</td>\n      <td>01/2010</td>\n      <td>03/2010</td>\n      <td>61</td>\n      <td>61.0</td>\n      <td>...</td>\n      <td>NY</td>\n      <td>112</td>\n      <td>NaN</td>\n      <td>FRM</td>\n      <td>NaN</td>\n      <td>NaN</td>\n      <td>N</td>\n      <td>2010-01-01</td>\n      <td>NaN</td>\n      <td>0</td>\n    </tr>\n    <tr>\n      <th>4</th>\n      <td>100023088745</td>\n      <td>R</td>\n      <td>WELLS FARGO BANK, N.A.</td>\n      <td>5.250</td>\n      <td>100000</td>\n      <td>360</td>\n      <td>11/2009</td>\n      <td>01/2010</td>\n      <td>80</td>\n      <td>80.0</td>\n      <td>...</td>\n      <td>OH</td>\n      <td>446</td>\n      <td>NaN</td>\n      <td>FRM</td>\n      <td>NaN</td>\n      <td>NaN</td>\n      <td>N</td>\n      <td>2009-11-01</td>\n      <td>NaN</td>\n      <td>0</td>\n    </tr>\n    <tr>\n      <th>...</th>\n      <td>...</td>\n      <td>...</td>\n      <td>...</td>\n      <td>...</td>\n      <td>...</td>\n      <td>...</td>\n      <td>...</td>\n      <td>...</td>\n      <td>...</td>\n      <td>...</td>\n      <td>...</td>\n      <td>...</td>\n      <td>...</td>\n      <td>...</td>\n      <td>...</td>\n      <td>...</td>\n      <td>...</td>\n      <td>...</td>\n      <td>...</td>\n      <td>...</td>\n      <td>...</td>\n    </tr>\n    <tr>\n      <th>1826497</th>\n      <td>999993753714</td>\n      <td>R</td>\n      <td>WELLS FARGO BANK, N.A.</td>\n      <td>4.375</td>\n      <td>97000</td>\n      <td>180</td>\n      <td>09/2010</td>\n      <td>12/2010</td>\n      <td>36</td>\n      <td>36.0</td>\n      <td>...</td>\n      <td>NC</td>\n      <td>275</td>\n      <td>NaN</td>\n      <td>FRM</td>\n      <td>NaN</td>\n      <td>NaN</td>\n      <td>N</td>\n      <td>2010-09-01</td>\n      <td>NaN</td>\n      <td>0</td>\n    </tr>\n    <tr>\n      <th>1826498</th>\n      <td>999994430501</td>\n      <td>B</td>\n      <td>OTHER</td>\n      <td>3.750</td>\n      <td>65000</td>\n      <td>180</td>\n      <td>11/2010</td>\n      <td>01/2011</td>\n      <td>74</td>\n      <td>74.0</td>\n      <td>...</td>\n      <td>TN</td>\n      <td>384</td>\n      <td>NaN</td>\n      <td>FRM</td>\n      <td>808.0</td>\n      <td>NaN</td>\n      <td>N</td>\n      <td>2010-11-01</td>\n      <td>NaN</td>\n      <td>0</td>\n    </tr>\n    <tr>\n      <th>1826499</th>\n      <td>999997933975</td>\n      <td>C</td>\n      <td>JPMORGAN CHASE BANK, NATIONAL ASSOCIATION</td>\n      <td>4.500</td>\n      <td>186000</td>\n      <td>360</td>\n      <td>10/2010</td>\n      <td>12/2010</td>\n      <td>43</td>\n      <td>46.0</td>\n      <td>...</td>\n      <td>PA</td>\n      <td>189</td>\n      <td>NaN</td>\n      <td>FRM</td>\n      <td>781.0</td>\n      <td>NaN</td>\n      <td>N</td>\n      <td>2010-10-01</td>\n      <td>NaN</td>\n      <td>0</td>\n    </tr>\n    <tr>\n      <th>1826500</th>\n      <td>999998752557</td>\n      <td>C</td>\n      <td>GMAC MORTGAGE, LLC</td>\n      <td>4.375</td>\n      <td>236000</td>\n      <td>300</td>\n      <td>08/2010</td>\n      <td>10/2010</td>\n      <td>64</td>\n      <td>64.0</td>\n      <td>...</td>\n      <td>MA</td>\n      <td>24</td>\n      <td>NaN</td>\n      <td>FRM</td>\n      <td>NaN</td>\n      <td>NaN</td>\n      <td>N</td>\n      <td>2010-08-01</td>\n      <td>NaN</td>\n      <td>0</td>\n    </tr>\n    <tr>\n      <th>1826501</th>\n      <td>999999946478</td>\n      <td>B</td>\n      <td>SUNTRUST MORTGAGE INC.</td>\n      <td>3.875</td>\n      <td>278000</td>\n      <td>120</td>\n      <td>09/2010</td>\n      <td>11/2010</td>\n      <td>12</td>\n      <td>25.0</td>\n      <td>...</td>\n      <td>CA</td>\n      <td>943</td>\n      <td>NaN</td>\n      <td>FRM</td>\n      <td>810.0</td>\n      <td>NaN</td>\n      <td>N</td>\n      <td>2010-09-01</td>\n      <td>NaN</td>\n      <td>0</td>\n    </tr>\n  </tbody>\n</table>\n<p>1826502 rows × 28 columns</p>\n</div>"
     },
     "metadata": {},
     "execution_count": 25
    }
   ],
   "source": [
    "mortgages"
   ]
  },
  {
   "cell_type": "markdown",
   "metadata": {},
   "source": [
    "We can also look at a different target. First time that a mortgage goes into 90 days or more past due. We can use the column `Delq_Status`, it is the Loan Delinquency status and has the following meaning:\n",
    "\n",
    "* 0 - \"Current or less than 30 days past due\"\n",
    "* 1 - \"30 - 59 days past due\"\n",
    "* 2 - \"60 - 89 days past due\"\n",
    "* 3 - \"90 - 119 days past due\"\n",
    "* 4 - \"120 - 149 days past due\"\n",
    "* 5 - \"150 - 179 days past due\"\n",
    "* 6 - \"180 Day Delinquency\"\n",
    "* 7 - \"210 Day Delinquency\"\n",
    "* 8 - \"240 Day Delinquency\"\n",
    "* 9 - \"270 Day Delinquency\" / \"270+ Day Delinquency\""
   ]
  },
  {
   "cell_type": "code",
   "execution_count": 28,
   "metadata": {},
   "outputs": [],
   "source": [
    "### select the status 3\n",
    "tmp = (\n",
    "    Delinq\n",
    "    .query(\"Delq_Status == '3'\")\n",
    "    .filter([\"LOAN_ID\", \"Monthly_Rpt_Prd\", \"Delq_Status\"])\n",
    ")\n",
    "\n",
    "### select the first time when status 3 happened\n",
    "tmp = (\n",
    "    tmp\n",
    "    .assign(date = pd.to_datetime(tmp.Monthly_Rpt_Prd))\n",
    "    .sort_values(by = [\"LOAN_ID\", \"Monthly_Rpt_Prd\"])  \n",
    ")\n",
    "\n",
    "perf_90 = tmp.drop_duplicates(subset=[\"LOAN_ID\"])"
   ]
  },
  {
   "cell_type": "code",
   "execution_count": 29,
   "metadata": {},
   "outputs": [
    {
     "output_type": "execute_result",
     "data": {
      "text/plain": "                LOAN_ID Monthly_Rpt_Prd Delq_Status       date\n18634785   100010962431      09/01/2012           3 2012-09-01\n18635016   100020082687      01/01/2018           3 2018-01-01\n64357205   100044482443      09/01/2012           3 2012-09-01\n1993       100091653134      05/01/2018           3 2018-05-01\n36838443   100203636682      10/01/2016           3 2016-10-01\n...                 ...             ...         ...        ...\n64351731   999882330981      10/01/2015           3 2015-10-01\n105995103  999897801695      05/01/2019           3 2019-05-01\n18632763   999919586679      07/01/2016           3 2016-07-01\n64353562   999937529584      05/01/2019           3 2019-05-01\n105998015  999965648043      03/01/2016           3 2016-03-01\n\n[25735 rows x 4 columns]",
      "text/html": "<div>\n<style scoped>\n    .dataframe tbody tr th:only-of-type {\n        vertical-align: middle;\n    }\n\n    .dataframe tbody tr th {\n        vertical-align: top;\n    }\n\n    .dataframe thead th {\n        text-align: right;\n    }\n</style>\n<table border=\"1\" class=\"dataframe\">\n  <thead>\n    <tr style=\"text-align: right;\">\n      <th></th>\n      <th>LOAN_ID</th>\n      <th>Monthly_Rpt_Prd</th>\n      <th>Delq_Status</th>\n      <th>date</th>\n    </tr>\n  </thead>\n  <tbody>\n    <tr>\n      <th>18634785</th>\n      <td>100010962431</td>\n      <td>09/01/2012</td>\n      <td>3</td>\n      <td>2012-09-01</td>\n    </tr>\n    <tr>\n      <th>18635016</th>\n      <td>100020082687</td>\n      <td>01/01/2018</td>\n      <td>3</td>\n      <td>2018-01-01</td>\n    </tr>\n    <tr>\n      <th>64357205</th>\n      <td>100044482443</td>\n      <td>09/01/2012</td>\n      <td>3</td>\n      <td>2012-09-01</td>\n    </tr>\n    <tr>\n      <th>1993</th>\n      <td>100091653134</td>\n      <td>05/01/2018</td>\n      <td>3</td>\n      <td>2018-05-01</td>\n    </tr>\n    <tr>\n      <th>36838443</th>\n      <td>100203636682</td>\n      <td>10/01/2016</td>\n      <td>3</td>\n      <td>2016-10-01</td>\n    </tr>\n    <tr>\n      <th>...</th>\n      <td>...</td>\n      <td>...</td>\n      <td>...</td>\n      <td>...</td>\n    </tr>\n    <tr>\n      <th>64351731</th>\n      <td>999882330981</td>\n      <td>10/01/2015</td>\n      <td>3</td>\n      <td>2015-10-01</td>\n    </tr>\n    <tr>\n      <th>105995103</th>\n      <td>999897801695</td>\n      <td>05/01/2019</td>\n      <td>3</td>\n      <td>2019-05-01</td>\n    </tr>\n    <tr>\n      <th>18632763</th>\n      <td>999919586679</td>\n      <td>07/01/2016</td>\n      <td>3</td>\n      <td>2016-07-01</td>\n    </tr>\n    <tr>\n      <th>64353562</th>\n      <td>999937529584</td>\n      <td>05/01/2019</td>\n      <td>3</td>\n      <td>2019-05-01</td>\n    </tr>\n    <tr>\n      <th>105998015</th>\n      <td>999965648043</td>\n      <td>03/01/2016</td>\n      <td>3</td>\n      <td>2016-03-01</td>\n    </tr>\n  </tbody>\n</table>\n<p>25735 rows × 4 columns</p>\n</div>"
     },
     "metadata": {},
     "execution_count": 29
    }
   ],
   "source": [
    "perf_90"
   ]
  },
  {
   "cell_type": "code",
   "execution_count": 30,
   "metadata": {},
   "outputs": [],
   "source": [
    "mortgages2 = (\n",
    "    mortgages\n",
    "    .merge(\n",
    "        perf_90,\n",
    "        how=\"left\",\n",
    "        left_on=\"LOAN_ID\",\n",
    "        right_on=\"LOAN_ID\"\n",
    "    )\n",
    ")\n",
    "\n",
    "mortgages2 = (\n",
    "    mortgages2\n",
    "    .assign(target_90 = mortgages2.date.notna().astype(int))\n",
    ")"
   ]
  },
  {
   "cell_type": "code",
   "execution_count": 31,
   "metadata": {},
   "outputs": [
    {
     "output_type": "execute_result",
     "data": {
      "text/plain": "              LOAN_ID ORIG_CHN                                Seller_Name  \\\n0        100010079393        C                     WELLS FARGO BANK, N.A.   \n1        100013622306        R  JPMORGAN CHASE BANK, NATIONAL ASSOCIATION   \n2        100019943199        R                                      OTHER   \n3        100022098429        R                                      OTHER   \n4        100023088745        R                     WELLS FARGO BANK, N.A.   \n...               ...      ...                                        ...   \n1826497  999993753714        R                     WELLS FARGO BANK, N.A.   \n1826498  999994430501        B                                      OTHER   \n1826499  999997933975        C  JPMORGAN CHASE BANK, NATIONAL ASSOCIATION   \n1826500  999998752557        C                         GMAC MORTGAGE, LLC   \n1826501  999999946478        B                     SUNTRUST MORTGAGE INC.   \n\n         ORIG_RT  ORIG_AMT  ORIG_TRM ORIG_DTE FRST_DTE  OLTV  OCLTV  ...  \\\n0          4.875    284000       360  01/2010  03/2010    80   80.0  ...   \n1          4.750     87000       180  12/2009  02/2010    63   63.0  ...   \n2          5.000    417000       360  11/2009  01/2010    43   43.0  ...   \n3          5.250    461000       360  01/2010  03/2010    61   61.0  ...   \n4          5.250    100000       360  11/2009  01/2010    80   80.0  ...   \n...          ...       ...       ...      ...      ...   ...    ...  ...   \n1826497    4.375     97000       180  09/2010  12/2010    36   36.0  ...   \n1826498    3.750     65000       180  11/2010  01/2011    74   74.0  ...   \n1826499    4.500    186000       360  10/2010  12/2010    43   46.0  ...   \n1826500    4.375    236000       300  08/2010  10/2010    64   64.0  ...   \n1826501    3.875    278000       120  09/2010  11/2010    12   25.0  ...   \n\n         CSCORE_C  MI_TYPE  RELOCATION_FLG start_date Foreclosure_date  \\\n0             NaN      NaN               N 2010-01-01              NaN   \n1           785.0      NaN               N 2009-12-01              NaN   \n2           808.0      NaN               N 2009-11-01              NaN   \n3             NaN      NaN               N 2010-01-01              NaN   \n4             NaN      NaN               N 2009-11-01              NaN   \n...           ...      ...             ...        ...              ...   \n1826497       NaN      NaN               N 2010-09-01              NaN   \n1826498     808.0      NaN               N 2010-11-01              NaN   \n1826499     781.0      NaN               N 2010-10-01              NaN   \n1826500       NaN      NaN               N 2010-08-01              NaN   \n1826501     810.0      NaN               N 2010-09-01              NaN   \n\n        target_foreclosure  Monthly_Rpt_Prd Delq_Status date  target_90  \n0                        0              NaN         NaN  NaT          0  \n1                        0              NaN         NaN  NaT          0  \n2                        0              NaN         NaN  NaT          0  \n3                        0              NaN         NaN  NaT          0  \n4                        0              NaN         NaN  NaT          0  \n...                    ...              ...         ...  ...        ...  \n1826497                  0              NaN         NaN  NaT          0  \n1826498                  0              NaN         NaN  NaT          0  \n1826499                  0              NaN         NaN  NaT          0  \n1826500                  0              NaN         NaN  NaT          0  \n1826501                  0              NaN         NaN  NaT          0  \n\n[1826502 rows x 32 columns]",
      "text/html": "<div>\n<style scoped>\n    .dataframe tbody tr th:only-of-type {\n        vertical-align: middle;\n    }\n\n    .dataframe tbody tr th {\n        vertical-align: top;\n    }\n\n    .dataframe thead th {\n        text-align: right;\n    }\n</style>\n<table border=\"1\" class=\"dataframe\">\n  <thead>\n    <tr style=\"text-align: right;\">\n      <th></th>\n      <th>LOAN_ID</th>\n      <th>ORIG_CHN</th>\n      <th>Seller_Name</th>\n      <th>ORIG_RT</th>\n      <th>ORIG_AMT</th>\n      <th>ORIG_TRM</th>\n      <th>ORIG_DTE</th>\n      <th>FRST_DTE</th>\n      <th>OLTV</th>\n      <th>OCLTV</th>\n      <th>...</th>\n      <th>CSCORE_C</th>\n      <th>MI_TYPE</th>\n      <th>RELOCATION_FLG</th>\n      <th>start_date</th>\n      <th>Foreclosure_date</th>\n      <th>target_foreclosure</th>\n      <th>Monthly_Rpt_Prd</th>\n      <th>Delq_Status</th>\n      <th>date</th>\n      <th>target_90</th>\n    </tr>\n  </thead>\n  <tbody>\n    <tr>\n      <th>0</th>\n      <td>100010079393</td>\n      <td>C</td>\n      <td>WELLS FARGO BANK, N.A.</td>\n      <td>4.875</td>\n      <td>284000</td>\n      <td>360</td>\n      <td>01/2010</td>\n      <td>03/2010</td>\n      <td>80</td>\n      <td>80.0</td>\n      <td>...</td>\n      <td>NaN</td>\n      <td>NaN</td>\n      <td>N</td>\n      <td>2010-01-01</td>\n      <td>NaN</td>\n      <td>0</td>\n      <td>NaN</td>\n      <td>NaN</td>\n      <td>NaT</td>\n      <td>0</td>\n    </tr>\n    <tr>\n      <th>1</th>\n      <td>100013622306</td>\n      <td>R</td>\n      <td>JPMORGAN CHASE BANK, NATIONAL ASSOCIATION</td>\n      <td>4.750</td>\n      <td>87000</td>\n      <td>180</td>\n      <td>12/2009</td>\n      <td>02/2010</td>\n      <td>63</td>\n      <td>63.0</td>\n      <td>...</td>\n      <td>785.0</td>\n      <td>NaN</td>\n      <td>N</td>\n      <td>2009-12-01</td>\n      <td>NaN</td>\n      <td>0</td>\n      <td>NaN</td>\n      <td>NaN</td>\n      <td>NaT</td>\n      <td>0</td>\n    </tr>\n    <tr>\n      <th>2</th>\n      <td>100019943199</td>\n      <td>R</td>\n      <td>OTHER</td>\n      <td>5.000</td>\n      <td>417000</td>\n      <td>360</td>\n      <td>11/2009</td>\n      <td>01/2010</td>\n      <td>43</td>\n      <td>43.0</td>\n      <td>...</td>\n      <td>808.0</td>\n      <td>NaN</td>\n      <td>N</td>\n      <td>2009-11-01</td>\n      <td>NaN</td>\n      <td>0</td>\n      <td>NaN</td>\n      <td>NaN</td>\n      <td>NaT</td>\n      <td>0</td>\n    </tr>\n    <tr>\n      <th>3</th>\n      <td>100022098429</td>\n      <td>R</td>\n      <td>OTHER</td>\n      <td>5.250</td>\n      <td>461000</td>\n      <td>360</td>\n      <td>01/2010</td>\n      <td>03/2010</td>\n      <td>61</td>\n      <td>61.0</td>\n      <td>...</td>\n      <td>NaN</td>\n      <td>NaN</td>\n      <td>N</td>\n      <td>2010-01-01</td>\n      <td>NaN</td>\n      <td>0</td>\n      <td>NaN</td>\n      <td>NaN</td>\n      <td>NaT</td>\n      <td>0</td>\n    </tr>\n    <tr>\n      <th>4</th>\n      <td>100023088745</td>\n      <td>R</td>\n      <td>WELLS FARGO BANK, N.A.</td>\n      <td>5.250</td>\n      <td>100000</td>\n      <td>360</td>\n      <td>11/2009</td>\n      <td>01/2010</td>\n      <td>80</td>\n      <td>80.0</td>\n      <td>...</td>\n      <td>NaN</td>\n      <td>NaN</td>\n      <td>N</td>\n      <td>2009-11-01</td>\n      <td>NaN</td>\n      <td>0</td>\n      <td>NaN</td>\n      <td>NaN</td>\n      <td>NaT</td>\n      <td>0</td>\n    </tr>\n    <tr>\n      <th>...</th>\n      <td>...</td>\n      <td>...</td>\n      <td>...</td>\n      <td>...</td>\n      <td>...</td>\n      <td>...</td>\n      <td>...</td>\n      <td>...</td>\n      <td>...</td>\n      <td>...</td>\n      <td>...</td>\n      <td>...</td>\n      <td>...</td>\n      <td>...</td>\n      <td>...</td>\n      <td>...</td>\n      <td>...</td>\n      <td>...</td>\n      <td>...</td>\n      <td>...</td>\n      <td>...</td>\n    </tr>\n    <tr>\n      <th>1826497</th>\n      <td>999993753714</td>\n      <td>R</td>\n      <td>WELLS FARGO BANK, N.A.</td>\n      <td>4.375</td>\n      <td>97000</td>\n      <td>180</td>\n      <td>09/2010</td>\n      <td>12/2010</td>\n      <td>36</td>\n      <td>36.0</td>\n      <td>...</td>\n      <td>NaN</td>\n      <td>NaN</td>\n      <td>N</td>\n      <td>2010-09-01</td>\n      <td>NaN</td>\n      <td>0</td>\n      <td>NaN</td>\n      <td>NaN</td>\n      <td>NaT</td>\n      <td>0</td>\n    </tr>\n    <tr>\n      <th>1826498</th>\n      <td>999994430501</td>\n      <td>B</td>\n      <td>OTHER</td>\n      <td>3.750</td>\n      <td>65000</td>\n      <td>180</td>\n      <td>11/2010</td>\n      <td>01/2011</td>\n      <td>74</td>\n      <td>74.0</td>\n      <td>...</td>\n      <td>808.0</td>\n      <td>NaN</td>\n      <td>N</td>\n      <td>2010-11-01</td>\n      <td>NaN</td>\n      <td>0</td>\n      <td>NaN</td>\n      <td>NaN</td>\n      <td>NaT</td>\n      <td>0</td>\n    </tr>\n    <tr>\n      <th>1826499</th>\n      <td>999997933975</td>\n      <td>C</td>\n      <td>JPMORGAN CHASE BANK, NATIONAL ASSOCIATION</td>\n      <td>4.500</td>\n      <td>186000</td>\n      <td>360</td>\n      <td>10/2010</td>\n      <td>12/2010</td>\n      <td>43</td>\n      <td>46.0</td>\n      <td>...</td>\n      <td>781.0</td>\n      <td>NaN</td>\n      <td>N</td>\n      <td>2010-10-01</td>\n      <td>NaN</td>\n      <td>0</td>\n      <td>NaN</td>\n      <td>NaN</td>\n      <td>NaT</td>\n      <td>0</td>\n    </tr>\n    <tr>\n      <th>1826500</th>\n      <td>999998752557</td>\n      <td>C</td>\n      <td>GMAC MORTGAGE, LLC</td>\n      <td>4.375</td>\n      <td>236000</td>\n      <td>300</td>\n      <td>08/2010</td>\n      <td>10/2010</td>\n      <td>64</td>\n      <td>64.0</td>\n      <td>...</td>\n      <td>NaN</td>\n      <td>NaN</td>\n      <td>N</td>\n      <td>2010-08-01</td>\n      <td>NaN</td>\n      <td>0</td>\n      <td>NaN</td>\n      <td>NaN</td>\n      <td>NaT</td>\n      <td>0</td>\n    </tr>\n    <tr>\n      <th>1826501</th>\n      <td>999999946478</td>\n      <td>B</td>\n      <td>SUNTRUST MORTGAGE INC.</td>\n      <td>3.875</td>\n      <td>278000</td>\n      <td>120</td>\n      <td>09/2010</td>\n      <td>11/2010</td>\n      <td>12</td>\n      <td>25.0</td>\n      <td>...</td>\n      <td>810.0</td>\n      <td>NaN</td>\n      <td>N</td>\n      <td>2010-09-01</td>\n      <td>NaN</td>\n      <td>0</td>\n      <td>NaN</td>\n      <td>NaN</td>\n      <td>NaT</td>\n      <td>0</td>\n    </tr>\n  </tbody>\n</table>\n<p>1826502 rows × 32 columns</p>\n</div>"
     },
     "metadata": {},
     "execution_count": 31
    }
   ],
   "source": [
    "mortgages2"
   ]
  },
  {
   "cell_type": "code",
   "execution_count": 33,
   "metadata": {},
   "outputs": [
    {
     "output_type": "execute_result",
     "data": {
      "text/plain": "       target_foreclosure     target_90\ncount        1.826502e+06  1.826502e+06\nmean         3.438266e-03  1.408977e-02\nstd          5.853586e-02  1.178612e-01\nmin          0.000000e+00  0.000000e+00\n25%          0.000000e+00  0.000000e+00\n50%          0.000000e+00  0.000000e+00\n75%          0.000000e+00  0.000000e+00\nmax          1.000000e+00  1.000000e+00",
      "text/html": "<div>\n<style scoped>\n    .dataframe tbody tr th:only-of-type {\n        vertical-align: middle;\n    }\n\n    .dataframe tbody tr th {\n        vertical-align: top;\n    }\n\n    .dataframe thead th {\n        text-align: right;\n    }\n</style>\n<table border=\"1\" class=\"dataframe\">\n  <thead>\n    <tr style=\"text-align: right;\">\n      <th></th>\n      <th>target_foreclosure</th>\n      <th>target_90</th>\n    </tr>\n  </thead>\n  <tbody>\n    <tr>\n      <th>count</th>\n      <td>1.826502e+06</td>\n      <td>1.826502e+06</td>\n    </tr>\n    <tr>\n      <th>mean</th>\n      <td>3.438266e-03</td>\n      <td>1.408977e-02</td>\n    </tr>\n    <tr>\n      <th>std</th>\n      <td>5.853586e-02</td>\n      <td>1.178612e-01</td>\n    </tr>\n    <tr>\n      <th>min</th>\n      <td>0.000000e+00</td>\n      <td>0.000000e+00</td>\n    </tr>\n    <tr>\n      <th>25%</th>\n      <td>0.000000e+00</td>\n      <td>0.000000e+00</td>\n    </tr>\n    <tr>\n      <th>50%</th>\n      <td>0.000000e+00</td>\n      <td>0.000000e+00</td>\n    </tr>\n    <tr>\n      <th>75%</th>\n      <td>0.000000e+00</td>\n      <td>0.000000e+00</td>\n    </tr>\n    <tr>\n      <th>max</th>\n      <td>1.000000e+00</td>\n      <td>1.000000e+00</td>\n    </tr>\n  </tbody>\n</table>\n</div>"
     },
     "metadata": {},
     "execution_count": 33
    }
   ],
   "source": [
    "mortgages2.filter([\"target_foreclosure\", \"target_90\"]).describe()"
   ]
  },
  {
   "cell_type": "code",
   "execution_count": 34,
   "metadata": {},
   "outputs": [],
   "source": [
    "pickle.dump(mortgages2, open(\"data/mortgages.pck\", \"wb\"))"
   ]
  },
  {
   "cell_type": "markdown",
   "metadata": {},
   "source": [
    "#### Variable importances"
   ]
  },
  {
   "cell_type": "code",
   "execution_count": 35,
   "metadata": {},
   "outputs": [
    {
     "output_type": "execute_result",
     "data": {
      "text/plain": "OTHER                                             569258\nWELLS FARGO BANK, N.A.                            344860\nBANK OF AMERICA, N.A.                             254747\nJPMORGAN CHASE BANK, NATIONAL ASSOCIATION         211396\nCITIMORTGAGE, INC.                                 98308\nGMAC MORTGAGE, LLC                                 93533\nPHH MORTGAGE CORPORATION                           57509\nFLAGSTAR CAPITAL MARKETS CORPORATION               50112\nSUNTRUST MORTGAGE INC.                             47666\nQUICKEN LOANS INC.                                 25190\nNEW YORK COMMUNITY BANK                            21786\nFEDERAL HOME LOAN BANK OF CHICAGO                  11514\nPROVIDENT FUNDING ASSOCIATES, L.P.                 11467\nPNC BANK, N.A.                                     10993\nCITIZENS BANK, NATIONAL ASSOCIATION                 8494\nGMAC MORTGAGE, LLC (USAA FEDERAL SAVINGS BANK)      5326\nU.S. BANK N.A.                                      2558\nHSBC BANK USA, NATIONAL ASSOCIATION                 1785\nName: Seller_Name, dtype: int64"
     },
     "metadata": {},
     "execution_count": 35
    }
   ],
   "source": [
    "mortgages2.Seller_Name.value_counts()"
   ]
  },
  {
   "cell_type": "code",
   "execution_count": null,
   "metadata": {},
   "outputs": [],
   "source": []
  }
 ],
 "metadata": {
  "language_info": {
   "codemirror_mode": {
    "name": "ipython",
    "version": 3
   },
   "file_extension": ".py",
   "mimetype": "text/x-python",
   "name": "python",
   "nbconvert_exporter": "python",
   "pygments_lexer": "ipython3",
   "version": "3.7.3-final"
  },
  "orig_nbformat": 2,
  "kernelspec": {
   "name": "python37364bitbaseconda237d47ed00c34faa8bb5ab0c5c219e3a",
   "display_name": "Python 3.7.3 64-bit ('base': conda)"
  }
 },
 "nbformat": 4,
 "nbformat_minor": 2
}